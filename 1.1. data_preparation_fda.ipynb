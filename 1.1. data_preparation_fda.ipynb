{
 "cells": [
  {
   "cell_type": "code",
   "execution_count": 1,
   "metadata": {},
   "outputs": [],
   "source": [
    "import numpy as np\n",
    "import pandas as pd\n",
    "import os"
   ]
  },
  {
   "cell_type": "code",
   "execution_count": 2,
   "metadata": {},
   "outputs": [],
   "source": [
    "# path of the current directory\n",
    "cur_dir = os.getcwd()\n",
    "data_path = cur_dir+\"/drugsCom\"\n",
    "fda_path = data_path + \"/drugs_recalls_fda.tsv\""
   ]
  },
  {
   "cell_type": "code",
   "execution_count": 3,
   "metadata": {},
   "outputs": [],
   "source": [
    "fda = pd.read_csv(fda_path, sep='\\t')"
   ]
  },
  {
   "cell_type": "code",
   "execution_count": 4,
   "metadata": {},
   "outputs": [
    {
     "data": {
      "text/html": [
       "<div>\n",
       "<style scoped>\n",
       "    .dataframe tbody tr th:only-of-type {\n",
       "        vertical-align: middle;\n",
       "    }\n",
       "\n",
       "    .dataframe tbody tr th {\n",
       "        vertical-align: top;\n",
       "    }\n",
       "\n",
       "    .dataframe thead th {\n",
       "        text-align: right;\n",
       "    }\n",
       "</style>\n",
       "<table border=\"1\" class=\"dataframe\">\n",
       "  <thead>\n",
       "    <tr style=\"text-align: right;\">\n",
       "      <th></th>\n",
       "      <th>Date</th>\n",
       "      <th>Brand</th>\n",
       "      <th>Product Description</th>\n",
       "      <th>Reason / Problem</th>\n",
       "      <th>Company</th>\n",
       "    </tr>\n",
       "  </thead>\n",
       "  <tbody>\n",
       "    <tr>\n",
       "      <th>0</th>\n",
       "      <td>10/30/2018</td>\n",
       "      <td>WP Westminster, more</td>\n",
       "      <td>Irbesartan Tablets, USP 75 mg, 150 mg, and 300...</td>\n",
       "      <td>due to the presence of an impurity, N-nitrosod...</td>\n",
       "      <td>ScieGen Pharmaceuticals, Inc</td>\n",
       "    </tr>\n",
       "    <tr>\n",
       "      <th>1</th>\n",
       "      <td>10/26/2018</td>\n",
       "      <td>Aurobindo Pharma Limited</td>\n",
       "      <td>Irbesartan Drug</td>\n",
       "      <td>Due to the presence of an impurity, N-nitrosod...</td>\n",
       "      <td>Aurobindo Pharma Limited</td>\n",
       "    </tr>\n",
       "    <tr>\n",
       "      <th>2</th>\n",
       "      <td>10/22/2018</td>\n",
       "      <td>Promise Pharmacy</td>\n",
       "      <td>Prednisolone and Gatifloxacin Ophthalmic Solution</td>\n",
       "      <td>Unidentified small particulate floating in the...</td>\n",
       "      <td>Promise Pharmacy</td>\n",
       "    </tr>\n",
       "    <tr>\n",
       "      <th>3</th>\n",
       "      <td>10/15/2018</td>\n",
       "      <td>Zero Xtreme</td>\n",
       "      <td>Dietary Supplement for Weight Loss</td>\n",
       "      <td>Undeclared Sibutramine</td>\n",
       "      <td>Fat Burners Zone</td>\n",
       "    </tr>\n",
       "    <tr>\n",
       "      <th>4</th>\n",
       "      <td>10/10/2018</td>\n",
       "      <td>ReGen Series</td>\n",
       "      <td>All ReGen Series products</td>\n",
       "      <td>Adverse reactions</td>\n",
       "      <td>Liveyon, LLC</td>\n",
       "    </tr>\n",
       "  </tbody>\n",
       "</table>\n",
       "</div>"
      ],
      "text/plain": [
       "         Date                     Brand  \\\n",
       "0  10/30/2018      WP Westminster, more   \n",
       "1  10/26/2018  Aurobindo Pharma Limited   \n",
       "2  10/22/2018          Promise Pharmacy   \n",
       "3  10/15/2018               Zero Xtreme   \n",
       "4  10/10/2018              ReGen Series   \n",
       "\n",
       "                                 Product Description  \\\n",
       "0  Irbesartan Tablets, USP 75 mg, 150 mg, and 300...   \n",
       "1                                    Irbesartan Drug   \n",
       "2  Prednisolone and Gatifloxacin Ophthalmic Solution   \n",
       "3                 Dietary Supplement for Weight Loss   \n",
       "4                          All ReGen Series products   \n",
       "\n",
       "                                    Reason / Problem  \\\n",
       "0  due to the presence of an impurity, N-nitrosod...   \n",
       "1  Due to the presence of an impurity, N-nitrosod...   \n",
       "2  Unidentified small particulate floating in the...   \n",
       "3                             Undeclared Sibutramine   \n",
       "4                                  Adverse reactions   \n",
       "\n",
       "                        Company  \n",
       "0  ScieGen Pharmaceuticals, Inc  \n",
       "1      Aurobindo Pharma Limited  \n",
       "2              Promise Pharmacy  \n",
       "3              Fat Burners Zone  \n",
       "4                  Liveyon, LLC  "
      ]
     },
     "execution_count": 4,
     "metadata": {},
     "output_type": "execute_result"
    }
   ],
   "source": [
    "fda.head()"
   ]
  },
  {
   "cell_type": "code",
   "execution_count": 5,
   "metadata": {},
   "outputs": [
    {
     "name": "stdout",
     "output_type": "stream",
     "text": [
      "['7K and Poseidon', 'A1 Slim', 'AMA Wholesale Inc.', 'AVpak', \"Abbott's Compounding Pharmacy\", 'Accord', 'Actavis', 'Advanced Pharma', 'Alvogen', 'Amneal Pharmaceuticals LLC', 'Andropharm', 'Apace Packaging LLC', 'Apotex', 'Apotex Corporation', 'Arbor', 'Astrazeneca', 'Atlantic Pharmacy and Compounding', 'AuroMedics', 'AuroMedics Pharma LLC', 'Aurobindo Pharma Limited', 'Auromedics', 'B. Braun Medical Inc.', 'BD', 'Basic Drugs', 'Baxter', 'Bayer', 'Beaumont Bio Med Homeopathic', 'Bella Pharma', 'Blissful Remedies', 'Bristol-Myers Squibb', 'C.O. Truxton, Inc.', 'CVS Health', 'CVS and Kids Relief', 'CVS, Rhinall, Humist, more', 'Camber Pharmaceuticals', 'Camber Pharmaceuticals, Inc.', 'Cantrell Drug Company', 'Caverflo', 'Centurion', 'Children’s Advil', 'Comfort', 'Comfort Shield', 'Continuum Labs', 'CyPass', 'Doctor Manzanilla', 'Dr. King’s, Dr. King’s Aquaflora', 'Duravet', 'Edex', 'Endo Pharmaceuticals', 'Fagron Sterile Services', 'Family Care', 'Fresenius Kabi USA', 'GEC Laxoplex', 'Gaia Ethnobotanical', 'Genentech', 'Gericare', 'GlucaGen® HypoKit®', 'Greenstone LLC', 'HYDROmorphone, Levophed', 'HeartMate 3', 'Hospira', 'Hospira, Inc.', 'Hospira, Novaplus', \"Hyland's\", 'ICU Medical, Inc.', 'International Laboratories, LLC', 'Isomeric Pharmacy Solutions', 'KB, DK, more', 'Kratom Powder Capsule', 'LaBri’s Body Health', 'Lamotrigine', 'Leader, Major, Rugby', 'Limbrel', \"Lucy's Weight Loss System\", 'Lupin', 'MBI Distributing, Inc.', 'Major Pharmaceuticals', 'Man of Steel', 'Master Herbs, Inc.', 'Megajex', 'Multiple brands', 'Mylan', 'NeoRelief', 'Neuroveen, Respitrol, Thyroveev, Compulsin', 'New of Kopi Jantan Tradisional', 'Nexterone', 'PASTA DE LASSAR ANDROMACO', 'Pet Alive, Native Remedies, Healthful Naturals', 'PharMEDium', 'PharMEDium Services LLC', 'PharMEDium Services, LLC', 'Pharm D Solutions', 'Pharmacist Choice', 'Pharmakon Pharmaceuticals', 'Pharmakon Pharmaceuticals, Inc.', 'Piyanping', 'Premier Pharmacy Labs', 'Prinston Pharmaceutical Inc. dba Solco Healthcare LLC', 'Promise Pharmacy', 'R Thomas Marketing LLC', \"Ranier's RX Laboratory\", 'ReGen Series', 'Ridge Properties DBA Pain Relief Naturally', 'Rugby', 'Rugby, Major', 'SCA Pharmaceuticals', 'SCA Pharmaceuticals LLC', 'Sagent', 'Sagent Pharmaceuticals, Inc.', 'Sprayology', 'Sun Pharma', 'Super Herbs', 'Super Panther 7K', 'Synergy Rx Pharmacy', 'Talon Compounding Pharmacy (TCP)', 'Taytulla', 'Tetracycline-ABC, Tetrastem, Diabecline and more', 'Teva Pharmaceuticals', 'Teva Pharmaceuticals USA, Inc', 'Tiger-X, Ninja-X, Ginseng Power-X, Super Samurai-X', 'Torrent', 'Torrent Pharmaceuticals Limited', 'Tri-Coast Pharmacy Inc.', 'Truxton Incorporated', 'Ultra-Sten, D-Zine', 'Uproar, Cummor, Zrect, Monkey Business and others', 'Virtus', 'WP Westminster, more', 'Well Care Compounding Pharmacy', 'Wells Pharmacy Network', 'Westminster Pharmaceuticals, LLC', 'X-Gen', 'X-Jow, Acne Shave', 'Zero Xtreme']\n"
     ]
    }
   ],
   "source": [
    "print(sorted(fda['Brand'].unique()))\n",
    "# Hard code some duplicate brands\n",
    "# 'Apotex' ==> 'Apotex Corporation'\n",
    "# 'AuroMedics' ==> 'Atlantic Pharmacy and Compounding'\n",
    "# 'Camber Pharmaceuticals' ==> 'Camber Pharmaceuticals, Inc.'\n",
    "# 'Comfort' ==> 'Comfort Shield'\n",
    "# 'Hospira' ==> 'Hospira, Inc.'\n",
    "# 'PharMEDium' ==> 'PharMEDium Services, LLC'\n",
    "# 'PharMEDium Services LLC' ==> 'PharMEDium Services, LLC'\n",
    "# 'Pharmakon Pharmaceuticals' ==> 'Pharmakon Pharmaceuticals, Inc.'\n",
    "# 'SCA Pharmaceuticals' ==> 'Sagent Pharmaceuticals, Inc.'\n",
    "# 'Sagent' ==> 'Sagent Pharmaceuticals, Inc.'\n",
    "# 'Teva Pharmaceuticals' ==> 'Teva Pharmaceuticals USA, Inc'\n",
    "# 'Torrent' ==> 'Torrent Pharmaceuticals Limited'\n",
    "#fda[fda['Brand']=='Apotex']['Brand'].apply(lambda x: 'Apotex Corporation') \n"
   ]
  },
  {
   "cell_type": "code",
   "execution_count": 6,
   "metadata": {},
   "outputs": [],
   "source": [
    "fda['Brand'].mask(fda['Brand']=='Apotex', other = 'Apotex Corporation', inplace=True)\n",
    "fda['Brand'].mask(fda['Brand']=='AuroMedics', other = 'Atlantic Pharmacy and Compounding', inplace=True)\n",
    "fda['Brand'].mask(fda['Brand']=='Camber Pharmaceuticals', other = 'Camber Pharmaceuticals, Inc.', inplace=True)\n",
    "fda['Brand'].mask(fda['Brand']=='Comfort' , other = 'Comfort Shield', inplace=True)\n",
    "fda['Brand'].mask(fda['Brand']=='Hospira', other = 'Hospira, Inc.', inplace=True)\n",
    "fda['Brand'].mask(fda['Brand']=='PharMEDium', other = 'PharMEDium Services, LLC', inplace=True)\n",
    "fda['Brand'].mask(fda['Brand']=='PharMEDium Services LLC', other = 'PharMEDium Services, LLC', inplace=True)\n",
    "fda['Brand'].mask(fda['Brand']=='PharMEDium Services LLC', other = 'PharMEDium Services, LLC', inplace=True)\n",
    "fda['Brand'].mask(fda['Brand']=='SCA Pharmaceuticals', other = 'Sagent Pharmaceuticals, Inc.', inplace=True)\n",
    "fda['Brand'].mask(fda['Brand']=='Sagent', other = 'Sagent Pharmaceuticals, Inc.', inplace=True)\n",
    "fda['Brand'].mask(fda['Brand']=='Teva Pharmaceuticals', other = 'Teva Pharmaceuticals USA, Inc', inplace=True)\n",
    "fda['Brand'].mask(fda['Brand']=='Torrent', other = 'Torrent Pharmaceuticals Limited', inplace=True)"
   ]
  },
  {
   "cell_type": "code",
   "execution_count": 7,
   "metadata": {},
   "outputs": [
    {
     "name": "stdout",
     "output_type": "stream",
     "text": [
      "['AMA Wholesale Inc.', 'Abbott', \"Abbott's Compounding Pharmacy\", 'Accord Healthcare Inc.', 'Advanced Pharma, Inc. d/b/a Avella of Houston', 'Alcon', 'Allergan', 'Alvogen', 'Amneal Pharmaceuticals LLC', 'Andropharm', 'Apace Packaging LLC', 'Apotex Corp.', 'Apotex Corporation', 'Arbor Pharmaceuticals, LLC', 'Astrazeneca', 'AuroMedics Pharma', 'AuroMedics Pharma LLC', 'Aurobindo Pharma Limited', 'Avella Specialty Pharmacy', 'B. Braun Medical Inc.', 'BD', 'Baxter International Inc', 'Baxter International Inc.', 'Bayer', 'Beaumont Bio Med, Inc.', 'Bella Pharmaceuticals, Inc.', 'Bestherbs Coffee LLC', 'BioLyte Laboratories', 'Blissful Remedies', 'Bristol-Myers Squibb', 'C.O. Truxton, Inc.', 'Camber Pharmaceuticals, Inc', 'Camber Pharmaceuticals, Inc.', 'Cantrell Drug Company', 'Cardinal Health', 'Caverflo.com', 'Centurion Labs', 'Eight and Company LLC, dba Sprayology', 'Endo Pharmaceuticals', 'Endo Pharmaceuticals Inc.', 'Envy Me', 'Exela Pharma Sciences, LLC', 'Fagron Sterile Services', 'Fat Burners Zone', 'Fresenius Kabi USA', 'Gaia Ethnobotanical, LLC', 'Genentech', 'Genetic Edge Compounds', 'Greenstone LLC, a wholly owned subsidiary of Pfizer Inc.', 'Hardcore Formulations', 'HelloLife, Inc.', 'Hospira', 'Hospira Inc, A Pfizer Company', 'Hospira Inc.', 'Hospira, Inc.', 'Huvepharma, Inc', 'ICU Medical, Inc.', 'INVISIBLU International LLC', 'Impax Laboratories, Inc.', 'International Laboratories, LLC', 'Isomeric Pharmacy Solutions', 'Kareway Products Inc.', 'King Bio', 'King Bio Inc.', 'Kiriko, LLC', 'Liveyon, LLC', 'Lucky Mart Inc.', \"Lucy's Weight Loss System\", 'Lupin Pharmaceuticals Inc.', 'MBI Distributing, Inc.', 'MS Bionic, Inc', 'Magno-Humphries Laboratories, Inc.', 'Major Pharmaceuticals', 'Man of Steel', 'MarcasUSA, LLC', 'Master Herbs, Inc.', 'Mid Valley Pharmaceutical', 'Mylan N.V.', 'Novo Nordisk Inc.', 'Organic Herbal Supply, Inc.', 'Pfizer, Inc.', 'PharMEDium Services LLC', 'PharMEDium Services, LLC', 'Pharm D Solutions LLC', 'PharmaTech LLC', 'PharmaTech, LLC', 'Pharmakon Pharmaceuticals', 'Pharmakon Pharmaceuticals, Inc.', 'Phillips Company', 'Premier Pharmacy Labs', 'Primus Pharmaceuticals, Inc.', 'Prinston Pharmaceutical Inc. dba Solco Healthcare LLC', 'Product Quest Manufacturing (“Product Quest”)', 'Product Quest Manufacturing LLC', 'Promise Pharmacy', 'R Thomas Marketing LLC', \"Ranier's RX Laboratory\", 'Raritan Pharmaceuticals', 'Ridge Properties DBA Pain Relief Naturally', 'Rugby® Laboratories', 'SCA Pharmaceuticals LLC', 'SCA Pharmaceuticals LLC (“SCA Pharma”)', 'SOS Telecom, Inc.', 'Sage Products', 'Sagent Pharmaceuticals', 'Sagent Pharmaceuticals, Inc.', 'ScieGen Pharmaceuticals, Inc', 'Shadow Holdings', 'Shoreside Enterprises', 'Silver Star Brands, Inc.', 'Simple Diagnostics', 'Standard Homeopathic Company', 'Sun Pharmaceutical Industries Ltd', 'Super Herbs', 'Synergy Rx Pharmacy', 'Talon Compounding Pharmacy (TCP)', 'Teva Pharmaceuticals', 'Teva Pharmaceuticals USA', 'Teva Pharmaceuticals USA, Inc', 'Torrent Pharmaceuticals', 'Torrent Pharmaceuticals Limited', 'Tri-Coast Pharmacy Inc.', 'Ultra Shop Supplement', 'United Exchange Corp', 'United Exchange Corp.', 'Virtus Pharmaceuticals Opco II, LLC', 'Vital Rx, Inc. d/b/a Atlantic Pharmacy and Compounding', 'Well Care Compounding Pharmacy', 'Wells Pharmacy Network', 'Westminster Pharmaceuticals, LLC', 'World Organix, LLC']\n"
     ]
    }
   ],
   "source": [
    "print(sorted(fda['Company'].unique()))"
   ]
  },
  {
   "cell_type": "code",
   "execution_count": 8,
   "metadata": {},
   "outputs": [],
   "source": [
    "fda['Company'].mask(fda['Company']=='Abbott', other = \"Abbott's Compounding Pharmacy\", inplace=True)\n",
    "fda['Company'].mask(fda['Company']=='AuroMedics Pharma', other = 'AuroMedics Pharma LLC', inplace=True)\n",
    "fda['Company'].mask(fda['Company']=='Aurobindo Pharma Limited', other = 'AuroMedics Pharma LLC', inplace=True)\n",
    "fda['Company'].mask(fda['Company']=='Baxter International Inc', other = 'Baxter International Inc.', inplace=True)\n",
    "fda['Company'].mask(fda['Company']=='Endo Pharmaceuticals', other = 'Endo Pharmaceuticals Inc.', inplace=True)\n",
    "fda['Company'].mask(fda['Company']=='King Bio', other = 'King Bio Inc.', inplace=True)\n",
    "fda['Company'].mask(fda['Company']=='PharmaTech LLC', other = 'PharmaTech, LLC', inplace=True)\n",
    "fda['Company'].mask(fda['Company']=='Pharmakon Pharmaceuticals', other = 'Pharmakon Pharmaceuticals, Inc.', inplace=True)\n",
    "fda['Company'].mask(fda['Company']=='Product Quest Manufacturing (“Product Quest”)' , other = 'Product Quest Manufacturing LLC', inplace=True)\n",
    "fda['Company'].mask(fda['Company']=='Teva Pharmaceuticals USA', other = 'Teva Pharmaceuticals USA, Inc', inplace=True)\n",
    "fda['Company'].mask(fda['Company']=='United Exchange Corp', other = 'United Exchange Corp.', inplace=True)\n",
    "fda['Company'].mask(fda['Company']=='Hospira Inc.', other = 'Hospira, Inc.', inplace=True)"
   ]
  },
  {
   "cell_type": "code",
   "execution_count": 9,
   "metadata": {},
   "outputs": [],
   "source": [
    "fda.to_csv('fda.csv', sep=',', na_rep='', header=True, index=False)"
   ]
  },
  {
   "cell_type": "code",
   "execution_count": null,
   "metadata": {},
   "outputs": [],
   "source": []
  }
 ],
 "metadata": {
  "kernelspec": {
   "display_name": "Python 3",
   "language": "python",
   "name": "python3"
  },
  "language_info": {
   "codemirror_mode": {
    "name": "ipython",
    "version": 3
   },
   "file_extension": ".py",
   "mimetype": "text/x-python",
   "name": "python",
   "nbconvert_exporter": "python",
   "pygments_lexer": "ipython3",
   "version": "3.6.5"
  }
 },
 "nbformat": 4,
 "nbformat_minor": 2
}
