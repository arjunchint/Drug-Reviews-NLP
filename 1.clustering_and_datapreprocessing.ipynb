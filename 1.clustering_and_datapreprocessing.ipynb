{
 "cells": [
  {
   "cell_type": "code",
   "execution_count": 3,
   "metadata": {},
   "outputs": [
    {
     "name": "stderr",
     "output_type": "stream",
     "text": [
      "C:\\Users\\10252946\\AppData\\Local\\Continuum\\anaconda3\\lib\\site-packages\\gensim\\utils.py:1212: UserWarning: detected Windows; aliasing chunkize to chunkize_serial\n  warnings.warn(\"detected Windows; aliasing chunkize to chunkize_serial\")\n"
     ]
    },
    {
     "name": "stdout",
     "output_type": "stream",
     "text": [
      "[nltk_data] Downloading package stopwords to\n[nltk_data]     C:\\Users\\10252946\\AppData\\Roaming\\nltk_data...\n[nltk_data]   Package stopwords is already up-to-date!\n"
     ]
    }
   ],
   "source": [
    "import os\n",
    "import html\n",
    "import sys\n",
    "import pandas as pd\n",
    "import numpy as np\n",
    "import matplotlib.pyplot as plt\n",
    "% matplotlib inline\n",
    "plt.style.use(\"ggplot\")\n",
    "\n",
    "import os.path as ospath\n",
    "\n",
    "import nltk.data\n",
    "from nltk.corpus import stopwords\n",
    "import re\n",
    "from bs4 import BeautifulSoup\n",
    "from operator import itemgetter\n",
    "\n",
    "from gensim.models import word2vec\n",
    "from bs4 import BeautifulSoup\n",
    "from nltk.corpus import stopwords\n",
    "from sklearn.ensemble import RandomForestClassifier\n",
    "from sklearn.cluster import KMeans\n",
    "\n",
    "import string\n",
    "from time import time\n",
    "\n",
    "from bs4 import BeautifulSoup  \n",
    "import re\n",
    "import nltk\n",
    "nltk.download('stopwords')\n",
    "from nltk.corpus import stopwords \n",
    "from nltk.stem.porter import PorterStemmer\n",
    "from nltk.stem import SnowballStemmer, WordNetLemmatizer\n",
    "from nltk import sent_tokenize, word_tokenize, pos_tag\n",
    "\n",
    "# import initial modules\n",
    "from pprint import pprint\n",
    "import pandas as pd\n",
    "import numpy as np\n",
    "import matplotlib.pyplot as plt\n",
    "%matplotlib inline\n",
    "import seaborn as sns\n",
    "sns.set()\n",
    "\n",
    "import warnings\n",
    "warnings.filterwarnings('ignore')"
   ]
  },
  {
   "cell_type": "markdown",
   "metadata": {},
   "source": [
    "### Read in the dataset"
   ]
  },
  {
   "cell_type": "code",
   "execution_count": 5,
   "metadata": {},
   "outputs": [
    {
     "name": "stdout",
     "output_type": "stream",
     "text": [
      "Current directory: C:\\Users\\10252946\\Documents\\Education\\GATech\\BigDataForHealth\\Projects\nPath of the raw data: C:\\Users\\10252946\\Documents\\Education\\GATech\\BigDataForHealth\\Projects\\drugsCom\nFiles in the drugCom directory: ['drugsComTest_raw.tsv', 'drugsComTrain_raw.tsv']\n"
     ]
    }
   ],
   "source": [
    "# path of the current directory\n",
    "cur_dir = os.getcwd()\n",
    "print(\"Current directory: {}\".format(cur_dir))\n",
    "# list files in the current directory\n",
    "#print(\"Files in the current directory: {}\".format(os.listdir(cur_dir)))\n",
    "data_path = cur_dir+\"\\drugsCom\"\n",
    "train_path = data_path + \"\\drugsComTrain_raw.tsv\"\n",
    "test_path = data_path + \"\\drugsComTest_raw.tsv\"\n",
    "#rawdata_path = cur_dir+\"/drugsCom\"\n",
    "#metadata_path = cur_dir+\"/meta_Health_and_Personal_Care.json.gz\"\n",
    "print(\"Path of the raw data: {}\".format(data_path))\n",
    "print(\"Files in the drugCom directory: {}\".format(os.listdir(data_path)))"
   ]
  },
  {
   "cell_type": "code",
   "execution_count": 6,
   "metadata": {},
   "outputs": [],
   "source": [
    "train = pd.read_table(train_path, sep='\\t')\n",
    "test = pd.read_table(test_path, sep='\\t')"
   ]
  },
  {
   "cell_type": "code",
   "execution_count": 7,
   "metadata": {},
   "outputs": [
    {
     "data": {
      "text/html": [
       "<div>\n",
       "<style scoped>\n",
       "    .dataframe tbody tr th:only-of-type {\n",
       "        vertical-align: middle;\n",
       "    }\n",
       "\n",
       "    .dataframe tbody tr th {\n",
       "        vertical-align: top;\n",
       "    }\n",
       "\n",
       "    .dataframe thead th {\n",
       "        text-align: right;\n",
       "    }\n",
       "</style>\n",
       "<table border=\"1\" class=\"dataframe\">\n",
       "  <thead>\n",
       "    <tr style=\"text-align: right;\">\n",
       "      <th></th>\n",
       "      <th>Unnamed: 0</th>\n",
       "      <th>drugName</th>\n",
       "      <th>condition</th>\n",
       "      <th>review</th>\n",
       "      <th>rating</th>\n",
       "      <th>date</th>\n",
       "      <th>usefulCount</th>\n",
       "    </tr>\n",
       "  </thead>\n",
       "  <tbody>\n",
       "    <tr>\n",
       "      <th>0</th>\n",
       "      <td>206461</td>\n",
       "      <td>Valsartan</td>\n",
       "      <td>Left Ventricular Dysfunction</td>\n",
       "      <td>\"It has no side effect, I take it in combinati...</td>\n",
       "      <td>9.0</td>\n",
       "      <td>May 20, 2012</td>\n",
       "      <td>27</td>\n",
       "    </tr>\n",
       "    <tr>\n",
       "      <th>1</th>\n",
       "      <td>95260</td>\n",
       "      <td>Guanfacine</td>\n",
       "      <td>ADHD</td>\n",
       "      <td>\"My son is halfway through his fourth week of ...</td>\n",
       "      <td>8.0</td>\n",
       "      <td>April 27, 2010</td>\n",
       "      <td>192</td>\n",
       "    </tr>\n",
       "    <tr>\n",
       "      <th>2</th>\n",
       "      <td>92703</td>\n",
       "      <td>Lybrel</td>\n",
       "      <td>Birth Control</td>\n",
       "      <td>\"I used to take another oral contraceptive, wh...</td>\n",
       "      <td>5.0</td>\n",
       "      <td>December 14, 2009</td>\n",
       "      <td>17</td>\n",
       "    </tr>\n",
       "    <tr>\n",
       "      <th>3</th>\n",
       "      <td>138000</td>\n",
       "      <td>Ortho Evra</td>\n",
       "      <td>Birth Control</td>\n",
       "      <td>\"This is my first time using any form of birth...</td>\n",
       "      <td>8.0</td>\n",
       "      <td>November 3, 2015</td>\n",
       "      <td>10</td>\n",
       "    </tr>\n",
       "    <tr>\n",
       "      <th>4</th>\n",
       "      <td>35696</td>\n",
       "      <td>Buprenorphine / naloxone</td>\n",
       "      <td>Opiate Dependence</td>\n",
       "      <td>\"Suboxone has completely turned my life around...</td>\n",
       "      <td>9.0</td>\n",
       "      <td>November 27, 2016</td>\n",
       "      <td>37</td>\n",
       "    </tr>\n",
       "  </tbody>\n",
       "</table>\n",
       "</div>"
      ],
      "text/plain": [
       "<div>\n",
       "<style scoped>\n",
       "    .dataframe tbody tr th:only-of-type {\n",
       "        vertical-align: middle;\n",
       "    }\n",
       "\n",
       "    .dataframe tbody tr th {\n",
       "        vertical-align: top;\n",
       "    }\n",
       "\n",
       "    .dataframe thead th {\n",
       "        text-align: right;\n",
       "    }\n",
       "</style>\n",
       "<table border=\"1\" class=\"dataframe\">\n",
       "  <thead>\n",
       "    <tr style=\"text-align: right;\">\n",
       "      <th></th>\n",
       "      <th>Unnamed: 0</th>\n",
       "      <th>drugName</th>\n",
       "      <th>condition</th>\n",
       "      <th>review</th>\n",
       "      <th>rating</th>\n",
       "      <th>date</th>\n",
       "      <th>usefulCount</th>\n",
       "    </tr>\n",
       "  </thead>\n",
       "  <tbody>\n",
       "    <tr>\n",
       "      <th>0</th>\n",
       "      <td>206461</td>\n",
       "      <td>Valsartan</td>\n",
       "      <td>Left Ventricular Dysfunction</td>\n",
       "      <td>\"It has no side effect, I take it in combinati...</td>\n",
       "      <td>9.0</td>\n",
       "      <td>May 20, 2012</td>\n",
       "      <td>27</td>\n",
       "    </tr>\n",
       "    <tr>\n",
       "      <th>1</th>\n",
       "      <td>95260</td>\n",
       "      <td>Guanfacine</td>\n",
       "      <td>ADHD</td>\n",
       "      <td>\"My son is halfway through his fourth week of ...</td>\n",
       "      <td>8.0</td>\n",
       "      <td>April 27, 2010</td>\n",
       "      <td>192</td>\n",
       "    </tr>\n",
       "    <tr>\n",
       "      <th>2</th>\n",
       "      <td>92703</td>\n",
       "      <td>Lybrel</td>\n",
       "      <td>Birth Control</td>\n",
       "      <td>\"I used to take another oral contraceptive, wh...</td>\n",
       "      <td>5.0</td>\n",
       "      <td>December 14, 2009</td>\n",
       "      <td>17</td>\n",
       "    </tr>\n",
       "    <tr>\n",
       "      <th>3</th>\n",
       "      <td>138000</td>\n",
       "      <td>Ortho Evra</td>\n",
       "      <td>Birth Control</td>\n",
       "      <td>\"This is my first time using any form of birth...</td>\n",
       "      <td>8.0</td>\n",
       "      <td>November 3, 2015</td>\n",
       "      <td>10</td>\n",
       "    </tr>\n",
       "    <tr>\n",
       "      <th>4</th>\n",
       "      <td>35696</td>\n",
       "      <td>Buprenorphine / naloxone</td>\n",
       "      <td>Opiate Dependence</td>\n",
       "      <td>\"Suboxone has completely turned my life around...</td>\n",
       "      <td>9.0</td>\n",
       "      <td>November 27, 2016</td>\n",
       "      <td>37</td>\n",
       "    </tr>\n",
       "  </tbody>\n",
       "</table>\n",
       "</div>"
      ]
     },
     "execution_count": 7,
     "metadata": {},
     "output_type": "execute_result"
    }
   ],
   "source": [
    "train.head()"
   ]
  },
  {
   "cell_type": "code",
   "execution_count": 14,
   "metadata": {},
   "outputs": [
    {
     "data": {
      "text/plain": [
       "(161297, 7)"
      ]
     },
     "execution_count": 14,
     "metadata": {},
     "output_type": "execute_result"
    }
   ],
   "source": [
    "train.shape"
   ]
  },
  {
   "cell_type": "code",
   "execution_count": 15,
   "metadata": {},
   "outputs": [
    {
     "data": {
      "text/plain": [
       "3436"
      ]
     },
     "execution_count": 15,
     "metadata": {},
     "output_type": "execute_result"
    }
   ],
   "source": [
    "train['drugName'].nunique()"
   ]
  },
  {
   "cell_type": "markdown",
   "metadata": {},
   "source": [
    "## 1. Data preprocessing"
   ]
  },
  {
   "cell_type": "markdown",
   "metadata": {},
   "source": [
    "#### 1.1 Define feature variables"
   ]
  },
  {
   "cell_type": "code",
   "execution_count": 16,
   "metadata": {},
   "outputs": [],
   "source": [
    "# Take the values of the column that contains review text data, save to a variable named \"documents\"\n",
    "documents = train['review'].values"
   ]
  },
  {
   "cell_type": "markdown",
   "metadata": {},
   "source": []
  },
  {
   "cell_type": "code",
   "execution_count": 9,
   "metadata": {},
   "outputs": [],
   "source": [
    "\n",
    "# define a function to clean review\n",
    "def review_to_words(raw_review):\n",
    "    # input : raw_string (e.g. train['review'][0])\n",
    "    # output : string consisting of words (preprocessed review)\n",
    "    \n",
    "    # remove HTML tags with BeautifulSoup\n",
    "    review_text = BeautifulSoup(raw_review).get_text()\n",
    "    \n",
    "    # remove numbers and punctuation \n",
    "    letters_only = re.sub('[^a-zA-Z]', ' ', review_text)\n",
    "    \n",
    "    # split string into list of words \n",
    "    letters_only = letters_only.lower().split()\n",
    "    \n",
    "    # remove stop words \n",
    "    stops = set(stopwords.words('english'))\n",
    "    meaningful_words = [word for word in letters_only if word not in stops]\n",
    "    \n",
    "    # join the words into single string and return it as a result\n",
    "    cleaned_review = ' '.join(meaningful_words)\n",
    "    \n",
    "    return cleaned_review"
   ]
  },
  {
   "cell_type": "code",
   "execution_count": 10,
   "metadata": {},
   "outputs": [
    {
     "data": {
      "text/plain": [
       "'side effect take combination bystolic mg fish oil'"
      ]
     },
     "execution_count": 10,
     "metadata": {},
     "output_type": "execute_result"
    }
   ],
   "source": [
    "# Clean the review field\n",
    "review_to_words(train['review'][0])"
   ]
  },
  {
   "cell_type": "code",
   "execution_count": 12,
   "metadata": {},
   "outputs": [
    {
     "name": "stdout",
     "output_type": "stream",
     "text": [
      "cleaning up raw reviews...\n"
     ]
    },
    {
     "name": "stdout",
     "output_type": "stream",
     "text": [
      "finished\n"
     ]
    }
   ],
   "source": [
    "# apply the function to all raw reviews\n",
    "reviews_number = train.shape[0]\n",
    "print('cleaning up raw reviews...')\n",
    "train['cleaned_reviews'] = train['review'].apply(review_to_words)\n",
    "print('finished')"
   ]
  },
  {
   "cell_type": "code",
   "execution_count": 17,
   "metadata": {},
   "outputs": [
    {
     "ename": "KeyError",
     "evalue": "'cleaned_reviews'",
     "traceback": [
      "\u001b[1;31m---------------------------------------------------------------------------\u001b[0m",
      "\u001b[1;31mKeyError\u001b[0m                                  Traceback (most recent call last)",
      "\u001b[1;32m~\\AppData\\Local\\Continuum\\anaconda3\\lib\\site-packages\\pandas\\core\\indexes\\base.py\u001b[0m in \u001b[0;36mget_loc\u001b[1;34m(self, key, method, tolerance)\u001b[0m\n\u001b[0;32m   3062\u001b[0m             \u001b[1;32mtry\u001b[0m\u001b[1;33m:\u001b[0m\u001b[1;33m\u001b[0m\u001b[0m\n\u001b[1;32m-> 3063\u001b[1;33m                 \u001b[1;32mreturn\u001b[0m \u001b[0mself\u001b[0m\u001b[1;33m.\u001b[0m\u001b[0m_engine\u001b[0m\u001b[1;33m.\u001b[0m\u001b[0mget_loc\u001b[0m\u001b[1;33m(\u001b[0m\u001b[0mkey\u001b[0m\u001b[1;33m)\u001b[0m\u001b[1;33m\u001b[0m\u001b[0m\n\u001b[0m\u001b[0;32m   3064\u001b[0m             \u001b[1;32mexcept\u001b[0m \u001b[0mKeyError\u001b[0m\u001b[1;33m:\u001b[0m\u001b[1;33m\u001b[0m\u001b[0m\n",
      "\u001b[1;32mpandas\\_libs\\index.pyx\u001b[0m in \u001b[0;36mpandas._libs.index.IndexEngine.get_loc\u001b[1;34m()\u001b[0m\n",
      "\u001b[1;32mpandas\\_libs\\index.pyx\u001b[0m in \u001b[0;36mpandas._libs.index.IndexEngine.get_loc\u001b[1;34m()\u001b[0m\n",
      "\u001b[1;32mpandas\\_libs\\hashtable_class_helper.pxi\u001b[0m in \u001b[0;36mpandas._libs.hashtable.PyObjectHashTable.get_item\u001b[1;34m()\u001b[0m\n",
      "\u001b[1;32mpandas\\_libs\\hashtable_class_helper.pxi\u001b[0m in \u001b[0;36mpandas._libs.hashtable.PyObjectHashTable.get_item\u001b[1;34m()\u001b[0m\n",
      "\u001b[1;31mKeyError\u001b[0m: 'cleaned_reviews'",
      "\nDuring handling of the above exception, another exception occurred:\n",
      "\u001b[1;31mKeyError\u001b[0m                                  Traceback (most recent call last)",
      "\u001b[1;32m<ipython-input-17-9c3bf8d8c3ef>\u001b[0m in \u001b[0;36m<module>\u001b[1;34m()\u001b[0m\n\u001b[0;32m      1\u001b[0m \u001b[0mdocuments\u001b[0m\u001b[1;33m\u001b[0m\u001b[0m\n\u001b[1;32m----> 2\u001b[1;33m \u001b[0mtrain\u001b[0m\u001b[1;33m[\u001b[0m\u001b[1;34m'cleaned_reviews'\u001b[0m\u001b[1;33m]\u001b[0m\u001b[1;33m.\u001b[0m\u001b[0mhead\u001b[0m\u001b[1;33m(\u001b[0m\u001b[1;33m)\u001b[0m\u001b[1;33m\u001b[0m\u001b[0m\n\u001b[0m",
      "\u001b[1;32m~\\AppData\\Local\\Continuum\\anaconda3\\lib\\site-packages\\pandas\\core\\frame.py\u001b[0m in \u001b[0;36m__getitem__\u001b[1;34m(self, key)\u001b[0m\n\u001b[0;32m   2683\u001b[0m             \u001b[1;32mreturn\u001b[0m \u001b[0mself\u001b[0m\u001b[1;33m.\u001b[0m\u001b[0m_getitem_multilevel\u001b[0m\u001b[1;33m(\u001b[0m\u001b[0mkey\u001b[0m\u001b[1;33m)\u001b[0m\u001b[1;33m\u001b[0m\u001b[0m\n\u001b[0;32m   2684\u001b[0m         \u001b[1;32melse\u001b[0m\u001b[1;33m:\u001b[0m\u001b[1;33m\u001b[0m\u001b[0m\n\u001b[1;32m-> 2685\u001b[1;33m             \u001b[1;32mreturn\u001b[0m \u001b[0mself\u001b[0m\u001b[1;33m.\u001b[0m\u001b[0m_getitem_column\u001b[0m\u001b[1;33m(\u001b[0m\u001b[0mkey\u001b[0m\u001b[1;33m)\u001b[0m\u001b[1;33m\u001b[0m\u001b[0m\n\u001b[0m\u001b[0;32m   2686\u001b[0m \u001b[1;33m\u001b[0m\u001b[0m\n\u001b[0;32m   2687\u001b[0m     \u001b[1;32mdef\u001b[0m \u001b[0m_getitem_column\u001b[0m\u001b[1;33m(\u001b[0m\u001b[0mself\u001b[0m\u001b[1;33m,\u001b[0m \u001b[0mkey\u001b[0m\u001b[1;33m)\u001b[0m\u001b[1;33m:\u001b[0m\u001b[1;33m\u001b[0m\u001b[0m\n",
      "\u001b[1;32m~\\AppData\\Local\\Continuum\\anaconda3\\lib\\site-packages\\pandas\\core\\frame.py\u001b[0m in \u001b[0;36m_getitem_column\u001b[1;34m(self, key)\u001b[0m\n\u001b[0;32m   2690\u001b[0m         \u001b[1;31m# get column\u001b[0m\u001b[1;33m\u001b[0m\u001b[1;33m\u001b[0m\u001b[0m\n\u001b[0;32m   2691\u001b[0m         \u001b[1;32mif\u001b[0m \u001b[0mself\u001b[0m\u001b[1;33m.\u001b[0m\u001b[0mcolumns\u001b[0m\u001b[1;33m.\u001b[0m\u001b[0mis_unique\u001b[0m\u001b[1;33m:\u001b[0m\u001b[1;33m\u001b[0m\u001b[0m\n\u001b[1;32m-> 2692\u001b[1;33m             \u001b[1;32mreturn\u001b[0m \u001b[0mself\u001b[0m\u001b[1;33m.\u001b[0m\u001b[0m_get_item_cache\u001b[0m\u001b[1;33m(\u001b[0m\u001b[0mkey\u001b[0m\u001b[1;33m)\u001b[0m\u001b[1;33m\u001b[0m\u001b[0m\n\u001b[0m\u001b[0;32m   2693\u001b[0m \u001b[1;33m\u001b[0m\u001b[0m\n\u001b[0;32m   2694\u001b[0m         \u001b[1;31m# duplicate columns & possible reduce dimensionality\u001b[0m\u001b[1;33m\u001b[0m\u001b[1;33m\u001b[0m\u001b[0m\n",
      "\u001b[1;32m~\\AppData\\Local\\Continuum\\anaconda3\\lib\\site-packages\\pandas\\core\\generic.py\u001b[0m in \u001b[0;36m_get_item_cache\u001b[1;34m(self, item)\u001b[0m\n\u001b[0;32m   2484\u001b[0m         \u001b[0mres\u001b[0m \u001b[1;33m=\u001b[0m \u001b[0mcache\u001b[0m\u001b[1;33m.\u001b[0m\u001b[0mget\u001b[0m\u001b[1;33m(\u001b[0m\u001b[0mitem\u001b[0m\u001b[1;33m)\u001b[0m\u001b[1;33m\u001b[0m\u001b[0m\n\u001b[0;32m   2485\u001b[0m         \u001b[1;32mif\u001b[0m \u001b[0mres\u001b[0m \u001b[1;32mis\u001b[0m \u001b[1;32mNone\u001b[0m\u001b[1;33m:\u001b[0m\u001b[1;33m\u001b[0m\u001b[0m\n\u001b[1;32m-> 2486\u001b[1;33m             \u001b[0mvalues\u001b[0m \u001b[1;33m=\u001b[0m \u001b[0mself\u001b[0m\u001b[1;33m.\u001b[0m\u001b[0m_data\u001b[0m\u001b[1;33m.\u001b[0m\u001b[0mget\u001b[0m\u001b[1;33m(\u001b[0m\u001b[0mitem\u001b[0m\u001b[1;33m)\u001b[0m\u001b[1;33m\u001b[0m\u001b[0m\n\u001b[0m\u001b[0;32m   2487\u001b[0m             \u001b[0mres\u001b[0m \u001b[1;33m=\u001b[0m \u001b[0mself\u001b[0m\u001b[1;33m.\u001b[0m\u001b[0m_box_item_values\u001b[0m\u001b[1;33m(\u001b[0m\u001b[0mitem\u001b[0m\u001b[1;33m,\u001b[0m \u001b[0mvalues\u001b[0m\u001b[1;33m)\u001b[0m\u001b[1;33m\u001b[0m\u001b[0m\n\u001b[0;32m   2488\u001b[0m             \u001b[0mcache\u001b[0m\u001b[1;33m[\u001b[0m\u001b[0mitem\u001b[0m\u001b[1;33m]\u001b[0m \u001b[1;33m=\u001b[0m \u001b[0mres\u001b[0m\u001b[1;33m\u001b[0m\u001b[0m\n",
      "\u001b[1;32m~\\AppData\\Local\\Continuum\\anaconda3\\lib\\site-packages\\pandas\\core\\internals.py\u001b[0m in \u001b[0;36mget\u001b[1;34m(self, item, fastpath)\u001b[0m\n\u001b[0;32m   4113\u001b[0m \u001b[1;33m\u001b[0m\u001b[0m\n\u001b[0;32m   4114\u001b[0m             \u001b[1;32mif\u001b[0m \u001b[1;32mnot\u001b[0m \u001b[0misna\u001b[0m\u001b[1;33m(\u001b[0m\u001b[0mitem\u001b[0m\u001b[1;33m)\u001b[0m\u001b[1;33m:\u001b[0m\u001b[1;33m\u001b[0m\u001b[0m\n\u001b[1;32m-> 4115\u001b[1;33m                 \u001b[0mloc\u001b[0m \u001b[1;33m=\u001b[0m \u001b[0mself\u001b[0m\u001b[1;33m.\u001b[0m\u001b[0mitems\u001b[0m\u001b[1;33m.\u001b[0m\u001b[0mget_loc\u001b[0m\u001b[1;33m(\u001b[0m\u001b[0mitem\u001b[0m\u001b[1;33m)\u001b[0m\u001b[1;33m\u001b[0m\u001b[0m\n\u001b[0m\u001b[0;32m   4116\u001b[0m             \u001b[1;32melse\u001b[0m\u001b[1;33m:\u001b[0m\u001b[1;33m\u001b[0m\u001b[0m\n\u001b[0;32m   4117\u001b[0m                 \u001b[0mindexer\u001b[0m \u001b[1;33m=\u001b[0m \u001b[0mnp\u001b[0m\u001b[1;33m.\u001b[0m\u001b[0marange\u001b[0m\u001b[1;33m(\u001b[0m\u001b[0mlen\u001b[0m\u001b[1;33m(\u001b[0m\u001b[0mself\u001b[0m\u001b[1;33m.\u001b[0m\u001b[0mitems\u001b[0m\u001b[1;33m)\u001b[0m\u001b[1;33m)\u001b[0m\u001b[1;33m[\u001b[0m\u001b[0misna\u001b[0m\u001b[1;33m(\u001b[0m\u001b[0mself\u001b[0m\u001b[1;33m.\u001b[0m\u001b[0mitems\u001b[0m\u001b[1;33m)\u001b[0m\u001b[1;33m]\u001b[0m\u001b[1;33m\u001b[0m\u001b[0m\n",
      "\u001b[1;32m~\\AppData\\Local\\Continuum\\anaconda3\\lib\\site-packages\\pandas\\core\\indexes\\base.py\u001b[0m in \u001b[0;36mget_loc\u001b[1;34m(self, key, method, tolerance)\u001b[0m\n\u001b[0;32m   3063\u001b[0m                 \u001b[1;32mreturn\u001b[0m \u001b[0mself\u001b[0m\u001b[1;33m.\u001b[0m\u001b[0m_engine\u001b[0m\u001b[1;33m.\u001b[0m\u001b[0mget_loc\u001b[0m\u001b[1;33m(\u001b[0m\u001b[0mkey\u001b[0m\u001b[1;33m)\u001b[0m\u001b[1;33m\u001b[0m\u001b[0m\n\u001b[0;32m   3064\u001b[0m             \u001b[1;32mexcept\u001b[0m \u001b[0mKeyError\u001b[0m\u001b[1;33m:\u001b[0m\u001b[1;33m\u001b[0m\u001b[0m\n\u001b[1;32m-> 3065\u001b[1;33m                 \u001b[1;32mreturn\u001b[0m \u001b[0mself\u001b[0m\u001b[1;33m.\u001b[0m\u001b[0m_engine\u001b[0m\u001b[1;33m.\u001b[0m\u001b[0mget_loc\u001b[0m\u001b[1;33m(\u001b[0m\u001b[0mself\u001b[0m\u001b[1;33m.\u001b[0m\u001b[0m_maybe_cast_indexer\u001b[0m\u001b[1;33m(\u001b[0m\u001b[0mkey\u001b[0m\u001b[1;33m)\u001b[0m\u001b[1;33m)\u001b[0m\u001b[1;33m\u001b[0m\u001b[0m\n\u001b[0m\u001b[0;32m   3066\u001b[0m \u001b[1;33m\u001b[0m\u001b[0m\n\u001b[0;32m   3067\u001b[0m         \u001b[0mindexer\u001b[0m \u001b[1;33m=\u001b[0m \u001b[0mself\u001b[0m\u001b[1;33m.\u001b[0m\u001b[0mget_indexer\u001b[0m\u001b[1;33m(\u001b[0m\u001b[1;33m[\u001b[0m\u001b[0mkey\u001b[0m\u001b[1;33m]\u001b[0m\u001b[1;33m,\u001b[0m \u001b[0mmethod\u001b[0m\u001b[1;33m=\u001b[0m\u001b[0mmethod\u001b[0m\u001b[1;33m,\u001b[0m \u001b[0mtolerance\u001b[0m\u001b[1;33m=\u001b[0m\u001b[0mtolerance\u001b[0m\u001b[1;33m)\u001b[0m\u001b[1;33m\u001b[0m\u001b[0m\n",
      "\u001b[1;32mpandas\\_libs\\index.pyx\u001b[0m in \u001b[0;36mpandas._libs.index.IndexEngine.get_loc\u001b[1;34m()\u001b[0m\n",
      "\u001b[1;32mpandas\\_libs\\index.pyx\u001b[0m in \u001b[0;36mpandas._libs.index.IndexEngine.get_loc\u001b[1;34m()\u001b[0m\n",
      "\u001b[1;32mpandas\\_libs\\hashtable_class_helper.pxi\u001b[0m in \u001b[0;36mpandas._libs.hashtable.PyObjectHashTable.get_item\u001b[1;34m()\u001b[0m\n",
      "\u001b[1;32mpandas\\_libs\\hashtable_class_helper.pxi\u001b[0m in \u001b[0;36mpandas._libs.hashtable.PyObjectHashTable.get_item\u001b[1;34m()\u001b[0m\n",
      "\u001b[1;31mKeyError\u001b[0m: 'cleaned_reviews'"
     ],
     "output_type": "error"
    }
   ],
   "source": [
    "documents\n",
    "train['cleaned_reviews'].head()\n",
    "\n"
   ]
  },
  {
   "cell_type": "code",
   "execution_count": 8,
   "metadata": {},
   "outputs": [],
   "source": [
    "from sklearn.cross_validation import train_test_split"
   ]
  },
  {
   "cell_type": "code",
   "execution_count": 9,
   "metadata": {},
   "outputs": [
    {
     "ename": "NameError",
     "evalue": "name 'documents' is not defined",
     "traceback": [
      "\u001b[1;31m---------------------------------------------------------------------------\u001b[0m",
      "\u001b[1;31mNameError\u001b[0m                                 Traceback (most recent call last)",
      "\u001b[1;32m<ipython-input-9-2645ab2dc252>\u001b[0m in \u001b[0;36m<module>\u001b[1;34m()\u001b[0m\n\u001b[0;32m      2\u001b[0m \u001b[1;31m# Y: targets\u001b[0m\u001b[1;33m\u001b[0m\u001b[1;33m\u001b[0m\u001b[0m\n\u001b[0;32m      3\u001b[0m \u001b[1;31m# Now split the data to training set 80% and test set 20%\u001b[0m\u001b[1;33m\u001b[0m\u001b[1;33m\u001b[0m\u001b[0m\n\u001b[1;32m----> 4\u001b[1;33m \u001b[0mdocuments_train\u001b[0m\u001b[1;33m,\u001b[0m \u001b[0mdocuments_test\u001b[0m \u001b[1;33m=\u001b[0m \u001b[0mtrain_test_split\u001b[0m\u001b[1;33m(\u001b[0m\u001b[0mdocuments\u001b[0m\u001b[1;33m,\u001b[0m \u001b[0mtest_size\u001b[0m \u001b[1;33m=\u001b[0m \u001b[1;36m0.2\u001b[0m\u001b[1;33m,\u001b[0m \u001b[0mrandom_state\u001b[0m \u001b[1;33m=\u001b[0m \u001b[1;36m42\u001b[0m\u001b[1;33m)\u001b[0m\u001b[1;33m\u001b[0m\u001b[0m\n\u001b[0m",
      "\u001b[1;31mNameError\u001b[0m: name 'documents' is not defined"
     ],
     "output_type": "error"
    }
   ],
   "source": [
    "# X: documents\n",
    "# Y: targets\n",
    "# Now split the data to training set 80% and test set 20%\n",
    "documents_train, documents_test = train_test_split(documents, test_size = 0.2, random_state = 42)"
   ]
  },
  {
   "cell_type": "code",
   "execution_count": null,
   "metadata": {},
   "outputs": [],
   "source": [
    "from sklearn.feature_extraction.text import TfidfVectorizer"
   ]
  },
  {
   "cell_type": "code",
   "execution_count": 13,
   "metadata": {},
   "outputs": [],
   "source": [
    "# Create TfidfVectorizer, and name it vectorizer\n",
    "# choose a reasonable max_features, e.g. 1000 to fast the computation speed\n",
    "vectorizer = TfidfVectorizer(stop_words = 'english', max_features = 1000)"
   ]
  },
  {
   "cell_type": "code",
   "execution_count": 14,
   "metadata": {},
   "outputs": [],
   "source": [
    "# Train the model with your training data\n",
    "vectors_train = vectorizer.fit_transform(documents_train).toarray()"
   ]
  },
  {
   "cell_type": "code",
   "execution_count": 15,
   "metadata": {},
   "outputs": [],
   "source": [
    "# Get the vocab of your tfidf\n",
    "words = vectorizer.get_feature_names()"
   ]
  },
  {
   "cell_type": "code",
   "execution_count": 16,
   "metadata": {},
   "outputs": [],
   "source": [
    "# Use the trained model to transform all the reviews\n",
    "vectors_documents = vectorizer.transform(documents).toarray()\n"
   ]
  },
  {
   "cell_type": "markdown",
   "metadata": {},
   "source": [
    "Second technique for designing features using Count Vectorizer\n"
   ]
  },
  {
   "cell_type": "code",
   "execution_count": 27,
   "metadata": {},
   "outputs": [],
   "source": [
    "from sklearn.feature_extraction.text import CountVectorizer\n"
   ]
  },
  {
   "cell_type": "code",
   "execution_count": 29,
   "metadata": {},
   "outputs": [],
   "source": [
    "countvectorizer = CountVectorizer(analyzer='word', tokenizer=None, \n",
    "                             preprocessor=None, stop_words=None, \n",
    "                             max_features=5000)\n",
    "\n",
    "cleaned_reviews = train['cleaned_reviews'].tolist()\n",
    "train_data_features = countvectorizer.fit_transform(cleaned_reviews)\n",
    "train_data_features = train_data_features.toarray()"
   ]
  },
  {
   "cell_type": "markdown",
   "metadata": {},
   "source": [
    "# enumerate counts of each word in the all reviews in descending order"
   ]
  },
  {
   "cell_type": "code",
   "execution_count": 30,
   "metadata": {},
   "outputs": [],
   "source": [
    "vocab = countvectorizer.get_feature_names()\n",
    "counts = np.sum(train_data_features, axis=0)\n",
    "\n",
    "word_count = list()\n",
    "for word, count in zip(vocab, counts):\n",
    "        word_count.append([word, count])\n",
    "wordcount = sorted(word_count, key=itemgetter(1))[::-1]"
   ]
  },
  {
   "cell_type": "code",
   "execution_count": 31,
   "metadata": {},
   "outputs": [
    {
     "data": {
      "text/plain": [
       "[['day', 57908],\n ['side', 53583],\n ['taking', 51307],\n ['years', 46891],\n ['pain', 45704],\n ['mg', 45644],\n ['effects', 45227],\n ['first', 45052],\n ['take', 43984],\n ['months', 43010],\n ['started', 42351],\n ['like', 41951],\n ['get', 41398],\n ['days', 40569],\n ['time', 39021],\n ['feel', 35520],\n ['would', 33571],\n ['back', 31475],\n ['pill', 31163],\n ['one', 30428],\n ['weeks', 29797],\n ['week', 28677],\n ['also', 28303],\n ['doctor', 28134],\n ['took', 28108],\n ['period', 27998],\n ['medication', 27646],\n ['weight', 27524],\n ['got', 27235],\n ['month', 26710],\n ['life', 25506],\n ['since', 25451],\n ['bad', 24607],\n ['still', 24529],\n ['anxiety', 24140],\n ['really', 23789],\n ['much', 23470],\n ['never', 22462],\n ['better', 22058],\n ['went', 21999],\n ['medicine', 21631],\n ['two', 21559],\n ['work', 21463],\n ['felt', 20697],\n ['well', 20494],\n ['control', 20463],\n ['every', 20330],\n ['good', 19985],\n ['year', 19568],\n ['great', 19283],\n ['even', 19282],\n ['night', 19056],\n ['go', 18719],\n ['sleep', 18438],\n ['ago', 17728],\n ['tried', 17338],\n ['works', 17074],\n ['acne', 16992],\n ['birth', 16784],\n ['drug', 16388],\n ['made', 16348],\n ['depression', 16250],\n ['little', 16215],\n ['hours', 16196],\n ['last', 16119],\n ['going', 16019],\n ['dose', 15770],\n ['prescribed', 15490],\n ['worked', 15480],\n ['used', 15255],\n ['almost', 15073],\n ['could', 15016],\n ['severe', 14622],\n ['getting', 14538],\n ['put', 14316],\n ['help', 14045],\n ['feeling', 13676],\n ['use', 13038],\n ['ever', 12879],\n ['far', 12873],\n ['mood', 12861],\n ['skin', 12814],\n ['nothing', 12670],\n ['periods', 12454],\n ['nausea', 12442],\n ['away', 12432],\n ['stopped', 12214],\n ['lot', 12194],\n ['sex', 12148],\n ['try', 12078],\n ['times', 12076],\n ['using', 12060],\n ['bleeding', 12036],\n ['cramps', 12027],\n ['symptoms', 11897],\n ['know', 11790],\n ['think', 11758],\n ['experience', 11710],\n ['normal', 11647],\n ['helped', 11591]]"
      ]
     },
     "execution_count": 31,
     "metadata": {},
     "output_type": "execute_result"
    }
   ],
   "source": [
    "wordcount[:100]"
   ]
  },
  {
   "cell_type": "code",
   "execution_count": 17,
   "metadata": {},
   "outputs": [
    {
     "data": {
      "text/plain": [
       "KMeans(algorithm='auto', copy_x=True, init='k-means++', max_iter=300,\n    n_clusters=8, n_init=10, n_jobs=1, precompute_distances='auto',\n    random_state=None, tol=0.0001, verbose=0)"
      ]
     },
     "execution_count": 17,
     "metadata": {},
     "output_type": "execute_result"
    }
   ],
   "source": [
    "from sklearn.cluster import KMeans\n",
    "\n",
    "kmeans = KMeans()\n",
    "\n",
    "kmeans.fit(vectors_train)"
   ]
  },
  {
   "cell_type": "code",
   "execution_count": 27,
   "metadata": {},
   "outputs": [],
   "source": [
    "assigned_cluster = kmeans.predict(vectors_documents)"
   ]
  },
  {
   "cell_type": "code",
   "execution_count": 28,
   "metadata": {},
   "outputs": [
    {
     "name": "stdout",
     "output_type": "stream",
     "text": [
      "number of clusters:(8, 1000)\n"
     ]
    }
   ],
   "source": [
    "# Default of kmeans uses 8 clusters\n",
    "print ('number of clusters:' + str(kmeans.cluster_centers_.shape))"
   ]
  },
  {
   "cell_type": "code",
   "execution_count": 29,
   "metadata": {},
   "outputs": [
    {
     "name": "stdout",
     "output_type": "stream",
     "text": [
      "top 10 features for each cluster:\n",
      "0: pain, 039, day, relief, severe, years, taking, medicine, medication, doctor\n",
      "1: day, 039, sleep, night, took, taking, days, hours, like, felt\n",
      "2: period, 039, pill, birth, control, bleeding, periods, months, month, weight\n",
      "3: quot, 039, day, years, like, feel, effects, taking, just, time\n",
      "4: anxiety, 039, panic, depression, attacks, life, feel, taking, medication, effects\n",
      "5: effects, years, 039, works, medicine, medication, taking, great, drug, life\n",
      "6: 039, ve, don, like, feel, just, taking, effects, years, weight\n",
      "7: acne, skin, face, 039, clear, using, months, dry, month, cleared\n"
     ]
    }
   ],
   "source": [
    "# print top 10 words of each cluster centers\n",
    "# step (1) Sort each centroid vector to find the top 10 features\n",
    "top_centroids = kmeans.cluster_centers_.argsort()[:, -1:-11:-1]\n",
    "print(\"top 10 features for each cluster:\")\n",
    "# step (2) Go back to our vectorizer object to find out what words each of these features corresponds to\n",
    "for num, centroid in enumerate(top_centroids):\n",
    "    print(\"%d: %s\" % (num, \", \".join(words[i] for i in centroid)))"
   ]
  },
  {
   "cell_type": "code",
   "execution_count": 30,
   "metadata": {},
   "outputs": [
    {
     "name": "stdout",
     "output_type": "stream",
     "text": [
      "top 10 features for each cluster:\n",
      "0: anxiety,039,depression,panic,attacks,life,feel,taking,medication,day\n",
      "1: 039,ve,don,like,day,feel,just,taking,effects,years\n",
      "2: pain,039,day,relief,severe,taking,years,medicine,medication,doctor\n",
      "3: 039,day,effects,taking,years,medication,medicine,works,started,days\n",
      "4: 039,period,pill,birth,control,periods,months,bleeding,month,weight\n"
     ]
    }
   ],
   "source": [
    "# Find the top 10 features for each cluster.\n",
    "kmeans = KMeans(n_clusters = 5)\n",
    "kmeans.fit(vectors_train)\n",
    "assigned_cluster = kmeans.predict(vectors_documents)\n",
    "\n",
    "top_centroids = kmeans.cluster_centers_.argsort()[:, -1:-11:-1]\n",
    "print(\"top 10 features for each cluster:\")\n",
    "for num, centroid in enumerate(top_centroids):\n",
    "    print(\"%d: %s\" % (num, \",\".join(words[i] for i in centroid)))"
   ]
  },
  {
   "cell_type": "markdown",
   "metadata": {},
   "source": [
    "<b>Print out the rating and review of a random sample of the reviews assigned to each cluster to get a sense of the cluster.</b>"
   ]
  },
  {
   "cell_type": "code",
   "execution_count": 35,
   "metadata": {},
   "outputs": [
    {
     "name": "stdout",
     "output_type": "stream",
     "text": [
      "cluster 0:\n",
      "    \"I suffered with a pretty severe anxiety, stress and depression. Took Paxil 4 days ago and honestly I feel great. It already started working. Lot of it could be in my head but trust me all my symptoms disappeared. Side effects: from day one I had a light headache, day two -a little harder headache, day three unbearable headache, day four(now) no headache, feeling perfectly fine, great mood, even though its raining and dark outside.  GREAT medicine. Also its worth to add, it worked the same wonders for me about 8 years ago when I had it for the last time. I was on Paxil for 6 months and it healed me. I had 7 years of great life and suddenly 6-7 months ago this thing attacked me again. Paxil works again, same way.\"\n",
      "cluster 1:\n",
      "    \"[History]- I had started taking melatonin (3mg) to help me sleep, shortly after my divorce. As my body &#039;adjusted&#039; to it, I began to increase the dose, eventually (over several years) working up to 30mg. Well, not too long after that, I desperately needed to be put on Testosterone therapy (my level was &#039;zilch&#039;). Lo-and-behold, it had JUST been determined that MEN should NOT take large doses of melatonin for that very reason!\r\n",
      "Looking for *natural* aids, I found that drinking (&quot;wild&quot;/&quot;black&quot;) cherry juice can improve the quality of your sleep ... BUT, it does so by boosting the amount of the melatonin in the body(!) Skip THAT one....  I then tried Valerian Root, which proved equally effective. \"\n",
      "cluster 2:\n",
      "    \"I have suffered with lumber degenerative disc disease at L5, L4, L3, spinal instability and prolapsed discs at L5 and L4 since being first diagnosed officially in approx 2006 resulting in chronic low back pain and sciatica. I had a discetomy and laminectomy at L5 / L4 but the surgery failed 7 weeks out of surgery. I had nerve impingment at multiple levels including left, right and central prolapses (again) with slight neural compression along with narrowing of the neural foramina and lateral recess on both sides. In plain English = I could not not walk. After trying everything else, they put me on Gabapentin. I am now on 3600mg / day and I went from being unable to walk or stand to walking and being almost pain free after 1 week, Miracle!\"\n",
      "cluster 3:\n",
      "    \"I had this inserted in August. It is now December and I&rsquo;m happy to say I&rsquo;m getting this removed tomorrow! I had the IUD before this and had it removed due to painful intercourse so I thought this was the next easiest thing to do. WRONG. I haven&rsquo;t  experienced  bleeding but my anxiety is out of control. I&rsquo;m also now having to take blood pressure medicine due to my heart is always racing. I have little patience for my two year old which makes me sad. I wish I wouldn&rsquo;t of stuck through with like my doctor practically forced me too! I could&rsquo;ve had this thing removed at month 2! Can&rsquo;t wait to feel normal again. Do NOT recommend.\"\n",
      "cluster 4:\n",
      "    \"I&#039;ve been on this pill for almost 4 months now and going into the 3rd month I started experiencing abnormal breakthrough bleeding. The bleeding would occur every other day and has not stopped for almost 2 months now. I&#039;ve also experienced horrible bloating, cramping, and pelvic and lower back pain. My pill is being switched next month.\"\n"
     ]
    }
   ],
   "source": [
    "for i in range(kmeans.n_clusters):\n",
    "    cluster = np.arange(0, vectors_documents.shape[0])[assigned_cluster==i]\n",
    "    sample_reviews = np.random.choice(cluster, 1, replace=False)\n",
    "    print(\"cluster %d:\" % i)\n",
    "    for review in sample_reviews:\n",
    "        print(\"    %s\" % train.loc[review]['review'])"
   ]
  },
  {
   "cell_type": "code",
   "execution_count": 38,
   "metadata": {},
   "outputs": [
    {
     "data": {
      "text/plain": [
       "'Levonorgestrel'"
      ]
     },
     "execution_count": 38,
     "metadata": {},
     "output_type": "execute_result"
    }
   ],
   "source": [
    "# Find the drugname which got most reviews, get your filtered df, name it df_top_drug\n",
    "df_top_drug = train['drugName'].value_counts().index[0]\n",
    "df_top_drug\n"
   ]
  },
  {
   "cell_type": "code",
   "execution_count": 49,
   "metadata": {},
   "outputs": [
    {
     "data": {
      "text/plain": [
       "(161297, 7)"
      ]
     },
     "execution_count": 49,
     "metadata": {},
     "output_type": "execute_result"
    }
   ],
   "source": [
    "train.shape"
   ]
  },
  {
   "cell_type": "code",
   "execution_count": 47,
   "metadata": {},
   "outputs": [
    {
     "data": {
      "text/plain": [
       "884"
      ]
     },
     "execution_count": 47,
     "metadata": {},
     "output_type": "execute_result"
    }
   ],
   "source": [
    "train['condition'].nunique()"
   ]
  },
  {
   "cell_type": "code",
   "execution_count": 50,
   "metadata": {},
   "outputs": [
    {
     "data": {
      "text/plain": [
       "0     Left Ventricular Dysfunction\n",
       "1                             ADHD\n",
       "2                    Birth Control\n",
       "3                    Birth Control\n",
       "4                Opiate Dependence\n",
       "5     Benign Prostatic Hyperplasia\n",
       "6          Emergency Contraception\n",
       "7                  Bipolar Disorde\n",
       "8                         Epilepsy\n",
       "9                    Birth Control\n",
       "10             Migraine Prevention\n",
       "11                      Depression\n",
       "12                 Crohn's Disease\n",
       "13                           Cough\n",
       "14                   Birth Control\n",
       "15                         Obesity\n",
       "16         Urinary Tract Infection\n",
       "17                     ibromyalgia\n",
       "18                 Bipolar Disorde\n",
       "19    Chronic Myelogenous Leukemia\n",
       "20                   HIV Infection\n",
       "21                        Insomnia\n",
       "22                   Birth Control\n",
       "23            Rheumatoid Arthritis\n",
       "24         Vaginal Yeast Infection\n",
       "25             Chlamydia Infection\n",
       "26                       Hirsutism\n",
       "27                            ADHD\n",
       "28                   Panic Disorde\n",
       "29                        Migraine\n",
       "30                             NaN\n",
       "31                      Depression\n",
       "32                            Pain\n",
       "33         Vaginal Yeast Infection\n",
       "34        Irritable Bowel Syndrome\n",
       "35                  Osteoarthritis\n",
       "36                    Constipation\n",
       "37                            Pain\n",
       "38               Bowel Preparation\n",
       "39                       Psychosis\n",
       "Name: condition, dtype: object"
      ]
     },
     "execution_count": 50,
     "metadata": {},
     "output_type": "execute_result"
    }
   ],
   "source": [
    "train['condition'][:40]"
   ]
  },
  {
   "cell_type": "code",
   "execution_count": null,
   "metadata": {},
   "outputs": [],
   "source": [
    "# dendrogram"
   ]
  },
  {
   "cell_type": "code",
   "execution_count": 45,
   "metadata": {},
   "outputs": [
    {
     "data": {
      "text/plain": [
       "drugName\n",
       "A + D Cracked Skin Relief                              1\n",
       "A / B Otic                                             1\n",
       "Abacavir / dolutegravir / lamivudine                  52\n",
       "Abacavir / lamivudine / zidovudine                     1\n",
       "Abatacept                                             19\n",
       "Abilify                                              446\n",
       "Abilify Discmelt                                       2\n",
       "Abilify Maintena                                       4\n",
       "Abiraterone                                            9\n",
       "AbobotulinumtoxinA                                     3\n",
       "Abraxane                                               4\n",
       "Abreva                                               158\n",
       "Absorbine Jr.                                          1\n",
       "Absorica                                               2\n",
       "Acamprosate                                          109\n",
       "Acanya                                                45\n",
       "Acarbose                                               1\n",
       "Accolate                                               2\n",
       "Accupril                                               1\n",
       "Accutane                                             330\n",
       "Acebutolol                                             2\n",
       "Acetaminophen                                         30\n",
       "Acetaminophen / aspirin                                1\n",
       "Acetaminophen / aspirin / caffeine                    87\n",
       "Acetaminophen / aspirin / caffeine / salicylamide      3\n",
       "Acetaminophen / butalbital                            10\n",
       "Acetaminophen / butalbital / caffeine                129\n",
       "Acetaminophen / butalbital / caffeine / codeine       17\n",
       "Acetaminophen / caffeine                               4\n",
       "Acetaminophen / caffeine / dihydrocodeine             14\n",
       "                                                    ... \n",
       "Zoster vaccine live                                    4\n",
       "Zostrix                                                1\n",
       "Zostrix Diabetic Foot Pain                             1\n",
       "Zosyn                                                  2\n",
       "Zovia                                                 31\n",
       "Zovia 1 / 35                                           5\n",
       "Zovirax                                                9\n",
       "Zovirax Cream                                         14\n",
       "Zovirax Ointment                                       6\n",
       "Zubsolv                                               34\n",
       "Zurampic                                               2\n",
       "Zutripro                                              11\n",
       "Zyban                                                 58\n",
       "Zyclara                                               26\n",
       "Zylet                                                  5\n",
       "Zyloprim                                               1\n",
       "Zymar                                                  3\n",
       "Zymine                                                 1\n",
       "Zyprexa                                              167\n",
       "Zyprexa Intramuscular                                  1\n",
       "Zyprexa Zydis                                         12\n",
       "Zyrtec                                                69\n",
       "Zyrtec-D                                               1\n",
       "Zyrtec-D 12 Hour                                       1\n",
       "Zytiga                                                 7\n",
       "Zyvox                                                 17\n",
       "ZzzQuil                                                2\n",
       "depo-subQ provera 104                                  1\n",
       "ella                                                  51\n",
       "femhrt                                                 3\n",
       "Length: 3436, dtype: int64"
      ]
     },
     "execution_count": 45,
     "metadata": {},
     "output_type": "execute_result"
    }
   ],
   "source": [
    "train.groupby('drugName').size()"
   ]
  },
  {
   "cell_type": "markdown",
   "metadata": {},
   "source": [
    "    1) Use all the reviews provided along with the Word2vec library in order to train the word vectors.\n",
    "    2) Try different approaches to feature creation such as :\n",
    "        2.1) Averaging/ Mean of all word vectors for each review.\n",
    "        2.2) Root mean square of all word vectors for each review.\n",
    "        2.3) Standard deviation of all word vectors for each review\n",
    "        2.4) Clustering all the words and using cluster count in each reciew as feature.\n",
    "    3) Once the features are available, we use a classification technique, in this case a random forest classifier to \n",
    "    classify sentiment of the reviews as Good or Bad.\n",
    "\n",
    "Detailed explanation :-\n",
    "        1) Training the word2vec model:\n",
    "            The data source at \"https://www.kaggle.com/c/word2vec-nlp-tutorial/data\" provides three basic data sets of\n",
    "            movie reviews - labeledTrainData.tsv which is a lablelled set of 25000 reviews as well as their sentiment,\n",
    "            testData.tsv which is an unlabled set of 25000 reviews and unlabeledTrainData.tsv which is also an unlabelled\n",
    "            set of 50000 reviews. I have used all of these sets to train the word2vec model since more the data, the better\n",
    "            the word vectors. This is done after cleaning the reviews such as removing punctuations, URLs etc.\n",
    "        2) Exploring different approaches to Feature creation:\n",
    "            To study the accuracy, I have chosen to use only the labeledTrainData.tsv file which is a lablelled set of \n",
    "            25000 reviews as well as their sentiment. I have split this set into 22000 records of training data and the\n",
    "            remaining 3000 records will be used as my test data.\n",
    "            The approaches I have tried for feature creation are as follows : \n",
    "                2.1) Averaging/ Mean of all word vectors for each review.\n",
    "                    Each review has many words. We average out the word vectors for each word to create the feature vector\n",
    "                    for each review.\n",
    "                2.2) Root mean square of all word vectors for each review.\n",
    "                    Each review has many words. We compute the Root mean square of word vectors for each word to create \n",
    "                    the feature vector for each review.\n",
    "                2.3) Standard deviation of all word vectors for each review\n",
    "                    Each review has many words. We compute the Standard deviation of word vectors for each word to create \n",
    "                    the feature vector for each review.\n",
    "                2.4) Clustering all the words and using cluster count in each reciew as feature.\n",
    "                    Here, we use K-means clustering to cluster all the words in the vocabulary of the trained word2vec\n",
    "                    model. Features for each review are a vector of how many words from each of these clusters belong to\n",
    "                    the review.\n",
    "            3) Once the features are available, we use a classification technique, in this case a random forest classifier to \n",
    "                classify sentiment of the reviews as Good or Bad. We train the classifier using the 22000 labelled records\n",
    "                and test accuracy of each feature creation method on the 3000 test data."
   ]
  },
  {
   "cell_type": "markdown",
   "metadata": {},
   "source": [
    "1) Use all the reviews provided along with the Word2vec library in order to train the word vectors.\n",
    "    2) Try different approaches to feature creation such as :\n",
    "        2.1) Averaging/ Mean of all word vectors for each review.\n",
    "        2.2) Root mean square of all word vectors for each review.\n",
    "        2.3) Standard deviation of all word vectors for each review\n",
    "        2.4) Clustering all the words and using cluster count in each reciew as feature.\n",
    "    3) Once the features are available, we use a classification technique, in this case a random forest classifier to \n",
    "    classify sentiment of the reviews as Good or Bad."
   ]
  },
  {
   "cell_type": "code",
   "execution_count": 10,
   "metadata": {},
   "outputs": [],
   "source": [
    "def cleanReviewSentences(sentence, removeStopwords=False, stopWords=None):\n",
    "    \"\"\"\n",
    "        A function that takes a review string and cleans it by removing HTML formatting, any non alpha-numeric character\n",
    "        , convert to lower case and if requested remove stop words respectively. This function returns a list of clean words.\n",
    "    \"\"\"\n",
    "\n",
    "    cleanedSentence = (BeautifulSoup(sentence)).get_text()\n",
    "\n",
    "    cleanedSentence = re.sub(\"[^a-zA-Z0-9 ]\", \" \", cleanedSentence)\n",
    "\n",
    "    cleanedWords = (cleanedSentence.lower()).split()\n",
    "\n",
    "    cleanedWords = [word for word in cleanedWords if len(word) > 0]\n",
    "\n",
    "    if removeStopwords == True:\n",
    "        cleanedWords = [word for word in cleanedWords if not word in stopWords]\n",
    "\n",
    "    return cleanedWords"
   ]
  },
  {
   "cell_type": "code",
   "execution_count": 11,
   "metadata": {},
   "outputs": [],
   "source": [
    "def preprossesReviews(review, tokenizer):\n",
    "    \"\"\"\n",
    "        This function cleans the reviews by removing any URLs from it, then splitting the review into sentence and then\n",
    "        cleaning each sentence by calling \"cleanReviewSentences\". This function returns a list of all cleaned words in the\n",
    "        review.\n",
    "    \"\"\"\n",
    "\n",
    "    cleanedListOfSentences = []\n",
    "\n",
    "    review = re.sub(\"http:[a-zA-Z0-9/\\.]*\", \" \", review)\n",
    "\n",
    "    reviewSentences = tokenizer.tokenize(review.strip())\n",
    "\n",
    "    for sentence in reviewSentences:\n",
    "        if len(sentence) > 0:\n",
    "            cleanedListOfSentences.append(cleanReviewSentences(sentence))\n",
    "\n",
    "    return cleanedListOfSentences"
   ]
  },
  {
   "cell_type": "code",
   "execution_count": 12,
   "metadata": {},
   "outputs": [],
   "source": [
    "def printProgress(percent, message=\"\"):\n",
    "    \"\"\"A sinmple function to print progress for time consuming operations\"\"\"\n",
    "    sys.stdout.write(\n",
    "        \"\\r\\t\" + message + \"\\t[\" + \"*\" * round(percent / 10) + \" \" * (10 - round(percent / 10)) + \"]  \" + str(\n",
    "            int(percent)) + \"% Completed.\")"
   ]
  },
  {
   "cell_type": "code",
   "execution_count": 13,
   "metadata": {},
   "outputs": [],
   "source": [
    "def prepareTrainingData(reviews, tokenizer):\n",
    "    \"\"\"\n",
    "        This function is used to clean all the reviews to be used for training the word2vec model. This function calls\n",
    "        \"preprossesReviews\" for each review.\n",
    "    \"\"\"\n",
    "    cleanedListOfSentences = []\n",
    "    i = 0\n",
    "    dataSize = len(reviews)\n",
    "    for review in reviews:\n",
    "        if i % 100 == 0:\n",
    "            printProgress(((i + 1) * 100) / dataSize, \"Preparing data for training word2vec ...\")\n",
    "        cleanedListOfSentences += preprossesReviews(review, tokenizer)\n",
    "        i += 1\n",
    "    printProgress(100)\n",
    "\n",
    "    return cleanedListOfSentences"
   ]
  },
  {
   "cell_type": "code",
   "execution_count": 14,
   "metadata": {},
   "outputs": [],
   "source": [
    "def wordVectorTraining(numberOfFeatures=300):\n",
    "    \"\"\"\n",
    "        This function is used to train the word2vec model or load an already trained model if it exists.\n",
    "    \"\"\"\n",
    "    modelName = \"wordVectormodel\"\n",
    "    if ospath.isfile(\"wordVectormodel\") == True:\n",
    "        model = word2vec.Word2Vec.load(modelName)\n",
    "    else:\n",
    "        minWordCount = 40\n",
    "        numberOfWorkers = 4\n",
    "        context = 10\n",
    "        downSampling = 1e-3\n",
    "    \n",
    "        tokenizer = nltk.data.load('tokenizers/punkt/english.pickle')\n",
    "        wordVecTrainingData = setUpDataForWordVectors(tokenizer)\n",
    "    \n",
    "        model = word2vec.Word2Vec(wordVecTrainingData, workers=numberOfWorkers, size=numberOfFeatures,\n",
    "                                  min_count=minWordCount, window=context, sample=downSampling)\n",
    "        model.init_sims(replace=True)\n",
    "    \n",
    "        model.save(modelName)\n",
    "\n",
    "    return model\n",
    "        "
   ]
  },
  {
   "cell_type": "code",
   "execution_count": 15,
   "metadata": {},
   "outputs": [],
   "source": [
    "def createFeatureFromReviewWordVectors(reviewWords, vocabulary, model, numberOfFeatures):\n",
    "    \"\"\"\n",
    "        This is a very important function that creates the feature vectors by using mean, root mean square or standard\n",
    "        deviation of all the word vectors in each review.\n",
    "    \"\"\"\n",
    "\n",
    "    featureVector = np.zeros((1, numberOfFeatures), dtype=np.float32)[0]\n",
    "\n",
    "    numberOfWords = 0\n",
    "\n",
    "    if type == 1 or type == 3:\n",
    "        \"\"\"This is feature creation using mean of all word vectors which gave a test data accuracy of 83.1%\"\"\"\n",
    "        for word in reviewWords:\n",
    "            if word in vocabulary:\n",
    "                numberOfWords = numberOfWords + 1.\n",
    "                featureVector = np.add(featureVector, model[word])\n",
    "\n",
    "        featureVector = np.divide(featureVector, numberOfWords)\n",
    "\n",
    "    if type == 2:\n",
    "        \"\"\"This is feature creation using root mean square of all word vectors which gave a test data accuracy of 77.4%\"\"\"\n",
    "        for word in reviewWords:\n",
    "            if word in vocabulary:\n",
    "                numberOfWords = numberOfWords + 1.\n",
    "                featureVector = np.add(featureVector, np.square(model[word]))\n",
    "\n",
    "        featureVector = np.divide(featureVector, numberOfWords)\n",
    "        featureVector = np.sqrt(featureVector)\n",
    "\n",
    "    if type == 3:\n",
    "        \"\"\"This is feature creation using standard deviation of all word vectors which gave a test data accuracy of 77%\"\"\"\n",
    "        featureVec = np.zeros((1, numberOfFeatures), dtype=np.float32)\n",
    "        for word in reviewWords:\n",
    "            if word in vocabulary:\n",
    "                featureVec = np.add(featureVec, np.square(np.subtract(model[word], featureVector)))\n",
    "\n",
    "        featureVector = np.sqrt(np.divide(featureVec, numberOfWords))\n",
    "\n",
    "    return featureVector"
   ]
  },
  {
   "cell_type": "code",
   "execution_count": 16,
   "metadata": {},
   "outputs": [],
   "source": [
    "def setUpDataForWordVectors(tokenizer):\n",
    "    \"\"\"\n",
    "        This function reads data from labeledTrainData.tsv, unlabeledTrainData.tsv and testData.tsv and accumalates reviews\n",
    "        from all the three to be used for training the word2vec model.\n",
    "    \"\"\"\n",
    "    trainingData = []\n",
    "\n",
    "    trainingData += prepareTrainingData(train['review'], tokenizer)\n",
    "\n",
    "    trainingData += prepareTrainingData(test['review'], tokenizer)\n",
    "\n",
    "    return trainingData"
   ]
  },
  {
   "cell_type": "code",
   "execution_count": 17,
   "metadata": {},
   "outputs": [],
   "source": [
    "def setupFeatures(trainingData, testData, model, numberOfFeatures=300, type=1):\n",
    "    \"\"\"This function sets up the vectors for the training as well as the test data\"\"\"\n",
    "    stopWords = set(stopwords.words(\"english\"))\n",
    "\n",
    "    cleanReviews = []\n",
    "\n",
    "    for review in trainingData[\"review\"]:\n",
    "        review = re.sub(\"http:[a-zA-Z0-9/\\.]*\", \" \", review)\n",
    "        cleanReviews.append(cleanReviewSentences(review, True, stopWords))\n",
    "\n",
    "    trainingDataVectors = createFeatureForReviews(cleanReviews, model, numberOfFeatures, type)\n",
    "\n",
    "    cleanTestData = []\n",
    "\n",
    "    for review in testData[\"review\"]:\n",
    "        review = re.sub(\"http:[a-zA-Z0-9/\\.]*\", \" \", review)\n",
    "        cleanTestData.append(cleanReviewSentences(review, True, stopWords))\n",
    "\n",
    "    testDataVectors = createFeatureForReviews(cleanTestData, model, numberOfFeatures, type)\n",
    "\n",
    "    return trainingDataVectors, testDataVectors\n"
   ]
  },
  {
   "cell_type": "code",
   "execution_count": 18,
   "metadata": {},
   "outputs": [],
   "source": [
    "def clusterWords(model, numberOfWordsPerCluster=5):\n",
    "    \"\"\"This function clusters all the words of the word2vec model vocabulary and returns a dictionary of cluster assignments\"\"\"\n",
    "\n",
    "    wordVectors = model.wv.syn0\n",
    "    numberOfClusters = int(model.wv.syn0.shape[0] / numberOfWordsPerCluster)\n",
    "\n",
    "    kmeansClusteringObject = KMeans(n_clusters=numberOfClusters)\n",
    "\n",
    "    clusterAssignments = kmeansClusteringObject.fit_predict(wordVectors)\n",
    "\n",
    "    clusterAssignments = dict(zip(model.wv.index2word, clusterAssignments))\n",
    "\n",
    "    return clusterAssignments"
   ]
  },
  {
   "cell_type": "code",
   "execution_count": 19,
   "metadata": {},
   "outputs": [],
   "source": [
    "def createFeaturesWithClusters(reviewWords, clusterAssignments, numberOfClusters):\n",
    "    \"\"\"\n",
    "        This function creates the feature vector of the passed review by computing the number of words in the review\n",
    "        belonging to each cluster.\n",
    "    \"\"\"\n",
    "    featureVector = np.zeros((1, numberOfClusters), dtype=np.float32)[0]\n",
    "\n",
    "    for word in reviewWords:\n",
    "        if word in clusterAssignments:\n",
    "            index = clusterAssignments[word]\n",
    "            featureVector[index] += 1\n",
    "\n",
    "    return featureVector"
   ]
  },
  {
   "cell_type": "code",
   "execution_count": 20,
   "metadata": {},
   "outputs": [],
   "source": [
    "def createFeatureForReviewsUsingClusters(dataFrame, clusterAssignments):\n",
    "    \"\"\"\n",
    "        This function first cleans all the reviews and calls createFeaturesWithClusters for each review to create the feature matrix\n",
    "        This approach resulted in the best accuracy of 85.1% on the test set.\n",
    "    \"\"\"\n",
    "    stopWords = set(stopwords.words(\"english\"))\n",
    "    cleanReviews = []\n",
    "\n",
    "    for review in dataFrame['review']:\n",
    "        review = re.sub(\"http:[a-zA-Z0-9/\\.]*\", \" \", review)\n",
    "        cleanReviews.append(cleanReviewSentences(review, True, stopWords))\n",
    "\n",
    "    reviewNumber = 0\n",
    "    numberOfReviews = len(cleanReviews)\n",
    "\n",
    "    numberOfClusters = max(clusterAssignments.values()) + 1\n",
    "\n",
    "    featureVectors = np.zeros((numberOfReviews, numberOfClusters), dtype=np.float32)\n",
    "\n",
    "    for reviewWords in cleanReviews:\n",
    "        if reviewNumber % 100 == 0:\n",
    "            printProgress(((reviewNumber + 1) * 100) / numberOfReviews, \"Creating Feature Vectors for reviews ..\")\n",
    "\n",
    "        featureVectors[reviewNumber] = createFeaturesWithClusters(reviewWords, clusterAssignments, numberOfClusters)\n",
    "        reviewNumber += 1\n",
    "    printProgress(100, \"Creating Feature Vectors for reviews ..\")\n",
    "\n",
    "    return featureVectors"
   ]
  },
  {
   "cell_type": "code",
   "execution_count": 21,
   "metadata": {},
   "outputs": [],
   "source": [
    "from sklearn.cross_validation import train_test_split\n",
    "# X: documents\n",
    "# Y: targets\n",
    "# Now split the data to training set 80% and test set 20%\n",
    "training_data, validataion_data = train_test_split(train, test_size = 0.2, random_state = 42)"
   ]
  },
  {
   "cell_type": "code",
   "execution_count": 22,
   "metadata": {
    "collapsed": false
   },
   "outputs": [
    {
     "name": "stdout",
     "output_type": "stream",
     "text": [
      "{'i': 1302, 'and': 118, 'the': 1584, 'to': 1362, 'it': 738, 'my': 799, 'a': 409, 'for': 156, 'was': 448, 'have': 491, 'of': 1343, 'on': 1553, 'this': 1584, 'in': 650, 'but': 118, 'me': 725, 'had': 862, 'is': 1084, 'that': 738, 'with': 1131, 't': 697, 'not': 1174, 'so': 1325, 'been': 1215, 'at': 206, 'after': 749, 'no': 1680, 'day': 455, 'am': 304, 'as': 1255, 'about': 279, 'm': 304, 'now': 1059, 'side': 966, 'taking': 555, 'all': 1336, 'has': 187, 've': 491, 's': 1084, 'years': 1307, 'pain': 540, 'effects': 451, 'first': 573, 'take': 1019, 'you': 470, 'only': 743, 'months': 176, 'started': 345, '2': 1640, 'like': 631, 'get': 1138, 'up': 1132, 'be': 175, 'days': 519, 'just': 1453, 'very': 1225, 'time': 1521, 'out': 1655, 'or': 1100, 'from': 957, '3': 1640, 'when': 587, 'can': 1394, 'feel': 626, 'if': 349, 'would': 1355, 'because': 509, 'back': 1566, 'pill': 473, 'more': 597, 'one': 409, 'weeks': 176, 'are': 448, 'week': 455, 'took': 555, 'doctor': 589, 'also': 1103, 'period': 460, 'medication': 473, 'weight': 1629, 'then': 258, 'before': 1165, 'got': 942, 'did': 1076, 'will': 148, 'month': 455, 'do': 1442, 'which': 738, 'an': 959, 'life': 36, 'since': 902, 'don': 359, 'bad': 1434, 'still': 1059, 'off': 1566, 'anxiety': 496, '5': 243, 'any': 877, 'really': 537, 'some': 1692, 'much': 836, 'over': 822, 'never': 1187, 'than': 1569, '4': 1640, 'better': 1356, 'went': 942, 'they': 558, 'medicine': 473, 'work': 175, 'two': 410, 'other': 1679, 'felt': 626, 'well': 1493, 'control': 361, 'every': 409, 'good': 1256, 'didn': 1520, 'year': 455, 'even': 861, 'great': 97, 'night': 1116, 'few': 410, 'go': 1464, 'having': 372, '1': 409, 'sleep': 433, 'again': 1332, 'ago': 156, 'by': 817, 'tried': 1019, '6': 1640, 'works': 838, 'were': 448, 'acne': 920, '10': 243, 'birth': 610, 'drug': 473, 'made': 570, 'depression': 496, 'little': 608, 'hours': 519, 'going': 1123, 'last': 1178, 'dose': 539, 'mg': 1607, 'what': 509, 'prescribed': 399, 'worked': 994, 'used': 1019, 'could': 628, 'almost': 1048, 'there': 1238, 'severe': 1359, 'getting': 372, 'down': 0, 'put': 399, 'he': 506, 'help': 923, 'your': 960, 'feeling': 626, 'use': 332, 'far': 836, 'mood': 535, 'being': 527, 'nothing': 1259, 'ever': 352, 'skin': 1085, 'periods': 460, 'nausea': 1095, 'away': 1362, 'lot': 44, 'sex': 1337, 'stopped': 147, 'cramps': 679, 'try': 200, 'using': 555, 'times': 987, 'symptoms': 955, 'bleeding': 80, 'too': 1325, 'think': 261, 'know': 261, 'experience': 816, 'lost': 276, 'normal': 1581, 'helped': 654, 'gain': 1041, 'long': 1675, 'recommend': 264, 'while': 1405, 'without': 578, 'effect': 451, 'old': 1326, 'pills': 22, 'worse': 1356, 'however': 118, 'body': 866, 'stop': 584, 'its': 1084, 'them': 552, 'morning': 269, 'say': 1310, '7': 1640, 'until': 161, 'within': 749, 'taken': 1019, 'see': 859, 'most': 1403, 'thing': 189, 'how': 1325, 'does': 1076, 'always': 1187, 'once': 423, 'horrible': 143, 'next': 1444, 'many': 191, 'make': 570, 'through': 617, 'around': 1161, 'headaches': 17, '8': 1640, 'due': 280, 'experienced': 862, 'these': 552, 'she': 506, 'haven': 187, 'able': 229, 'right': 730, 'noticed': 1687, 'blood': 46, 'finally': 1590, 'stomach': 1271, 'gone': 837, 'three': 410, 'gave': 1424, 'want': 1344, 'love': 376, 'later': 156, 'myself': 1081, 'best': 162, '20': 569, 'eat': 333, 'different': 512, 'same': 1223, 'thought': 596, 'working': 654, 'pounds': 1301, 'sure': 671, 'during': 1224, 'who': 901, 'found': 785, 'though': 118, 'less': 597, 'couldn': 1394, 'problems': 1045, 'gained': 276, 'we': 1695, 'daily': 1189, 'happy': 546, 'people': 560, 'anything': 877, 'give': 1424, '30': 569, 'told': 290, 'said': 290, 'second': 137, 'swings': 216, 'way': 1626, 'need': 909, 'completely': 487, 'another': 1444, 'something': 877, 'things': 1317, 'into': 650, 'couple': 410, 'face': 1085, 'half': 1007, 'start': 1029, 'everything': 877, 'spotting': 80, 'worst': 1232, 'drive': 311, 'tired': 168, 'new': 575, 'panic': 593, 'worth': 195, 'helps': 1020, 'bit': 608, 'starting': 345, 'high': 1683, 'may': 148, 'terrible': 143, 'wasn': 278, 'problem': 772, 'painful': 700, 'light': 1032, 'loss': 1041, 'relief': 1240, 'shot': 310, 'dry': 672, 'pretty': 249, 'effective': 366, 'dr': 589, 'extremely': 1225, 'appetite': 1543, 'past': 1178, 'today': 1372, '15': 243, 'longer': 597, 'minutes': 134, 'actually': 861, 'definitely': 797, 'decided': 1149, 'lbs': 1301, 'hour': 519, 'd': 1355, 'hope': 582, 'pregnant': 1140, 'water': 20, 'came': 942, 'where': 1514, 'issues': 1045, 'heavy': 395, 'keep': 1327, 'bed': 433, 'trying': 1527, 'doesn': 359, 'reviews': 545, 'cramping': 679, 'makes': 570, 'changed': 1378, 'results': 816, 'diagnosed': 424, 'migraines': 917, 'find': 785, 'twice': 423, 'meds': 48, 'switched': 1373, 'low': 1683, 'given': 716, 'sometimes': 421, '12': 1640, 'headache': 17, 'full': 1606, 'several': 410, 'infection': 484, 'change': 149, 'everyone': 340, 'caused': 962, 'depressed': 391, 'anyone': 992, 'll': 148, 'fine': 878, 'mouth': 572, 'done': 1660, 'attacks': 75, 'insurance': 1560, 'clear': 737, 'enough': 1255, 'increased': 163, 'pressure': 132, 'hard': 925, '9': 1640, 'sick': 1017, 'energy': 1637, 'should': 148, 'seems': 1112, 'began': 345, 'dosage': 539, 'read': 1094, 'product': 473, 'those': 552, 'eating': 171, 'amazing': 97, 'come': 1138, 'already': 1080, 'treatment': 642, 'mild': 306, 'both': 191, 'least': 296, 'free': 853, 'else': 1580, 'point': 1521, 'insertion': 913, 'heart': 1598, 'difference': 1614, 'needed': 909, 'overall': 1105, 'maybe': 325, 'wanted': 1344, 'negative': 932, 'insomnia': 357, 'soon': 1457, 'hair': 1542, 'recently': 1422, 'absolutely': 404, 'diarrhea': 197, 'became': 527, 'anymore': 877, 'usually': 421, 'awful': 143, 'doing': 1660, 'her': 725, 'med': 473, 'stay': 505, 'extreme': 736, 'drink': 1353, 'food': 1568, 'left': 286, 'medications': 48, 'per': 409, 'here': 1570, 'immediately': 1457, 'lose': 334, 'etc': 329, 'suffered': 579, 'whole': 544, 'inserted': 224, 'others': 560, 'each': 409, 'end': 1631, '100': 6, 'small': 989, 'tell': 1416, 'cause': 1370, 'major': 1556, 'cold': 1121, 'yet': 1015, 'disorder': 1125, 'medicines': 48, 'lower': 1364, 'miracle': 1074, 'taste': 112, 'although': 118, 'constant': 984, '24': 586, 'person': 93, 'crazy': 1175, 'plan': 951, 'mirena': 99, 'patch': 477, 'along': 375, 'chronic': 1173, 'head': 1408, 'sleeping': 433, 'nauseous': 1017, 'quit': 584, 'pregnancy': 1177, 'burning': 732, 'why': 509, 'zoloft': 492, 'job': 1260, 'reason': 379, 'lasted': 1139, 'everyday': 534, 'migraine': 917, 'lexapro': 492, 'such': 205, 'gotten': 1454, 'thoughts': 1038, 'diet': 171, 'removed': 224, 'positive': 932, 'wake': 897, 'believe': 1416, '25': 569, 'doctors': 558, 'big': 640, 'pack': 691, 'hoping': 582, '50': 569, 'short': 922, 'regular': 395, 'reading': 1094, 'asleep': 433, 'slight': 306, 'highly': 992, 'prescription': 245, 'hurt': 1664, 'woke': 1360, 'exercise': 1126, 'under': 610, 'cleared': 737, 'muscle': 393, 'wish': 729, 'remember': 1416, 'surgery': 1275, 'part': 1077, 'let': 793, 'nexplanon': 99, 'constipation': 197, 'stuff': 473, 'fatigue': 1095, 'four': 410, 'seem': 1112, 'continue': 584, '10mg': 1633, 'er': 550, 'constantly': 984, 'notice': 1687, 'home': 684, 'mind': 1036, 'his': 799, 'probably': 325, 'quite': 249, 'school': 1191, 'either': 241, 'doc': 589, 'dizziness': 1095, 'itching': 732, 'takes': 730, 'experiencing': 372, 're': 448, 'bc': 520, 'break': 1561, 'deal': 81, 'recommended': 884, 'dizzy': 62, '40': 569, 'sore': 774, 'thank': 242, 'chest': 1053, '5mg': 1633, 'increase': 483, 'seemed': 1112, 'emotional': 172, 'him': 506, 'hot': 1147, 'early': 847, 'cycle': 460, 'hospital': 550, 'wait': 1399, 'stress': 154, 'b': 283, 'husband': 362, 'iud': 99, 'kept': 1327, 'suffer': 579, '18': 769, 'plus': 451, 'might': 148, 'super': 537, 'injection': 310, 'wouldn': 359, 'literally': 998, 'huge': 640, 'cream': 303, 'thinking': 1517, 'quickly': 655, 'generic': 894, 'vomiting': 1382, 'xanax': 1197, 'except': 1089, 'ended': 1026, 'anxious': 391, 'scared': 549, 'legs': 953, 'beginning': 1631, 'pains': 679, 'family': 1619, 'yrs': 1307, 'third': 137, 'developed': 758, '16': 157, '0': 530, 'coming': 1138, 'fast': 1290, 'suffering': 579, 'cymbalta': 492, 'improvement': 1614, 'care': 1635, '20mg': 295, 'cannot': 1394, 'easy': 255, 'between': 1636, 'attack': 1054, 'improved': 1511, 'implant': 99, 'making': 570, 'implanon': 99, 'yes': 422, 'healthy': 874, 'become': 527, 'goes': 730, 'function': 81, 'level': 307, 'eyes': 1469, 'glad': 124, 'brain': 1408, 'entire': 544, '14': 157, 'please': 1563, 'won': 359, 'non': 1176, 'neck': 1053, 'wonderful': 97, 'fall': 835, 'age': 1326, 'luck': 417, 'live': 81, 'looking': 1169, 'cough': 1601, 'worry': 787, 'moody': 172, 'walk': 510, 'switch': 1373, 'currently': 1059, 'self': 1081, 'expensive': 523, 'especially': 643, '11': 157, 'boyfriend': 362, 'prior': 749, 'prozac': 492, 'instead': 693, 'amount': 445, 'trouble': 603, 'crying': 1208, 'isn': 278, 'pay': 1560, 'totally': 487, 'red': 1698, 'depo': 1410, 'bipolar': 1220, '2nd': 137, 'saved': 1378, 'often': 846, 'honestly': 1423, 'hands': 953, '2015': 902, 'barely': 578, 'fact': 1111, 'son': 524, 'nearly': 1048, 'withdrawal': 268, 'drugs': 48, 'called': 38, 'issue': 772, 'feels': 798, 'gets': 730, 'course': 813, 'feet': 953, 'straight': 1214, '50mg': 1633, 'type': 634, 'drinking': 185, 'reaction': 1245, '3rd': 137, 'effexor': 492, 'cost': 260, 'breasts': 753, 'real': 404, 'someone': 992, 'six': 410, 'hungry': 168, 'wellbutrin': 492, 'happened': 994, 'rest': 803, 'rather': 1356, '1st': 573, 'smoking': 299, 'yeast': 427, 'must': 1267, 'bathroom': 308, 'kind': 1404, 'dreams': 670, 'active': 669, 'late': 847, 'levels': 1194, 'changes': 149, 'doses': 539, 'anti': 39, 'baby': 1513, 'yesterday': 1372, 'lots': 44, 'asked': 374, 'god': 370, 'hopefully': 582, 'weird': 1150, 'breast': 753, 'their': 960, 'sugar': 768, 'slowly': 741, 'hormones': 396, 'intense': 736, 'wonders': 73, 'test': 1612, 'reduced': 163, 'saw': 859, 'look': 798, 'leg': 393, 'losing': 500, 'sleepy': 1061, 'bloating': 1440, 'guess': 261, 'knew': 596, 'cravings': 541, 'hate': 647, 'paxil': 492, 'normally': 421, 'arm': 286, 'term': 829, 'worried': 1517, 'decreased': 163, 'five': 410, 'suggested': 884, 'unfortunately': 777, 'kids': 904, 'giving': 1424, 'size': 958, 'possible': 710, 'broke': 1561, 'cut': 129, 'bowel': 1536, 'minor': 306, 'health': 453, 'none': 1259, 'brand': 894, 'skyla': 99, 'ok': 878, '17': 157, 'nose': 1324, 'switching': 1373, 'serious': 1556, 'form': 1380, 'nervous': 1517, 'post': 1283, 'helping': 654, 'slightly': 608, 'supposed': 489, 'comes': 1182, 'tablets': 22, 'strong': 42, 'total': 1518, 'case': 1262, 'calm': 1087, 'yaz': 848, 'affects': 451, 'uncomfortable': 1419, '2016': 902, 'rid': 1181, 'procedure': 1313, 'eventually': 258, 'sweating': 1021, 'own': 1619, 'adhd': 1092, 'celexa': 492, 'swelling': 1025, 'continued': 345, 'loved': 376, 'upset': 265, '100mg': 1633, 'suicidal': 1031, '60': 569, 'fibromyalgia': 57, 'bleed': 612, 'sensitive': 1023, 'okay': 878, 'throat': 105, 'lighter': 686, 'seen': 1687, 'system': 866, 'focus': 1281, 'child': 1513, 'difficult': 925, 'stick': 820, 'irritable': 172, 'slept': 1532, 'injections': 310, 'chantix': 299, 'irregular': 395, 'zero': 1680, 'single': 1062, 'leave': 1496, 'awake': 433, 'cry': 1208, 'tri': 182, 'nights': 519, 'im': 304, 'knee': 178, 'add': 23, 'minimal': 678, 'hasn': 187, 'rate': 328, 'turned': 133, 'occasional': 188, 'truly': 350, 'easily': 391, 'allergic': 598, 'says': 1686, 'area': 286, 'flashes': 364, 'tablet': 139, 'unbearable': 143, 'thanks': 1378, 'review': 77, '13': 157, 'vision': 227, 'libido': 1543, 'evening': 269, 'usual': 1356, 'social': 496, 'aches': 540, 'causing': 962, 'rash': 1066, 'seeing': 859, 'wear': 1524, 'sprintec': 1413, 'dermatologist': 403, 'syndrome': 935, 'seroquel': 1010, 'nuvaring': 1410, 'eye': 1469, '90': 1503, 'wrong': 516, 'condition': 1684, 'ambien': 67, 'arthritis': 416, 'throughout': 1224, 'hell': 384, 'our': 799, 'mostly': 1599, 'disease': 1124, 'loestrin': 885, 'combination': 1188, 'unable': 229, 'pimples': 233, 'happen': 175, 'female': 1326, 'stopping': 947, 'perfect': 97, 'antibiotics': 177, 'following': 1444, 'infections': 484, 'friends': 326, 'miserable': 853, 'hrs': 519, 'angry': 391, '25mg': 1633, 'nerve': 1173, 'c': 283, 'joint': 1173, 'daughter': 524, 'discomfort': 732, 'contrave': 495, 'sinus': 427, 'bled': 612, 'close': 638, 'flu': 263, 'moderate': 1439, 'gives': 335, 'pristiq': 1158, 'move': 510, 'lasts': 1139, 'house': 684, 'klonopin': 1197, 'hit': 1182, 'awesome': 97, 'itchy': 896, 'cancer': 660, 'sad': 391, 'adderall': 183, 'mine': 99, 'cystic': 750, 'run': 426, 'handle': 765, 'talk': 82, 'place': 469, 'causes': 962, 'afraid': 549, 'ask': 374, 'lyrica': 218, 'bloated': 168, 'x': 22, 'higher': 486, 'ready': 556, 'easier': 1652, 'lack': 44, 'breakouts': 233, 'alcohol': 185, 'suboxone': 653, 'lo': 182, 'anyway': 796, 'children': 904, 'xr': 183, 'march': 24, 'breath': 937, 'walking': 285, 'treat': 887, 'including': 329, 'bottle': 691, 'finished': 652, 'pharmacy': 292, 'stayed': 1152, '21': 769, 'ones': 233, 'memory': 227, 'breakthrough': 34, 'realized': 761, 'initially': 529, 'sexual': 1435, '45': 933, 'ten': 243, 'cover': 783, 'smoke': 525, 'middle': 56, 'call': 1562, 'heard': 1094, 'therapy': 120, 'waking': 897, 'complete': 1518, 'money': 202, 'hand': 286, 'swollen': 774, 'keeps': 1327, 'july': 24, 'ibuprofen': 1142, 'uti': 1141, 'june': 24, 'process': 1313, 'discharge': 1051, 'changing': 238, 'check': 1155, 'shots': 310, 'appointment': 217, 'basically': 998, 'happier': 83, 'waiting': 1049, 'falling': 835, 'matter': 1162, 'mental': 323, 'fe': 231, 'hardly': 578, 'inside': 64, 'ortho': 182, 'ate': 333, 'research': 257, 'hormonal': 396, 'quick': 1290, 'prep': 180, 'extra': 719, 'forget': 237, 'bladder': 427, 'spot': 80, '19': 769, 'nice': 632, 'bedtime': 1116, 'helpful': 366, 'women': 560, 'antibiotic': 473, 'exactly': 1223, 'looked': 798, 'multiple': 191, 'pm': 559, 'price': 1560, '40mg': 295, 'miss': 899, 'subsided': 1511, 'general': 755, 'physical': 323, 'noticeable': 985, 'tramadol': 218, 'feelings': 1036, 'quality': 246, 'sweats': 206, 'fever': 263, 'wife': 1541, '2014': 1501, 'spasms': 71, 'idea': 1162, 'added': 1212, 'us': 19, 'psychiatrist': 322, '30mg': 295, 'vyvanse': 183, 'compared': 1569, 'abdominal': 624, 'previously': 557, 'annoying': 1419, 'accutane': 1548, 'dropped': 59, '150': 6, 'avoid': 941, 'name': 894, 'success': 417, 'significant': 985, 'lamictal': 625, 'drank': 968, '80': 1503, 'college': 1191, 'top': 1209, 'otherwise': 1105, 'drowsy': 1061, 'frequent': 846, 'sweat': 1171, 'seizures': 840, 'returned': 1600, 'living': 81, 'bone': 1438, 'option': 950, 'arms': 436, 'related': 280, 'august': 24, 'saver': 238, 'abilify': 1010, 'tomorrow': 1322, 'january': 24, '00': 559, 'room': 550, '4th': 137, 'tolerance': 1234, '75': 6, 'mean': 814, 'april': 24, 'update': 656, 'pleased': 546, 'dealing': 579, 'moods': 535, 'affect': 451, 'result': 1057, 'unprotected': 815, 'tests': 1612, 'antidepressants': 48, 'stand': 510, 'male': 1326, 'passed': 426, 'pms': 1304, '200': 6, '28': 769, 'chin': 750, 'seriously': 1222, 'gel': 833, 'wonder': 480, 'flow': 1691, 'patches': 982, 'experiences': 545, 'initial': 1328, 'considering': 553, '22': 769, 'large': 989, 'meal': 313, 'careful': 5, 'greatly': 377, 'disappeared': 84, 'oh': 1229, 'alone': 1431, 'prescribe': 1562, 'psoriasis': 920, 'gas': 1467, 'together': 1427, 'counter': 1055, 'breathing': 1079, 'emotions': 1137, 'restless': 71, 'liver': 788, 'covered': 668, 'near': 1048, 'fear': 1036, 'decrease': 676, 'weigh': 1647, 'slow': 845, 'expected': 1465, 'stuck': 820, 'clean': 1151, 'significantly': 1494, 'racing': 858, 'realize': 261, 'asthma': 221, 'bp': 46, 'deep': 602, 'tingling': 1205, 'bought': 273, 'site': 1484, 'placed': 224, 'mins': 134, 'gabapentin': 218, 'besides': 1089, 'belviq': 495, 'weighed': 1647, 'enjoy': 752, 'prevent': 104, 'talking': 82, 'ocd': 496, 'somewhat': 121, 'sit': 131, 'saying': 127, 'mom': 1541, 'friend': 721, 'colonoscopy': 180, 'spots': 233, 'occasionally': 188, 'episodes': 368, 'scary': 632, '23': 769, 'acid': 1164, 'drop': 334, 'whatsoever': 404, 'drowsiness': 993, 'market': 1101, 'nightmares': 670, 'flare': 1122, 'previous': 1679, 'choice': 950, 'condom': 815, 'similar': 918, 'ring': 1410, 'kick': 1206, 'method': 520, 'october': 24, 'burn': 1664, 'tiredness': 1095, 'understand': 261, 'woman': 93, 'chance': 1239, 'breaking': 1561, 'nurse': 403, 'epiduo': 833, 'zombie': 1028, 'spent': 515, 'gaining': 500, 'wow': 999, 'excellent': 1334, 'fell': 835, 'excited': 1207, 'w': 1131, '150mg': 295, '35': 569, 'thankful': 89, 'topamax': 1280, 'weak': 62, 'advice': 463, 'itch': 732, 'ativan': 1197, 'december': 24, 'hives': 1066, 'methadone': 653, 'followed': 302, 'knees': 953, 'yourself': 1563, 'reduce': 397, 'desire': 1210, 'begin': 1029, 'menstrual': 1304, 'phentermine': 495, 'cup': 958, 'dark': 1052, 'allergies': 221, 'patient': 5, 'medical': 453, 'anger': 252, 'loose': 334, 'benefits': 907, 'despite': 690, 'upper': 286, 'world': 449, 'random': 1203, 'mother': 1541, 'afternoon': 269, 'differently': 512, 'missed': 899, 'running': 804, 'received': 1309, '2x': 423, 'thyroid': 1544, 'kidney': 788, 'affected': 1008, 'relationship': 36, 'forward': 1472, 'apply': 332, 'struggled': 179, 'lips': 896, 'till': 161, 'iv': 716, 'afterwards': 1108, 'office': 1117, 'antidepressant': 39, 'available': 356, 'suggest': 264, 'unless': 349, 'mention': 125, 'white': 440, 'strange': 1150, 'pass': 1678, 'toilet': 1318, 'vivid': 342, 'sensation': 1006, 'coughing': 1601, 'downside': 189, 'lasting': 1139, 'write': 900, 'mid': 847, 'ill': 1017, 'cysts': 606, 'oral': 1055, 'rarely': 1294, 'keeping': 1327, '37': 1483, 'immediate': 294, 'car': 386, 'monistat': 649, '300': 6, 'happens': 994, 'severely': 1397, 'follow': 1155, 'foods': 1568, 'damage': 660, 'effectiveness': 481, 'smell': 1051, 'looks': 798, 'state': 56, 'fingers': 953, 'vaginal': 1135, 'finish': 652, 'important': 632, 'concerned': 1517, 'nauseated': 1017, '2017': 902, 'company': 919, 'buy': 273, 'yr': 1307, 'decision': 298, 'open': 219, 'difficulty': 603, 'motivation': 1637, 'nasty': 239, 'metformin': 1278, 'numb': 1572, 'ibs': 1164, 'putting': 804, 'redness': 266, 'regularly': 1623, 'itself': 302, 'movement': 1536, '2013': 1501, 'cure': 1624, 'november': 24, 'grateful': 89, 'controlled': 84, '300mg': 295, 'percocet': 3, 'estrogen': 514, 'min': 134, 'cramp': 679, 'stable': 411, 'exhausted': 168, 'september': 24, 'victoza': 495, 'lucky': 538, 'debilitating': 1359, 'sense': 1323, 'main': 743, 'tender': 667, 'relieved': 84, 'latuda': 1010, 'share': 900, 'nightmare': 1074, 'humira': 100, 'tolerate': 849, 'spotted': 612, 'shoulder': 178, 'chills': 263, 'foot': 178, 'manageable': 195, 'turn': 435, 'empty': 265, 'cons': 907, 'seconds': 134, 'round': 526, 'driving': 948, 'heartburn': 197, 'brought': 962, 'ear': 1469, 'tylenol': 1142, 'dinner': 313, 'prednisone': 1228, 'aren': 359, 'tenderness': 667, 'withdrawals': 268, 'fairly': 249, 'finding': 785, 'tolerable': 195, 'fantastic': 97, 'fog': 29, 'starts': 293, 'treated': 716, 'accident': 386, 'february': 24, 'hormone': 396, 'bigger': 564, 'hated': 376, 'emergency': 550, 'aware': 604, 'manic': 871, 'set': 479, 'young': 203, 'comments': 545, 'hurts': 272, 'heavier': 686, 'treatments': 167, 'controls': 361, 'ability': 229, 'common': 918, 'ssri': 39, 'vagina': 892, 'staying': 505, '26': 769, 'ran': 426, 'ladies': 703, 'lay': 131, 'episode': 1054, 'biggest': 743, 'known': 710, 'minute': 134, 'gp': 589, 'increasing': 483, 'smoked': 525, 'true': 1545, 'constipated': 1017, 'dryness': 266, 'needs': 1112, 'safe': 5, 'fully': 487, 'release': 1183, '48': 586, 'ease': 1179, 'oxycodone': 3, 'goal': 363, 'failed': 659, 'wash': 936, 'moved': 942, 'irritability': 65, 'throw': 1018, 'ache': 540, 'allergy': 221, 'cervix': 318, 'lol': 1471, 'sent': 842, 'wanting': 556, 'dont': 567, 'complaints': 379, 'suddenly': 1012, 'upped': 59, 'natural': 465, 'liquid': 20, '75mg': 1633, 'adjust': 576, 'moving': 1331, '500mg': 341, 'cyclen': 182, 'number': 142, 'return': 1600, 'send': 242, 'stops': 293, 'risk': 800, '1mg': 530, 'neurologist': 403, 'addiction': 452, 'valium': 1197, 'figured': 596, 'forehead': 750, 'approximately': 822, '200mg': 295, 'muscles': 10, 'seizure': 840, 'joints': 953, 'vicodin': 3, 'relieve': 1179, 'gradually': 741, 'stories': 545, 'struggling': 179, 'generally': 411, 'likely': 1039, 'history': 142, 'story': 223, 'afford': 54, 'urge': 1210, 'incredibly': 1225, 'fat': 267, 'clearing': 737, 'gym': 1001, 'samples': 1159, 'hold': 131, 'disc': 551, 'online': 461, '27': 769, 'mixed': 968, 'u': 470, 'excessive': 521, '70': 1503, 'sudden': 621, 'sitting': 390, 'pros': 907, '60mg': 295, 'trial': 1159, 'cheeks': 750, 'norco': 3, 'jaw': 1053, 'tremendously': 377, 'e': 1185, 'tiny': 1396, 'concentrate': 447, 'rough': 607, 'hip': 178, 'headed': 1195, 'expect': 125, 'buspar': 235, 'partner': 362, 'complaint': 189, 'reactions': 1245, 'hadn': 187, 'whether': 241, 'mess': 635, 'mentioned': 343, 'paragard': 99, 'monday': 236, 'man': 93, 'exercising': 171, 'teeth': 1053, 'oxycontin': 3, 'solution': 950, '3x': 423, 'continues': 1112, 'originally': 529, 'badly': 1434, 'physician': 403, '500': 1134, 'nor': 404, 'breathe': 937, 'coffee': 185, 'cholesterol': 1194, 'nasal': 1324, 'boobs': 753, 'awhile': 1405, 'becoming': 527, 'regulate': 186, 'a1c': 307, 'morphine': 622, 'viibryd': 1158, 'relax': 1196, 'sickness': 993, 'wants': 324, 'certain': 1692, 'ups': 1132, 'groggy': 1061, 'threw': 15, '120': 389, 'die': 225, '2012': 1501, 'excruciating': 143, 'relaxed': 1087, 'otc': 1055, '2mg': 530, 'clots': 132, 'adult': 203, 'addition': 751, 'alot': 44, 'ive': 491, 'shaking': 1021, 'watch': 1109, 'mistake': 298, 'summer': 282, 'earlier': 1165, 'stressed': 1145, 'throwing': 15, 'brown': 1052, 'turkey': 875, 'erection': 1250, 'sores': 920, 'visit': 217, 'scale': 26, 'situation': 1317, 'cried': 1208, 'fire': 64, 'personally': 1105, 'impossible': 925, 'simply': 1388, 'opinion': 194, 'monthly': 186, 'patients': 19, 'friday': 236, 'touch': 934, 'sort': 1404, 'urine': 646, 'edge': 528, 'fun': 1315, 'bactrim': 177, 'pharmacist': 403, 'talked': 82, 'pre': 1389, 'cialis': 511, 'line': 773, 'sun': 1297, 'spinal': 551, 'depressive': 871, 'hunger': 1543, 'allowed': 213, 'manage': 1196, 'remove': 200, 'options': 274, 'ms': 1124, 'focused': 90, 'surgeries': 346, 'moment': 1521, 'stool': 155, 'diabetes': 1090, '5th': 137, 'benadryl': 748, 'ears': 599, 'against': 941, 'waited': 1399, 'upon': 749, 'consider': 264, 'endometriosis': 1198, 'preventing': 104, 'breakfast': 313, 'lithium': 625, 'concerta': 183, 'applied': 332, 'lowered': 59, 'above': 1379, 'tested': 1528, 'ptsd': 108, 'wearing': 1524, 'benefit': 1240, 'perfectly': 73, 'ice': 651, 'stage': 26, 'terrified': 549, 'waste': 515, '15mg': 295, 'learned': 1027, 'intercourse': 1337, 'cured': 1504, 'smaller': 564, 'alternative': 950, 'diabetic': 1090, 'figure': 785, 'urinary': 427, 'rare': 918, 'surprised': 633, 'fix': 1624, 'oily': 425, 'breakout': 702, 'order': 1579, 'satisfied': 546, 'checked': 1155, 'diagnosis': 424, 'weakness': 71, '2011': 1501, 'knowing': 261, 'subside': 588, 'black': 92, 'yasmin': 848, 'adverse': 932, 'clinic': 111, 'count': 336, 'bronchitis': 1167, 'tongue': 739, 'rapid': 145, 'forever': 1272, 'cipro': 177, 'mainly': 1060, 'apart': 548, 'palpitations': 145, 'comfortable': 1087, 'habits': 1022, 'program': 566, 'faster': 256, 'irritated': 391, 'obviously': 1627, 'mgs': 1607, 'outside': 1064, 'basis': 1487, 'vomit': 867, 'noticing': 859, 'numerous': 191, 'stone': 1301, 'oil': 583, 'note': 1385, 'meals': 1096, 'shorter': 686, 'symptom': 1077, 'adipex': 495, 'moodiness': 65, 'o': 1326, 'hopeful': 1207, 'double': 1613, 'hear': 82, 'improve': 588, 'spine': 551, 'version': 439, 'strength': 539, 'confidence': 1637, 'products': 167, 'pcos': 25, 'advil': 1142, 'advised': 884, 'irritation': 266, 'certainly': 797, 'shower': 1148, 'scalp': 30, 'intake': 767, 'happening': 994, 'range': 307, 'broken': 1561, 'uterus': 318, 'instantly': 1457, 'sharp': 1144, 'disappointed': 546, 'addictive': 720, 'reflux': 197, 'imagine': 943, 'addicted': 801, 'ovarian': 25, 'placebo': 460, 'balance': 227, 'average': 389, 'showed': 592, 'weren': 278, 'bumps': 233, 'date': 698, 'various': 191, 'citalopram': 492, 'bother': 629, 'routine': 974, 'drops': 1352, 'depakote': 625, 'girl': 93, 'calories': 767, 'frequently': 846, 'linzess': 415, 'craving': 541, 'managed': 554, '36': 586, 'seven': 51, 'glass': 694, 'insane': 1175, 'grade': 488, 'list': 142, 'inflammation': 1025, 'future': 194, 'sooner': 1165, 'suprep': 180, 'ritalin': 805, 'whatever': 877, 'sucks': 647, 'sample': 1159, '2010': 1501, 'speak': 82, 'yi': 1141, 'discontinued': 947, 'spray': 940, 'fourth': 137, 'acting': 829, 'sleepiness': 1095, 'pad': 1448, 'massive': 640, 'trazodone': 67, '29': 769, 'telling': 127, 'numbness': 1205, 'inhaler': 662, 'means': 1154, 'struggle': 179, 'combined': 375, 'movements': 1536, 'chose': 1149, 'specialist': 7, 'co': 1560, 'saxenda': 495, 'wondering': 671, 'absolute': 158, 'paranoid': 1145, 'blurred': 1193, 'lately': 1187, 'trust': 127, 'sugars': 768, 'hi': 782, 'odd': 1150, 'actual': 1538, 'poor': 1110, 'rx': 245, 'tears': 967, 'schedule': 974, 'associated': 375, 'congestion': 1601, 'liked': 376, 'physically': 600, 'suicide': 1031, 'plenty': 44, 'areas': 233, 'death': 1508, 'obgyn': 1312, 'supply': 1560, 'forgot': 237, 'sertraline': 492, 'personality': 1022, 'fit': 1628, 'thankfully': 696, 'trinessa': 848, 'step': 691, '32': 262, 'cyst': 606, 'stronger': 486, 'shoulders': 436, 'class': 428, 'possibly': 949, 'lutera': 848, 'pound': 52, 'topical': 1072, 'trick': 1260, 'viral': 336, 'facial': 369, 'properly': 563, 'hurting': 540, 'load': 336, 'based': 906, 'pimple': 702, 'worsened': 1511, '2009': 1501, 'luckily': 696, 'simple': 447, 'xl': 759, 'attention': 1559, 'hallucinations': 903, 'jittery': 62, 'dilaudid': 622, 'botox': 380, 'aviane': 848, 'anywhere': 548, 'enbrel': 100, 'lifestyle': 863, 'injury': 154, 'anyways': 796, 'obsessive': 408, 'smoker': 430, 'tough': 607, 'script': 245, 'whenever': 587, 'painless': 700, 'insulin': 385, 'p': 1115, 'removal': 301, 'scars': 914, 'tonight': 1322, 'mornings': 269, 'apparently': 1627, 'stressful': 8, 'sunday': 236, 'lunch': 313, 'gonna': 148, 'neuropathy': 1025, 'horror': 886, 'mentally': 600, 'fatigued': 168, 'management': 1173, 'gyno': 1312, 'force': 383, 'confident': 1087, 'amazed': 633, 'store': 292, 'nap': 688, 'emotionally': 600, 'show': 592, 'controlling': 531, 'concentration': 1281, 'imitrex': 1335, 'lowest': 198, 'dramatically': 1494, 'clonazepam': 1197, 'replacement': 1333, 'save': 1078, 'discovered': 761, 'warning': 1338, 'clearly': 809, 'agree': 923, 'directed': 1645, 'lifesaver': 1074, 'bm': 1536, 'tract': 427, 'burns': 272, 'applying': 332, 'horrific': 143, 'vitamin': 879, 'generalized': 108, 'tastes': 112, 'track': 733, 'allows': 1020, 'skip': 536, 'thin': 978, 'paid': 1113, 'tend': 554, 'worrying': 787, 'depressants': 275, '31': 769, 'card': 498, 'cycles': 460, 'didnt': 1520, 'thus': 817, 'numbers': 136, 'burned': 1664, 'magic': 114, 'unlike': 843, 'bottom': 1035, 'killed': 49, 'harder': 1652, 'insert': 913, 'types': 621, 'willing': 549, 'vertigo': 17, 'fight': 1464, 'freaking': 1697, 'uncontrollable': 736, 'orgasm': 207, 'dying': 1508, 'bearable': 195, 'bouts': 368, 'treating': 531, 'menopause': 1069, 'consistent': 1369, 'needless': 502, 'pee': 623, 'rating': 328, 'wore': 321, 'interest': 311, 'filled': 219, 'everywhere': 110, 'opiates': 653, 'beat': 858, 'skeptical': 199, 'microgestin': 231, 'blue': 440, 'pleasant': 1402, 'bring': 435, 'leaving': 1496, 'cigarettes': 1034, 'suppose': 489, 'n': 1611, 'contraceptive': 520, 'pulled': 414, 'virus': 201, 'provera': 825, 'hopes': 1596, 'listed': 710, 'hospitalized': 1346, 'lethargic': 168, 'admit': 1310, 'cant': 1394, 'thats': 96, 'quitting': 388, 'creams': 167, 'zofran': 330, 'words': 1412, '000': 130, 'tremors': 71, 'discontinue': 584, 'dangerous': 720, 'oz': 1409, 'ways': 274, 'aside': 548, 'lunesta': 67, 'blown': 916, 'concern': 772, 'reasons': 1286, 'viagra': 511, 'opiate': 1407, 'savella': 1158, 'shortness': 981, 'kicked': 1206, 'thru': 617, 'application': 332, 'smooth': 425, 'extended': 744, 'beyond': 1225, 'consistently': 1623, 'report': 435, 'onset': 1035, 'rls': 1164, 'asap': 1322, 'ruined': 49, 'fluid': 144, 'scare': 995, 'situations': 1317, 'mania': 1673, 'foggy': 818, 'writing': 77, 'mix': 20, 'ob': 1312, 'hydrocodone': 3, 'personal': 323, 'clothes': 663, 'nuvigil': 1252, 'sexually': 1246, 'lip': 739, '6th': 14, 'max': 198, 'coupon': 498, 'condoms': 811, 'lemon': 20, 'lungs': 144, 'doxycycline': 66, 'neurontin': 218, 'required': 1251, 'ton': 44, 'agitated': 391, 'calling': 374, 'abnormal': 395, 'bv': 1141, 'growing': 503, 'trip': 1346, 'methotrexate': 1228, 'habit': 1034, 'react': 786, 'sign': 1690, 'goodness': 370, '325': 3, 'signs': 1690, 'mark': 1368, 'apri': 848, 'exact': 1223, 'existent': 980, 'box': 691, 'recent': 1039, 'tons': 44, 'older': 1140, 'perhaps': 325, 'aid': 1110, 'ridiculous': 1175, 'miralax': 760, 'unpleasant': 1402, 'weekend': 1446, 'ovulation': 504, 'keppra': 723, 'omg': 999, 'ankles': 953, 'motivated': 90, 'frustrating': 632, 'weekly': 825, 'clearer': 83, 'junel': 231, 'regimen': 832, 'tampons': 358, 'remeron': 170, 'push': 1464, 'packs': 1409, 'gi': 1450, 'gad': 496, 'public': 428, 'sweet': 185, 'seasonique': 885, 'cigarette': 525, 'l': 346, 'adjusted': 576, 'heavily': 1214, 'feb': 24, 'swallow': 234, 'saturday': 236, 'warned': 290, 'missing': 899, 'mad': 1666, 'reducing': 1476, 'sweets': 1568, 'hesitant': 199, 'behavior': 1022, 'alive': 90, 'incredible': 1334, 'overweight': 1287, 'married': 1140, 'acute': 91, 'zyprexa': 1010, 'gyn': 1312, 'confused': 391, 'juice': 20, 'dead': 908, 'terribly': 419, 'shortly': 976, 'grew': 1454, 'convinced': 127, 'milk': 20, 'tampon': 1448, 'crap': 1257, 'below': 1379, 'straw': 20, 'tube': 691, 'replaced': 200, 'additional': 719, 'wean': 68, 'md': 589, 'born': 675, 'nucynta': 471, 'sensitivity': 1195, 'stiffness': 540, 'further': 1261, 'spells': 1452, 'kill': 712, 'towards': 442, 'honest': 5, 'lung': 788, 'regret': 264, 'scheduled': 1555, 'prone': 1023, 'primary': 839, 'eight': 51, 'lie': 390, 'tight': 1572, 'freaked': 1697, 'spread': 1426, 'tamiflu': 1387, 'boy': 1229, 'abreva': 303, 'recovery': 1386, 'abdomen': 109, 'reduction': 676, 'activity': 789, 'opana': 471, 'stays': 196, 'instructions': 522, 'illness': 154, 'heal': 1107, 'student': 210, 'current': 363, 'allow': 1020, 'geodon': 1010, 'workout': 72, 'healing': 837, 'dysfunction': 347, 'carry': 510, 'rheumatoid': 416, 'places': 428, '2008': 1501, 'paranoia': 1673, 'teenager': 203, 'drastically': 1494, 'dream': 670, 'depressant': 275, 'caffeine': 185, 'jan': 24, 'tabs': 22, 'fighting': 579, 'asking': 374, 'messed': 635, 'pmdd': 496, 'fentanyl': 113, 'pads': 358, 'traumatic': 687, 'maintain': 220, 'discs': 346, 'narcotic': 1407, 'cope': 81, 'solid': 713, 'horribly': 419, 'onto': 1553, 'overnight': 294, 'bacterial': 116, 'lessened': 1511, 'immune': 1314, 'virtually': 404, 'play': 724, 'behind': 1367, 'osteoarthritis': 794, 'urination': 590, 'agreed': 884, 'dealt': 179, 'everybody': 340, 'frustrated': 1666, 'complain': 82, 'loving': 752, 'answer': 882, 'paying': 1113, 'reach': 1588, 'frequency': 574, 'conditions': 355, 'front': 561, 'strattera': 183, 'died': 1276, 'passing': 446, 'productive': 90, 'rage': 252, 'psych': 322, 'knows': 685, 'floor': 466, 'qsymia': 495, 'kid': 203, 'led': 731, 'lead': 731, 'kinda': 1471, 'convenient': 255, 'makeup': 4, 'build': 1634, 'successful': 366, 'unusual': 1402, 'combo': 1188, 'information': 405, 'expecting': 1465, 'tooth': 726, 'synthroid': 681, 'toes': 454, 'miles': 872, 'confusion': 29, 'pocket': 841, 'pick': 1018, 'motion': 1536, 'kinds': 621, 'reacts': 786, 'calmed': 87, 'finishing': 652, 'tension': 71, 'chemo': 642, 'wears': 321, 'lived': 179, 'pull': 446, 'activities': 315, 'present': 297, 'steroid': 380, 'pneumonia': 1167, 'cheaper': 486, 'forced': 677, 'needing': 556, 'instant': 294, 'soma': 218, 'amitriptyline': 1280, 'rosacea': 920, 'hang': 1040, 'warm': 1572, 'calmer': 1087, 'roof': 581, 'zaps': 1002, 'decide': 494, 'herniated': 551, 'cd4': 336, '400': 6, 'turns': 133, 'hips': 436, 'nerves': 10, 'eczema': 920, 'inability': 229, 'opposite': 1120, 'local': 828, 'raised': 59, 'thick': 978, 'alert': 90, 'blurry': 1193, 'horrendous': 143, 'describe': 943, 'considered': 945, 'guys': 703, 'prepared': 5, 'stupid': 1226, 'lifted': 905, 'embarrassing': 632, 'cutting': 129, 'urinate': 623, 'tea': 251, 'gout': 1025, 'approx': 822, 'approved': 783, 'degree': 526, 'tuesday': 236, 'stated': 343, 'limited': 678, 'degenerative': 119, 'heat': 1147, 'funny': 631, 'testosterone': 880, 'ra': 1124, 'stroke': 746, 'regulated': 186, 'prefer': 766, 'girls': 560, 'carbs': 1568, 'steroids': 1228, 'capsules': 22, 'hey': 1265, 'depending': 906, 'infusion': 526, 'randomly': 1203, 'sound': 457, 'remembering': 990, 'blessing': 1074, 'relatively': 249, 'posted': 77, '250': 6, 'brintellix': 1158, 'spend': 515, '80mg': 295, 'stools': 155, 'outweigh': 270, 'progress': 1614, 'larger': 564, 'lightheaded': 62, 'aggressive': 1258, 'soreness': 667, 'trulicity': 495, '130': 88, 'strongly': 992, 'gerd': 1164, 'nails': 454, 'hearing': 227, 'weaned': 68, 'across': 1576, 'toe': 454, 'valtrex': 1291, 'metallic': 1319, 'covers': 668, 'useless': 356, 'wonderfully': 73, 'permanent': 1340, 'neither': 1259, '140': 389, 'bruising': 568, 'moisturizer': 190, 'hyper': 391, 'occur': 101, 'colon': 31, 'typical': 918, 'desperate': 549, 'watching': 1109, 'remicade': 100, 'beyaz': 848, 'fda': 919, 'diminished': 1511, 'abuse': 452, 'capsule': 139, 'bi': 1220, 'included': 1129, 'saphris': 1010, 'website': 791, 'doubt': 921, 'hr': 519, 'sorry': 89, 'provigil': 1252, 'advise': 264, 'iron': 880, 'listen': 82, 'crossed': 1305, 'tasks': 315, 'choose': 766, 'crave': 541, 'human': 977, 'harvoni': 924, 'psychotic': 871, 'gum': 682, 'therefore': 349, 'erections': 1250, 'peeling': 266, 'lisinopril': 1011, 'pray': 582, 'sat': 390, 'hep': 283, 'study': 1663, 'affecting': 779, 'healthier': 597, 'yeah': 1265, 'phone': 665, 'ride': 1024, 'laying': 390, 'refill': 245, 'bright': 92, 'trips': 1547, 'shocked': 633, 'wide': 1115, 'adjusting': 576, 'binge': 1568, 'vomited': 757, 'yogurt': 378, 'thursday': 236, '180': 88, 'knocked': 33, 'butt': 286, 'complaining': 826, 'slowed': 845, 'taper': 68, 'compulsive': 593, 'knock': 33, 'develop': 1107, 'bacteria': 116, 'narcotics': 653, 'nov': 24, 'maintenance': 802, 'scan': 53, '38': 262, '42': 262, 'ineffective': 356, 'flomax': 808, 'wks': 176, '95': 1503, '33': 262, 'snack': 313, 'armour': 681, 'dulcolax': 1351, 'row': 1609, 'clonidine': 1197, 'attempt': 478, 'pop': 1646, 'detox': 1386, 'crippling': 1359, 'sadness': 755, 'agitation': 65, 'cool': 651, '110': 389, 'drinks': 987, 'impressed': 546, 'dec': 24, 'flat': 1572, '65': 16, 'reached': 1588, 'fiber': 267, 'hysterectomy': 562, 'steady': 931, 'original': 1679, 'shouldn': 359, 'internet': 791, 'dramatic': 985, 'tasted': 112, 'gianvi': 848, 'pcp': 589, 'necessary': 1251, 'thirsty': 168, 'shake': 765, 'outbreak': 1054, 'ssris': 48, 'word': 1412, 'beware': 1563, 'ankle': 178, 'drunk': 1339, 'directions': 522, '1000': 776, '10lbs': 140, 'healed': 1204, 'explain': 1416, 'sides': 436, 'praying': 582, 'stiff': 540, 'y': 1326, 'conjunction': 751, 'pounding': 145, 'restlessness': 357, 'urgent': 839, 'bupropion': 759, 'typically': 421, 'marks': 914, 'growth': 369, '34': 262, 'needle': 135, 'soda': 185, 'temporary': 189, 'babies': 1177, 'grades': 136, 'wednesday': 236, 'aleve': 1142, 'marriage': 36, 'naturally': 1287, 'maxalt': 1335, 'surprise': 1074, 'mirtazapine': 170, '72': 586, 'mri': 53, 'turning': 908, 'highest': 198, '160': 389, 'shaky': 62, 'weighing': 1647, 'functioning': 1688, 'busy': 669, 'meant': 489, 'ringing': 599, 'improvements': 1614, 'user': 106, 'tummy': 1271, 'negatives': 365, 'grown': 1454, 'undetectable': 336, 'naproxen': 338, 'wreck': 327, 'remission': 488, 'effectively': 1493, 'attitude': 705, 'practically': 998, 'retention': 317, 'nine': 51, 'crohn': 456, 'amounts': 445, 'macrobid': 94, 'belly': 109, 'nowhere': 841, 'occurred': 994, 'thrilled': 124, 'killers': 305, 'magnesium': 1693, '7th': 14, 'aczone': 833, 'planning': 553, 'sister': 721, '800': 6, 'ahead': 1362, 'guy': 93, 'include': 1129, 'explained': 591, 'elevated': 59, 'propranolol': 1280, 'wine': 185, 'cervical': 551, 'needles': 135, 'eliminated': 84, 'levaquin': 94, 'costs': 260, 'bones': 10, 'charm': 382, 'implanted': 224, 'aspirin': 1142, 'remained': 1152, 'drysol': 1211, 'lb': 1301, 'weaning': 68, 'energetic': 1087, 'potential': 800, 'speaking': 580, 'sounds': 457, 'response': 438, 'heroin': 653, 'anybody': 992, 'alesse': 848, 'agony': 469, 'continuing': 947, 'copay': 1560, 'entirely': 1213, 'mucinex': 1479, 'polar': 1220, '800mg': 338, 'protection': 811, 'runs': 446, 'protein': 371, 'brands': 864, 'wet': 1371, 'disappear': 588, 'pulse': 1598, 'lotion': 190, 'sticking': 820, 'glucose': 768, 'informed': 290, 'nail': 454, 'picked': 1026, '99': 412, 'laid': 390, 'parents': 1541, '4mg': 530, 'standing': 285, 'occasions': 1547, 'induced': 1650, 'refreshed': 1087, '125': 88, 'calorie': 267, 'tumor': 401, 'nuva': 1410, 'eaten': 333, 'shakes': 263, 'worries': 379, 'decent': 1256, 'hopeless': 208, '400mg': 341, 'hangover': 993, 'purpose': 481, 'instructed': 1645, 'killing': 1277, 'ovulating': 504, 'beautiful': 613, 'supplements': 240, 'prescribing': 1562, 'planned': 1366, 'enjoying': 752, 'wise': 216, 'impact': 705, 'codeine': 338, 'severity': 574, 'news': 816, 'cheap': 523, 'celebrex': 218, 'sadly': 777, 'blame': 125, 'younger': 203, 'key': 1093, 'soft': 110, 'comment': 900, 'blisters': 1698, 'roughly': 822, 'adding': 1212, 'liner': 508, 'support': 1166, 'lupron': 825, 'refused': 677, 'sciatica': 551, 'clears': 15, 'caught': 1565, 'venlafaxine': 492, 'voices': 1673, 'bout': 1054, 'disgusting': 239, 'fill': 312, 'contraception': 520, 'augmentin': 177, 'winter': 282, 'ocella': 848, 'tightness': 540, 'completed': 652, 'manufacturer': 919, 'failure': 1275, 'hello': 782, 'methods': 864, 'scares': 104, 'effort': 478, 'zyrtec': 1479, 'rock': 1658, 'altogether': 1213, 'poison': 754, 'inserting': 913, 'developing': 1107, 'fusion': 551, 'flushing': 1205, 'remedies': 167, 'ending': 635, 'spending': 515, 'father': 524, 'changer': 238, 'flagyl': 177, 'ultrasound': 381, 'leaves': 335, 'tab': 139, 'teen': 203, 'strings': 1398, 'panty': 508, 'fair': 5, 'flexeril': 218, 'grow': 503, '1200': 776, 'colitis': 418, 'tho': 888, '600': 6, 'otezla': 100, 'melatonin': 67, 'incident': 851, 'provided': 778, 'fluoxetine': 492, 'maximum': 939, 'caution': 695, 'built': 1634, 'pelvic': 393, 'patience': 1637, 'ultram': 218, 'parts': 864, 'respiratory': 427, 'balanced': 411, 'noon': 55, 'levora': 848, 'violent': 1258, 'faint': 666, 'terms': 56, 'battling': 579, 'wont': 148, 'lightly': 1214, 'color': 92, 'mcg': 1607, 'pinch': 135, 'horrid': 143, 'testing': 53, 'users': 1160, 'choices': 298, 'laxative': 760, 'dried': 367, 'lortab': 3, '600mg': 341, 'runny': 339, 'esteem': 288, 'bottles': 1409, 'liletta': 99, 'reported': 343, 'laxatives': 760, 'clinical': 1406, 'particularly': 1425, 'dull': 1367, 'bowels': 155, 'supplement': 240, 'act': 786, 'overly': 351, 'lumbar': 551, 'voice': 227, 'godsend': 1074, 'continuous': 984, 'fewer': 686, 'portions': 1096, 'watery': 155, 'learn': 1027, 'improving': 297, 'stimulant': 735, 'walked': 426, 'stones': 1275, 'bunch': 44, 'dollars': 1560, 'catch': 1565, 'dependent': 801, 'spoke': 394, 'wrote': 38, 'chemical': 1236, 'continuously': 534, 'overwhelming': 755, 'game': 1074, 'gentle': 1290, 'swear': 302, 'persistent': 806, 'disorders': 1125, 'outs': 1655, 'couch': 466, 'pregnancies': 1177, 'road': 773, 'amoxicillin': 177, 'beats': 145, 'proper': 939, 'minimum': 939, 'nexium': 467, 'amazingly': 73, 'tegretol': 723, 'prostate': 1558, 'prevented': 104, '8mg': 530, '2007': 488, 'exhaustion': 1095, 'depends': 906, 'cleaned': 33, 'therapist': 322, 'complications': 431, 'rashes': 1066, 'admitted': 1346, 'cardiologist': 403, 'resort': 763, 'according': 591, 'doubled': 1613, 'bonus': 348, 'stars': 328, 'remain': 505, 'carb': 267, 'shift': 472, 'tapering': 68, 'screaming': 967, 'rested': 1087, 'fan': 1186, 'sucked': 367, 'points': 130, 'unbelievable': 143, 'forgetting': 990, 'boost': 459, 'erectile': 347, 'numbing': 135, 'resulted': 731, 'addict': 106, 'yawning': 1095, 'uk': 868, 'metabolism': 767, 'gut': 624, 'scar': 568, 'sept': 24, 'performance': 153, 'lift': 905, 'lowering': 483, 'ir': 1183, 'elavil': 1280, 'rated': 328, 'glasses': 1409, 'restroom': 308, 'belsomra': 67, 'device': 301, 'correct': 939, 'visits': 1346, 'scarring': 914, 'lets': 1267, 'drs': 558, 'combat': 887, 'nightly': 1189, 'trazadone': 67, 'toradol': 972, 'tissue': 271, 'concerns': 1338, 'air': 1148, '43': 262, 'freak': 1697, 'probiotics': 378, 'clindamycin': 66, 'kyleena': 99, 'ii': 1220, 'duration': 574, 'events': 1317, 'offered': 399, 'thinning': 369, 'readings': 136, 'sight': 311, '55': 262, 'dentist': 7, 'nonstop': 984, 'surgeon': 7, 'contact': 709, 'junk': 1568, 'puts': 1020, 'fungus': 454, 'yo': 1326, 'piece': 694, 'sweaty': 62, 'aching': 540, '52': 262, 'dosing': 539, 'described': 343, 'docs': 558, 'prevention': 248, 'particular': 1230, 'hypertension': 547, 'copper': 99, 'discount': 498, 'cr': 67, 'twitching': 71, 'prevents': 104, 'benzos': 48, 'fixed': 1504, 'sinuses': 1601, 'holding': 804, 'dad': 524, 'returning': 1600, 'position': 469, 'narcolepsy': 1127, 'units': 130, 'infected': 978, 'thinks': 1686, 'dropping': 931, 'sr': 759, '8th': 14, 'crampy': 168, 'trigger': 1370, 'becomes': 293, 'bruise': 568, 'vitamins': 378, 'purchased': 273, 'sinusitis': 1167, 'cell': 232, 'minastrin': 707, 'relapse': 1054, 'invokana': 407, 'receive': 1309, '85': 1503, 'rheumatologist': 403, 'l5': 551, '47': 262, 'optimistic': 1207, 'itchiness': 732, 'correctly': 563, 'embarrassed': 549, 'prescriptions': 1286, 'cluster': 658, 'yay': 1265, 'oct': 24, 'pen': 135, 'jump': 476, 'peace': 1323, 'referred': 842, 'relationships': 36, 'interested': 311, 'shape': 194, 'resistant': 356, 'bothered': 629, 'pump': 1065, 'moments': 368, 'vacation': 605, '20lbs': 140, 'eliminate': 397, 'digestive': 1450, 'girlfriend': 362, '3mg': 1633, 'tapered': 68, 'powerful': 720, 'breastfeeding': 675, 'journey': 795, 'lessen': 1179, 'salty': 1016, 'duac': 833, 'million': 571, 'heating': 1448, 'warn': 82, 'poop': 1678, 'harsh': 42, 'pushed': 1123, 'g': 1185, 'swell': 1646, 'syrup': 1016, 'rebound': 1377, 'forms': 864, 'longest': 544, 'differin': 833, '44': 262, 'fibro': 1173, 'twenty': 933, 'finger': 436, 'coverage': 316, 'clock': 1268, 'suck': 1646, 'noted': 343, 'radiation': 642, 'trade': 1042, 'determined': 146, 'sober': 1151, 'power': 1310, 'killer': 305, 'drawback': 189, 'v': 359, 'fluids': 20, 'flavor': 1016, 'risperdal': 1010, 'injected': 716, 'gross': 631, 'book': 117, 'urologist': 403, 'lethargy': 1095, 'voltaren': 997, 'shock': 1002, 'r': 1185, 'increases': 1476, 'outbreaks': 233, 'recall': 849, 'cheek': 739, 'stenosis': 119, 'majority': 1403, 'probiotic': 378, 'yellow': 440, 'enjoyed': 376, 'crash': 831, 'tasting': 112, 'cases': 19, 'ointment': 303, 'companies': 915, 'rapidly': 655, 'conscious': 288, 'split': 601, 'beforehand': 338, 'saving': 238, 'lying': 390, 'question': 740, 'pro': 189, '46': 262, 'zits': 233, 'cramped': 612, 'joke': 379, 'occasion': 704, 'action': 1554, 'rescue': 662, 'copaxone': 1163, 'con': 189, 'reduces': 1476, 'lorazepam': 1197, 'diflucan': 1056, 'retin': 833, 'focalin': 183, 'bydureon': 495, 'kidneys': 10, 'playing': 724, 'receiving': 86, 'tremendous': 70, 'requip': 673, 'relpax': 1335, 'breaks': 1561, 'pants': 663, 'pure': 384, 'wall': 908, 'stabilized': 216, 'immensely': 377, 'fertile': 504, 'lamotrigine': 625, 'final': 137, 'length': 574, 'til': 161, 'bf': 362, 'clot': 132, 'calcium': 879, 'bulging': 551, 'ejaculation': 1435, 'urgency': 1677, 'bumped': 1026, 'portion': 1096, 'reglan': 330, 'hiv': 201, 'met': 580, 'bump': 1646, 'mildly': 121, '41': 262, 'settled': 845, 'covering': 668, 'lows': 1137, 'lantus': 385, 'downs': 1122, '1000mg': 341, 'ct': 53, 'amitiza': 415, '39': 262, 'nature': 611, 'released': 716, 'labor': 595, 'removing': 913, 'benzo': 39, 'oxy': 3, 'sneezing': 339, 'lady': 892, 'motrin': 1142, 'cognitive': 1281, 'downfall': 189, 'intrusive': 408, 'posts': 545, 'considerably': 1494, 'shut': 1515, 'appear': 1426, 'buying': 273, 'pink': 440, 'progressively': 714, 'gynecologist': 1312, 'heartbeat': 1598, 'risks': 1338, 'psa': 307, 'drip': 1324, 'avail': 379, 'somehow': 258, 'mucus': 144, 'advair': 61, 'minocycline': 66, 'classes': 428, 'paraguard': 99, 'cardio': 72, 'protected': 815, 'limit': 363, 'mobic': 997, 'functional': 90, 'sorts': 621, 'escitalopram': 235, 'regardless': 604, 'bay': 637, 'percent': 130, 'dosages': 539, '30am': 559, 'factor': 619, 'gildess': 231, 'bystolic': 1011, 'calms': 87, 'lazy': 391, '4x': 423, 'eased': 1511, 'alleviate': 1179, 'ordered': 38, 'unpredictable': 395, 'inflamed': 774, 'kicks': 1206, 'flares': 1122, 'daytime': 357, '30pm': 559, '9th': 14, 'speech': 728, 'forth': 812, 'achy': 50, 'tv': 665, 'plain': 319, 'resolved': 1504, 'counting': 1400, 'teens': 289, 'dairy': 371, 'medicare': 316, 'bothersome': 1419, 'stinging': 732, 'fasting': 389, 'beer': 185, 'unsure': 671, 'decreasing': 483, 'mini': 514, 'cortisone': 380, 'knocks': 33, 'triggered': 302, 'borderline': 593, 'drastic': 985, 'allegra': 1479, 'event': 1054, 'swallowing': 1079, 'champix': 299, 'raw': 110, 'postpartum': 687, 'happiness': 1323, 'forgetful': 172, 'drying': 367, 'leading': 1026, 'appears': 1112, 'ovaries': 606, 'fortunately': 696, 'smallest': 314, 'favorite': 162, 'drove': 226, 'chocolate': 371, 'spasm': 406, 'roller': 513, 'green': 371, 'dieting': 171, 'hoped': 729, 'skipped': 899, 'bodies': 1695, 'sleeplessness': 357, 'shirts': 141, 'chicken': 371, 'lupus': 1124, 'odor': 1051, 'trintellix': 1158, 'dehydrated': 1017, 'importantly': 1039, 'ed': 347, 'forming': 1395, 'urinating': 1079, 'worsening': 869, 'speed': 285, 'sometime': 1491, 'cleaning': 277, 'tells': 290, 'rushed': 1346, 'z': 432, 'stuffy': 339, 'midnight': 518, 'pushing': 1123, 'psychosis': 1673, 'phase': 1054, 'anytime': 854, 'drugged': 1339, 'unhappy': 546, 'researched': 747, 'resulting': 1003, 'provide': 482, '5lbs': 140, 'lifting': 905, 'reluctant': 199, 'shingles': 1025, 'professional': 1166, 'cvs': 292, 'compare': 125, 'involved': 462, 'singulair': 61, 'benicar': 493, 'spring': 282, 'lesions': 233, 'atrial': 547, 'vs': 1047, 'pap': 1058, 'coaster': 513, 'nicotine': 388, '53': 262, 'researching': 747, 'indigestion': 197, 'dehydration': 17, 'center': 111, 'sleepless': 206, '250mg': 341, 'orange': 630, 'ugh': 870, 'h': 116, '2000': 6, 'childhood': 289, 'starter': 432, '30lbs': 140, 'shame': 1363, 'egg': 250, 'damn': 565, 'battle': 1219, 'fioricet': 1335, 'gatorade': 20, 'outlook': 705, '10th': 14, 'irritating': 1419, 'infusions': 310, 'ends': 15, 'intolerable': 143, 'relieves': 1641, 'aura': 1377, 'usage': 222, 'vengeance': 1657, 'laugh': 814, 'subutex': 653, 'endo': 7, 'epilepsy': 1544, 'sluggish': 69, 'repeat': 1309, 'suffers': 579, 'stabbing': 1144, 'inject': 1345, 'wanna': 1344, 'reclipsen': 499, 'metoprolol': 1011, 'garbage': 1564, 'positives': 907, 'nervousness': 357, 'dog': 165, 'progesterone': 514, 'ugly': 425, 'harm': 288, 'partial': 1184, 'whilst': 690, 'wrist': 178, '170': 88, 'lab': 780, 'settle': 1515, 'showing': 592, 'byetta': 407, 'vistaril': 1197, 'unwanted': 1233, 'bath': 1148, 'breeze': 1074, 'milligrams': 1607, 'useful': 366, 'jawline': 750, 'hypercare': 1211, 'swelled': 15, 'suppressed': 230, 'destroyed': 49, 'mo': 176, 'uncontrollably': 247, 'blackheads': 233, 'insisted': 884, 'beta': 85, 'confirmed': 146, 'tip': 694, 'recommendation': 1117, 'accompanied': 302, 'salt': 20, 'density': 1438, 'ultimately': 258, 'label': 1042, 'ingredients': 517, 'brings': 87, 'searching': 1169, 'info': 405, 'tingle': 1572, 'effected': 1008, 'weather': 1147, 'inflammatory': 275, 'stairs': 285, 'washing': 936, 'appt': 217, 'hole': 773, 'blister': 739, 'afterward': 1108, 'copd': 418, 'package': 691, 'elbows': 436, '15lbs': 140, 'travel': 1268, 'jitters': 357, 'serotonin': 1420, 'obvious': 103, 'ginger': 20, 'exception': 1188, 'campral': 254, 'lives': 36, 'thumbs': 15, '54': 262, 'placement': 913, 'shooting': 1144, 'urges': 1210, 'overwhelmed': 208, 'misery': 384, 'successfully': 1661, 'alarm': 158, 'sedation': 627, 'pricey': 523, 'fits': 1452, 'discuss': 709, 'derm': 403, 'crestor': 11, 'content': 411, 'plaquenil': 1228, 'prolonged': 1616, 'curb': 1482, 'thighs': 436, 'assume': 261, 'bite': 694, 'held': 804, 'orsythia': 499, 'attribute': 125, 'monitor': 1109, 'nortriptyline': 1280, 'stelara': 100, 'relieving': 1605, 'diazepam': 1197, 'loosing': 500, 'bar': 694, 'stabilizer': 216, 'anemic': 1287, 'directly': 1130, 'gastric': 1450, 'touched': 1583, '49': 262, 'joy': 1323, 'task': 1432, 'fault': 1128, 'phenergan': 330, 'baclofen': 218, 'assured': 290, 'intensity': 574, 'generics': 517, 'brother': 524, 'sodium': 880, 'vimpat': 723, 'seek': 344, 'cocktail': 1188, 'torture': 384, 'appeared': 1426, 'annoyed': 1666, 'medicated': 1287, 'specifically': 1230, 'recover': 122, 'recovering': 122, 'anemia': 1198, 'thigh': 286, 'rush': 865, 'polycystic': 25, 'convenience': 1410, 'sensations': 1006, 'via': 429, 'solved': 1504, 'reality': 1323, 'laughing': 577, 'discontinuing': 947, 'wound': 15, 'apple': 20, 'exam': 381, 'heads': 233, '145': 88, 'raise': 74, 'frame': 1157, 'ruining': 779, 'fruit': 371, 'progressed': 1600, 'intended': 1654, 'contin': 1183, 'bread': 371, 'calming': 735, '115': 88, 'fail': 921, 'reliever': 305, 'shows': 592, 'hydrated': 637, 'fibrillation': 547, 'individual': 93, 'respond': 786, 'wk': 176, 'dexilant': 415, 'bitter': 1319, 'uses': 1649, 'packet': 691, 'series': 813, 'noticeably': 1494, 'exercised': 333, 'strict': 874, 'regarding': 23, 'metronidazole': 177, 'career': 36, 'replace': 200, 'trileptal': 625, 'christmas': 996, 'endocrinologist': 898, 'loopy': 69, '10pm': 518, 'drained': 1009, 'grand': 1184, 'increasingly': 714, 'strep': 1167, 'librium': 254, '09': 331, '56': 262, 'hardest': 162, 'miracles': 73, 'predictable': 395, 'sedating': 735, 'breakdown': 327, '51': 262, 'everytime': 587, 'business': 1619, 'promise': 468, 'propofol': 1604, 'contractions': 679, 'root': 726, 'dexedrine': 805, 'puberty': 289, 'asacol': 983, 'states': 855, 'mirapex': 673, '1x': 423, 'sizes': 1409, 'opened': 219, 'somewhere': 1550, 'atripla': 204, 'formula': 439, 'rehab': 1386, 'aids': 1110, 'intestinal': 624, 'refuse': 677, 'itched': 1664, 'inches': 928, 'bless': 242, 'tubes': 1546, 'nsaids': 338, 'loud': 1217, 'throbbing': 1367, 'apparent': 103, 'gallbladder': 961, 'slipped': 835, 'shirt': 141, 'example': 158, '8pm': 55, '62': 16, '2006': 488, 'stretch': 1295, 'benzodiazepines': 48, 'countless': 191, 'quicker': 256, 'flushes': 364, 'letting': 793, 'meaning': 1617, 'studies': 1663, 'specific': 1230, 'itches': 272, 'achieve': 207, 'dread': 755, 'citrate': 1693, 'window': 165, 'focusing': 1079, 'created': 962, 'training': 72, 'fifth': 137, 'intuniv': 183, 'irrational': 755, 'neuralgia': 1003, 'torn': 192, 'burst': 1118, 'race': 858, 'perform': 447, 'assistance': 566, 'doxy': 66, 'begun': 1537, '2005': 488, 'homework': 1221, 'accept': 1562, 'alright': 878, 'nonexistent': 980, 'temperature': 1392, 'wipes': 284, 'androgel': 701, 'depressing': 632, 'ball': 1522, 'luvox': 492, 'blisovi': 707, '20s': 979, 'pulmonary': 102, 'warts': 233, 'aug': 24, 'atenolol': 1011, '58': 262, 'tunnel': 1195, 'tachycardia': 547, 'remaining': 1437, 'highs': 1137, 'armpits': 641, 'excedrin': 248, '5pm': 55, 'triggers': 1125, 'tremor': 357, 'smells': 112, 'cherry': 1016, 'lialda': 983, 'uterine': 1198, 'closed': 219, 'variety': 142, 'januvia': 1278, 'powder': 630, 'affordable': 523, 'ulcers': 31, 'adjustment': 1616, 'decade': 107, 'tingly': 1572, 'prilosec': 467, 'solodyn': 66, 'parenthood': 1366, 'forgotten': 237, 'fresh': 319, 'agoraphobia': 75, 'worsen': 1370, 'sedated': 69, 'hide': 1171, 'complex': 507, 'thirst': 1095, 'zyban': 299, 'excess': 317, 'discouraged': 5, 'tinnitus': 17, 'flawless': 911, 'hypothyroidism': 1544, 'halfway': 581, 'extent': 756, 'group': 1166, 'popping': 15, 'suggestion': 463, 'moderately': 249, 'mos': 176, 'spaced': 354, 'swing': 216, '57': 262, 'emotion': 28, 'comfort': 975, 'decades': 1307, 'xulane': 885, 'awoke': 1360, 'sclerosis': 1242, 'wedding': 996, '4am': 518, 'pores': 914, 'ceased': 84, 'maintaining': 220, 'steadily': 741, 'recurring': 1014, 'incontinence': 1677, 'havent': 790, 'sting': 135, 'terrifying': 1475, 'ulcerative': 418, 'blocker': 85, 'hydroxyzine': 1197, 'suspect': 1638, 'possibility': 800, 'shopping': 63, '6pm': 55, 'comparison': 1071, 'brilliant': 97, 'moviprep': 180, 'granted': 1525, 'fibroids': 1198, 'interesting': 1390, 'tretinoin': 833, 'spironolactone': 66, 'sufferer': 579, 'evra': 182, 'nursing': 895, 'thinner': 132, 'greasy': 896, 'error': 1406, 'drinker': 430, 'faded': 837, 'opioid': 1407, 'questions': 405, 'stressing': 1697, 'remind': 383, 'naps': 688, 'washed': 648, 'outbursts': 252, 'jumped': 426, 'waves': 368, 'dependency': 452, 'nope': 1471, 'fade': 837, 'opposed': 205, 'beneficial': 366, 'fetzima': 1158, 'administered': 716, 'doesnt': 1520, 'upping': 483, 'alprazolam': 706, 'symbicort': 61, 'lolo': 885, 'vanished': 84, 'liquids': 20, 'flush': 648, 'leveled': 354, 'requires': 1251, 'edema': 1025, 'xarelto': 490, 'ldl': 1194, 'ovary': 606, 'kills': 1641, 'occurs': 1182, 'backed': 1026, 'worn': 639, 'nuts': 1175, 'quiet': 708, 'potassium': 880, 'beating': 858, 'reliable': 255, 'dilantin': 723, 'resistance': 1234, 'accidents': 431, 'flight': 1274, '98': 1503, '135': 88, 'deplin': 625, 'hassle': 115, 'requested': 38, 'plans': 1643, 'mal': 1184, 'btw': 1326, 'miscarriage': 746, 'pattern': 1110, 'span': 1157, 'clotting': 132, 'cautious': 5, 'allowing': 1020, 'seasonal': 593, 'outcome': 816, 'door': 165, 'tumors': 660, 'claritin': 1479, 'written': 963, 'quetiapine': 170, 'axiron': 701, 'explosive': 1467, 'tall': 363, 'mirror': 1472, 'fuller': 564, 'wheezing': 981, 'tops': 141, 'realizing': 761, 'wasted': 515, 'cycling': 1534, 'fed': 1026, 'plastic': 1130, 'grogginess': 993, 'surprisingly': 1046, 'complained': 826, 'cranky': 172, 'battled': 179, 'brief': 922, 'introduced': 399, 'conversation': 1432, 'promised': 290, 'relaxer': 406, 'skinny': 1287, '9pm': 518, 'decisions': 298, 'dermatitis': 920, 'assumed': 596, 'wisdom': 726, 'sip': 20, 'fiance': 362, 'section': 283, 'thirty': 933, 'preventative': 1285, 'delayed': 1004, 'worker': 852, 'greatest': 162, 'tense': 62, 'internal': 771, 'testim': 701, 'surely': 1458, 'rounds': 813, 'tics': 840, 'gastrointestinal': 1450, '08': 331, 'chair': 561, 'peel': 896, 'attempts': 1547, 'obese': 1287, '05': 1483, 'zomig': 248, 'learning': 1075, 'fuzzy': 818, 'veggies': 371, 'heck': 133, 'cells': 768, 'google': 791, 'efficacy': 481, 'accidentally': 1414, 'believed': 166, 'slightest': 314, 'folks': 560, 'attributed': 280, 'osteoporosis': 300, 'visited': 38, 'ounces': 1409, 'mononessa': 499, 'sites': 1484, 'require': 101, '2004': 488, '120mg': 295, 'teacher': 210, 'wasnt': 278, 'subsides': 1574, 'deciding': 494, 'tear': 9, 'damaged': 660, 'encourage': 264, 'slower': 256, 'blessed': 546, 'terrors': 206, 'alcoholic': 1571, 'shrink': 7, 'diovan': 1011, 'metal': 1319, 'season': 282, 'cat': 53, 'paper': 665, 'overcome': 1196, 'levothyroxine': 681, 'euflexxa': 380, 'strain': 1681, 'remains': 964, 'euphoria': 865, 'bypass': 429, 'loves': 324, 'painkillers': 653, 'special': 566, 'fabulous': 97, 'dental': 726, 'chances': 800, 'bleeds': 339, 'losartan': 1011, 'ovule': 250, 'steps': 872, '7pm': 55, 'blocked': 1449, 'mdd': 496, '3am': 518, 'psoriatic': 416, 'sports': 724, 'demerol': 622, 'disabled': 910, 'peripheral': 1025, 'inactive': 440, 'visible': 425, 'snacks': 371, 'ml': 130, 'topiramate': 1280, 'couldnt': 628, 'clenching': 474, 'maintained': 1041, 'ongoing': 91, 'tends': 554, 'acetaminophen': 338, 'chilled': 214, 'relaxers': 406, 'practice': 1166, 'auto': 1681, 'expense': 1560, 'remedy': 1055, 'albuterol': 662, 'xyzal': 309, 'butrans': 982, 'lining': 271, 'suggestions': 1670, 'interactions': 287, 'temper': 1478, 'cap': 1130, 'oncologist': 403, 'visual': 903, 'dissolve': 234, 'tysabri': 1163, 'rely': 1487, 'hits': 1182, 'imbalance': 1244, 'smart': 5, 'thrush': 1141, 'desk': 296, 'attempted': 945, 'worthless': 208, 'enzymes': 1194, 'ablation': 381, 'purchase': 273, 'applicator': 250, 'bruised': 568, 'smile': 1432, 'risperidone': 1010, 'route': 1362, 'hitting': 929, 'candy': 185, 'ulcer': 771, 'unexpected': 1390, 'weekends': 704, 'appreciate': 995, 'peroxide': 1072, 'esophagus': 31, 'medium': 893, 'zantac': 259, 'snap': 814, 'inner': 286, 'l4': 551, 'movantik': 415, 'unknown': 91, 'apnea': 1110, 'sooo': 184, 'energized': 1087, 'flonase': 940, 'toenail': 454, 'warnings': 1338, 'managing': 1605, 'pharmaceutical': 1098, 'alternatives': 1286, 'cetaphil': 190, 'men': 560, 'idk': 480, 'tips': 545, '175': 88, 'block': 1358, 'lightened': 635, 'weights': 72, '63': 262, 'jolessa': 885, 'cystitis': 1506, 'sciatic': 551, 'divorce': 36, 'schizophrenia': 108, 'buspirone': 235, 'wiped': 354, 'labs': 53, 'brutal': 143, 'table': 466, 'wind': 285, 'waist': 928, 'ingredient': 517, 'lidocaine': 982, 'sanity': 36, 'presentation': 1274, 'skipping': 536, 'stubborn': 42, 'kariva': 885, 'bag': 694, 'rod': 301, '2am': 518, 'cups': 1409, 'menopausal': 1069, 'guessing': 1418, 'triglycerides': 1194, 'stimulants': 48, 'practitioner': 403, 'packaging': 919, 'checking': 1123, 'diverticulitis': 418, 'win': 1074, 'mass': 71, 'violently': 1068, 'request': 709, 'fears': 1036, 'inhalers': 662, 'greater': 486, 'popped': 15, 'ejaculate': 207, 'nobody': 992, 'hence': 1639, 'genetic': 780, 'sky': 1231, 'kicking': 1206, 'cloud': 1323, 'aspect': 1077, 's1': 551, 'shed': 334, 'paroxetine': 492, 'statins': 48, 'tendon': 178, 'canada': 868, 'invega': 1010, 'produce': 1316, 'va': 828, 'clarity': 459, 'transplant': 1275, 'naltrexone': 254, 'evenings': 269, 'improves': 1476, 'separate': 813, 'ex': 1383, 'psychological': 323, 'toll': 1554, 'underwear': 663, 'among': 843, 'lights': 908, '190': 88, 'zarah': 848, 'delusions': 1673, 'opioids': 653, 'stabilize': 216, 'fainting': 1382, '59': 262, 'tolerated': 485, 'interaction': 287, 'levitra': 511, 'assuming': 1418, 'retired': 394, 'essentially': 998, 'herpes': 1269, 'base': 1035, 'dilated': 774, 'semi': 249, 'plaque': 30, 'therapeutic': 939, 'lymph': 1106, 'liners': 508, 'rub': 1130, 'diarrhoea': 197, 'building': 1634, 'whereas': 1274, 'offer': 482, '00am': 559, 'haha': 1471, 'clockwork': 382, 'unmotivated': 172, 'yoga': 1477, 'injuries': 192, 'walls': 908, 'marked': 718, 'opening': 219, 'counteract': 887, 'operation': 381, 'pinched': 551, '00pm': 559, 'wipe': 648, 'primarily': 1060, 'synvisc': 380, 'birthcontrol': 520, 'diff': 283, '6am': 518, 'xolair': 100, 'amlodipine': 1011, 'carefully': 657, 'chateal': 499, 'reaching': 1079, 'sized': 1396, 'sharing': 77, 'provider': 403, 'penicillin': 598, 'cryselle': 499, 'patterns': 1110, 'avoided': 941, 'understanding': 591, 'chemotherapy': 642, 'fading': 837, 'ambulance': 898, 'mylan': 894, 'indeed': 1654, 'simponi': 100, 'thrown': 15, 'ruin': 1078, 'contacted': 38, 'gallon': 20, 'reviewers': 1160, 'watched': 1109, 'anesthesia': 1604, 'ween': 68, 'perscribed': 399, 'titrated': 479, 'unfortunate': 632, 'fish': 371, 'euphoric': 69, 'university': 1191, 'heaviest': 1232, 'ale': 20, 'abscess': 726, 'heaven': 370, 'app': 733, 'viberzi': 415, 'pulling': 835, 'closer': 638, 'cotton': 672, 'starving': 1287, 'definite': 985, 'suppress': 1482, 'avoiding': 1644, 'posting': 77, 'verge': 1209, 'easiest': 162, 'provides': 778, 'falls': 835, 'f': 1115, 'brush': 1428, 'alli': 415, 'grocery': 63, 'themselves': 915, 'fifteen': 933, 'lipitor': 11, 'opted': 1149, 'pradaxa': 490, 'trauma': 154, 'holy': 1229, 'whiteheads': 233, 'flushed': 476, 'blow': 1646, 'rexulti': 625, 'fridge': 214, 'existing': 91, 'space': 18, 'surgical': 1681, 'savings': 498, 'chapped': 896, 'burping': 1467, 'fainted': 757, 'delivery': 1314, 'peeing': 623, 'proactive': 167, 'hubby': 362, 'soap': 284, 'concentrating': 1079, 'regime': 832, 'toward': 442, 'bloat': 1440, 'zolpidem': 67, 'himself': 799, 'frustration': 755, 'roll': 773, '105': 88, 'senior': 620, 'panicked': 1145, 'crawling': 476, 'grape': 1016, 'wild': 342, 'zubsolv': 827, 'bear': 765, 'cross': 783, 'cipralex': 1350, 'ideal': 1429, '6mg': 1633, 'bloody': 339, 'landed': 1346, 'endoscopy': 381, 'page': 281, 'noise': 1217, 'birthday': 996, 'gag': 867, 'miraculous': 1334, 'psychologist': 322, '350': 776, 'scans': 53, 'factors': 274, 'reacted': 164, 'fortunate': 538, 'elbow': 178, 'costly': 523, 'flaky': 896, 'ribs': 178, 'proud': 89, 'fallen': 835, 'psychiatric': 111, 'intermittent': 1439, 'passes': 1574, 'bend': 510, 'inderal': 1280, 'temazepam': 67, 'upside': 845, 'country': 449, '66': 262, 'subtle': 735, 'resting': 1598, 'overactive': 961, 'faith': 311, 'menstruation': 460, 'curious': 671, 'excessively': 521, 'avelox': 94, 'explode': 666, 'penis': 739, 'wrists': 953, 'seeking': 344, 'disability': 910, 'jobs': 1619, 'computer': 665, 'oxygen': 662, 'b12': 879, 'teenage': 203, 'tool': 1166, 'scratch': 110, 'mile': 872, 'prescribes': 360, 'ad': 39, 'remembered': 761, 'remarkable': 718, 'protonix': 467, 'lifetime': 142, 'silenor': 67, 'sought': 344, 'cbt': 120, 'persisted': 84, 'impulsive': 1258, 'outweighed': 270, 'score': 328, 'tone': 911, 'cleanser': 190, 'aubra': 885, 'cake': 694, 'transition': 548, 'suspected': 146, 'twelve': 51, 'antihistamine': 348, 'spiriva': 61, 'degrees': 412, 'vary': 588, 'welbutrin': 1350, 'suppository': 250, 'temporarily': 1179, 'watchers': 1041, 'chemistry': 443, 'sips': 20, 'meet': 82, 'rubbish': 1005, 'sticky': 896, 'heightened': 1466, 'enemy': 876, 'zone': 446, 'commented': 21, 'bringing': 435, 'shrunk': 1454, 'pays': 1113, 'listened': 842, 'blemishes': 233, 'snacking': 1568, 'bothers': 629, 'antipsychotics': 48, 'withdraw': 548, 'gastro': 1450, 'wired': 1339, 'pa': 403, 'laser': 497, '12th': 698, 'op': 687, 'doxepin': 67, 'equivalent': 1682, 'zanaflex': 218, 'gums': 734, 'measure': 674, 'dries': 367, 'lumps': 1698, 'standard': 467, 'crappy': 69, 'toxic': 720, 'pancreatitis': 102, 'sold': 1216, 'dreadful': 143, '4pm': 55, 'bmi': 363, 'googled': 747, 'downsides': 365, 'restasis': 1352, 'disk': 551, 'lightheadedness': 1095, '7am': 55, 'played': 193, 'benzoyl': 1072, 'gassy': 168, 'tad': 608, 'unstable': 78, 'raging': 1498, '450': 6, 'toenails': 454, 'meloxicam': 997, 'premarin': 398, 'orders': 1117, 'warfarin': 490, 'meat': 371, 'ridiculously': 537, 'ziana': 833, 'officially': 1544, 'clue': 379, 'woken': 897, 'complexion': 1085, 'fatty': 614, 'phobia': 75, 'biopsy': 53, 'suppositories': 167, 'sedative': 735, 'inch': 26, 'produced': 1316, 'phlegm': 144, 'fought': 179, 'begins': 293, '900': 6, 'chlamydia': 1141, 'chill': 214, 'search': 1169, 'disturbing': 342, '64': 262, 'ds': 177, 'aggression': 76, 'id': 1355, '61': 262, 'failing': 895, 'consult': 709, 'temp': 1392, 'ruptured': 551, 'eater': 430, 'supposedly': 889, 'outgoing': 708, '220': 88, 'pins': 1572, 'headedness': 1195, 'lingering': 966, 'deeply': 391, 'trigeminal': 1003, 'happily': 1289, 'bites': 987, 'antipsychotic': 348, 'ur': 960, 'vaginitis': 484, 'traveling': 948, '11th': 14, 'town': 449, 'downhill': 434, '165': 88, 'dependence': 452, 'discussed': 394, 'partum': 687, 'approval': 566, 'enlarged': 181, 'u2019t': 697, 'hooked': 1026, 'style': 246, 'coping': 153, 'ultra': 1571, 'profusely': 521, 'disoriented': 62, 'soooo': 184, 'lighten': 186, 'bowl': 694, 'hat': 296, '15th': 698, 'restful': 713, 'generess': 1430, 'law': 193, 'monster': 464, 'essential': 611, 'band': 742, 'unwell': 69, 'lowers': 1476, 'surface': 95, 'disaster': 1074, 'clogged': 1449, 'bizarre': 342, 'loads': 44, 'benign': 1558, 'fruits': 371, 'military': 462, 'bra': 663, 'proven': 1509, 'eggs': 371, 'recovered': 122, 'production': 583, 'snri': 39, 'panicking': 1208, 'shown': 1509, 'board': 281, 'vesicare': 673, 'permanently': 910, 'height': 363, 'neuro': 403, 'bug': 265, 'lord': 370, 'arrived': 615, 'numbed': 674, '10x': 1266, '11pm': 518, 'bph': 1558, '225': 1483, 'layer': 4, 'trials': 659, 'monitoring': 709, 'trash': 1564, 'adhesive': 477, 'sumatriptan': 1335, 'contributed': 280, 'gotta': 1267, 'skelaxin': 218, 'answers': 405, 'interferon': 924, 'la': 805, 'regulating': 186, 'relapsed': 1552, 'indicated': 146, 'pylori': 116, 'penny': 1062, 'aa': 120, 'gilenya': 1163, 'stream': 132, '2001': 488, 'picking': 15, 'bike': 711, 'restoril': 67, 'flash': 364, 'draw': 812, 'rinse': 648, 'determine': 480, 'calls': 360, 'slip': 1018, '3pm': 55, 'injecting': 1345, '8am': 55, 'spinning': 60, 'necessarily': 501, 'boom': 1441, 'carried': 426, 'sub': 622, 'sronyx': 499, 'titration': 432, 'portia': 848, 'express': 1416, 'substance': 1407, 'touching': 934, 'meetings': 215, 'australia': 868, 'reasonable': 1256, 'graduated': 895, 'safer': 486, 'athlete': 1571, 'jumping': 908, 'azithromycin': 177, 'encouraged': 290, 'quarter': 1007, 'scream': 225, 'plateau': 171, 'forum': 281, 'utis': 484, 'dreaded': 1293, 'protect': 1462, 'encountered': 862, 'lil': 608, 'puking': 969, 'religiously': 692, 'dot': 113, 'ward': 550, 'tmj': 1003, 'tied': 1546, 'breo': 61, 'minimize': 1179, 'blockers': 85, 'difficulties': 603, 'beautifully': 73, 'gradual': 985, 'pieces': 1409, 'mixture': 20, 'whoever': 79, 'stribild': 204, 'diclofenac': 218, 'pharmacies': 292, 'plate': 1096, '40lbs': 140, 'nurses': 828, 'hundreds': 1200, 'proved': 1509, 'cord': 1681, 'cracked': 734, '5am': 518, 'interstitial': 1506, 'ridden': 390, '30th': 698, '68': 16, '30s': 979, '240': 1483, 'swimming': 1064, 'bentyl': 415, 'string': 1398, 'softener': 760, 'apprehensive': 199, 'treximet': 248, 'xiidra': 1352, 'norvasc': 1011, 'clomid': 398, 'cheese': 371, 'train': 27, 'cardiac': 102, 'gall': 961, 'timing': 683, 'rip': 414, 'vl': 336, 'prepopik': 180, 'azor': 493, 'cuts': 845, '1500': 776, 'ages': 1307, 'diets': 497, 'atarax': 1197, 'procedures': 1242, 'street': 773, 'queasy': 1017, 'additionally': 1558, 'prepare': 1365, 'negatively': 1595, '290': 1483, 'consumed': 302, 'wood': 1516, 'nodes': 1106, 'troubles': 1045, 'address': 23, 'ignore': 1196, 'shedding': 369, 'fianc': 362, 'socially': 708, 'freshman': 620, 'responsible': 784, 'cruise': 605, 'fiorinal': 1335, 'blah': 69, 'debating': 553, 'enema': 47, 'afib': 547, 'underlying': 91, 'biaxin': 177, 'nicely': 655, 'former': 852, 'previfem': 1413, 'alternate': 719, 'courage': 1026, 'addicting': 720, 'smiling': 577, 'interact': 923, 'implantation': 34, 'avonex': 1163, 'autoimmune': 91, '911': 1030, 'minus': 1082, 'commit': 1073, 'tempered': 1478, 'ect': 191, 'uc': 418, 'versus': 1047, 'continually': 1227, 'holiday': 605, 'tree': 583, 'hyperhidrosis': 920, 'curbed': 230, 'government': 32, 'gagging': 968, 'closely': 657, 'scoliosis': 119, 'preparation': 180, 'sour': 265, 'impacted': 1008, 'genuinely': 1342, 'sufferers': 19, 'palms': 641, 'hopelessness': 755, 'conversations': 1432, 'begged': 884, 'hct': 493, 'vivitrol': 825, 'flared': 15, 'newer': 575, 'heaviness': 540, 'cuz': 1292, 'alleviated': 84, 'treadmill': 711, 'meditation': 1477, 'conceive': 1073, 'matters': 298, 'disappointing': 159, 'ps': 1348, 'resolve': 23, 'complera': 204, 'lamisil': 810, 'sounded': 457, 'evil': 1523, 't3': 880, 'nipples': 753, 'contraceptives': 520, 'kg': 1301, 'tsh': 307, 'likes': 324, 'intimate': 1383, 'refills': 353, 'scratching': 110, '2003': 488, 'undiagnosed': 1578, 'soolantra': 810, 'ent': 898, 'recognize': 609, 'salad': 371, 'fitness': 970, 'bcp': 520, 'thanksgiving': 996, 'sheets': 1371, 'committed': 945, 'panicky': 391, '17th': 698, 'calf': 393, 'purple': 440, 'chew': 1375, 'volume': 646, 'slowing': 845, '7lbs': 1401, 'ish': 130, 'freedom': 926, 'potent': 523, 'feedback': 545, 'imodium': 378, 'climax': 207, 'fearful': 1145, 'secondary': 935, 'culprit': 619, 'forteo': 398, 'dumb': 1226, 'benzodiazepine': 706, 'loseasonique': 885, 'lesson': 1348, 'concerning': 159, 'veins': 436, 'lyme': 1124, 'machine': 1329, 'comfortably': 1190, 'towel': 651, 'rapaflo': 808, 'favor': 1563, 'vegetables': 371, 'charge': 1098, 'prevacid': 467, 'reccomend': 264, 'raising': 483, 'mum': 1541, 'boys': 904, 'pleasantly': 1247, 'bam': 1441, 'carrying': 1241, 'updated': 1289, 'twenties': 979, '2pm': 55, 'bare': 765, 'outrageous': 1470, 'rhythm': 1099, 'jublia': 810, 'truck': 27, '50lbs': 140, 'bucks': 1560, 'inconvenient': 1419, 'challenge': 925, 'holidays': 1446, 'congested': 339, 'unhealthy': 874, 'substitute': 950, 'latest': 1133, 'hung': 1040, 'ovulated': 504, 'stock': 449, 'shy': 745, 'caring': 787, 'crystal': 1195, 'aggravated': 1666, 'petite': 1287, 'setting': 441, 'coumadin': 490, 'messing': 635, 'hairs': 233, 'movie': 665, 'wakes': 897, 'counseling': 120, 'hospitalization': 547, 'puffy': 774, 'external': 1135, 'shoes': 663, 'cloudy': 818, 'meeting': 580, 'trapped': 1009, 'electric': 1002, 'interfere': 923, 'ella': 851, '8lbs': 1401, 'texture': 425, 'team': 1166, '102': 412, 'xyrem': 1252, 'repeated': 1308, 'substantial': 70, 'extensive': 381, 'safety': 919, 'np': 403, 'fitted': 224, 'residual': 966, 'smoother': 83, 'affective': 159, 'smear': 1058, 'uncontrolled': 1439, 'stages': 979, 'threatening': 246, 'stung': 1664, 'pumps': 22, 'batch': 526, 'adjusts': 576, 'walmart': 292, 'boat': 165, 'lessening': 676, 'pleasure': 975, '06': 331, 'flavored': 630, 'contracted': 1269, 'pentasa': 983, 'private': 828, 'feared': 596, 'vag': 892, 'enjoyable': 8, 'mths': 176, 'grumpy': 172, 'silly': 314, 'functions': 315, 'misdiagnosed': 424, 'leads': 731, 'varying': 939, 'awkward': 1258, 'rule': 133, 'ensure': 941, 'herbal': 497, 'trembling': 1021, '90mg': 295, 'insanely': 1225, 'skills': 153, 'sprays': 940, 'groin': 286, 'pelvis': 178, 'diminish': 588, 'cum': 543, 'reluctantly': 529, 'slows': 87, 'mask': 284, 'spike': 1445, '2002': 488, 'cares': 685, 'twitches': 71, 'keflex': 177, 'tape': 477, 'recurrent': 1014, 'abused': 819, 'acupuncture': 497, 'decreases': 1476, 'hernia': 771, 'stores': 868, 'hill': 845, 'puke': 867, 'monitored': 5, 'circumstances': 246, '6lbs': 1401, 'canal': 726, 'yelling': 814, 'dreaming': 670, 'ignored': 146, '07': 331, 'coupled': 375, 'rebif': 1163, 'walgreens': 292, 'orgasms': 1250, 'spreading': 1495, 'acceptable': 1429, 'crackers': 371, 'sparingly': 695, 'drain': 845, 'consuming': 1353, 'parnate': 1252, 'verapamil': 1280, 'delay': 1492, 'smelling': 1051, 'distress': 1045, 'shall': 148, 'neurological': 91, '750': 1134, 'abruptly': 1213, 'intestines': 31, 'target': 88, 'proof': 604, 'reports': 545, 'paralysis': 1110, 'region': 286, 'mobility': 153, 'workouts': 72, 'aged': 1326, 'connected': 280, 'contacts': 4, 'liking': 546, 'soaked': 1371, 'gladly': 824, 'background': 775, 'wondered': 480, 'allergist': 898, 'formed': 1426, 'ideas': 1670, 'lump': 286, 'shit': 1257, 'pace': 296, 'substantially': 1494, 'stood': 15, 'hdl': 1194, 'frightening': 159, 'consume': 1353, 'exist': 101, 'ha': 651, 'daytrana': 183, '20th': 698, 'endless': 1390, 'idiopathic': 1124, 'dramamine': 12, 'advertised': 1493, 'urticaria': 844, 'tolerant': 801, 'emotionless': 69, 'members': 326, 'suppression': 1237, 'relaxing': 1146, 'relate': 849, 'coil': 301, 'abortion': 158, 'nighttime': 1116, 'gastritis': 1164, 'injured': 1681, 'wicked': 658, 'accepted': 591, '01': 331, 'grinding': 474, 'hanging': 561, 'moisturiser': 190, 'nauseas': 1017, 'obesity': 1090, '19th': 698, 'yearly': 1312, 'bound': 1485, '25lbs': 140, 'elmiron': 983, 'kitchen': 561, 'blocks': 1358, '24hrs': 542, 'flaking': 266, 'underarms': 641, 'doryx': 66, 'gluten': 644, 'sunburn': 883, 'wished': 729, 'crohns': 1124, 'occurring': 579, 'imuran': 983, 'repair': 1681, 'horrifying': 1475, 'def': 797, 'ideation': 1038, 'treats': 1641, '1pm': 55, 'dripping': 228, 'solve': 23, 'inexpensive': 523, 'sulfa': 598, '67': 16, 'bald': 978, 'bothering': 629, 'mixing': 20, 'orthopedic': 7, 'devil': 1523, 'loryna': 848, 'brighter': 83, 'freezing': 1147, 'muscular': 393, 'source': 1380, 'ranging': 548, 'kadian': 3, 'periodically': 991, 'exercises': 1477, 'tirosint': 681, 'hrt': 490, 'commercial': 665, 'stating': 963, 'fractured': 192, 'leakage': 1677, 'considerable': 70, 'distracted': 1666, 'claravis': 1548, 'insides': 64, 'butter': 319, 'forgetfulness': 29, 'genvoya': 204, 'multi': 240, 'robaxin': 218, 'orally': 1056, 'preps': 274, 'false': 1091, 'combinations': 621, 'atypical': 1263, 'lysine': 879, 'limbs': 953, 'path': 795, 'resume': 1196, 'contains': 821, 'nardil': 1158, '28th': 698, 'bedroom': 561, 'counts': 768, 'basic': 1221, 'hysingla': 471, 'safely': 849, 'approve': 783, '210': 88, 'poorly': 1493, 'massage': 497, 'returns': 964, 'peak': 1035, 'fib': 547, 'tracks': 194, 'web': 791, 'bpd': 108, 'plagued': 302, 'dreading': 1306, 'producing': 1241, 'benzaclin': 833, 'finacea': 618, 'zit': 702, 'tamoxifen': 398, 'omeprazole': 467, 'handful': 142, 'vagifem': 701, '225mg': 295, 'restarted': 1552, 'hydrochlorothiazide': 1011, 'cook': 277, 'lemonade': 20, 'coincidence': 1074, 'vraylar': 1010, 'plavix': 490, 'approach': 465, 'hcl': 759, 'diuretic': 85, 'applications': 813, 'physicians': 558, 'drainage': 1601, 'sticks': 1130, 'actos': 407, 'broth': 371, 'welts': 1698, 'stent': 1275, 'soaking': 1371, 'evened': 354, 'heaving': 572, 'eliminates': 1641, 'triumeq': 204, 'mellow': 354, 'unrelated': 91, 'eyelids': 1295, 'environment': 1268, 'pooping': 969, 'vile': 239, 'soo': 184, 'regain': 220, 'pillow': 466, 'pizza': 319, 'shortened': 186, 'sever': 1359, 'despair': 755, 'film': 1130, 'tossing': 823, 'consequences': 2, '16th': 698, 'janumet': 493, 'underweight': 1287, 'thousands': 1200, 'foul': 239, 'cane': 1329, 'acts': 1676, 'cranberry': 251, 'outweighs': 270, 'wary': 5, 'rn': 1571, 'abusing': 152, 'specialists': 1689, 'triple': 429, 'appointments': 1117, 'stains': 1171, 'includes': 1154, 'rise': 1445, 'beside': 383, 'relievers': 305, 'stretching': 1477, 'endured': 862, 'convince': 1073, 'coreg': 1011, 'hyperplasia': 1558, 'annual': 381, 'fracture': 192, 'bullet': 1363, 'curbs': 230, 'newly': 1544, '155': 88, 'judge': 609, 'irritate': 934, 'mode': 75, 'welcome': 718, 'thicker': 369, 'ached': 540, 'behaviors': 1673, 'wishing': 729, 'mrsa': 116, 'retain': 317, 'connection': 298, 'litre': 691, 'crisis': 154, 'genital': 1269, 'hiding': 561, '18th': 698, 'knowledge': 740, 'coconut': 284, 'chores': 1221, 'tearing': 9, 'earth': 64, 'unit': 111, 'tums': 378, 'slim': 1287, 'bs': 1194, 'underarm': 1171, 'traditional': 575, 'desperately': 1073, 'service': 1166, 'nsaid': 348, 'suppressant': 1237, 'unbelievably': 1225, 'bumpy': 425, 'spondylitis': 416, 'sporadic': 395, 'athletic': 669, 'colored': 92, 't4': 307, 'paralyzed': 910, 'potentially': 949, 'truth': 926, 'agonizing': 305, 'subsiding': 297, 'pea': 1396, 'junior': 620, 'ray': 1300, 'acanya': 833, 'realised': 761, 'seemingly': 1243, 'progestin': 514, '4lbs': 1401, 'gastroparesis': 1164, '14th': 698, 'dvt': 401, 'unreal': 143, 'foundation': 4, 'bus': 27, 'decline': 676, 'intensified': 84, 'inconsistent': 1369, 'lovely': 852, '9am': 55, 'eliminating': 1605, 'checkup': 1155, 'accomplish': 447, 'synthetic': 1104, 'chemicals': 443, 'softeners': 760, 'tendons': 10, 'advantage': 348, 'absorb': 234, '16oz': 20, 'shakiness': 357, 'olanzapine': 41, 'wheel': 561, 'kit': 180, 'subsequent': 53, 'bedridden': 853, 'vaseline': 284, 'bet': 950, 'weened': 68, 'untreated': 1578, 'zovia': 499, 'exposed': 1485, 'invented': 114, 'record': 970, 'thoroughly': 936, 'poisoning': 614, 'star': 328, 'fake': 1323, 'makers': 160, 'extremities': 109, 'antihistamines': 48, 'eyebrows': 1295, 'prolia': 825, 'loo': 1318, 'kidding': 1510, 'tenuate': 475, 'aldara': 810, 'spell': 1452, 'schizoaffective': 593, 'nhs': 79, 'walks': 215, 'ic': 1506, 'stings': 272, 'field': 441, 'devastated': 910, 'femara': 398, 'lice': 613, 'details': 665, 'dystonia': 1025, 'assist': 751, 'completing': 86, 'lines': 233, 'pooped': 354, 'spacey': 69, 'delusional': 1673, 'hypomania': 1534, 'noises': 1217, 'button': 286, 'withdrawl': 1304, '750mg': 341, 'park': 1001, '02': 331, 'blind': 1456, '20mgs': 98, 'pig': 382, 'imaginable': 352, 'direction': 1415, 'fertility': 36, 'chewing': 1375, 'sunscreen': 4, 'glipizide': 1278, 'sulfate': 622, 'regards': 1071, 'livalo': 11, 'diclegis': 415, 'discharged': 1346, '230': 88, 'absorbed': 762, 'gels': 167, 'firm': 1250, 'tennis': 178, 'whack': 841, 'fried': 614, '10am': 55, 'deodorant': 284, 'lean': 371, 'stared': 345, 'oracea': 618, 'responded': 485, 'rib': 178, 'fist': 573, 'shared': 963, 'soundly': 713, 'stuffed': 1449, 'tricyclen': 182, 'altered': 1288, 'clothing': 141, 'unexplained': 1439, 'suppresses': 230, 'endure': 849, 'washes': 167, 'subs': 827, 'ankylosing': 416, 'disks': 346, 'diagnose': 1416, 'midrin': 1335, 'repeatedly': 221, 'arthritic': 1173, 'create': 1316, 'titrating': 479, 'ripped': 414, 'rays': 1300, 'regained': 276, 'gastroenterologist': 403, 'craved': 541, '88': 389, 'party': 1001, 'linked': 280, 'rolling': 1331, 'acyclovir': 1291, 'catheter': 961, 'begging': 127, 'ovulate': 504, 'typing': 1418, 'toprol': 1011, 'crushed': 192, 'colds': 1601, 'golf': 1522, 'revealed': 53, 'hyperactivity': 76, 'conclusion': 1576, 'bid': 1183, 'estradiol': 894, 'grams': 22, 'pharma': 1098, 'ashamed': 549, 'sufficient': 366, 'auditory': 903, '2yrs': 107, 'lactose': 644, 'department': 441, 'tendencies': 1038, 'colonoscopies': 1242, 'corner': 1331, 'dislike': 376, 'rsd': 57, 'icu': 550, 'member': 326, 'ph': 396, 'cures': 1641, 'hallucinating': 1021, 'cleanse': 190, 'sobbing': 1208, 'vinegar': 251, 'staring': 296, 'milder': 486, 'intend': 1063, 'leaking': 1495, 'brownish': 1052, 'aspects': 320, 'appearance': 30, 'tendonitis': 794, 'jardiance': 407, 'exacerbated': 84, 'pupils': 728, 'pinching': 1144, 'realise': 609, 'marathon': 872, 'hydromorphone': 622, 'stimulation': 789, 'distance': 829, 'dozen': 191, 'ground': 773, 'performed': 146, 'erratic': 78, 'dopamine': 1254, 'depend': 1487, 'terrific': 97, 'wave': 368, 'contain': 1316, 'puffs': 22, 'culture': 53, 'devastating': 238, 'ins': 1560, 'arimidex': 398, 'unmanageable': 1102, 'rhinitis': 221, 'lastly': 159, 'duty': 1691, 'bursitis': 794, 'match': 1013, 'snappy': 172, 'swore': 884, 'relaxes': 1020, 'alternating': 1299, 'wheelchair': 561, 'weening': 68, '103': 412, 'survive': 1196, 'pollen': 221, 'understood': 166, 'daughters': 244, 'contribute': 125, 'modafinil': 1252, 'square': 812, 'somebody': 992, 'k': 291, 'familiar': 546, 'st': 585, 'praise': 54, 'burnt': 1664, 'thereafter': 1490, 'designed': 1654, 'workers': 326, 'x2': 423, 'shocks': 1002, 'creeping': 479, 'shave': 936, 'youngest': 244, 'edgy': 69, 'crack': 228, 'session': 526, 'norm': 1315, 'shop': 63, 'confirm': 849, 'uncommon': 918, 'jeans': 663, 'music': 1432, 'purge': 1384, 'hungover': 1339, 'lesser': 939, 'claim': 482, 'angina': 547, 'desired': 735, '45mg': 295, 'cessation': 388, 'anesthetic': 1604, 'malaise': 29, 'runner': 852, 'denied': 783, 'semester': 895, 'dress': 663, 'dementia': 1092, '112': 389, 'varies': 548, 'credit': 1239, 'names': 894, 'compazine': 330, 'statin': 85, 'partially': 1046, 'exposure': 583, 'chemist': 292, 'magnesia': 630, 'fitting': 663, 'averaging': 389, 'reacting': 164, 'beg': 374, 'reverse': 661, 'aftertaste': 1016, 'refuses': 677, 'pregabalin': 170, 'neutral': 1041, '185': 88, 'responds': 786, 'puff': 525, 'trainer': 72, 'legal': 32, 'nostril': 1469, 'searched': 747, 'spikes': 850, 'thumb': 178, 'peaceful': 1087, 'lubrication': 402, 'beach': 1001, 'gold': 1654, 'epidural': 123, 'illnesses': 355, 'aftera': 851, 'healthcare': 316, '700': 776, 'stability': 216, '04': 331, 'feeding': 667, 'blockage': 788, 'gurgling': 265, 'rotator': 551, 'struggles': 179, '74': 16, 'benedryl': 748, 'estrace': 810, 'explanation': 1460, 'twins': 746, 'shifts': 472, 'taytulla': 499, '25th': 698, 'sane': 90, 'splitting': 601, 'migranes': 17, 'marijuana': 1172, 'weaker': 486, 'fyi': 1571, '27th': 698, 'clarithromycin': 177, 'moisturize': 190, 'glowing': 911, 'drixoral': 940, 'direct': 323, 'mail': 828, 'challenging': 8, '10mgs': 1633, 'withdrawing': 122, 'automatically': 1248, 'poo': 1678, 'buprenorphine': 653, 'seldom': 1294, 'camrese': 885, 'jolivette': 499, 'messy': 255, 'fibroid': 1198, 'anorexia': 108, 'scariest': 162, 'gleevec': 1163, 'medicate': 288, 'suit': 838, 'frova': 1335, 'eases': 1641, 'anticipated': 1465, 'chugged': 968, '13th': 698, 'roxicodone': 3, 'neuropathic': 1173, 'locked': 1018, 'flying': 215, 'hive': 920, 'influenza': 1387, 'advanced': 1124, 'spotty': 395, 'visiting': 394, 'votrient': 398, 'reasonably': 249, 'talkative': 708, 'bms': 155, 'closest': 162, 'sooooo': 184, 'accurate': 1429, 'measuring': 674, 'orthovisc': 380, 'complicated': 232, 'consecutive': 536, 'midol': 1142, 'softer': 83, 'vaginosis': 484, 'persist': 588, 'reminded': 1277, 'access': 1170, 'levemir': 385, 'frankly': 549, 'promethazine': 330, 'resumed': 1600, 'hepatitis': 283, 'reflex': 935, 'mirvaso': 833, 'disconnected': 1009, 'facility': 111, 'letter': 1098, 'dating': 1383, 'teachers': 326, 'cooking': 665, 'adrenaline': 865, 'wasting': 515, 'ie': 329, 'slipping': 354, 'studying': 428, 'occurrence': 756, 'blew': 15, 'ya': 1618, 'solutions': 1286, 'gram': 139, 'topicals': 167, 'horrified': 633, 'toast': 319, 'pits': 641, 'hesitate': 1063, 'picture': 881, 'spouse': 362, 'renal': 788, 'transfusion': 132, 'micronor': 885, 'triptans': 48, 'buzz': 865, 'burps': 1467, 'bulimia': 496, 'screws': 346, 'inhibitor': 348, 'tendency': 554, 'sailing': 1085, 'unexpectedly': 895, 'deeper': 713, 'actions': 1036, 'foreign': 1156, 'fly': 639, 'laundry': 277, 'ointments': 167, 'financial': 453, 'adapalene': 833, 'parkinson': 456, 'bilateral': 551, 'caps': 22, 'antabuse': 254, 'magical': 114, 'farxiga': 1278, 'wits': 770, '1am': 518, 'recommending': 360, 'creating': 323, '22nd': 698, 'achieved': 718, 'upsetting': 632, '1997': 488, 'cheat': 1353, 'desperation': 446, 'paracetamol': 338, 'progression': 788, 'blowing': 15, 'listening': 1075, 'restored': 1050, 'relapses': 431, 'darvocet': 218, 'belching': 1467, 'haldol': 1010, 'customer': 1098, 'tore': 15, 'willpower': 185, 'stadol': 972, 'duloxetine': 1350, 'sons': 244, 'pt': 497, 'sea': 1551, 'boils': 233, 'recurrence': 431, 'coughed': 144, 'shampoo': 303, 'fractures': 192, 'intolerance': 644, 'ounce': 1409, 'cpap': 713, 'deficiency': 507, 'scripts': 1286, 'melt': 1180, 'unsuccessful': 659, 'cellulitis': 116, 'heading': 1123, 'cleansing': 190, 'qvar': 61, 'obsessing': 373, 'faced': 1481, 'flecainide': 1086, 'combine': 375, 'anafranil': 492, 'natazia': 499, 'charts': 1042, 'delivered': 1488, 'presentations': 1274, '69': 16, 'reminder': 990, 'dermatologists': 1689, 'impatient': 391, 'climbing': 931, 'pale': 896, 'forums': 545, '70mg': 295, 'unisom': 67, 'profound': 985, 'seasonale': 885, 'retaining': 317, 'tries': 1649, 'survived': 1592, 'consistency': 646, '101': 412, 'painfully': 774, 'polyps': 53, 'banned': 1509, 'rem': 1110, 'purging': 1384, 'nasonex': 940, 'makena': 825, 'scaring': 425, 'spiral': 602, 'necon': 231, 'plaques': 30, 'hemorrhoids': 34, 'closing': 219, 'fevers': 263, 'purse': 1262, 'drag': 18, '40s': 979, 'attempting': 1527, 'walker': 1329, 'af': 547, 'soften': 873, 'cigs': 1034, 'sustained': 778, 'b4': 1372, 'respect': 194, 'prn': 706, 'liter': 691, 'genotype': 1594, 'rice': 371, 'claims': 1686, '2000mg': 341, 'stabilizers': 216, 'inconvenience': 756, 'staph': 116, 'smelled': 112, 'advance': 1579, 'administration': 222, 'akathisia': 971, '3lbs': 1401, 'shorten': 186, 'handy': 689, 'sixth': 137, 'librax': 997, '104': 412, 'dx': 424, 'whom': 901, 'pak': 177, 'recommends': 360, 'vein': 286, 'phen': 495, 'frozen': 794, 'consumption': 767, 'europe': 868, 'tresiba': 385, 'diaper': 303, 'indomethacin': 12, 'nitrofurantoin': 177, 'staff': 1166, 'aka': 329, 'alongside': 341, 'pens': 353, 'cuff': 551, 'stoned': 1339, 'science': 1166, 'sessions': 1242, 'lacking': 459, 'involuntary': 71, 'carbonated': 185, 'moisture': 284, 'consulted': 394, 'bill': 828, 'income': 1560, 'calves': 953, 'alertness': 1281, 'eliquis': 1086, 'systemic': 1124, '1999': 488, 'lasix': 467, 'immense': 736, 'discussing': 394, 'appropriate': 1390, 'whats': 1618, '2lbs': 1401, 'administer': 1345, 'cephalexin': 177, 'poking': 414, 'un': 527, 'insecure': 1145, 'bum': 892, 'adults': 560, 'happiest': 708, '29th': 698, 'percocets': 3, '26th': 698, 'exhausting': 1475, 'savior': 1074, 'coke': 185, 'superior': 817, 'premenstrual': 593, 'latter': 1010, 'motor': 610, 'rubbing': 651, 'horse': 792, 'parent': 1541, 'appreciated': 1670, 'nora': 5, 'flip': 414, 'dulled': 1511, 'moon': 1512, 'grab': 694, 'deductible': 1560, 'chart': 1042, 'protocol': 659, 'medicating': 288, 'differences': 149, 'hay': 263, 'q': 284, 'electrical': 1002, 'faithfully': 692, 'recognized': 591, 'projectile': 1467, 'motions': 209, 'cozaar': 1011, 'uric': 307, 'shrinking': 1106, 'pictures': 881, 'reoccurring': 1014, 'yawn': 1000, 'behavioral': 120, 'coupons': 498, 'cancel': 1630, 'digestion': 1450, 'miconazole': 649, 'edges': 477, 'underneath': 911, 'projects': 315, 'forte': 618, 'contributing': 280, 'enemas': 760, 'hypo': 108, 'manufacturers': 919, 'positively': 1595, 'bonine': 12, 'slice': 20, 'accustomed': 1314, 'view': 287, 'lease': 705, '025': 833, 'expectations': 1194, 'folic': 467, 'coordination': 227, 'armpit': 641, 'pfizer': 79, 'darker': 83, 'estarylla': 1413, 'bile': 1467, 'azo': 378, 'adderal': 183, 'cal': 267, 'clumps': 834, 'crawl': 476, 'ft': 363, 'requiring': 1251, 'lyza': 499, 'zithromax': 177, 'tub': 1148, 'measured': 674, 'peoples': 1160, 'meclizine': 12, 'rituxan': 642, 'shaving': 936, 'press': 477, 'tikosyn': 1086, 'prolactin': 880, 'hypothyroid': 1544, 'pylera': 94, 'nite': 1116, 'afrin': 1211, 'compliments': 1218, 'anyhow': 150, 'phenomenal': 1334, 'fogginess': 29, 'overdose': 106, 'pit': 1625, 'aciphex': 467, 'stumbled': 791, 'strongest': 162, 'responding': 485, 'glands': 734, 'yuck': 239, 'placebos': 460, 'residue': 1013, 'disappearing': 837, 'pediatrician': 403, 'filling': 15, 'obsess': 373, 'leak': 1495, 'ecstatic': 124, 'twitch': 71, 'milligram': 1607, 'discoloration': 266, 'upsets': 265, 'forcing': 383, 'refilled': 273, '1500mg': 341, 'meniscus': 123, 'accomplished': 447, 'preferred': 783, 'stigma': 2, 'messes': 635, 'dogs': 165, 'com': 575, 'exalgo': 1183, 'depot': 825, 'disturbances': 151, 'pdoc': 589, 'technically': 889, '23rd': 698, 'repatha': 407, 'anal': 771, 'socialize': 447, 'yea': 944, 'screwed': 635, 'u2019s': 1084, 'dozens': 142, 'sicker': 1356, 'oddly': 444, 'thinned': 369, 'produces': 645, 'knife': 1456, 'capable': 708, 'colors': 92, 'spiro': 1548, 'giant': 440, 'prove': 609, 'absence': 723, 'driven': 708, 'creative': 90, 'rising': 483, 'society': 441, 'emptying': 961, 'coma': 550, 'declined': 59, 'purposes': 784, 'flatulence': 1467, 'swim': 1064, 'rocephin': 380, 'equal': 1682, 'hungrier': 1356, 'munchies': 1568, 'ouch': 1130, 'tightening': 540, 'continual': 984, 'acted': 1676, 'central': 91, 'ass': 639, 'intestine': 31, 'feverish': 1339, 'nagging': 806, 'graduate': 895, 'surgically': 961, 'sentence': 1432, '8oz': 20, 'container': 694, 'sell': 482, 'pool': 1148, 'riding': 1024, 'overeating': 122, 'message': 77, 'obsessed': 373, 'peeled': 896, 'knots': 1625, 'exists': 1662, 'iuds': 864, 'sodas': 185, 'gift': 926, 'connect': 125, '1998': 488, 'qysmia': 475, '118': 88, 'hostile': 391, 'swallowed': 1375, 'goals': 220, 'guts': 969, 'prostatitis': 1167, 'briefly': 1264, 'location': 1035, 'atralin': 618, 'pustules': 95, 'ampyra': 1163, 'choking': 981, 'consulting': 394, 'baths': 251, 'stents': 1275, 'shelf': 1042, 'yard': 1268, 'feed': 435, 'psychiatrists': 1689, 'interfered': 1696, 'bruises': 1698, 'gulps': 20, 'contemplating': 553, '03': 331, '71': 16, 'senna': 760, 'creates': 645, 'choosing': 1149, 'ventolin': 662, 'insomniac': 1571, 'lime': 20, 'account': 1282, 'log': 382, 'crashed': 929, 'pantyliner': 508, '21st': 698, 'saline': 583, 'weary': 5, 'threshold': 1173, 'notable': 985, 'restart': 1029, 'games': 724, 'upbeat': 411, 'diamox': 1086, 'believer': 1186, 'anxieties': 1036, 'scales': 454, 'illegal': 152, 'pair': 694, 'varied': 548, 'hashimoto': 456, 'movies': 665, 'jerking': 71, 'avapro': 1011, 'grief': 36, 'unlucky': 538, 'bunavail': 827, 'specially': 643, 'catching': 1565, 'booster': 348, 'sneeze': 339, 'awaiting': 1555, 'alarming': 1402, 'fence': 791, 'pot': 694, 'providing': 778, 'hospitals': 449, 'situational': 869, 'banana': 319, 'mucous': 144, 'blank': 60, 'buds': 1319, 'cataplexy': 1127, 'impairment': 29, 'boss': 1541, 'ants': 64, 'sugary': 1568, 'friendly': 708, 'disgusted': 1666, 'forty': 933, 'appeal': 882, 'pmsing': 504, 'harmful': 720, 'avinza': 3, 'responses': 320, 'easing': 1605, 'dopey': 1339, 'showering': 936, 'cracking': 734, '5x': 72, 'epclusa': 924, 'rectal': 34, 'relaxation': 1146, 'dissipated': 1511, 'tricky': 632, 'bummer': 1074, 'weepy': 172, 'intolerant': 644, 'woozy': 69, '24th': 698, '875': 1134, 'ribavirin': 924, 'screw': 15, 'inhibitors': 1065, 'blocking': 1358, 'army': 462, 'embolism': 102, 'beers': 987, 'toddler': 1541, 'gosh': 944, 'joined': 1268, 'trusted': 591, 'spontaneous': 1435, 'bye': 1582, 'vyvance': 183, 'vodka': 185, 'pronounced': 400, 'status': 154, 'stamina': 153, 'slurred': 728, 'compelled': 208, 'popular': 720, 'bpm': 1598, 'boxes': 353, 'achilles': 178, 'packets': 1409, 'poured': 968, 'whose': 901, 'arava': 1228, 'bits': 1130, 'recalled': 1216, 'overeat': 1199, 'organized': 90, '78': 389, 'positions': 469, 'rocks': 114, '1200mg': 341, 'calendar': 733, 'skyrocketed': 1050, 'mint': 1016, 'cabinet': 1262, 'solely': 1667, 'properties': 450, 'dressed': 1218, 'offers': 260, 'noticable': 985, 'levelled': 354, 'peanut': 319, 'zelnorm': 415, 'instance': 1054, 'cider': 251, 'rational': 708, 'xenical': 475, '3yrs': 107, 'draining': 1495, 'zohydro': 471, 'attend': 724, 'lifelong': 1219, 'detected': 201, 'war': 462, 'relaxant': 406, 'perspective': 705, 'consultant': 403, 'guaifenesin': 309, 'backache': 1439, 'blamed': 591, 'infrequent': 846, 'suppressing': 1237, 'rozerem': 67, 'poster': 1160, 'limits': 1622, 'vomitting': 1382, 'uloric': 61, 'hyperactive': 1258, 'withdrawls': 268, 'prayers': 242, 'smokers': 1034, 'ekg': 381, 'pp': 1366, 'unique': 901, 'absorption': 762, 'addicts': 152, 'cerave': 190, 'nebulizer': 662, 'withdrawn': 1258, 'dangerously': 1194, 'proactiv': 167, 'counselling': 120, 'hating': 752, 'restaurant': 63, 'tmi': 1471, 'belbuca': 622, 'th': 26, 'diseases': 355, 'amphetamine': 348, 'wiping': 648, 'opportunity': 882, 'fluconazole': 1056, 'bouncing': 908, 'smoothly': 434, 'yucky': 239, 'quantity': 445, 'literature': 1550, 'unnecessary': 532, 'pepto': 259, 'concentrated': 1258, 'exams': 1242, 'sets': 321, 'implants': 192, 'intensely': 419, 'clammy': 1572, 'sophomore': 620, 'soup': 371, 'lysteda': 997, 'inpatient': 111, 'facing': 1347, 'serve': 1642, 'pissed': 639, 'fold': 1607, 'denial': 56, 'chewable': 1610, 'belief': 1429, 'flipped': 841, 'oils': 583, 'hiccups': 844, 'stabilizing': 216, 'manner': 194, 'semen': 1435, 'dm': 309, 'dollar': 1560, 'percentage': 445, 'delsym': 748, 'remainder': 803, 'inform': 1562, 'titrate': 479, 'experiment': 47, 'excercise': 1126, 'fights': 37, 'nearing': 442, 'ivy': 754, 'snapping': 814, 'podiatrist': 403, 'pin': 1514, 'laughed': 665, 'curled': 1018, 'scab': 1698, 'jumpy': 391, 'vicious': 1616, 'lucid': 342, 'torso': 436, 'vivelle': 894, 'fullness': 1339, 'replacements': 1333, 'participate': 447, 'jello': 20, 'seat': 561, 'problematic': 720, 'guarantee': 849, 'tussionex': 830, 'appearing': 95, 'programs': 566, 'impaired': 728, 'enormous': 158, 'article': 882, 'excuse': 1571, 'detrol': 808, 'nonetheless': 138, '117': 88, 'premature': 1083, 'versed': 1604, 'painkiller': 218, 'strokes': 788, '450mg': 295, 'danger': 462, 'isolated': 1009, 'bills': 1559, 'aging': 1411, 'gulp': 20, 'football': 724, 'depersonalization': 387, 'coat': 92, 'meth': 653, 'clusters': 95, 'misoprostol': 873, 'melasma': 920, 'havoc': 49, 'effecting': 779, 'zinc': 583, 'bored': 1666, 'plummeted': 1288, 'artificial': 764, 'served': 213, 'profuse': 521, '18mg': 183, 'autism': 1092, 'candidate': 950, 'smokes': 1034, 'duragesic': 982, 'cleaner': 1489, 'sulfur': 1072, 'cfs': 1124, 'pharmacists': 558, 'sonata': 67, 'biting': 804, 'valve': 1099, 'receptors': 452, 'counselor': 322, 'potency': 481, 'grabbed': 273, 'toxicity': 1244, 'builds': 1634, 'soak': 1371, 'embarrassment': 756, 'glaucoma': 1340, 'interfering': 1696, 'deprived': 1110, 'ciprofloxacin': 177, 'aunt': 721, 'teva': 253, 'creep': 479, 'disappears': 1574, 'doom': 755, 'mistakes': 298, '79': 389, 'instances': 1547, 'heel': 178, 'destroy': 1078, 'proceeded': 1311, 'downward': 602, 'toss': 823, 'disorientation': 357, 'orencia': 100, 'strictly': 1674, 'metrogel': 618, 'cd': 183, 'regulates': 186, 'bat': 1042, 'plane': 27, '76': 389, 'calmness': 1323, 'buttocks': 436, 'lessens': 1476, 'veteran': 852, 'dymista': 61, '96': 88, 'concussion': 154, 'dd': 958, 'singular': 467, 'wrap': 1331, 'buzzing': 599, 'skull': 1035, '100lbs': 140, 'jail': 912, 'dots': 1698, 'micardis': 1011, 'uneasy': 69, 'ocular': 1377, 'exforge': 493, 'periodic': 1439, '86': 389, 'levoxyl': 681, '5mgs': 530, 'novolog': 385, 'toviaz': 808, 'wishes': 417, 'spicy': 614, 'enabled': 213, 'rose': 59, 'stresses': 246, 'adequate': 1390, 'oatmeal': 319, 'books': 117, 'terror': 206, 'american': 1376, 'chore': 1238, 'ppl': 560, 'allopurinol': 173, 'combining': 375, 'nuisance': 1238, 'aroused': 391, 'plateaued': 931, 'outpatient': 111, 'aquaphor': 284, 'cartilage': 178, 'groups': 1303, 'driver': 386, 'soothing': 1135, 'dance': 724, 'reviewer': 1160, 'tessalon': 830, 'carbamazepine': 625, 'coworkers': 326, 'methylphenidate': 805, 'shoot': 1018, 'shivering': 263, 'handled': 965, 'behold': 267, 'organic': 319, 'lite': 1032, 'formulation': 439, 'drenched': 1371, 'crushing': 29, 'outstanding': 1334, 'zovirax': 303, 'efudex': 810, 'spiked': 59, 'nevertheless': 830, 'theres': 379, 'tendinitis': 794, 'cig': 525, 'foam': 190, '73': 16, 'tarceva': 204, 'terbinafine': 66, '13lbs': 1401, 'hellish': 143, 'scarred': 978, 'persists': 964, 'classic': 108, 'scope': 53, 'limp': 724, 'afrezza': 61, 'sulfasalazine': 1228, 'disturbed': 1110, 'ordinary': 841, 'sunlight': 1297, 'knocking': 446, 'firstly': 924, 'unusually': 1070, 'straining': 155, '83': 389, 'c5': 551, 'sovaldi': 924, 'symtoms': 955, 'cousin': 721, 'fired': 561, 'fatal': 102, 'awaken': 1360, 'largely': 138, 'detoxing': 1386, 'tap': 1681, 'beverages': 185, 'regard': 1071, 'reviewed': 747, 'immunity': 1571, 'tazorac': 833, 'vertebrae': 551, 'wouldnt': 1355, 'punch': 476, 'squeeze': 312, 'entered': 716, 'dust': 221, 'nutrition': 970, 'niacin': 415, 'compound': 919, 'altering': 246, 'ducolax': 1351, 'wrecked': 49, 'tic': 971, 'character': 841, 'pancreas': 788, 'minds': 703, 'negativity': 1036, 'stepped': 15, 'evidence': 1690, 'wheat': 371, 'relapsing': 122, 'comparable': 13, 'childbirth': 595, '12mg': 341, 'medically': 780, 'fungal': 116, 'chug': 968, 'panties': 663, 'believes': 360, 'gilead': 79, 'yep': 680, 'afternoons': 269, 'detached': 1009, 'courses': 813, 'showers': 651, 'maker': 160, 'cellcept': 1086, 'hctz': 493, 'bubbly': 708, 'safyral': 848, 'taltz': 1163, 'claimed': 591, 'tonsils': 734, 'subsequently': 1308, 'reactive': 1258, 'expired': 273, 'esp': 1425, 'shocking': 1475, 'discover': 591, 'l3': 551, 'kilos': 1301, 'isnt': 647, 'adjustments': 298, 'priced': 1040, 'tamsulosin': 808, 'elidel': 810, 'frightened': 1517, '36mg': 183, 'organs': 10, 'apathetic': 391, 'obtain': 1170, 'anxiousness': 357, 'littlest': 314, 'sobriety': 1386, 'bridge': 1042, 'balloon': 382, 'honey': 630, 'moodier': 597, 'lomotil': 983, 'spectrum': 780, 'prazosin': 67, 'features': 108, 'palm': 286, 'sending': 226, 'ceftin': 177, 'yell': 814, 'ectopic': 1233, 'pe': 102, 'chiropractor': 7, 'peels': 583, 'engaged': 708, 'controllable': 400, 'bags': 1409, 'sake': 242, 'supper': 313, 'hypomanic': 871, 'atleast': 1219, 'stuffiness': 1601, 'notes': 1166, 'vast': 985, 'enhanced': 1008, 'everyones': 340, 'sperm': 543, 'role': 619, 'crippled': 302, 'enter': 1067, 'climb': 510, 'cancelled': 1630, 'hairline': 1295, 'intensive': 839, 'meantime': 194, 'passages': 1324, 'heals': 1204, 'usa': 868, 'impulse': 610, 'sexy': 1143, 'spite': 56, 'snapped': 814, 'anaphylactic': 1202, 'sklice': 810, 'nodules': 233, 'diahrrea': 197, '11am': 55, 'regiment': 832, 'annoyance': 756, 'mentioning': 664, 'auras': 1377, 'grace': 926, 'wed': 236, 'troublesome': 159, 'isotretinoin': 66, '205': 413, '89': 389, '1996': 150, 'mtx': 1228, 'supportive': 745, 'googling': 747, 'std': 381, 'doubts': 904, 'wort': 585, 'fails': 1182, 'fool': 1348, 'dietary': 863, 'john': 585, 'deadly': 720, 'efficient': 366, 'magically': 890, 'embeda': 3, 'ddd': 119, '3months': 107, 'shorts': 141, 'midday': 55, 'compression': 192, 'mag': 1693, 'entering': 1249, 'fellow': 963, 'dna': 780, 'cease': 584, 'bent': 1040, 'crept': 479, '2hrs': 542, 'operations': 346, 'identical': 1104, 'cereal': 371, 'secondly': 1119, 'regulation': 1616, 'land': 561, 'arrhythmia': 1099, 'paired': 375, 'spurs': 192, 'albeit': 1461, 'mishap': 458, 'hint': 694, 'brittle': 978, 'rocketed': 1050, 'eats': 446, 'watson': 894, 'cath': 1275, 'rubbed': 1130, 'induce': 1616, 'xifaxan': 467, 'bursts': 1118, '150lbs': 43, 'chosen': 1592, 'humalog': 385, 'promising': 1334, 'dulera': 61, 'strangely': 444, 'sandwich': 371, 'numbs': 1417, 'boosted': 1288, 'owe': 1378, 'balls': 1130, 'brushing': 1428, 'utterly': 208, 'mist': 940, 'flaring': 15, 'bending': 285, 'grows': 369, 'cosentyx': 100, '270': 58, 'eyesight': 227, 'liters': 781, 'vicoprofen': 997, 'u2019m': 304, 'disappointment': 619, 'stendra': 511, 'object': 1156, 'rolled': 1331, 'tobacco': 388, 'relentless': 1439, 'drives': 226, 'gaba': 706, 'replacing': 1321, 'syringe': 1130, '9lbs': 1401, 'unaware': 604, 'secret': 973, 'prayed': 1279, 'metadate': 183, 'adapt': 576, 'spare': 1573, 'gpa': 26, 'pointed': 446, 'mono': 116, 'opinions': 545, 'techniques': 497, 'lengthy': 922, 'understatement': 158, 'confusing': 632, 'value': 1035, 'tn': 1173, '198': 58, 'awakened': 302, '900mg': 341, 'crashing': 390, '215': 636, 'cefdinir': 177, 'biologic': 100, '10yrs': 857, 'attached': 1156, 'cared': 787, 'industry': 1098, 'suits': 838, 'generalised': 108, 'strips': 22, 'radiating': 286, 'errands': 63, 'arthrotec': 997, 'hbp': 1090, 'zetia': 11, 'chapstick': 4, 'reporting': 1486, 'protopic': 810, '12lbs': 1401, 'yikes': 680, 'satisfaction': 865, 'rushing': 60, 'enlargement': 667, 'destroying': 49, 'category': 855, 'pharmaceuticals': 1098, 'resist': 1196, 'saliva': 20, 'predict': 849, 'lotions': 167, 'curl': 1018, 'memories': 1036, 'clamp': 674, 'pet': 53, 'transformed': 49, 'backing': 1042, 'intractable': 1003, 'sink': 773, 'offset': 887, 'apathy': 755, 'fluctuations': 149, 'backaches': 1203, 'refer': 1562, 'backs': 1043, 'handed': 674, '2weeks': 107, 'shelves': 1101, 'sleeps': 1532, 'thoracic': 551, 'majorly': 1397, 'housework': 1221, '50mgs': 35, 'tracking': 733, '84': 1503, 'plantar': 1025, '178': 636, 'contraction': 1144, 'guinea': 792, 'diltiazem': 173, 'rupture': 1681, 'ramped': 1026, 'helpless': 208, 'dyskinesia': 971, 'dishes': 277, 'metamucil': 1693, 'risky': 720, 'dare': 502, 'rectum': 31, 'vegan': 874, 'achey': 50, 'gap': 1270, 'kenalog': 380, 'fearing': 952, 'ditch': 763, 'nessa': 1413, 'imagined': 819, 'temples': 436, '275': 636, 'bloodwork': 53, 'herself': 725, 'neutrogena': 190, 'gasping': 981, 'print': 312, 'angioedema': 844, 'south': 912, 'spider': 739, 'invasive': 159, 'cheating': 1383, 'robot': 1028, 'tolerating': 485, 'throid': 707, 'vaccine': 1586, 'contained': 821, 'baseline': 307, 'presently': 89, 'minimized': 1511, 'grip': 1540, '5ft': 413, 'dirty': 1130, 'purchasing': 273, 'items': 274, 'efforts': 1659, 'processed': 614, 'psycho': 464, 'rollercoaster': 513, 'apartment': 684, 'chase': 20, 'biologics': 126, 'reversed': 1504, '1400': 776, 'sudafed': 309, 'worrisome': 400, 'dissolves': 234, 'wrinkles': 914, 'behaviour': 1022, 'holds': 1026, 'surprising': 103, 'diagnoses': 659, 'camper': 1342, 'renewed': 752, 'prenatal': 879, 'agent': 303, 'medicaid': 316, 'presented': 674, 'pamphlet': 1550, 'hates': 324, 'nr': 1410, 'tearful': 1258, 'fleet': 630, 'sinemet': 173, 'vulva': 1135, 'absent': 356, 'versions': 864, 'exploded': 1204, 'design': 439, 'consisted': 1088, 'avodart': 983, '125mg': 1633, 'notices': 21, 'restrictions': 614, 'ranexa': 997, 'disabling': 387, 'insatiable': 1237, 'promptly': 1608, 'homeopathic': 465, '260': 88, 'rumbling': 265, '130lbs': 43, 'systems': 355, 'regrets': 379, 'correlation': 807, 'hallucinate': 1107, 'chips': 371, 'teaspoon': 139, 'unacceptable': 1429, 'conjunctivitis': 920, 'fetal': 1018, 'lozenges': 682, 'grandmother': 721, 'erect': 207, 'spoken': 21, 'compounded': 1104, 'lap': 429, '176': 413, 'thousand': 571, 'showered': 936, 'perk': 189, 'biggie': 379, '280': 88, 'recommendations': 463, 'sceptical': 199, 'triptan': 1285, 'breaths': 937, 'dysphoric': 593, 'rear': 770, 'minded': 715, 'endometrial': 788, 'eleven': 51, '195': 636, 'alcoholism': 1406, 'guilty': 208, 'serum': 190, 'sociable': 708, 'injectable': 348, 'outer': 1130, 'tourette': 456, 'grandson': 524, 'hacking': 144, 'ejaculated': 543, 'disrupted': 1110, 'awareness': 459, 'wt': 1629, 'critical': 839, 'commercials': 665, 'leukemia': 300, 'assistant': 842, 'hypotension': 17, 'letrozole': 398, 'theory': 780, 'wart': 1130, 'assure': 468, 'salads': 371, 'upcoming': 1571, 'interrupted': 1110, 'intervals': 1368, 'oxybutynin': 808, 'aloe': 284, 'gf': 362, 'tracker': 733, 'therapies': 126, 'lock': 1515, 'yours': 963, 'extraction': 726, 'equally': 531, 'precaution': 1057, 'blemish': 702, 'unsightly': 30, 'explaining': 591, 'hideous': 1005, 'tingles': 1572, 'questioning': 671, 'guard': 639, 'carpal': 935, 'adds': 731, 'artery': 401, 'sorted': 354, 'hiking': 1064, 'survivor': 852, 'formulary': 316, 'sleeper': 1691, 'underwent': 429, 'dime': 1396, 'sentences': 1412, 'demanding': 727, 'consideration': 1282, '100x': 1266, 'rep': 1098, 'component': 1188, 'grey': 92, 'suggests': 360, 'net': 791, 'crossing': 1305, 'guilt': 755, 'subject': 604, '97': 389, 'detail': 117, '1800': 6, 'elocon': 618, 'city': 449, '82': 389, 'lousy': 1339, 'definately': 73, 'bontril': 475, 'straterra': 805, 'exaggerating': 1510, 'quarters': 601, 'exceptionally': 1225, 'wrapped': 1331, 'limiting': 678, 'core': 1658, 'creme': 303, 'husbands': 36, 'fastin': 475, 'seventh': 14, 'optimal': 939, 'asthmatic': 1571, 'approaching': 1249, 'follows': 205, 'roaccutane': 1548, 'fluctuate': 1041, 'curve': 1482, 'eve': 236, 'commonly': 918, 'stabbed': 1615, 'chasing': 1551, 'screamed': 967, 'pangs': 1482, 'compulsions': 212, 'believing': 891, 'thorazine': 1010, 'destructive': 288, 'darn': 565, 'keel': 756, 'hugely': 377, '60lbs': 140, 'reference': 1376, '128': 88, 'drawn': 132, 'speculum': 318, 'sweated': 1664, 'toothache': 305, 'storm': 858, 'degeneration': 119, 'basal': 232, 'dear': 242, 'blistering': 1698, 'tubal': 562, 'renew': 783, 'arrive': 615, 'pepcid': 259, 'cash': 260, 'transfusions': 132, 'delighted': 124, 'supervision': 1117, 'ibrance': 398, 'image': 443, 'contacting': 394, 'herbs': 497, 'relying': 1487, 'orlistat': 475, 'gagged': 968, 'mindful': 5, 'ironically': 1037, 'preventive': 1285, 'blacked': 354, 'creativity': 1323, '1hr': 542, 'hundred': 571, 'chewed': 1375, 'checks': 768, 'authorization': 566, 'breakdowns': 327, 'capacity': 789, 'shell': 18, 'saves': 1277, 'dextroamphetamine': 805, '187': 636, 'hers': 721, 'crps': 57, 'hereditary': 1092, 'achieving': 1079, 'spit': 367, 'florida': 912, '1995': 488, 'unbearably': 419, 'coated': 1013, 'gently': 651, 'cirrhosis': 1275, 'surrounding': 1130, 'pasta': 371, 'moisturizing': 190, 'acidophilus': 378, 'sucking': 20, 'dryer': 284, 'opt': 1365, 'flakes': 266, 'associate': 923, 'addressed': 1504, '30mins': 542, '80s': 979, 'floating': 742, 'bubble': 742, 'fortune': 202, 'reset': 576, 'damaging': 779, 'ca': 232, 'discontinuation': 1420, 'church': 215, 'dancing': 561, 'sutent': 398, 'attacked': 302, 'insist': 884, 'mega': 939, 'races': 145, '167': 636, 'carcinoma': 232, 'moves': 1295, 'abilities': 153, 'luma': 1413, 'weightloss': 495, 'haze': 1609, 'instability': 216, 'backup': 811, 'salicylic': 1072, 'silver': 1013, 'sporadically': 1632, 'unlikely': 918, 'undetected': 201, 'ruled': 133, 'police': 828, 'discouraging': 159, 'levofloxacin': 177, 'truvada': 173, 'rejected': 576, 'reminds': 1277, 'winner': 1074, 'sales': 441, 'bugs': 64, 'clobex': 810, 'communicate': 1432, 'canadian': 253, 'settles': 87, 'spf': 190, 'safest': 450, '77': 389, 'carries': 668, 'partly': 1357, 'abnormally': 1070, 'topomax': 1280, 'diminishing': 297, 'arguments': 37, 'security': 32, 'realistic': 342, '208': 413, 'freely': 1190, 'figuring': 354, 'beauty': 1098, 'link': 807, 'impressive': 159, 'relaxants': 406, 'description': 1363, 'tecfidera': 1163, '108': 88, 'alter': 74, 'wack': 841, 'doubling': 479, 'exertion': 789, 'boot': 1064, 'ruins': 1696, 'precum': 543, 'cytomel': 681, 'pal': 970, 'lobe': 401, 'drier': 83, 'proscribed': 399, 'honesty': 1427, 'passion': 975, 'prob': 325, 'neupro': 982, 'bomb': 1523, '124': 389, 'cns': 1254, 'garlic': 251, 'rocky': 607, 'shakey': 62, 'bummed': 1697, 'refrigerator': 214, 'pus': 95, 'circle': 834, 'conceived': 1488, 'placing': 913, 'amphetamines': 805, 'fused': 551, 'nits': 128, 'rope': 770, 'zoladex': 825, 'escape': 712, 'bronchial': 116, 'socializing': 1075, 'bandaid': 1130, 'cooling': 303, 'biking': 1064, 'atrophy': 1025, 'diastolic': 1598, 'pointless': 632, 'dilate': 873, 'flutter': 145, 'towels': 141, 'tardive': 971, 'hyperpigmentation': 914, 'challenges': 315, 'coughs': 1601, 'zonegran': 723, 'cocaine': 452, 'animal': 158, 'imo': 940, 'mastectomy': 788, 'dip': 149, 'colchicine': 997, '50mcg': 113, 'boniva': 398, 'clonazapam': 706, 'deserve': 242, 'tank': 141, 'dosed': 68, 'curing': 531, 'loading': 198, 'zipsor': 997, 'gene': 780, '200lbs': 1647, 'forearms': 436, 'rules': 915, 'someday': 1529, 'prescibed': 399, 'video': 665, 'pigmentation': 914, 'screen': 665, 'input': 405, 'lit': 15, 'settling': 845, 'ruminating': 408, 'responsibly': 695, 'susceptible': 1023, 'epileptic': 85, 'aubagio': 398, 'contrary': 1363, 'vaginally': 873, 'suggesting': 394, 'dissolving': 234, 'updating': 1289, 'perception': 1497, 'plays': 619, 'hayfever': 221, 'experimenting': 1499, 'cute': 141, 'prohibitive': 1470, 'vessels': 132, 'professionals': 453, 'heels': 436, 'miraculously': 73, 'lubricant': 402, 'existed': 1583, 'juvenile': 416, 'unnoticeable': 980, 'distant': 1009, 'argue': 814, 'socks': 651, 'plugged': 1449, 'detoxed': 1386, 'icing': 773, 'mon': 1153, 'smelly': 1051, 'pds': 1301, 'math': 1221, '160mg': 341, 'responsibility': 463, 'grain': 378, 'pvc': 456, 'gland': 1106, 'silent': 658, '180mg': 341, 'norethindrone': 885, 'agrees': 1686, 'household': 1221, 'tempted': 549, 'fixes': 1284, '5yrs': 107, 'repetitive': 408, 'evaluate': 54, 'dismissed': 591, 'selling': 1098, 'obsessions': 212, 'sincerely': 1529, 'retrograde': 1004, 'c6': 551, 'updates': 656, 'prayer': 882, 'breaker': 640, 'nauseating': 159, 'jelly': 284, 'flashbacks': 1466, 'idiot': 158, 'vasectomy': 1140, 'applicators': 250, '100mgs': 295, 'talks': 82, 'educated': 611, 'chased': 20, 'normalized': 1288, 'collapsed': 192, 'neurologists': 1689, 'text': 665, 'mothers': 1436, '4hrs': 519, 'claiming': 1486, 'ordeal': 1313, 'snris': 1263, 'retail': 1113, 'thinners': 132, 'trimester': 526, 'reassurance': 1462, 'motivate': 383, 'hydrocortisone': 810, 'compromised': 1314, 'relied': 1341, 'dandruff': 883, 'awakening': 1360, 'discussion': 394, 'costing': 260, '30mgs': 295, '92': 389, 'community': 441, 'keratosis': 920, 'urethra': 1135, 'sublingual': 1610, 'fortesta': 701, 'corners': 672, 'fastest': 73, 'irritates': 335, 'miserably': 1602, 'efficiently': 90, 'recomend': 264, '6months': 107, 'meanwhile': 1329, 'moodswings': 65, 'stupidly': 299, 'existence': 1077, 'welchol': 467, 'reviewing': 77, 'binging': 541, '1300': 776, 'preparing': 1365, '184': 413, 'norepinephrine': 1254, 'fluctuating': 931, 'systolic': 1598, 'raced': 858, 'prices': 915, 'burden': 619, 'dl': 1483, 'anus': 1135, 'fusions': 346, 'budge': 334, 'darkness': 1323, 'klonipin': 1197, '32oz': 20, 'processes': 420, 'incision': 568, 'tetracycline': 1072, 'internally': 1156, 'vaniqa': 810, 'thorough': 523, 'propanolol': 1280, 'prompted': 731, 'harming': 288, 'chalked': 1026, '100mcg': 113, 'eradicated': 84, 'sleepwalking': 670, 'nearest': 292, 'studied': 659, '12hrs': 542, 'ace': 348, 'prison': 1619, 'signed': 1026, 'lortabs': 3, 'stimulating': 356, 'valacyclovir': 1291, 'weed': 388, 'bananas': 371, 'toujeo': 385, 'reg': 385, 'platelets': 1194, '30min': 542, 'medrol': 432, 'understands': 685, '325mg': 1183, 'overtime': 1669, 'refusing': 677, 'alzheimer': 456, 'ppi': 467, 'viorele': 45, 'psychotics': 275, 'chronically': 1397, 'outta': 337, 'doable': 195, 'scattered': 818, '1990': 150, 'hcv': 201, 'cloth': 651, 'strangers': 1432, 'ceiling': 296, 'requesting': 38, 'boil': 1698, 'desert': 1148, 'axert': 1335, 'montelukast': 61, 'steer': 715, 'aggravating': 632, 'peaks': 1114, 'daze': 1609, 'containing': 764, 'tekturna': 1011, 'rich': 614, 'goodbye': 1582, 'journal': 689, 'backwards': 908, 'divorced': 1140, 'unsteady': 1572, 'monodox': 66, 'india': 868, 'heaps': 44, 'avastin': 642, '212': 413, 'sle': 1124, 'located': 1106, '91': 389, '109': 389, 'boring': 391, 'undergoing': 642, 'teach': 383, 'dissipate': 588, 'dependant': 106, 'emphysema': 418, 'proair': 662, 'bee': 135, 'defiantly': 501, 'elderly': 611, 'lactulose': 1693, 'outdoors': 1064, 'cheated': 629, 'antibodies': 1234, 'fluctuated': 931, '182': 636, 'diphenhydramine': 67, 'diane': 231, 'mutation': 780, 'ailments': 355, 'hyperventilating': 1452, 'customers': 326, 'zoned': 354, 'ac': 309, 'puked': 1026, 'alt': 307, 'precautions': 695, 'poisoned': 1615, 'meridia': 475, 'influence': 1463, 'paperwork': 566, 'errin': 885, 'inattentive': 1092, 'onexton': 833, 'hydrate': 637, 'booked': 1630, 'tackle': 1196, 'blotches': 1698, 'scheduling': 1555, 'involving': 1202, 'flair': 1122, 'kgs': 1301, 'nocturnal': 1184, 'generation': 526, '120lbs': 43, 'fishing': 912, 'verses': 409, 'peppermint': 630, 'acquired': 806, 'cheers': 963, 'myrbetriq': 1086, 'baseball': 1522, 'refrigerated': 20, 'media': 453, 'femur': 178, 'peri': 1069, 'indefinitely': 783, 'acidic': 614, 'fillers': 517, 'cataract': 429, 'travelling': 1603, 'lidoderm': 982, 'victim': 106, 'melted': 1180, 'dysthymia': 108, 'handling': 1192, 'u2026': 954, 'weighs': 446, 'blotchy': 896, 'cafergot': 748, 'largest': 989, 'deaths': 37, 'coating': 1013, 'hobbies': 1619, 'file': 312, 'comb': 128, 'amrix': 997, 'circulation': 401, 'massively': 1494, 'actively': 727, 'simvastatin': 11, 'ultrasounds': 1300, 'lomedia': 707, '1992': 488, 'hsv': 1594, 'appealing': 255, 'transitioning': 122, 'haywire': 434, 'intermittently': 1504, 'soccer': 724, 'teary': 391, 'suitable': 784, 'wedge': 20, 'belt': 663, 'impulsivity': 76, 'emsam': 1350, 'sandals': 141, 'progressive': 1124, 'instruction': 1117, 'guidelines': 522, 'soul': 1136, 'retained': 317, 'x3': 423, 'faucet': 382, 'fingernails': 454, 'exciting': 8, 'relative': 1591, 'sauce': 251, 'ranitidine': 467, 'clinically': 1397, 'crowds': 1303, 'suspension': 1056, 'tiniest': 314, '189': 413, 'host': 142, 'dang': 565, 'oa': 794, 'depth': 1497, 'ratings': 328, 'consciousness': 1401, 'commitment': 1386, 'wetness': 1171, 'ultracet': 218, 'discourage': 995, '10lb': 1401, 'desogen': 499, 'nyquil': 309, 'hba1c': 928, 'booze': 185, 'metabolic': 1420, 'grouchy': 172, 'menstruating': 504, 'jerks': 71, 'lifeless': 208, 'noting': 664, 'dea': 32, 'nubain': 972, 'dope': 653, 'drawbacks': 365, 'hpv': 1269, 'sport': 533, 'peed': 1507, 'succeed': 447, 'cyclobenzaprine': 218, 'undesirable': 1402, 'estring': 1352, 'distressing': 159, 'clinics': 1242, 'zepatier': 924, 'hypersomnia': 1127, 'raises': 59, 'resisted': 677, 'eager': 1207, 'sixteen': 769, 'ain': 359, '160lbs': 43, 'manufactured': 253, 'plant': 874, 'sternum': 178, 'hoarseness': 981, 'bank': 215, 'unsuccessfully': 930, 'toothpaste': 284, 'cannabis': 1407, '1993': 488, 'snoring': 981, 'teaching': 895, 'emergencies': 1354, 'advocate': 106, 'cage': 286, 'roxy': 622, 'complains': 1686, 'anaphylaxis': 1202, 'l1': 551, 'curbing': 230, '218': 413, 'adjunct': 158, 'levlen': 707, 'j': 1459, 'bounce': 1138, 'lymphoma': 788, 'elsewhere': 1273, 'plug': 144, 'cos': 717, 'completly': 487, 'tonic': 1184, 'interferes': 1696, 'articles': 545, '1a': 1594, 'enzyme': 1275, 'screening': 53, 'scam': 1363, 'deliver': 1316, 'halcion': 67, 'cents': 353, 'doped': 1026, 'resection': 209, 'struck': 302, '31st': 698, '94': 389, 'straighten': 354, 'lesion': 1106, 'achiness': 1095, 'internist': 898, 'highschool': 1191, 'oc': 1500, 'shook': 414, 'choke': 845, 'overseas': 1383, 'processing': 420, 'dab': 284, 'concluded': 146, 'multivitamin': 378, 'looser': 92, 'incapacitated': 302, 'abusive': 1383, 'pots': 1420, 'labeled': 152, 'moderation': 1579, 'c4': 551, 'material': 117, 'clomipramine': 235, 'prune': 630, 'reconsider': 584, 'pour': 968, 'blogs': 545, 'node': 1106, 'incidents': 431, 'brave': 444, 'flakey': 896, 'ropinirole': 673, 'purely': 97, 'cognition': 1281, 'feminine': 284, 'finds': 1686, '320': 1483, 'loses': 1474, 'taclonex': 618, 'fibrosis': 788, 'golytely': 180, 'amnesia': 903, 'tablespoons': 1409, 'avid': 1571, 'arousal': 1435, 'elementary': 895, 'reassured': 290, 'scrub': 284, 'doze': 1042, 'clenched': 474, 'hysterically': 247, 'refund': 1098, 'garden': 1268, 'lube': 402, 'ophthalmologist': 898, 'dragging': 1668, 'speedy': 69, 'scored': 601, 'tilted': 301, 'excruciatingly': 1225, '217': 636, 'sleeve': 223, 'sp': 1689, 'nosebleeds': 1340, 'layers': 1171, 'crucial': 1093, '114': 88, 'excitement': 1323, 'rocking': 804, 'colcrys': 997, 'kindergarten': 488, 'deprivation': 1110, 'hypoglycemia': 507, 'jealous': 745, 'prolapse': 1099, 'hesitation': 921, 'imipramine': 1350, 'apt': 217, 'pumping': 858, '168': 636, 'stare': 296, 'simplest': 314, 'thread': 281, 'dizzyness': 1095, 'divided': 601, '138': 88, 'toned': 845, 'wherever': 4, 'horses': 1653, 'remarkably': 138, 'atopic': 920, 'unplanned': 1233, 'zocor': 11, 'ravenous': 230, 'primidone': 1011, 'eg': 91, 'grass': 583, 'administering': 716, '173': 636, 'shifted': 1244, 'mindset': 1415, '1600': 776, 'deteriorated': 1288, 'stepping': 479, 'persevere': 709, 'cleans': 33, 'relistor': 1352, 'marrow': 1438, 'heaves': 572, 'tossed': 823, '194': 636, 'cow': 792, 'rytary': 173, 'decongestant': 940, 'packing': 500, 'development': 1035, '186': 413, 'blast': 916, 'flooding': 1374, 'surroundings': 1036, 'nicoderm': 982, 'sheer': 384, 'balm': 284, 'rinsing': 648, 'tools': 1604, 'nipple': 606, 'welcomed': 159, 'malarone': 983, 'enjoyment': 975, 'rocket': 1231, 'tizanidine': 218, 'flexibility': 436, 'vital': 1093, 'hypnosis': 682, 'anniversary': 620, 'traffic': 386, 'foreplay': 207, 'phases': 659, '235': 413, 'impression': 1463, 'sigh': 778, '265': 636, 'fades': 730, 'operate': 1199, 'bars': 22, 'xeljanz': 1228, 'interviews': 215, 'arguing': 37, '90s': 979, 'intimacy': 458, 'oldest': 244, 'tier': 1560, 'websites': 545, 'donut': 316, 'chemically': 1236, 'indication': 956, 'basketball': 724, 'bayer': 919, 'scent': 1016, 'rat': 1651, 'vice': 1535, 'void': 765, '213': 413, 'ratio': 26, 'radical': 788, 'weirdest': 162, 'hoarse': 339, 'shutting': 1515, 'singing': 577, 'blanket': 1148, 'spelling': 1558, 'lotronex': 415, 'micro': 833, 'mets': 660, 'hug': 927, 'lorazapam': 1197, 'jc': 1528, 'sisters': 721, 'clobetasol': 303, 'biotic': 275, 'gw': 130, 'united': 316, 'maoi': 39, 'cheerful': 708, 'crush': 200, 'ureter': 788, 'clumsy': 391, 'questioned': 480, 'worsens': 869, 'midwife': 1312, 'linger': 588, 'exaggeration': 1460, 'simultaneously': 1154, '106': 88, 'chaser': 20, 'enthusiasm': 988, 'cooked': 371, 'motorcycle': 386, 'literal': 238, 'platelet': 307, 'diary': 689, 'experimented': 1499, 'ranged': 548, '54mg': 183, 'derealization': 387, 'actemra': 398, 'enduring': 531, 'writhing': 967, 'prego': 1140, 'facts': 1338, '206': 636, 'shattered': 192, 'compliant': 1287, 'glucophage': 1278, 'taught': 591, 'ingesting': 555, 'dragged': 446, 'upwards': 693, 'predicted': 1645, 'hurry': 469, 'wounds': 1698, 'endep': 41, 'weeping': 1575, 'adhere': 234, 'antacids': 259, 'caved': 761, 'augment': 1212, 'enables': 1020, 'rationally': 809, 'sympathetic': 935, 'lied': 1166, 'expelled': 913, 'strip': 1409, 'dilation': 1589, 'packed': 276, 'desires': 1210, 'touches': 1182, 'pun': 379, 'amplified': 84, 'argument': 158, 'interacts': 375, 'veltin': 833, 'indicate': 1154, 'deserves': 1378, 'rods': 346, 'prominent': 400, 'drugstore': 292, 'sheet': 1550, 'compares': 1569, 'gallstones': 1244, 'manufacturing': 253, 'cars': 386, 'aspergers': 1420, 'actavis': 253, 'exceptional': 1390, 'routinely': 4, 'softball': 1522, 'demand': 912, 'rinsed': 648, 'akathesia': 971, 'jogging': 1064, 'blaming': 127, 'stint': 1054, 'cookies': 371, 'c7': 551, 'elimination': 1443, 'throats': 105, 'clinique': 1072, '158': 88, 'sprite': 20, 'clench': 474, 'incase': 1349, 'scaly': 896, 'suspicious': 320, '174': 636, 'gloves': 4, 'unbalanced': 69, 'serving': 371, 'napping': 315, 'honeymoon': 1616, 'quits': 1030, 'nauseousness': 197, 'diabetics': 1090, 'olive': 319, 'soothe': 251, 'lonely': 208, 'timed': 744, 'nostrils': 1295, 'grandma': 1541, 'rogaine': 810, 'jog': 872, 'vera': 284, '40mgs': 295, 'strenuous': 1477, 'separately': 575, 'lighting': 1018, 'osteo': 1025, 'basket': 876, 'merely': 860, 'hydro': 3, 'tar': 167, 'bland': 614, 'scabs': 233, 'pouring': 228, 'winded': 285, 'embrel': 100, 'mobile': 90, 'cogentin': 1280, 'lid': 651, 'bio': 1104, 'stoped': 147, 'attest': 849, 'gains': 1041, 'fifty': 16, '10mcg': 113, 'transdermal': 982, 'binges': 541, 'anesthesiologist': 7, 'hashimotos': 1124, 'remotely': 888, 'prunes': 251, '93': 1483, 'indescribable': 532, 'scaling': 266, 'lenses': 4, 'petrified': 633, 'satisfactory': 1334, 'tricks': 856, 'traveled': 285, 'dirt': 1024, 'sacrifice': 927, 'scene': 165, 'bucket': 694, 'colace': 760, '16mg': 341, 'oops': 524, 'lunatic': 464, 'gambling': 452, 'comparing': 1569, 'outburst': 158, 'sipping': 968, 'dissolved': 234, 'recieved': 1309, 'donnatal': 1597, 'sliced': 1593, 'classified': 802, 'rooms': 63, 'encouraging': 1253, 'marginally': 1046, 'counted': 1400, 'norcos': 3, '50s': 979, 'grad': 895, 'stabilization': 216, 'xeloda': 983, '5kg': 1401, 'answered': 394, 'truthfully': 1582, '3weeks': 176, 'angered': 391, 'mellowed': 354, 'impotence': 347, 'vet': 852, 'hemoglobin': 307, 'nexaplanon': 99, 'progressing': 420, 'partners': 362, 'maxed': 354, 'labia': 1135, 'nicer': 83, 'tonsillitis': 1167, 'observed': 1486, '81': 1571, 'proceed': 375, 'temple': 286, 'orap': 673, 'polish': 4, 'transient': 971, 'erythromycin': 1072, 'hasnt': 187, '5mcg': 113, 'barrett': 456, 'isolation': 755, 'commenting': 21, 'zumba': 72, 'performing': 1688, '226': 413, 'mexico': 868, 'kapvay': 183, 'overdrive': 699, 'expressed': 591, 'potty': 1318, 'crutch': 802, '166': 636, 'grind': 474, 'serzone': 1350, 'vehicle': 386, 'wallet': 1262, 'mommy': 927, '115lbs': 43, 'deteriorating': 10, 'individuals': 560, 'inr': 307, 'education': 441, '116': 389, 'jerk': 1515, 'cimzia': 1228, 'vastly': 138, 'denavir': 303, 'pharm': 1098, 'obsession': 614, 'calmly': 809, 'preg': 1455, 'distract': 383, 'mountain': 1551, 'decently': 73, 'vit': 879, 'amox': 1134, 'mm': 26, '20yrs': 857, '360': 1483, 'attending': 210, 'troubling': 918, 'pressures': 768, 'ingrown': 978, 'records': 1166, 'deathly': 1068, 'amerge': 1335, 'unfocused': 745, 'iraq': 150, 'obtained': 1309, 'deed': 257, 'countries': 274, 'begining': 1631, 'documented': 901, '25mcg': 113, 'crutches': 1329, 'join': 927, 'financially': 78, 'birds': 1519, 'insignificant': 1381, 'systane': 1352, 'named': 802, '107': 88, 'facet': 119, '113': 88, 'nonsense': 114, 'unrelenting': 1439, 'sensory': 23, 'guaranteed': 616, 'rings': 1171, 'stimulator': 1681, 'knot': 1625, 'zopiclone': 67, 'tail': 192, 'mouthwash': 630, 'oab': 1684, '14lbs': 1401, 'nearby': 694, 'niaspan': 173, 'brace': 1329, 'peach': 92, 'namenda': 723, 'manufacture': 919, '142': 88, 'organ': 788, 'sends': 87, 'skeptic': 199, 'grapefruit': 251, 'odt': 211, 'septra': 94, 'dept': 828, 'sided': 401, 'diarhea': 1672, 'chiropractic': 497, 'vegetarian': 874, 'paralyzing': 387, 'dates': 1567, 'clav': 1134, 'senses': 856, 'fosamax': 983, '132': 88, 'nasacort': 940, 'mlt': 1335, '188': 58, 'neg': 1133, 'glue': 477, 'johnson': 1420, '3days': 519, 'brisdelle': 673, 'fri': 1153, 'medicinal': 453, 'menses': 460, 'desoxyn': 805, 'alas': 1480, 'shivers': 1002, 'oic': 1164, 'oozing': 1495, 'marketed': 802, 'sees': 685, 'livable': 195, 'stressors': 246, 'neulasta': 642, 'grains': 371, 'abs': 436, 'tended': 554, 'buproprion': 625, 'swapped': 594, 'bismol': 259, 'fond': 1186, 'lateral': 57, 'injector': 135, 'd3': 879, 'scenario': 876, 'occipital': 1003, 'limping': 1668, 'reply': 1166, 'ranges': 548, 'pressing': 794, 'cancerous': 232, 'installed': 224, 'utter': 532, 'pseudoephedrine': 309, 'disruptive': 159, 'stuttering': 728, 'thickness': 978, 'wellness': 1166, 'judging': 963, 'detailed': 159, 'junkie': 792, 'urged': 842, '183': 413, 'diluted': 20, 'dissociation': 1466, 'sjogrens': 1124, 'baking': 251, 'referral': 842, 'hateful': 391, 'perles': 830, 'carafate': 997, 'ingestion': 222, 'coworker': 721, 'disruption': 1110, '60s': 979, 'beast': 1571, 'african': 1376, 'pacemaker': 788, 'mayo': 828, 'bursting': 908, 'daliresp': 1163, 'lies': 986, 'crashes': 1044, 'exacerbation': 1054, 'sickly': 631, 'register': 482, 'cm': 26, 'moral': 1403, 'hospitalised': 1346, 'golden': 1253, 'actiq': 997, 'pages': 281, 'paste': 651, 'mediation': 473, 'inducing': 1650, 'fuse': 1478, 'squeezing': 540, 'dressing': 319, 'boyfriends': 1619, 'toxins': 841, 'antacid': 47, 'tripled': 59, 'scratched': 896, '175lbs': 58, 'witch': 1620, 'judgement': 153, 'rythmol': 1086, 'malaria': 1506, 'immodium': 378, 'inflamation': 1025, 'fluttering': 145, 'moisturizers': 167, 'deployed': 945, 'evident': 400, 'hectic': 727, 'wink': 713, 'flights': 829, 'raynaud': 456, 'greatful': 89, 'herniation': 551, 'microgynon': 707, 'mar': 24, '238': 413, 'loop': 53, 'spin': 1024, 'english': 611, 'genetics': 780, 'moist': 651, 'confined': 1485, 'fistula': 381, 'parking': 1000, 'dent': 1587, 'youth': 169, 'shaped': 1656, 'restriction': 614, 'flowing': 969, 'zyclara': 810, 'elated': 124, 'bloods': 53, '3000': 776, 'sep': 24, '2xday': 1183, 'loaded': 319, 'corrected': 1216, 'svt': 40, 'attractive': 1143, 'nitro': 177, 'irregularly': 1214, 'hangovers': 831, 'shin': 178, 'trisprintec': 707, 'bust': 414, 'anorexic': 1287, '180lbs': 636, 'pacing': 823, 'identify': 1416, 'planet': 1101, 'brilinta': 1086, 'wedges': 20, 'reddish': 1052, 'carac': 810, 'increments': 539, 'exaggerated': 901, 'normality': 1577, '211': 413, 'elliptical': 711, 'lemons': 20, 'polyp': 1198, 'stitches': 192, '191': 636, 'tune': 751, 'inherited': 1276, 'priceless': 860, 'secure': 1087, 'autistic': 1092, 'nutrients': 614, 'sprycel': 1163, 'engage': 447, 'iffy': 199, 'sped': 1026, 'females': 1160, 'dye': 1013, 'escalated': 84, 'stain': 1171, 'farther': 256, '2months': 1685, 'depleted': 49, 'bliss': 384, 'shrank': 1454, 'unconscious': 1451, 'teenagers': 904, 'sleeves': 223, '45lbs': 140, 'absorbing': 762, 'takin': 555, 'humor': 1323, 'skincare': 1072, 'flareups': 431, 'prefilled': 649, 'labour': 595, 'drawing': 812, 'metro': 833, 'nodding': 639, 'nada': 1102, 'eyelid': 739, 'vascular': 91, 'bitchy': 172, 'stretches': 1221, 'charged': 1113, 'relation': 194, 'surge': 1118, 'blackouts': 670, 'tissues': 110, 'de': 1433, 'lightening': 737, 'rates': 1099, 'sharper': 83, 'fourteen': 51, 'deficient': 507, 'meats': 371, 'dilauded': 622, '170lbs': 636, 'symbyax': 41, 'abroad': 1603, 'flake': 896, '123': 88, 'rude': 745, 'payment': 1560, 'predisone': 983, 'orthostatic': 1420, 'justify': 54, 'defect': 361, 'sotalol': 1086, 'tricyclic': 1263, 'flutters': 145, 'deodorants': 167, 'hypersensitive': 801, 'extract': 251, 'jacket': 141, '145lbs': 43, 'strained': 10, 'fluvoxamine': 1010, 'pulls': 446, 'fitbit': 970, 'cardura': 467, 'hidden': 1585, 'proton': 1065, 'cml': 418, 'rotten': 239, 'alleviates': 1641, 'freezer': 214, 'crotch': 892, 'sprayed': 64, 'abated': 1504, 'masks': 583, 'incapable': 967, 'registered': 852, 'velivet': 45, 'prevpac': 177, 'consultation': 394, 'mr': 1671, 'satisfying': 400, 'mitral': 1099, 'jitteriness': 357, 'students': 274, 'holistic': 465, 'output': 646, 'pellets': 1393, 'hemorrhoid': 1135, 'berry': 630, 'psychologically': 600, 'aweful': 143, 'exacerbate': 1370, 'wrenching': 1467, 'softened': 219, 'ramipril': 173, 'eighteen': 262, 'mineral': 630, 'eeg': 53, 'senokot': 1351, 'meningitis': 102, '111': 389, 'icky': 1572, 'rejecting': 576, 'blues': 1323, 'develops': 1634, 'guidance': 394, 'detectable': 201, 'ligation': 562, 'bras': 663, 'tx': 429, 'swab': 53, 'combating': 531, 'vestura': 45, '216': 636, 'tid': 1183, 'newborn': 244, 'patent': 915, 'steel': 192, 'perscription': 245, 'lacked': 459, 'optimism': 1323, 'overuse': 1172, 'weakened': 540, 'damp': 651, 'yuvafem': 701, 'blistered': 1698, 'sand': 742, 'distracting': 1621, 'mall': 63, 'compressed': 551, 'prednisolone': 467, 'tech': 210, 'twisting': 436, 'rages': 252, 'epi': 47, '48hrs': 542, 'kiss': 927, 'warrant': 444, 'exclusively': 1296, 'starch': 371, 'cheapest': 919, 'disturbance': 151, '245': 636, 'chugging': 968, 'estrin': 1430, '1989': 150, 'sedentary': 727, 'losses': 727, 'fixing': 938, 'thirties': 979, 'fart': 1678, 'appendix': 606, 'metabolize': 1316, 'routines': 315, 'lids': 734, '200mgs': 341, 'worthy': 1253, '196': 636, 'retina': 1340, 'dedicated': 945, 'accompanying': 1641, '127': 88, 'chunks': 834, 'consequently': 611, 'sofa': 466, 'hyperhydrosis': 844, 'plague': 382, 'overdosed': 152, '240mg': 341, 'halt': 437, 'iced': 20, 'precipitated': 452, 'sing': 927, 'jacked': 1026, 'na': 120, 'aide': 1110, 'mirtazipine': 170, 'furthermore': 935, 'bathing': 141, 'fanapt': 1010, 'operating': 60, 'monostat': 649, 'restricted': 678, 'fasciitis': 1025, 'depressions': 496, 'indocin': 997, 'drama': 37, '179': 413, 'l2': 551, 'scenarios': 876, 'physiological': 323, 'reclast': 429, 'caloric': 767, 'morn': 269, 'profile': 880, 'smh': 1471, '197': 636, 'convincing': 127, 'faithful': 1391, '181': 413, 'digest': 614, 'construction': 1268, 'electrolyte': 20, 'guanfacine': 183, 'soothes': 1417, 'impulsiveness': 76, 'irregularity': 395, 'atorvastatin': 11, 'dreamed': 819, 'closet': 1262, 'vicoden': 622, 'balancing': 841, 'channel': 85, '209': 413, '145mg': 1633, 'benzonatate': 830, '163': 88, 'employer': 160, 'esophageal': 624, 'limb': 393, '224': 413, 'virgin': 1097, '119': 389, 'ellaone': 1554, 'glow': 911, 'exponentially': 1494, 'nutritionist': 322, 'fluctuation': 1041, 'stretched': 414, '233': 413, 'separation': 154, 'indicates': 1154, 'trail': 1533, 'guessed': 468, 'recreational': 1172, 'inappropriate': 247, 'stimulated': 69, 'hazy': 818, 'plates': 346, 'yards': 872, 'furious': 1666, 'xray': 381, 'ance': 920, 'naloxone': 1407, 'qualified': 842, 'unavailable': 1216, 'undergo': 429, 'persevered': 1298, 'ppd': 1361, 'aromasin': 398, 'triggering': 1466, 'fluctuates': 1041, 'downed': 968, 'surgeons': 1242, 'stumbling': 728, 'minoxidil': 61, '125lbs': 43, 'twisted': 1625, 'blinding': 658, 'paleo': 874, 'brick': 722, 'progresses': 1675, 'battery': 694, 'palsy': 192, 'hump': 1040, 'carvedilol': 493, 'clearest': 911, 'lash': 446, 'marvelon': 707, 'apriso': 983, 'hysterical': 247, 'enormously': 377, 'pepper': 630, 'brink': 1209, 'releases': 762, 'reward': 1665, 'cards': 1098, '177': 636, '192': 636, 'fidgety': 391, 'ads': 545, 'methocarbamol': 218, 'whopping': 636, 'responsibilities': 315, '219': 413, 'repeating': 804, '17lbs': 1401, 'slurring': 728, 'cc': 130, 'resorted': 1293, 'shallow': 603, 'temperatures': 1147, 'wee': 1000, 'ocean': 1016, 'click': 1530, 'ef': 130, 'observation': 882, 'markedly': 1494, 'millions': 1200, 'pluck': 1646, 'inflammatories': 275, '1994': 150, 'hcg': 497, 'neosporin': 303, 'cola': 630, 'impulses': 610, 'oxymorphone': 471, 'canker': 1121, 'interrupt': 1549, 'quasense': 499, 'slices': 20, 'mechanism': 1236, '6x': 423, 'mosquito': 1698, 'bang': 1694, '201': 636, 'bitch': 1498, '350mg': 341, 'ultimate': 1170, 'cent': 130, 'collected': 1087, 'readily': 1098, 'language': 153, 'excuses': 1643, 'perspiration': 920, 'genuine': 860, 'lingers': 1539, 'agoraphobic': 391, 'tomato': 319, 'rides': 215, 'withdraws': 268, 'champ': 382, 'resolves': 392, 'asks': 685, 'merck': 79, 'spur': 192, 'climbed': 336, 'overthinking': 1208, '156': 88, 'blur': 246, 'funky': 239, 'hydration': 251, '199': 413, 'flew': 1042, 'miscarried': 1320, 'tenormin': 467, 'echo': 381, 'azurette': 707, 'measures': 1286, '202': 636, 'valsartan': 173, 'recollection': 1162, 'tie': 510, 'osteopenia': 300, 'dulls': 1641, '203': 636, 'chinese': 465, 'tradjenta': 1278, 'breathed': 581, 'alopecia': 300, 'twinge': 1144, 'abt': 680, 'panics': 387, '11lbs': 1401, 'remedied': 1504, 'deter': 995, 'fantastically': 73, 'intervention': 756, 'growling': 265, 'infertility': 1198, 'fancy': 1648, 'cambia': 972, 'arrest': 111, 'ejaculations': 1435, 'throne': 1318, 'adrenal': 788, 'fm': 57, 'sale': 160, 'bricks': 722, 'alleviating': 1605, 'debilitated': 49, 'admittedly': 1033, 'contemplated': 1038, 'qualify': 79, 'hytrin': 467, 'iam': 1168, 'extracted': 726, 'persons': 93, '35lbs': 140, 'vial': 312, 'healthily': 874, 'vials': 662, 'melts': 1180, 'reminding': 127, '35mg': 98, 'robitussin': 309, 'eyed': 391, 'probs': 1045, 'septic': 102, 'dwell': 174, 'localized': 1173, 'executive': 611, 'goodluck': 417, 'kapidex': 1597, 'heated': 1018, 'demanded': 38, 'bulk': 251, 'anastrozole': 398, '8hrs': 519, 'hypochondria': 1466, 'steriod': 380, 'objects': 1653, 'bcs': 274, 'jaws': 10, 'tighten': 1646, 'puncture': 1681, 'hfa': 662, 'falmina': 45, 'laws': 462, 'vascepa': 1194, 'pramipexole': 673, 'comforting': 632, 'elephant': 158, 'bg': 1194, 'regularity': 1330, 'communication': 420, 'fee': 1113, 'brains': 841, 'obstruction': 209, 'sounding': 1058, 'impending': 532, 'craziness': 1162, 'untill': 1505, 'interestingly': 1421, 'citrus': 630, 'dystrophy': 935, 'pred': 1086, 'coz': 1554, 'vacations': 215, 'funk': 1024, 'consists': 1088, 'cortizone': 380, 'possibilities': 864, 'ast': 307, 'urinated': 1507, 'horizant': 997, 'poke': 1464, 'tricor': 11, 'fraction': 445, 'meltdown': 327, 'multitude': 142, 'slide': 312, 'fries': 1, 'lawsuit': 882, 'insanity': 1209, 'brothers': 244, 'retested': 307, 'circles': 1295, 'zpack': 177, 'email': 882, 'mc': 20, 'sumavel': 380, 'flector': 982, 'fishy': 1051, 'rave': 1094, '229': 413, 'firmly': 986, 'ambition': 988, 'stabilizes': 216, 'benlysta': 398, 'filter': 1013, 'burp': 623, 'infrequently': 159, '134': 88, 'assisted': 213, 'anhedonia': 755, 'insight': 405, 'wetting': 390, 'spurts': 368, '207': 413, 'nd': 176, 'swears': 302, 'cautiously': 1289, 'england': 868, 'distances': 829, 'hid': 426, 'pan': 228, 'brushed': 1428, 'hs': 441, 'rubber': 742, 'tbsp': 781, 'tick': 1420, 'player': 852, '1987': 488, 'club': 462, 'streets': 908, 'tan': 4, 'eighth': 14, 'pops': 15, 'manifested': 1466, 'outdoor': 724, 'mimic': 941, 'colleagues': 326, 'reappeared': 1600, 'thyroidectomy': 1275, 'averaged': 130, '150mgs': 341, '2days': 176, 'migrane': 917, 'normalcy': 775, 'barrier': 132, 'gardening': 1221, 'examination': 381, 'ordering': 38, 'tricare': 1113, 'evidently': 1627, 'maniac': 464, 'sits': 1130, 'sweater': 141, 'rite': 292, 'dieted': 171, 'havnt': 790, 'congestive': 1099, 'completion': 222, 'pac': 94, '24mg': 341, '110lbs': 43, 'leaked': 648, 'emptied': 961, 'joking': 708, 'toner': 190, 'realization': 1576, 'kaiser': 316, '154': 88, 'periactin': 830, 'si': 794, 'awfully': 1225, 'practicing': 38, 'trained': 842, 'amd': 1557, 'cytotec': 873, 'topped': 367, 'weirdly': 444, 'agreeing': 164, 'leery': 199, 'topic': 1531, 'acl': 123, 'craziest': 1475, 'harmless': 1447, 'optic': 1025, 'genitals': 110, 'camp': 1123, 'widespread': 1173, 'dependable': 255, 'decides': 360, '148': 88, 'wellbeing': 459, 'pressured': 146, 'appendicitis': 146, 'uninterrupted': 1110, 'herion': 653, 'masked': 302, 'sob': 1432, 'edex': 1352, 'intention': 1162, 'fissure': 771, 'hardcore': 598, 'license': 1619, 'satisfy': 1635, 'recliner': 561, 'potatoes': 1, 'eyeballs': 133, 'regretting': 1306, 'doxylamine': 511, 'rizatriptan': 211, 'pulmonologist': 403, 'absurd': 720, 'multaq': 1086, 'asperger': 456, 'athletes': 1025, 'plucking': 978, '25mgs': 1633, 'contributes': 280, 'spiraled': 602, 'canasa': 830, 'compulsion': 614, 'unemployed': 910, 'centre': 111, 'spiraling': 602, 'pinpoint': 849, 'doseage': 539, 'unreasonable': 532, 'sandoz': 894, 'billion': 130, 'minimally': 1046, 'paint': 583, 'buildup': 271, 'odds': 365, 'temporal': 401, 'queasiness': 357, 'es': 3, 'risking': 49, 'wbc': 1194, 'gun': 1456, 'pursue': 1170, 'forearm': 436, 'zyvox': 116, 'amiodarone': 1086, 'aneurysm': 401, 'digging': 446, '122': 88, 'stomachache': 197, 'cerebri': 1558, 'se': 1117, 'labels': 1550, 'youtube': 791, 'throws': 1473, 'rag': 651, 'fl': 868, 'piercing': 1367, 'degenerated': 119, 'mints': 251, 'seeming': 1526, 'hike': 1064, 'inevitable': 1545, 'adulthood': 289, 'headachy': 62, 'cyclin': 1413, 'redder': 83, 'explore': 709, 'collapse': 285, 'leaks': 1495, 'annoy': 814, 'notch': 845, 'pml': 1528, 'hypnotic': 735, 'transferred': 1346, 'scaledown': 566, 'lingered': 1539, 'depress': 1235, 'spins': 60, 'antisocial': 1258, 'fats': 1, 'flashing': 1468, 'fashioned': 857, 'films': 827, '45am': 559, 'salts': 805, 'linyah': 1413, 'reads': 360, 'histamine': 275, 'encounter': 1435, 'drowning': 946, 'promoted': 1509, 'productivity': 1281, 'evekeo': 805, 'bleeder': 1691, 'lorzone': 997, 'pinches': 1502, 'embolisms': 102, 'greek': 371, 'intravenously': 330, 'beard': 30, 'combivent': 662, '1g': 341, 'twin': 721, 'vagisil': 303, 'bcbs': 1113, 'rehabs': 449, 'refreshing': 632, 'substances': 48, 'crown': 978, 'animals': 441, 'contrast': 160, 'involves': 1201, '87': 16, '121': 88, 'loloestrin': 1430, 'papers': 1550, 'teas': 251, 'meniere': 456, 'augmentation': 667, 'midst': 56, 'laparoscopy': 746, 'describing': 1486, 'swells': 15, 'attracted': 546, 'eyelashes': 369, 'perforated': 961, 'diaphragm': 540, 'concoction': 1016, 'pouch': 1130, 'prepping': 180, 'blog': 281, 'neurosurgeon': 7, 'metastatic': 660, 'aggrenox': 1086}\n"
     ]
    },
    {
     "name": "stdout",
     "output_type": "stream",
     "text": [
      "\r\tCreating Feature Vectors for reviews ..\t[          ]  0% Completed.\r\tCreating Feature Vectors for reviews ..\t[          ]  0% Completed.\r\tCreating Feature Vectors for reviews ..\t[          ]  0% Completed.\r\tCreating Feature Vectors for reviews ..\t[          ]  0% Completed.\r\tCreating Feature Vectors for reviews ..\t[          ]  0% Completed.\r\tCreating Feature Vectors for reviews ..\t[          ]  0% Completed.\r\tCreating Feature Vectors for reviews ..\t[          ]  0% Completed.\r\tCreating Feature Vectors for reviews ..\t[          ]  0% Completed.\r\tCreating Feature Vectors for reviews ..\t[          ]  0% Completed.\r\tCreating Feature Vectors for reviews ..\t[          ]  0% Completed.\r\tCreating Feature Vectors for reviews ..\t[          ]  0% Completed.\r\tCreating Feature Vectors for reviews ..\t[          ]  0% Completed.\r\tCreating Feature Vectors for reviews ..\t[          ]  0% Completed.\r\tCreating Feature Vectors for reviews ..\t[          ]  1% Completed.\r\tCreating Feature Vectors for reviews ..\t[          ]  1% Completed.\r\tCreating Feature Vectors for reviews ..\t[          ]  1% Completed."
     ]
    },
    {
     "name": "stdout",
     "output_type": "stream",
     "text": [
      "\r\tCreating Feature Vectors for reviews ..\t[          ]  1% Completed.\r\tCreating Feature Vectors for reviews ..\t[          ]  1% Completed.\r\tCreating Feature Vectors for reviews ..\t[          ]  1% Completed.\r\tCreating Feature Vectors for reviews ..\t[          ]  1% Completed.\r\tCreating Feature Vectors for reviews ..\t[          ]  1% Completed.\r\tCreating Feature Vectors for reviews ..\t[          ]  1% Completed.\r\tCreating Feature Vectors for reviews ..\t[          ]  1% Completed.\r\tCreating Feature Vectors for reviews ..\t[          ]  1% Completed.\r\tCreating Feature Vectors for reviews ..\t[          ]  1% Completed.\r\tCreating Feature Vectors for reviews ..\t[          ]  1% Completed.\r\tCreating Feature Vectors for reviews ..\t[          ]  2% Completed.\r\tCreating Feature Vectors for reviews ..\t[          ]  2% Completed.\r\tCreating Feature Vectors for reviews ..\t[          ]  2% Completed.\r\tCreating Feature Vectors for reviews ..\t[          ]  2% Completed.\r\tCreating Feature Vectors for reviews ..\t[          ]  2% Completed."
     ]
    },
    {
     "name": "stdout",
     "output_type": "stream",
     "text": [
      "\r\tCreating Feature Vectors for reviews ..\t[          ]  2% Completed.\r\tCreating Feature Vectors for reviews ..\t[          ]  2% Completed.\r\tCreating Feature Vectors for reviews ..\t[          ]  2% Completed.\r\tCreating Feature Vectors for reviews ..\t[          ]  2% Completed.\r\tCreating Feature Vectors for reviews ..\t[          ]  2% Completed.\r\tCreating Feature Vectors for reviews ..\t[          ]  2% Completed.\r\tCreating Feature Vectors for reviews ..\t[          ]  2% Completed.\r\tCreating Feature Vectors for reviews ..\t[          ]  2% Completed.\r\tCreating Feature Vectors for reviews ..\t[          ]  3% Completed.\r\tCreating Feature Vectors for reviews ..\t[          ]  3% Completed.\r\tCreating Feature Vectors for reviews ..\t[          ]  3% Completed.\r\tCreating Feature Vectors for reviews ..\t[          ]  3% Completed.\r\tCreating Feature Vectors for reviews ..\t[          ]  3% Completed.\r\tCreating Feature Vectors for reviews ..\t[          ]  3% Completed.\r\tCreating Feature Vectors for reviews ..\t[          ]  3% Completed.\r\tCreating Feature Vectors for reviews ..\t[          ]  3% Completed."
     ]
    },
    {
     "name": "stdout",
     "output_type": "stream",
     "text": [
      "\r\tCreating Feature Vectors for reviews ..\t[          ]  3% Completed.\r\tCreating Feature Vectors for reviews ..\t[          ]  3% Completed.\r\tCreating Feature Vectors for reviews ..\t[          ]  3% Completed.\r\tCreating Feature Vectors for reviews ..\t[          ]  3% Completed.\r\tCreating Feature Vectors for reviews ..\t[          ]  3% Completed.\r\tCreating Feature Vectors for reviews ..\t[          ]  4% Completed.\r\tCreating Feature Vectors for reviews ..\t[          ]  4% Completed.\r\tCreating Feature Vectors for reviews ..\t[          ]  4% Completed.\r\tCreating Feature Vectors for reviews ..\t[          ]  4% Completed.\r\tCreating Feature Vectors for reviews ..\t[          ]  4% Completed.\r\tCreating Feature Vectors for reviews ..\t[          ]  4% Completed.\r\tCreating Feature Vectors for reviews ..\t[          ]  4% Completed.\r\tCreating Feature Vectors for reviews ..\t[          ]  4% Completed.\r\tCreating Feature Vectors for reviews ..\t[          ]  4% Completed."
     ]
    },
    {
     "name": "stdout",
     "output_type": "stream",
     "text": [
      "\r\tCreating Feature Vectors for reviews ..\t[          ]  4% Completed.\r\tCreating Feature Vectors for reviews ..\t[          ]  4% Completed.\r\tCreating Feature Vectors for reviews ..\t[          ]  4% Completed.\r\tCreating Feature Vectors for reviews ..\t[          ]  4% Completed.\r\tCreating Feature Vectors for reviews ..\t[*         ]  5% Completed.\r\tCreating Feature Vectors for reviews ..\t[*         ]  5% Completed.\r\tCreating Feature Vectors for reviews ..\t[*         ]  5% Completed.\r\tCreating Feature Vectors for reviews ..\t[*         ]  5% Completed.\r\tCreating Feature Vectors for reviews ..\t[*         ]  5% Completed.\r\tCreating Feature Vectors for reviews ..\t[*         ]  5% Completed.\r\tCreating Feature Vectors for reviews ..\t[*         ]  5% Completed.\r\tCreating Feature Vectors for reviews ..\t[*         ]  5% Completed.\r\tCreating Feature Vectors for reviews ..\t[*         ]  5% Completed.\r\tCreating Feature Vectors for reviews ..\t[*         ]  5% Completed."
     ]
    },
    {
     "name": "stdout",
     "output_type": "stream",
     "text": [
      "\r\tCreating Feature Vectors for reviews ..\t[*         ]  5% Completed.\r\tCreating Feature Vectors for reviews ..\t[*         ]  5% Completed.\r\tCreating Feature Vectors for reviews ..\t[*         ]  5% Completed.\r\tCreating Feature Vectors for reviews ..\t[*         ]  6% Completed.\r\tCreating Feature Vectors for reviews ..\t[*         ]  6% Completed.\r\tCreating Feature Vectors for reviews ..\t[*         ]  6% Completed.\r\tCreating Feature Vectors for reviews ..\t[*         ]  6% Completed.\r\tCreating Feature Vectors for reviews ..\t[*         ]  6% Completed.\r\tCreating Feature Vectors for reviews ..\t[*         ]  6% Completed.\r\tCreating Feature Vectors for reviews ..\t[*         ]  6% Completed.\r\tCreating Feature Vectors for reviews ..\t[*         ]  6% Completed.\r\tCreating Feature Vectors for reviews ..\t[*         ]  6% Completed.\r\tCreating Feature Vectors for reviews ..\t[*         ]  6% Completed.\r\tCreating Feature Vectors for reviews ..\t[*         ]  6% Completed.\r\tCreating Feature Vectors for reviews ..\t[*         ]  6% Completed."
     ]
    },
    {
     "name": "stdout",
     "output_type": "stream",
     "text": [
      "\r\tCreating Feature Vectors for reviews ..\t[*         ]  6% Completed.\r\tCreating Feature Vectors for reviews ..\t[*         ]  7% Completed.\r\tCreating Feature Vectors for reviews ..\t[*         ]  7% Completed.\r\tCreating Feature Vectors for reviews ..\t[*         ]  7% Completed.\r\tCreating Feature Vectors for reviews ..\t[*         ]  7% Completed.\r\tCreating Feature Vectors for reviews ..\t[*         ]  7% Completed.\r\tCreating Feature Vectors for reviews ..\t[*         ]  7% Completed.\r\tCreating Feature Vectors for reviews ..\t[*         ]  7% Completed.\r\tCreating Feature Vectors for reviews ..\t[*         ]  7% Completed.\r\tCreating Feature Vectors for reviews ..\t[*         ]  7% Completed.\r\tCreating Feature Vectors for reviews ..\t[*         ]  7% Completed.\r\tCreating Feature Vectors for reviews ..\t[*         ]  7% Completed.\r\tCreating Feature Vectors for reviews ..\t[*         ]  7% Completed.\r\tCreating Feature Vectors for reviews ..\t[*         ]  7% Completed.\r\tCreating Feature Vectors for reviews ..\t[*         ]  8% Completed."
     ]
    },
    {
     "name": "stdout",
     "output_type": "stream",
     "text": [
      "\r\tCreating Feature Vectors for reviews ..\t[*         ]  8% Completed.\r\tCreating Feature Vectors for reviews ..\t[*         ]  8% Completed.\r\tCreating Feature Vectors for reviews ..\t[*         ]  8% Completed.\r\tCreating Feature Vectors for reviews ..\t[*         ]  8% Completed.\r\tCreating Feature Vectors for reviews ..\t[*         ]  8% Completed.\r\tCreating Feature Vectors for reviews ..\t[*         ]  8% Completed.\r\tCreating Feature Vectors for reviews ..\t[*         ]  8% Completed.\r\tCreating Feature Vectors for reviews ..\t[*         ]  8% Completed.\r\tCreating Feature Vectors for reviews ..\t[*         ]  8% Completed.\r\tCreating Feature Vectors for reviews ..\t[*         ]  8% Completed.\r\tCreating Feature Vectors for reviews ..\t[*         ]  8% Completed.\r\tCreating Feature Vectors for reviews ..\t[*         ]  8% Completed.\r\tCreating Feature Vectors for reviews ..\t[*         ]  9% Completed.\r\tCreating Feature Vectors for reviews ..\t[*         ]  9% Completed."
     ]
    },
    {
     "name": "stdout",
     "output_type": "stream",
     "text": [
      "\r\tCreating Feature Vectors for reviews ..\t[*         ]  9% Completed.\r\tCreating Feature Vectors for reviews ..\t[*         ]  9% Completed.\r\tCreating Feature Vectors for reviews ..\t[*         ]  9% Completed.\r\tCreating Feature Vectors for reviews ..\t[*         ]  9% Completed.\r\tCreating Feature Vectors for reviews ..\t[*         ]  9% Completed.\r\tCreating Feature Vectors for reviews ..\t[*         ]  9% Completed.\r\tCreating Feature Vectors for reviews ..\t[*         ]  9% Completed.\r\tCreating Feature Vectors for reviews ..\t[*         ]  9% Completed.\r\tCreating Feature Vectors for reviews ..\t[*         ]  9% Completed.\r\tCreating Feature Vectors for reviews ..\t[*         ]  9% Completed.\r\tCreating Feature Vectors for reviews ..\t[*         ]  9% Completed.\r\tCreating Feature Vectors for reviews ..\t[*         ]  10% Completed.\r\tCreating Feature Vectors for reviews ..\t[*         ]  10% Completed."
     ]
    },
    {
     "name": "stdout",
     "output_type": "stream",
     "text": [
      "\r\tCreating Feature Vectors for reviews ..\t[*         ]  10% Completed.\r\tCreating Feature Vectors for reviews ..\t[*         ]  10% Completed.\r\tCreating Feature Vectors for reviews ..\t[*         ]  10% Completed.\r\tCreating Feature Vectors for reviews ..\t[*         ]  10% Completed.\r\tCreating Feature Vectors for reviews ..\t[*         ]  10% Completed.\r\tCreating Feature Vectors for reviews ..\t[*         ]  10% Completed.\r\tCreating Feature Vectors for reviews ..\t[*         ]  10% Completed.\r\tCreating Feature Vectors for reviews ..\t[*         ]  10% Completed.\r\tCreating Feature Vectors for reviews ..\t[*         ]  10% Completed.\r\tCreating Feature Vectors for reviews ..\t[*         ]  10% Completed.\r\tCreating Feature Vectors for reviews ..\t[*         ]  11% Completed.\r\tCreating Feature Vectors for reviews ..\t[*         ]  11% Completed.\r\tCreating Feature Vectors for reviews ..\t[*         ]  11% Completed.\r\tCreating Feature Vectors for reviews ..\t[*         ]  11% Completed."
     ]
    },
    {
     "name": "stdout",
     "output_type": "stream",
     "text": [
      "\r\tCreating Feature Vectors for reviews ..\t[*         ]  11% Completed.\r\tCreating Feature Vectors for reviews ..\t[*         ]  11% Completed.\r\tCreating Feature Vectors for reviews ..\t[*         ]  11% Completed.\r\tCreating Feature Vectors for reviews ..\t[*         ]  11% Completed.\r\tCreating Feature Vectors for reviews ..\t[*         ]  11% Completed.\r\tCreating Feature Vectors for reviews ..\t[*         ]  11% Completed.\r\tCreating Feature Vectors for reviews ..\t[*         ]  11% Completed.\r\tCreating Feature Vectors for reviews ..\t[*         ]  11% Completed.\r\tCreating Feature Vectors for reviews ..\t[*         ]  11% Completed.\r\tCreating Feature Vectors for reviews ..\t[*         ]  12% Completed.\r\tCreating Feature Vectors for reviews ..\t[*         ]  12% Completed.\r\tCreating Feature Vectors for reviews ..\t[*         ]  12% Completed."
     ]
    },
    {
     "name": "stdout",
     "output_type": "stream",
     "text": [
      "\r\tCreating Feature Vectors for reviews ..\t[*         ]  12% Completed.\r\tCreating Feature Vectors for reviews ..\t[*         ]  12% Completed.\r\tCreating Feature Vectors for reviews ..\t[*         ]  12% Completed.\r\tCreating Feature Vectors for reviews ..\t[*         ]  12% Completed.\r\tCreating Feature Vectors for reviews ..\t[*         ]  12% Completed.\r\tCreating Feature Vectors for reviews ..\t[*         ]  12% Completed.\r\tCreating Feature Vectors for reviews ..\t[*         ]  12% Completed.\r\tCreating Feature Vectors for reviews ..\t[*         ]  12% Completed.\r\tCreating Feature Vectors for reviews ..\t[*         ]  12% Completed.\r\tCreating Feature Vectors for reviews ..\t[*         ]  12% Completed.\r\tCreating Feature Vectors for reviews ..\t[*         ]  13% Completed.\r\tCreating Feature Vectors for reviews ..\t[*         ]  13% Completed.\r\tCreating Feature Vectors for reviews ..\t[*         ]  13% Completed."
     ]
    },
    {
     "name": "stdout",
     "output_type": "stream",
     "text": [
      "\r\tCreating Feature Vectors for reviews ..\t[*         ]  13% Completed.\r\tCreating Feature Vectors for reviews ..\t[*         ]  13% Completed.\r\tCreating Feature Vectors for reviews ..\t[*         ]  13% Completed.\r\tCreating Feature Vectors for reviews ..\t[*         ]  13% Completed.\r\tCreating Feature Vectors for reviews ..\t[*         ]  13% Completed.\r\tCreating Feature Vectors for reviews ..\t[*         ]  13% Completed.\r\tCreating Feature Vectors for reviews ..\t[*         ]  13% Completed.\r\tCreating Feature Vectors for reviews ..\t[*         ]  13% Completed.\r\tCreating Feature Vectors for reviews ..\t[*         ]  13% Completed.\r\tCreating Feature Vectors for reviews ..\t[*         ]  13% Completed.\r\tCreating Feature Vectors for reviews ..\t[*         ]  14% Completed.\r\tCreating Feature Vectors for reviews ..\t[*         ]  14% Completed.\r\tCreating Feature Vectors for reviews ..\t[*         ]  14% Completed.\r\tCreating Feature Vectors for reviews ..\t[*         ]  14% Completed."
     ]
    },
    {
     "name": "stdout",
     "output_type": "stream",
     "text": [
      "\r\tCreating Feature Vectors for reviews ..\t[*         ]  14% Completed.\r\tCreating Feature Vectors for reviews ..\t[*         ]  14% Completed.\r\tCreating Feature Vectors for reviews ..\t[*         ]  14% Completed.\r\tCreating Feature Vectors for reviews ..\t[*         ]  14% Completed.\r\tCreating Feature Vectors for reviews ..\t[*         ]  14% Completed.\r\tCreating Feature Vectors for reviews ..\t[*         ]  14% Completed.\r\tCreating Feature Vectors for reviews ..\t[*         ]  14% Completed.\r\tCreating Feature Vectors for reviews ..\t[*         ]  14% Completed.\r\tCreating Feature Vectors for reviews ..\t[*         ]  14% Completed.\r\tCreating Feature Vectors for reviews ..\t[**        ]  15% Completed.\r\tCreating Feature Vectors for reviews ..\t[**        ]  15% Completed.\r\tCreating Feature Vectors for reviews ..\t[**        ]  15% Completed.\r\tCreating Feature Vectors for reviews ..\t[**        ]  15% Completed.\r\tCreating Feature Vectors for reviews ..\t[**        ]  15% Completed.\r\tCreating Feature Vectors for reviews ..\t[**        ]  15% Completed."
     ]
    },
    {
     "name": "stdout",
     "output_type": "stream",
     "text": [
      "\r\tCreating Feature Vectors for reviews ..\t[**        ]  15% Completed.\r\tCreating Feature Vectors for reviews ..\t[**        ]  15% Completed.\r\tCreating Feature Vectors for reviews ..\t[**        ]  15% Completed.\r\tCreating Feature Vectors for reviews ..\t[**        ]  15% Completed.\r\tCreating Feature Vectors for reviews ..\t[**        ]  15% Completed.\r\tCreating Feature Vectors for reviews ..\t[**        ]  15% Completed.\r\tCreating Feature Vectors for reviews ..\t[**        ]  15% Completed.\r\tCreating Feature Vectors for reviews ..\t[**        ]  16% Completed.\r\tCreating Feature Vectors for reviews ..\t[**        ]  16% Completed.\r\tCreating Feature Vectors for reviews ..\t[**        ]  16% Completed.\r\tCreating Feature Vectors for reviews ..\t[**        ]  16% Completed.\r\tCreating Feature Vectors for reviews ..\t[**        ]  16% Completed.\r\tCreating Feature Vectors for reviews ..\t[**        ]  16% Completed."
     ]
    },
    {
     "name": "stdout",
     "output_type": "stream",
     "text": [
      "\r\tCreating Feature Vectors for reviews ..\t[**        ]  16% Completed.\r\tCreating Feature Vectors for reviews ..\t[**        ]  16% Completed.\r\tCreating Feature Vectors for reviews ..\t[**        ]  16% Completed.\r\tCreating Feature Vectors for reviews ..\t[**        ]  16% Completed.\r\tCreating Feature Vectors for reviews ..\t[**        ]  16% Completed.\r\tCreating Feature Vectors for reviews ..\t[**        ]  16% Completed.\r\tCreating Feature Vectors for reviews ..\t[**        ]  16% Completed.\r\tCreating Feature Vectors for reviews ..\t[**        ]  17% Completed.\r\tCreating Feature Vectors for reviews ..\t[**        ]  17% Completed.\r\tCreating Feature Vectors for reviews ..\t[**        ]  17% Completed.\r\tCreating Feature Vectors for reviews ..\t[**        ]  17% Completed.\r\tCreating Feature Vectors for reviews ..\t[**        ]  17% Completed.\r\tCreating Feature Vectors for reviews ..\t[**        ]  17% Completed.\r\tCreating Feature Vectors for reviews ..\t[**        ]  17% Completed.\r\tCreating Feature Vectors for reviews ..\t[**        ]  17% Completed."
     ]
    },
    {
     "name": "stdout",
     "output_type": "stream",
     "text": [
      "\r\tCreating Feature Vectors for reviews ..\t[**        ]  17% Completed.\r\tCreating Feature Vectors for reviews ..\t[**        ]  17% Completed.\r\tCreating Feature Vectors for reviews ..\t[**        ]  17% Completed.\r\tCreating Feature Vectors for reviews ..\t[**        ]  17% Completed.\r\tCreating Feature Vectors for reviews ..\t[**        ]  17% Completed.\r\tCreating Feature Vectors for reviews ..\t[**        ]  18% Completed.\r\tCreating Feature Vectors for reviews ..\t[**        ]  18% Completed.\r\tCreating Feature Vectors for reviews ..\t[**        ]  18% Completed.\r\tCreating Feature Vectors for reviews ..\t[**        ]  18% Completed.\r\tCreating Feature Vectors for reviews ..\t[**        ]  18% Completed.\r\tCreating Feature Vectors for reviews ..\t[**        ]  18% Completed.\r\tCreating Feature Vectors for reviews ..\t[**        ]  18% Completed.\r\tCreating Feature Vectors for reviews ..\t[**        ]  18% Completed."
     ]
    },
    {
     "name": "stdout",
     "output_type": "stream",
     "text": [
      "\r\tCreating Feature Vectors for reviews ..\t[**        ]  18% Completed.\r\tCreating Feature Vectors for reviews ..\t[**        ]  18% Completed.\r\tCreating Feature Vectors for reviews ..\t[**        ]  18% Completed.\r\tCreating Feature Vectors for reviews ..\t[**        ]  18% Completed.\r\tCreating Feature Vectors for reviews ..\t[**        ]  18% Completed.\r\tCreating Feature Vectors for reviews ..\t[**        ]  19% Completed.\r\tCreating Feature Vectors for reviews ..\t[**        ]  19% Completed.\r\tCreating Feature Vectors for reviews ..\t[**        ]  19% Completed.\r\tCreating Feature Vectors for reviews ..\t[**        ]  19% Completed.\r\tCreating Feature Vectors for reviews ..\t[**        ]  19% Completed.\r\tCreating Feature Vectors for reviews ..\t[**        ]  19% Completed.\r\tCreating Feature Vectors for reviews ..\t[**        ]  19% Completed.\r\tCreating Feature Vectors for reviews ..\t[**        ]  19% Completed.\r\tCreating Feature Vectors for reviews ..\t[**        ]  19% Completed.\r\tCreating Feature Vectors for reviews ..\t[**        ]  19% Completed."
     ]
    },
    {
     "name": "stdout",
     "output_type": "stream",
     "text": [
      "\r\tCreating Feature Vectors for reviews ..\t[**        ]  19% Completed.\r\tCreating Feature Vectors for reviews ..\t[**        ]  19% Completed.\r\tCreating Feature Vectors for reviews ..\t[**        ]  19% Completed.\r\tCreating Feature Vectors for reviews ..\t[**        ]  20% Completed.\r\tCreating Feature Vectors for reviews ..\t[**        ]  20% Completed.\r\tCreating Feature Vectors for reviews ..\t[**        ]  20% Completed.\r\tCreating Feature Vectors for reviews ..\t[**        ]  20% Completed.\r\tCreating Feature Vectors for reviews ..\t[**        ]  20% Completed.\r\tCreating Feature Vectors for reviews ..\t[**        ]  20% Completed.\r\tCreating Feature Vectors for reviews ..\t[**        ]  20% Completed.\r\tCreating Feature Vectors for reviews ..\t[**        ]  20% Completed.\r\tCreating Feature Vectors for reviews ..\t[**        ]  20% Completed.\r\tCreating Feature Vectors for reviews ..\t[**        ]  20% Completed.\r\tCreating Feature Vectors for reviews ..\t[**        ]  20% Completed."
     ]
    },
    {
     "name": "stdout",
     "output_type": "stream",
     "text": [
      "\r\tCreating Feature Vectors for reviews ..\t[**        ]  20% Completed.\r\tCreating Feature Vectors for reviews ..\t[**        ]  21% Completed.\r\tCreating Feature Vectors for reviews ..\t[**        ]  21% Completed.\r\tCreating Feature Vectors for reviews ..\t[**        ]  21% Completed.\r\tCreating Feature Vectors for reviews ..\t[**        ]  21% Completed.\r\tCreating Feature Vectors for reviews ..\t[**        ]  21% Completed.\r\tCreating Feature Vectors for reviews ..\t[**        ]  21% Completed.\r\tCreating Feature Vectors for reviews ..\t[**        ]  21% Completed.\r\tCreating Feature Vectors for reviews ..\t[**        ]  21% Completed.\r\tCreating Feature Vectors for reviews ..\t[**        ]  21% Completed.\r\tCreating Feature Vectors for reviews ..\t[**        ]  21% Completed.\r\tCreating Feature Vectors for reviews ..\t[**        ]  21% Completed.\r\tCreating Feature Vectors for reviews ..\t[**        ]  21% Completed."
     ]
    },
    {
     "name": "stdout",
     "output_type": "stream",
     "text": [
      "\r\tCreating Feature Vectors for reviews ..\t[**        ]  21% Completed.\r\tCreating Feature Vectors for reviews ..\t[**        ]  22% Completed.\r\tCreating Feature Vectors for reviews ..\t[**        ]  22% Completed.\r\tCreating Feature Vectors for reviews ..\t[**        ]  22% Completed.\r\tCreating Feature Vectors for reviews ..\t[**        ]  22% Completed.\r\tCreating Feature Vectors for reviews ..\t[**        ]  22% Completed.\r\tCreating Feature Vectors for reviews ..\t[**        ]  22% Completed.\r\tCreating Feature Vectors for reviews ..\t[**        ]  22% Completed.\r\tCreating Feature Vectors for reviews ..\t[**        ]  22% Completed.\r\tCreating Feature Vectors for reviews ..\t[**        ]  22% Completed.\r\tCreating Feature Vectors for reviews ..\t[**        ]  22% Completed.\r\tCreating Feature Vectors for reviews ..\t[**        ]  22% Completed.\r\tCreating Feature Vectors for reviews ..\t[**        ]  22% Completed."
     ]
    },
    {
     "name": "stdout",
     "output_type": "stream",
     "text": [
      "\r\tCreating Feature Vectors for reviews ..\t[**        ]  22% Completed.\r\tCreating Feature Vectors for reviews ..\t[**        ]  23% Completed.\r\tCreating Feature Vectors for reviews ..\t[**        ]  23% Completed.\r\tCreating Feature Vectors for reviews ..\t[**        ]  23% Completed.\r\tCreating Feature Vectors for reviews ..\t[**        ]  23% Completed.\r\tCreating Feature Vectors for reviews ..\t[**        ]  23% Completed.\r\tCreating Feature Vectors for reviews ..\t[**        ]  23% Completed.\r\tCreating Feature Vectors for reviews ..\t[**        ]  23% Completed.\r\tCreating Feature Vectors for reviews ..\t[**        ]  23% Completed.\r\tCreating Feature Vectors for reviews ..\t[**        ]  23% Completed.\r\tCreating Feature Vectors for reviews ..\t[**        ]  23% Completed.\r\tCreating Feature Vectors for reviews ..\t[**        ]  23% Completed.\r\tCreating Feature Vectors for reviews ..\t[**        ]  23% Completed.\r\tCreating Feature Vectors for reviews ..\t[**        ]  23% Completed.\r\tCreating Feature Vectors for reviews ..\t[**        ]  24% Completed."
     ]
    },
    {
     "name": "stdout",
     "output_type": "stream",
     "text": [
      "\r\tCreating Feature Vectors for reviews ..\t[**        ]  24% Completed.\r\tCreating Feature Vectors for reviews ..\t[**        ]  24% Completed.\r\tCreating Feature Vectors for reviews ..\t[**        ]  24% Completed.\r\tCreating Feature Vectors for reviews ..\t[**        ]  24% Completed.\r\tCreating Feature Vectors for reviews ..\t[**        ]  24% Completed.\r\tCreating Feature Vectors for reviews ..\t[**        ]  24% Completed.\r\tCreating Feature Vectors for reviews ..\t[**        ]  24% Completed.\r\tCreating Feature Vectors for reviews ..\t[**        ]  24% Completed.\r\tCreating Feature Vectors for reviews ..\t[**        ]  24% Completed.\r\tCreating Feature Vectors for reviews ..\t[**        ]  24% Completed.\r\tCreating Feature Vectors for reviews ..\t[**        ]  24% Completed.\r\tCreating Feature Vectors for reviews ..\t[**        ]  24% Completed.\r\tCreating Feature Vectors for reviews ..\t[***       ]  25% Completed.\r\tCreating Feature Vectors for reviews ..\t[***       ]  25% Completed."
     ]
    },
    {
     "name": "stdout",
     "output_type": "stream",
     "text": [
      "\r\tCreating Feature Vectors for reviews ..\t[***       ]  25% Completed.\r\tCreating Feature Vectors for reviews ..\t[***       ]  25% Completed.\r\tCreating Feature Vectors for reviews ..\t[***       ]  25% Completed.\r\tCreating Feature Vectors for reviews ..\t[***       ]  25% Completed.\r\tCreating Feature Vectors for reviews ..\t[***       ]  25% Completed.\r\tCreating Feature Vectors for reviews ..\t[***       ]  25% Completed.\r\tCreating Feature Vectors for reviews ..\t[***       ]  25% Completed.\r\tCreating Feature Vectors for reviews ..\t[***       ]  25% Completed.\r\tCreating Feature Vectors for reviews ..\t[***       ]  25% Completed.\r\tCreating Feature Vectors for reviews ..\t[***       ]  25% Completed.\r\tCreating Feature Vectors for reviews ..\t[***       ]  25% Completed.\r\tCreating Feature Vectors for reviews ..\t[***       ]  26% Completed.\r\tCreating Feature Vectors for reviews ..\t[***       ]  26% Completed.\r\tCreating Feature Vectors for reviews ..\t[***       ]  26% Completed."
     ]
    },
    {
     "name": "stdout",
     "output_type": "stream",
     "text": [
      "\r\tCreating Feature Vectors for reviews ..\t[***       ]  26% Completed.\r\tCreating Feature Vectors for reviews ..\t[***       ]  26% Completed.\r\tCreating Feature Vectors for reviews ..\t[***       ]  26% Completed.\r\tCreating Feature Vectors for reviews ..\t[***       ]  26% Completed.\r\tCreating Feature Vectors for reviews ..\t[***       ]  26% Completed.\r\tCreating Feature Vectors for reviews ..\t[***       ]  26% Completed.\r\tCreating Feature Vectors for reviews ..\t[***       ]  26% Completed.\r\tCreating Feature Vectors for reviews ..\t[***       ]  26% Completed.\r\tCreating Feature Vectors for reviews ..\t[***       ]  26% Completed.\r\tCreating Feature Vectors for reviews ..\t[***       ]  26% Completed.\r\tCreating Feature Vectors for reviews ..\t[***       ]  27% Completed.\r\tCreating Feature Vectors for reviews ..\t[***       ]  27% Completed.\r\tCreating Feature Vectors for reviews ..\t[***       ]  27% Completed.\r\tCreating Feature Vectors for reviews ..\t[***       ]  27% Completed."
     ]
    },
    {
     "name": "stdout",
     "output_type": "stream",
     "text": [
      "\r\tCreating Feature Vectors for reviews ..\t[***       ]  27% Completed.\r\tCreating Feature Vectors for reviews ..\t[***       ]  27% Completed.\r\tCreating Feature Vectors for reviews ..\t[***       ]  27% Completed.\r\tCreating Feature Vectors for reviews ..\t[***       ]  27% Completed.\r\tCreating Feature Vectors for reviews ..\t[***       ]  27% Completed.\r\tCreating Feature Vectors for reviews ..\t[***       ]  27% Completed.\r\tCreating Feature Vectors for reviews ..\t[***       ]  27% Completed.\r\tCreating Feature Vectors for reviews ..\t[***       ]  27% Completed.\r\tCreating Feature Vectors for reviews ..\t[***       ]  27% Completed.\r\tCreating Feature Vectors for reviews ..\t[***       ]  28% Completed.\r\tCreating Feature Vectors for reviews ..\t[***       ]  28% Completed.\r\tCreating Feature Vectors for reviews ..\t[***       ]  28% Completed.\r\tCreating Feature Vectors for reviews ..\t[***       ]  28% Completed."
     ]
    },
    {
     "name": "stdout",
     "output_type": "stream",
     "text": [
      "\r\tCreating Feature Vectors for reviews ..\t[***       ]  28% Completed.\r\tCreating Feature Vectors for reviews ..\t[***       ]  28% Completed.\r\tCreating Feature Vectors for reviews ..\t[***       ]  28% Completed.\r\tCreating Feature Vectors for reviews ..\t[***       ]  28% Completed.\r\tCreating Feature Vectors for reviews ..\t[***       ]  28% Completed.\r\tCreating Feature Vectors for reviews ..\t[***       ]  28% Completed.\r\tCreating Feature Vectors for reviews ..\t[***       ]  28% Completed.\r\tCreating Feature Vectors for reviews ..\t[***       ]  28% Completed.\r\tCreating Feature Vectors for reviews ..\t[***       ]  28% Completed.\r\tCreating Feature Vectors for reviews ..\t[***       ]  29% Completed.\r\tCreating Feature Vectors for reviews ..\t[***       ]  29% Completed.\r\tCreating Feature Vectors for reviews ..\t[***       ]  29% Completed.\r\tCreating Feature Vectors for reviews ..\t[***       ]  29% Completed.\r\tCreating Feature Vectors for reviews ..\t[***       ]  29% Completed."
     ]
    },
    {
     "name": "stdout",
     "output_type": "stream",
     "text": [
      "\r\tCreating Feature Vectors for reviews ..\t[***       ]  29% Completed.\r\tCreating Feature Vectors for reviews ..\t[***       ]  29% Completed.\r\tCreating Feature Vectors for reviews ..\t[***       ]  29% Completed.\r\tCreating Feature Vectors for reviews ..\t[***       ]  29% Completed.\r\tCreating Feature Vectors for reviews ..\t[***       ]  29% Completed.\r\tCreating Feature Vectors for reviews ..\t[***       ]  29% Completed.\r\tCreating Feature Vectors for reviews ..\t[***       ]  29% Completed.\r\tCreating Feature Vectors for reviews ..\t[***       ]  29% Completed.\r\tCreating Feature Vectors for reviews ..\t[***       ]  30% Completed.\r\tCreating Feature Vectors for reviews ..\t[***       ]  30% Completed.\r\tCreating Feature Vectors for reviews ..\t[***       ]  30% Completed.\r\tCreating Feature Vectors for reviews ..\t[***       ]  30% Completed.\r\tCreating Feature Vectors for reviews ..\t[***       ]  30% Completed.\r\tCreating Feature Vectors for reviews ..\t[***       ]  30% Completed.\r\tCreating Feature Vectors for reviews ..\t[***       ]  30% Completed."
     ]
    },
    {
     "name": "stdout",
     "output_type": "stream",
     "text": [
      "\r\tCreating Feature Vectors for reviews ..\t[***       ]  30% Completed.\r\tCreating Feature Vectors for reviews ..\t[***       ]  30% Completed.\r\tCreating Feature Vectors for reviews ..\t[***       ]  30% Completed.\r\tCreating Feature Vectors for reviews ..\t[***       ]  30% Completed.\r\tCreating Feature Vectors for reviews ..\t[***       ]  30% Completed.\r\tCreating Feature Vectors for reviews ..\t[***       ]  30% Completed.\r\tCreating Feature Vectors for reviews ..\t[***       ]  31% Completed.\r\tCreating Feature Vectors for reviews ..\t[***       ]  31% Completed.\r\tCreating Feature Vectors for reviews ..\t[***       ]  31% Completed.\r\tCreating Feature Vectors for reviews ..\t[***       ]  31% Completed.\r\tCreating Feature Vectors for reviews ..\t[***       ]  31% Completed.\r\tCreating Feature Vectors for reviews ..\t[***       ]  31% Completed.\r\tCreating Feature Vectors for reviews ..\t[***       ]  31% Completed."
     ]
    },
    {
     "name": "stdout",
     "output_type": "stream",
     "text": [
      "\r\tCreating Feature Vectors for reviews ..\t[***       ]  31% Completed.\r\tCreating Feature Vectors for reviews ..\t[***       ]  31% Completed.\r\tCreating Feature Vectors for reviews ..\t[***       ]  31% Completed.\r\tCreating Feature Vectors for reviews ..\t[***       ]  31% Completed.\r\tCreating Feature Vectors for reviews ..\t[***       ]  31% Completed.\r\tCreating Feature Vectors for reviews ..\t[***       ]  32% Completed.\r\tCreating Feature Vectors for reviews ..\t[***       ]  32% Completed.\r\tCreating Feature Vectors for reviews ..\t[***       ]  32% Completed.\r\tCreating Feature Vectors for reviews ..\t[***       ]  32% Completed.\r\tCreating Feature Vectors for reviews ..\t[***       ]  32% Completed.\r\tCreating Feature Vectors for reviews ..\t[***       ]  32% Completed.\r\tCreating Feature Vectors for reviews ..\t[***       ]  32% Completed.\r\tCreating Feature Vectors for reviews ..\t[***       ]  32% Completed.\r\tCreating Feature Vectors for reviews ..\t[***       ]  32% Completed.\r\tCreating Feature Vectors for reviews ..\t[***       ]  32% Completed."
     ]
    },
    {
     "name": "stdout",
     "output_type": "stream",
     "text": [
      "\r\tCreating Feature Vectors for reviews ..\t[***       ]  32% Completed.\r\tCreating Feature Vectors for reviews ..\t[***       ]  32% Completed.\r\tCreating Feature Vectors for reviews ..\t[***       ]  32% Completed.\r\tCreating Feature Vectors for reviews ..\t[***       ]  33% Completed.\r\tCreating Feature Vectors for reviews ..\t[***       ]  33% Completed.\r\tCreating Feature Vectors for reviews ..\t[***       ]  33% Completed.\r\tCreating Feature Vectors for reviews ..\t[***       ]  33% Completed.\r\tCreating Feature Vectors for reviews ..\t[***       ]  33% Completed.\r\tCreating Feature Vectors for reviews ..\t[***       ]  33% Completed.\r\tCreating Feature Vectors for reviews ..\t[***       ]  33% Completed.\r\tCreating Feature Vectors for reviews ..\t[***       ]  33% Completed.\r\tCreating Feature Vectors for reviews ..\t[***       ]  33% Completed.\r\tCreating Feature Vectors for reviews ..\t[***       ]  33% Completed."
     ]
    },
    {
     "name": "stdout",
     "output_type": "stream",
     "text": [
      "\r\tCreating Feature Vectors for reviews ..\t[***       ]  33% Completed.\r\tCreating Feature Vectors for reviews ..\t[***       ]  33% Completed.\r\tCreating Feature Vectors for reviews ..\t[***       ]  33% Completed.\r\tCreating Feature Vectors for reviews ..\t[***       ]  34% Completed.\r\tCreating Feature Vectors for reviews ..\t[***       ]  34% Completed.\r\tCreating Feature Vectors for reviews ..\t[***       ]  34% Completed.\r\tCreating Feature Vectors for reviews ..\t[***       ]  34% Completed.\r\tCreating Feature Vectors for reviews ..\t[***       ]  34% Completed.\r\tCreating Feature Vectors for reviews ..\t[***       ]  34% Completed.\r\tCreating Feature Vectors for reviews ..\t[***       ]  34% Completed.\r\tCreating Feature Vectors for reviews ..\t[***       ]  34% Completed.\r\tCreating Feature Vectors for reviews ..\t[***       ]  34% Completed.\r\tCreating Feature Vectors for reviews ..\t[***       ]  34% Completed.\r\tCreating Feature Vectors for reviews ..\t[***       ]  34% Completed."
     ]
    },
    {
     "name": "stdout",
     "output_type": "stream",
     "text": [
      "\r\tCreating Feature Vectors for reviews ..\t[***       ]  34% Completed.\r\tCreating Feature Vectors for reviews ..\t[***       ]  34% Completed.\r\tCreating Feature Vectors for reviews ..\t[****      ]  35% Completed.\r\tCreating Feature Vectors for reviews ..\t[****      ]  35% Completed.\r\tCreating Feature Vectors for reviews ..\t[****      ]  35% Completed.\r\tCreating Feature Vectors for reviews ..\t[****      ]  35% Completed.\r\tCreating Feature Vectors for reviews ..\t[****      ]  35% Completed.\r\tCreating Feature Vectors for reviews ..\t[****      ]  35% Completed.\r\tCreating Feature Vectors for reviews ..\t[****      ]  35% Completed.\r\tCreating Feature Vectors for reviews ..\t[****      ]  35% Completed.\r\tCreating Feature Vectors for reviews ..\t[****      ]  35% Completed.\r\tCreating Feature Vectors for reviews ..\t[****      ]  35% Completed.\r\tCreating Feature Vectors for reviews ..\t[****      ]  35% Completed.\r\tCreating Feature Vectors for reviews ..\t[****      ]  35% Completed."
     ]
    },
    {
     "name": "stdout",
     "output_type": "stream",
     "text": [
      "\r\tCreating Feature Vectors for reviews ..\t[****      ]  35% Completed.\r\tCreating Feature Vectors for reviews ..\t[****      ]  36% Completed.\r\tCreating Feature Vectors for reviews ..\t[****      ]  36% Completed.\r\tCreating Feature Vectors for reviews ..\t[****      ]  36% Completed.\r\tCreating Feature Vectors for reviews ..\t[****      ]  36% Completed.\r\tCreating Feature Vectors for reviews ..\t[****      ]  36% Completed.\r\tCreating Feature Vectors for reviews ..\t[****      ]  36% Completed.\r\tCreating Feature Vectors for reviews ..\t[****      ]  36% Completed.\r\tCreating Feature Vectors for reviews ..\t[****      ]  36% Completed.\r\tCreating Feature Vectors for reviews ..\t[****      ]  36% Completed.\r\tCreating Feature Vectors for reviews ..\t[****      ]  36% Completed.\r\tCreating Feature Vectors for reviews ..\t[****      ]  36% Completed."
     ]
    },
    {
     "name": "stdout",
     "output_type": "stream",
     "text": [
      "\r\tCreating Feature Vectors for reviews ..\t[****      ]  36% Completed.\r\tCreating Feature Vectors for reviews ..\t[****      ]  36% Completed.\r\tCreating Feature Vectors for reviews ..\t[****      ]  37% Completed.\r\tCreating Feature Vectors for reviews ..\t[****      ]  37% Completed.\r\tCreating Feature Vectors for reviews ..\t[****      ]  37% Completed.\r\tCreating Feature Vectors for reviews ..\t[****      ]  37% Completed.\r\tCreating Feature Vectors for reviews ..\t[****      ]  37% Completed.\r\tCreating Feature Vectors for reviews ..\t[****      ]  37% Completed.\r\tCreating Feature Vectors for reviews ..\t[****      ]  37% Completed.\r\tCreating Feature Vectors for reviews ..\t[****      ]  37% Completed.\r\tCreating Feature Vectors for reviews ..\t[****      ]  37% Completed.\r\tCreating Feature Vectors for reviews ..\t[****      ]  37% Completed.\r\tCreating Feature Vectors for reviews ..\t[****      ]  37% Completed."
     ]
    },
    {
     "name": "stdout",
     "output_type": "stream",
     "text": [
      "\r\tCreating Feature Vectors for reviews ..\t[****      ]  37% Completed.\r\tCreating Feature Vectors for reviews ..\t[****      ]  37% Completed.\r\tCreating Feature Vectors for reviews ..\t[****      ]  38% Completed.\r\tCreating Feature Vectors for reviews ..\t[****      ]  38% Completed.\r\tCreating Feature Vectors for reviews ..\t[****      ]  38% Completed.\r\tCreating Feature Vectors for reviews ..\t[****      ]  38% Completed.\r\tCreating Feature Vectors for reviews ..\t[****      ]  38% Completed.\r\tCreating Feature Vectors for reviews ..\t[****      ]  38% Completed.\r\tCreating Feature Vectors for reviews ..\t[****      ]  38% Completed.\r\tCreating Feature Vectors for reviews ..\t[****      ]  38% Completed.\r\tCreating Feature Vectors for reviews ..\t[****      ]  38% Completed.\r\tCreating Feature Vectors for reviews ..\t[****      ]  38% Completed.\r\tCreating Feature Vectors for reviews ..\t[****      ]  38% Completed.\r\tCreating Feature Vectors for reviews ..\t[****      ]  38% Completed."
     ]
    },
    {
     "name": "stdout",
     "output_type": "stream",
     "text": [
      "\r\tCreating Feature Vectors for reviews ..\t[****      ]  38% Completed.\r\tCreating Feature Vectors for reviews ..\t[****      ]  39% Completed.\r\tCreating Feature Vectors for reviews ..\t[****      ]  39% Completed.\r\tCreating Feature Vectors for reviews ..\t[****      ]  39% Completed.\r\tCreating Feature Vectors for reviews ..\t[****      ]  39% Completed.\r\tCreating Feature Vectors for reviews ..\t[****      ]  39% Completed.\r\tCreating Feature Vectors for reviews ..\t[****      ]  39% Completed.\r\tCreating Feature Vectors for reviews ..\t[****      ]  39% Completed.\r\tCreating Feature Vectors for reviews ..\t[****      ]  39% Completed.\r\tCreating Feature Vectors for reviews ..\t[****      ]  39% Completed.\r\tCreating Feature Vectors for reviews ..\t[****      ]  39% Completed.\r\tCreating Feature Vectors for reviews ..\t[****      ]  39% Completed.\r\tCreating Feature Vectors for reviews ..\t[****      ]  39% Completed.\r\tCreating Feature Vectors for reviews ..\t[****      ]  39% Completed.\r\tCreating Feature Vectors for reviews ..\t[****      ]  40% Completed."
     ]
    },
    {
     "name": "stdout",
     "output_type": "stream",
     "text": [
      "\r\tCreating Feature Vectors for reviews ..\t[****      ]  40% Completed.\r\tCreating Feature Vectors for reviews ..\t[****      ]  40% Completed.\r\tCreating Feature Vectors for reviews ..\t[****      ]  40% Completed.\r\tCreating Feature Vectors for reviews ..\t[****      ]  40% Completed.\r\tCreating Feature Vectors for reviews ..\t[****      ]  40% Completed.\r\tCreating Feature Vectors for reviews ..\t[****      ]  40% Completed.\r\tCreating Feature Vectors for reviews ..\t[****      ]  40% Completed.\r\tCreating Feature Vectors for reviews ..\t[****      ]  40% Completed.\r\tCreating Feature Vectors for reviews ..\t[****      ]  40% Completed.\r\tCreating Feature Vectors for reviews ..\t[****      ]  40% Completed.\r\tCreating Feature Vectors for reviews ..\t[****      ]  40% Completed.\r\tCreating Feature Vectors for reviews ..\t[****      ]  40% Completed.\r\tCreating Feature Vectors for reviews ..\t[****      ]  41% Completed.\r\tCreating Feature Vectors for reviews ..\t[****      ]  41% Completed.\r\tCreating Feature Vectors for reviews ..\t[****      ]  41% Completed."
     ]
    },
    {
     "name": "stdout",
     "output_type": "stream",
     "text": [
      "\r\tCreating Feature Vectors for reviews ..\t[****      ]  41% Completed.\r\tCreating Feature Vectors for reviews ..\t[****      ]  41% Completed.\r\tCreating Feature Vectors for reviews ..\t[****      ]  41% Completed.\r\tCreating Feature Vectors for reviews ..\t[****      ]  41% Completed.\r\tCreating Feature Vectors for reviews ..\t[****      ]  41% Completed.\r\tCreating Feature Vectors for reviews ..\t[****      ]  41% Completed.\r\tCreating Feature Vectors for reviews ..\t[****      ]  41% Completed.\r\tCreating Feature Vectors for reviews ..\t[****      ]  41% Completed.\r\tCreating Feature Vectors for reviews ..\t[****      ]  41% Completed.\r\tCreating Feature Vectors for reviews ..\t[****      ]  42% Completed.\r\tCreating Feature Vectors for reviews ..\t[****      ]  42% Completed.\r\tCreating Feature Vectors for reviews ..\t[****      ]  42% Completed.\r\tCreating Feature Vectors for reviews ..\t[****      ]  42% Completed.\r\tCreating Feature Vectors for reviews ..\t[****      ]  42% Completed.\r\tCreating Feature Vectors for reviews ..\t[****      ]  42% Completed."
     ]
    },
    {
     "name": "stdout",
     "output_type": "stream",
     "text": [
      "\r\tCreating Feature Vectors for reviews ..\t[****      ]  42% Completed.\r\tCreating Feature Vectors for reviews ..\t[****      ]  42% Completed.\r\tCreating Feature Vectors for reviews ..\t[****      ]  42% Completed.\r\tCreating Feature Vectors for reviews ..\t[****      ]  42% Completed.\r\tCreating Feature Vectors for reviews ..\t[****      ]  42% Completed.\r\tCreating Feature Vectors for reviews ..\t[****      ]  42% Completed.\r\tCreating Feature Vectors for reviews ..\t[****      ]  42% Completed.\r\tCreating Feature Vectors for reviews ..\t[****      ]  43% Completed.\r\tCreating Feature Vectors for reviews ..\t[****      ]  43% Completed.\r\tCreating Feature Vectors for reviews ..\t[****      ]  43% Completed.\r\tCreating Feature Vectors for reviews ..\t[****      ]  43% Completed.\r\tCreating Feature Vectors for reviews ..\t[****      ]  43% Completed.\r\tCreating Feature Vectors for reviews ..\t[****      ]  43% Completed.\r\tCreating Feature Vectors for reviews ..\t[****      ]  43% Completed."
     ]
    },
    {
     "name": "stdout",
     "output_type": "stream",
     "text": [
      "\r\tCreating Feature Vectors for reviews ..\t[****      ]  43% Completed.\r\tCreating Feature Vectors for reviews ..\t[****      ]  43% Completed.\r\tCreating Feature Vectors for reviews ..\t[****      ]  43% Completed.\r\tCreating Feature Vectors for reviews ..\t[****      ]  43% Completed.\r\tCreating Feature Vectors for reviews ..\t[****      ]  43% Completed.\r\tCreating Feature Vectors for reviews ..\t[****      ]  43% Completed.\r\tCreating Feature Vectors for reviews ..\t[****      ]  44% Completed.\r\tCreating Feature Vectors for reviews ..\t[****      ]  44% Completed.\r\tCreating Feature Vectors for reviews ..\t[****      ]  44% Completed.\r\tCreating Feature Vectors for reviews ..\t[****      ]  44% Completed.\r\tCreating Feature Vectors for reviews ..\t[****      ]  44% Completed.\r\tCreating Feature Vectors for reviews ..\t[****      ]  44% Completed."
     ]
    },
    {
     "name": "stdout",
     "output_type": "stream",
     "text": [
      "\r\tCreating Feature Vectors for reviews ..\t[****      ]  44% Completed.\r\tCreating Feature Vectors for reviews ..\t[****      ]  44% Completed.\r\tCreating Feature Vectors for reviews ..\t[****      ]  44% Completed.\r\tCreating Feature Vectors for reviews ..\t[****      ]  44% Completed.\r\tCreating Feature Vectors for reviews ..\t[****      ]  44% Completed.\r\tCreating Feature Vectors for reviews ..\t[****      ]  44% Completed.\r\tCreating Feature Vectors for reviews ..\t[****      ]  44% Completed.\r\tCreating Feature Vectors for reviews ..\t[*****     ]  45% Completed.\r\tCreating Feature Vectors for reviews ..\t[*****     ]  45% Completed.\r\tCreating Feature Vectors for reviews ..\t[*****     ]  45% Completed.\r\tCreating Feature Vectors for reviews ..\t[*****     ]  45% Completed.\r\tCreating Feature Vectors for reviews ..\t[*****     ]  45% Completed.\r\tCreating Feature Vectors for reviews ..\t[*****     ]  45% Completed."
     ]
    },
    {
     "name": "stdout",
     "output_type": "stream",
     "text": [
      "\r\tCreating Feature Vectors for reviews ..\t[*****     ]  45% Completed.\r\tCreating Feature Vectors for reviews ..\t[*****     ]  45% Completed.\r\tCreating Feature Vectors for reviews ..\t[*****     ]  45% Completed.\r\tCreating Feature Vectors for reviews ..\t[*****     ]  45% Completed.\r\tCreating Feature Vectors for reviews ..\t[*****     ]  45% Completed.\r\tCreating Feature Vectors for reviews ..\t[*****     ]  45% Completed.\r\tCreating Feature Vectors for reviews ..\t[*****     ]  45% Completed.\r\tCreating Feature Vectors for reviews ..\t[*****     ]  46% Completed.\r\tCreating Feature Vectors for reviews ..\t[*****     ]  46% Completed.\r\tCreating Feature Vectors for reviews ..\t[*****     ]  46% Completed.\r\tCreating Feature Vectors for reviews ..\t[*****     ]  46% Completed.\r\tCreating Feature Vectors for reviews ..\t[*****     ]  46% Completed.\r\tCreating Feature Vectors for reviews ..\t[*****     ]  46% Completed.\r\tCreating Feature Vectors for reviews ..\t[*****     ]  46% Completed."
     ]
    },
    {
     "name": "stdout",
     "output_type": "stream",
     "text": [
      "\r\tCreating Feature Vectors for reviews ..\t[*****     ]  46% Completed.\r\tCreating Feature Vectors for reviews ..\t[*****     ]  46% Completed.\r\tCreating Feature Vectors for reviews ..\t[*****     ]  46% Completed.\r\tCreating Feature Vectors for reviews ..\t[*****     ]  46% Completed.\r\tCreating Feature Vectors for reviews ..\t[*****     ]  46% Completed.\r\tCreating Feature Vectors for reviews ..\t[*****     ]  46% Completed.\r\tCreating Feature Vectors for reviews ..\t[*****     ]  47% Completed.\r\tCreating Feature Vectors for reviews ..\t[*****     ]  47% Completed.\r\tCreating Feature Vectors for reviews ..\t[*****     ]  47% Completed.\r\tCreating Feature Vectors for reviews ..\t[*****     ]  47% Completed.\r\tCreating Feature Vectors for reviews ..\t[*****     ]  47% Completed.\r\tCreating Feature Vectors for reviews ..\t[*****     ]  47% Completed.\r\tCreating Feature Vectors for reviews ..\t[*****     ]  47% Completed.\r\tCreating Feature Vectors for reviews ..\t[*****     ]  47% Completed.\r\tCreating Feature Vectors for reviews ..\t[*****     ]  47% Completed."
     ]
    },
    {
     "name": "stdout",
     "output_type": "stream",
     "text": [
      "\r\tCreating Feature Vectors for reviews ..\t[*****     ]  47% Completed.\r\tCreating Feature Vectors for reviews ..\t[*****     ]  47% Completed.\r\tCreating Feature Vectors for reviews ..\t[*****     ]  47% Completed.\r\tCreating Feature Vectors for reviews ..\t[*****     ]  47% Completed.\r\tCreating Feature Vectors for reviews ..\t[*****     ]  48% Completed.\r\tCreating Feature Vectors for reviews ..\t[*****     ]  48% Completed.\r\tCreating Feature Vectors for reviews ..\t[*****     ]  48% Completed.\r\tCreating Feature Vectors for reviews ..\t[*****     ]  48% Completed.\r\tCreating Feature Vectors for reviews ..\t[*****     ]  48% Completed.\r\tCreating Feature Vectors for reviews ..\t[*****     ]  48% Completed.\r\tCreating Feature Vectors for reviews ..\t[*****     ]  48% Completed.\r\tCreating Feature Vectors for reviews ..\t[*****     ]  48% Completed.\r\tCreating Feature Vectors for reviews ..\t[*****     ]  48% Completed.\r\tCreating Feature Vectors for reviews ..\t[*****     ]  48% Completed.\r\tCreating Feature Vectors for reviews ..\t[*****     ]  48% Completed."
     ]
    },
    {
     "name": "stdout",
     "output_type": "stream",
     "text": [
      "\r\tCreating Feature Vectors for reviews ..\t[*****     ]  48% Completed.\r\tCreating Feature Vectors for reviews ..\t[*****     ]  48% Completed.\r\tCreating Feature Vectors for reviews ..\t[*****     ]  49% Completed.\r\tCreating Feature Vectors for reviews ..\t[*****     ]  49% Completed.\r\tCreating Feature Vectors for reviews ..\t[*****     ]  49% Completed.\r\tCreating Feature Vectors for reviews ..\t[*****     ]  49% Completed.\r\tCreating Feature Vectors for reviews ..\t[*****     ]  49% Completed.\r\tCreating Feature Vectors for reviews ..\t[*****     ]  49% Completed.\r\tCreating Feature Vectors for reviews ..\t[*****     ]  49% Completed.\r\tCreating Feature Vectors for reviews ..\t[*****     ]  49% Completed.\r\tCreating Feature Vectors for reviews ..\t[*****     ]  49% Completed.\r\tCreating Feature Vectors for reviews ..\t[*****     ]  49% Completed.\r\tCreating Feature Vectors for reviews ..\t[*****     ]  49% Completed.\r\tCreating Feature Vectors for reviews ..\t[*****     ]  49% Completed.\r\tCreating Feature Vectors for reviews ..\t[*****     ]  49% Completed."
     ]
    },
    {
     "name": "stdout",
     "output_type": "stream",
     "text": [
      "\r\tCreating Feature Vectors for reviews ..\t[*****     ]  50% Completed.\r\tCreating Feature Vectors for reviews ..\t[*****     ]  50% Completed.\r\tCreating Feature Vectors for reviews ..\t[*****     ]  50% Completed.\r\tCreating Feature Vectors for reviews ..\t[*****     ]  50% Completed.\r\tCreating Feature Vectors for reviews ..\t[*****     ]  50% Completed.\r\tCreating Feature Vectors for reviews ..\t[*****     ]  50% Completed.\r\tCreating Feature Vectors for reviews ..\t[*****     ]  50% Completed.\r\tCreating Feature Vectors for reviews ..\t[*****     ]  50% Completed.\r\tCreating Feature Vectors for reviews ..\t[*****     ]  50% Completed.\r\tCreating Feature Vectors for reviews ..\t[*****     ]  50% Completed.\r\tCreating Feature Vectors for reviews ..\t[*****     ]  50% Completed.\r\tCreating Feature Vectors for reviews ..\t[*****     ]  50% Completed.\r\tCreating Feature Vectors for reviews ..\t[*****     ]  50% Completed.\r\tCreating Feature Vectors for reviews ..\t[*****     ]  51% Completed."
     ]
    },
    {
     "name": "stdout",
     "output_type": "stream",
     "text": [
      "\r\tCreating Feature Vectors for reviews ..\t[*****     ]  51% Completed.\r\tCreating Feature Vectors for reviews ..\t[*****     ]  51% Completed.\r\tCreating Feature Vectors for reviews ..\t[*****     ]  51% Completed.\r\tCreating Feature Vectors for reviews ..\t[*****     ]  51% Completed.\r\tCreating Feature Vectors for reviews ..\t[*****     ]  51% Completed.\r\tCreating Feature Vectors for reviews ..\t[*****     ]  51% Completed.\r\tCreating Feature Vectors for reviews ..\t[*****     ]  51% Completed.\r\tCreating Feature Vectors for reviews ..\t[*****     ]  51% Completed.\r\tCreating Feature Vectors for reviews ..\t[*****     ]  51% Completed.\r\tCreating Feature Vectors for reviews ..\t[*****     ]  51% Completed.\r\tCreating Feature Vectors for reviews ..\t[*****     ]  51% Completed.\r\tCreating Feature Vectors for reviews ..\t[*****     ]  52% Completed.\r\tCreating Feature Vectors for reviews ..\t[*****     ]  52% Completed.\r\tCreating Feature Vectors for reviews ..\t[*****     ]  52% Completed."
     ]
    },
    {
     "name": "stdout",
     "output_type": "stream",
     "text": [
      "\r\tCreating Feature Vectors for reviews ..\t[*****     ]  52% Completed.\r\tCreating Feature Vectors for reviews ..\t[*****     ]  52% Completed.\r\tCreating Feature Vectors for reviews ..\t[*****     ]  52% Completed.\r\tCreating Feature Vectors for reviews ..\t[*****     ]  52% Completed.\r\tCreating Feature Vectors for reviews ..\t[*****     ]  52% Completed.\r\tCreating Feature Vectors for reviews ..\t[*****     ]  52% Completed.\r\tCreating Feature Vectors for reviews ..\t[*****     ]  52% Completed.\r\tCreating Feature Vectors for reviews ..\t[*****     ]  52% Completed.\r\tCreating Feature Vectors for reviews ..\t[*****     ]  52% Completed.\r\tCreating Feature Vectors for reviews ..\t[*****     ]  52% Completed.\r\tCreating Feature Vectors for reviews ..\t[*****     ]  53% Completed.\r\tCreating Feature Vectors for reviews ..\t[*****     ]  53% Completed."
     ]
    },
    {
     "name": "stdout",
     "output_type": "stream",
     "text": [
      "\r\tCreating Feature Vectors for reviews ..\t[*****     ]  53% Completed.\r\tCreating Feature Vectors for reviews ..\t[*****     ]  53% Completed.\r\tCreating Feature Vectors for reviews ..\t[*****     ]  53% Completed.\r\tCreating Feature Vectors for reviews ..\t[*****     ]  53% Completed.\r\tCreating Feature Vectors for reviews ..\t[*****     ]  53% Completed.\r\tCreating Feature Vectors for reviews ..\t[*****     ]  53% Completed.\r\tCreating Feature Vectors for reviews ..\t[*****     ]  53% Completed.\r\tCreating Feature Vectors for reviews ..\t[*****     ]  53% Completed.\r\tCreating Feature Vectors for reviews ..\t[*****     ]  53% Completed.\r\tCreating Feature Vectors for reviews ..\t[*****     ]  53% Completed.\r\tCreating Feature Vectors for reviews ..\t[*****     ]  53% Completed.\r\tCreating Feature Vectors for reviews ..\t[*****     ]  54% Completed.\r\tCreating Feature Vectors for reviews ..\t[*****     ]  54% Completed.\r\tCreating Feature Vectors for reviews ..\t[*****     ]  54% Completed.\r\tCreating Feature Vectors for reviews ..\t[*****     ]  54% Completed."
     ]
    },
    {
     "name": "stdout",
     "output_type": "stream",
     "text": [
      "\r\tCreating Feature Vectors for reviews ..\t[*****     ]  54% Completed.\r\tCreating Feature Vectors for reviews ..\t[*****     ]  54% Completed.\r\tCreating Feature Vectors for reviews ..\t[*****     ]  54% Completed.\r\tCreating Feature Vectors for reviews ..\t[*****     ]  54% Completed.\r\tCreating Feature Vectors for reviews ..\t[*****     ]  54% Completed.\r\tCreating Feature Vectors for reviews ..\t[*****     ]  54% Completed.\r\tCreating Feature Vectors for reviews ..\t[*****     ]  54% Completed.\r\tCreating Feature Vectors for reviews ..\t[*****     ]  54% Completed.\r\tCreating Feature Vectors for reviews ..\t[*****     ]  54% Completed.\r\tCreating Feature Vectors for reviews ..\t[******    ]  55% Completed.\r\tCreating Feature Vectors for reviews ..\t[******    ]  55% Completed.\r\tCreating Feature Vectors for reviews ..\t[******    ]  55% Completed.\r\tCreating Feature Vectors for reviews ..\t[******    ]  55% Completed.\r\tCreating Feature Vectors for reviews ..\t[******    ]  55% Completed.\r\tCreating Feature Vectors for reviews ..\t[******    ]  55% Completed.\r\tCreating Feature Vectors for reviews ..\t[******    ]  55% Completed."
     ]
    },
    {
     "name": "stdout",
     "output_type": "stream",
     "text": [
      "\r\tCreating Feature Vectors for reviews ..\t[******    ]  55% Completed.\r\tCreating Feature Vectors for reviews ..\t[******    ]  55% Completed.\r\tCreating Feature Vectors for reviews ..\t[******    ]  55% Completed.\r\tCreating Feature Vectors for reviews ..\t[******    ]  55% Completed.\r\tCreating Feature Vectors for reviews ..\t[******    ]  55% Completed.\r\tCreating Feature Vectors for reviews ..\t[******    ]  55% Completed.\r\tCreating Feature Vectors for reviews ..\t[******    ]  56% Completed.\r\tCreating Feature Vectors for reviews ..\t[******    ]  56% Completed.\r\tCreating Feature Vectors for reviews ..\t[******    ]  56% Completed.\r\tCreating Feature Vectors for reviews ..\t[******    ]  56% Completed.\r\tCreating Feature Vectors for reviews ..\t[******    ]  56% Completed.\r\tCreating Feature Vectors for reviews ..\t[******    ]  56% Completed.\r\tCreating Feature Vectors for reviews ..\t[******    ]  56% Completed.\r\tCreating Feature Vectors for reviews ..\t[******    ]  56% Completed.\r\tCreating Feature Vectors for reviews ..\t[******    ]  56% Completed."
     ]
    },
    {
     "name": "stdout",
     "output_type": "stream",
     "text": [
      "\r\tCreating Feature Vectors for reviews ..\t[******    ]  56% Completed.\r\tCreating Feature Vectors for reviews ..\t[******    ]  56% Completed.\r\tCreating Feature Vectors for reviews ..\t[******    ]  56% Completed.\r\tCreating Feature Vectors for reviews ..\t[******    ]  56% Completed.\r\tCreating Feature Vectors for reviews ..\t[******    ]  57% Completed.\r\tCreating Feature Vectors for reviews ..\t[******    ]  57% Completed.\r\tCreating Feature Vectors for reviews ..\t[******    ]  57% Completed.\r\tCreating Feature Vectors for reviews ..\t[******    ]  57% Completed.\r\tCreating Feature Vectors for reviews ..\t[******    ]  57% Completed.\r\tCreating Feature Vectors for reviews ..\t[******    ]  57% Completed.\r\tCreating Feature Vectors for reviews ..\t[******    ]  57% Completed.\r\tCreating Feature Vectors for reviews ..\t[******    ]  57% Completed.\r\tCreating Feature Vectors for reviews ..\t[******    ]  57% Completed.\r\tCreating Feature Vectors for reviews ..\t[******    ]  57% Completed.\r\tCreating Feature Vectors for reviews ..\t[******    ]  57% Completed."
     ]
    },
    {
     "name": "stdout",
     "output_type": "stream",
     "text": [
      "\r\tCreating Feature Vectors for reviews ..\t[******    ]  57% Completed.\r\tCreating Feature Vectors for reviews ..\t[******    ]  57% Completed.\r\tCreating Feature Vectors for reviews ..\t[******    ]  58% Completed.\r\tCreating Feature Vectors for reviews ..\t[******    ]  58% Completed.\r\tCreating Feature Vectors for reviews ..\t[******    ]  58% Completed.\r\tCreating Feature Vectors for reviews ..\t[******    ]  58% Completed.\r\tCreating Feature Vectors for reviews ..\t[******    ]  58% Completed.\r\tCreating Feature Vectors for reviews ..\t[******    ]  58% Completed.\r\tCreating Feature Vectors for reviews ..\t[******    ]  58% Completed.\r\tCreating Feature Vectors for reviews ..\t[******    ]  58% Completed.\r\tCreating Feature Vectors for reviews ..\t[******    ]  58% Completed.\r\tCreating Feature Vectors for reviews ..\t[******    ]  58% Completed.\r\tCreating Feature Vectors for reviews ..\t[******    ]  58% Completed.\r\tCreating Feature Vectors for reviews ..\t[******    ]  58% Completed."
     ]
    },
    {
     "name": "stdout",
     "output_type": "stream",
     "text": [
      "\r\tCreating Feature Vectors for reviews ..\t[******    ]  58% Completed.\r\tCreating Feature Vectors for reviews ..\t[******    ]  59% Completed.\r\tCreating Feature Vectors for reviews ..\t[******    ]  59% Completed.\r\tCreating Feature Vectors for reviews ..\t[******    ]  59% Completed.\r\tCreating Feature Vectors for reviews ..\t[******    ]  59% Completed.\r\tCreating Feature Vectors for reviews ..\t[******    ]  59% Completed.\r\tCreating Feature Vectors for reviews ..\t[******    ]  59% Completed.\r\tCreating Feature Vectors for reviews ..\t[******    ]  59% Completed.\r\tCreating Feature Vectors for reviews ..\t[******    ]  59% Completed.\r\tCreating Feature Vectors for reviews ..\t[******    ]  59% Completed.\r\tCreating Feature Vectors for reviews ..\t[******    ]  59% Completed.\r\tCreating Feature Vectors for reviews ..\t[******    ]  59% Completed.\r\tCreating Feature Vectors for reviews ..\t[******    ]  59% Completed.\r\tCreating Feature Vectors for reviews ..\t[******    ]  59% Completed.\r\tCreating Feature Vectors for reviews ..\t[******    ]  60% Completed."
     ]
    },
    {
     "name": "stdout",
     "output_type": "stream",
     "text": [
      "\r\tCreating Feature Vectors for reviews ..\t[******    ]  60% Completed.\r\tCreating Feature Vectors for reviews ..\t[******    ]  60% Completed.\r\tCreating Feature Vectors for reviews ..\t[******    ]  60% Completed.\r\tCreating Feature Vectors for reviews ..\t[******    ]  60% Completed.\r\tCreating Feature Vectors for reviews ..\t[******    ]  60% Completed.\r\tCreating Feature Vectors for reviews ..\t[******    ]  60% Completed.\r\tCreating Feature Vectors for reviews ..\t[******    ]  60% Completed.\r\tCreating Feature Vectors for reviews ..\t[******    ]  60% Completed.\r\tCreating Feature Vectors for reviews ..\t[******    ]  60% Completed.\r\tCreating Feature Vectors for reviews ..\t[******    ]  60% Completed.\r\tCreating Feature Vectors for reviews ..\t[******    ]  60% Completed.\r\tCreating Feature Vectors for reviews ..\t[******    ]  60% Completed.\r\tCreating Feature Vectors for reviews ..\t[******    ]  61% Completed."
     ]
    },
    {
     "name": "stdout",
     "output_type": "stream",
     "text": [
      "\r\tCreating Feature Vectors for reviews ..\t[******    ]  61% Completed.\r\tCreating Feature Vectors for reviews ..\t[******    ]  61% Completed.\r\tCreating Feature Vectors for reviews ..\t[******    ]  61% Completed.\r\tCreating Feature Vectors for reviews ..\t[******    ]  61% Completed.\r\tCreating Feature Vectors for reviews ..\t[******    ]  61% Completed.\r\tCreating Feature Vectors for reviews ..\t[******    ]  61% Completed.\r\tCreating Feature Vectors for reviews ..\t[******    ]  61% Completed.\r\tCreating Feature Vectors for reviews ..\t[******    ]  61% Completed.\r\tCreating Feature Vectors for reviews ..\t[******    ]  61% Completed.\r\tCreating Feature Vectors for reviews ..\t[******    ]  61% Completed.\r\tCreating Feature Vectors for reviews ..\t[******    ]  61% Completed.\r\tCreating Feature Vectors for reviews ..\t[******    ]  61% Completed.\r\tCreating Feature Vectors for reviews ..\t[******    ]  62% Completed.\r\tCreating Feature Vectors for reviews ..\t[******    ]  62% Completed."
     ]
    },
    {
     "name": "stdout",
     "output_type": "stream",
     "text": [
      "\r\tCreating Feature Vectors for reviews ..\t[******    ]  62% Completed.\r\tCreating Feature Vectors for reviews ..\t[******    ]  62% Completed.\r\tCreating Feature Vectors for reviews ..\t[******    ]  62% Completed.\r\tCreating Feature Vectors for reviews ..\t[******    ]  62% Completed.\r\tCreating Feature Vectors for reviews ..\t[******    ]  62% Completed.\r\tCreating Feature Vectors for reviews ..\t[******    ]  62% Completed.\r\tCreating Feature Vectors for reviews ..\t[******    ]  62% Completed.\r\tCreating Feature Vectors for reviews ..\t[******    ]  62% Completed.\r\tCreating Feature Vectors for reviews ..\t[******    ]  62% Completed.\r\tCreating Feature Vectors for reviews ..\t[******    ]  62% Completed.\r\tCreating Feature Vectors for reviews ..\t[******    ]  63% Completed.\r\tCreating Feature Vectors for reviews ..\t[******    ]  63% Completed.\r\tCreating Feature Vectors for reviews ..\t[******    ]  63% Completed."
     ]
    },
    {
     "name": "stdout",
     "output_type": "stream",
     "text": [
      "\r\tCreating Feature Vectors for reviews ..\t[******    ]  63% Completed.\r\tCreating Feature Vectors for reviews ..\t[******    ]  63% Completed.\r\tCreating Feature Vectors for reviews ..\t[******    ]  63% Completed.\r\tCreating Feature Vectors for reviews ..\t[******    ]  63% Completed.\r\tCreating Feature Vectors for reviews ..\t[******    ]  63% Completed.\r\tCreating Feature Vectors for reviews ..\t[******    ]  63% Completed.\r\tCreating Feature Vectors for reviews ..\t[******    ]  63% Completed.\r\tCreating Feature Vectors for reviews ..\t[******    ]  63% Completed.\r\tCreating Feature Vectors for reviews ..\t[******    ]  63% Completed.\r\tCreating Feature Vectors for reviews ..\t[******    ]  63% Completed.\r\tCreating Feature Vectors for reviews ..\t[******    ]  64% Completed."
     ]
    },
    {
     "name": "stdout",
     "output_type": "stream",
     "text": [
      "\r\tCreating Feature Vectors for reviews ..\t[******    ]  64% Completed.\r\tCreating Feature Vectors for reviews ..\t[******    ]  64% Completed.\r\tCreating Feature Vectors for reviews ..\t[******    ]  64% Completed.\r\tCreating Feature Vectors for reviews ..\t[******    ]  64% Completed.\r\tCreating Feature Vectors for reviews ..\t[******    ]  64% Completed.\r\tCreating Feature Vectors for reviews ..\t[******    ]  64% Completed.\r\tCreating Feature Vectors for reviews ..\t[******    ]  64% Completed.\r\tCreating Feature Vectors for reviews ..\t[******    ]  64% Completed.\r\tCreating Feature Vectors for reviews ..\t[******    ]  64% Completed.\r\tCreating Feature Vectors for reviews ..\t[******    ]  64% Completed.\r\tCreating Feature Vectors for reviews ..\t[******    ]  64% Completed."
     ]
    },
    {
     "name": "stdout",
     "output_type": "stream",
     "text": [
      "\r\tCreating Feature Vectors for reviews ..\t[******    ]  64% Completed.\r\tCreating Feature Vectors for reviews ..\t[*******   ]  65% Completed.\r\tCreating Feature Vectors for reviews ..\t[*******   ]  65% Completed.\r\tCreating Feature Vectors for reviews ..\t[*******   ]  65% Completed.\r\tCreating Feature Vectors for reviews ..\t[*******   ]  65% Completed.\r\tCreating Feature Vectors for reviews ..\t[*******   ]  65% Completed.\r\tCreating Feature Vectors for reviews ..\t[*******   ]  65% Completed.\r\tCreating Feature Vectors for reviews ..\t[*******   ]  65% Completed.\r\tCreating Feature Vectors for reviews ..\t[*******   ]  65% Completed.\r\tCreating Feature Vectors for reviews ..\t[*******   ]  65% Completed.\r\tCreating Feature Vectors for reviews ..\t[*******   ]  65% Completed.\r\tCreating Feature Vectors for reviews ..\t[*******   ]  65% Completed.\r\tCreating Feature Vectors for reviews ..\t[*******   ]  65% Completed."
     ]
    },
    {
     "name": "stdout",
     "output_type": "stream",
     "text": [
      "\r\tCreating Feature Vectors for reviews ..\t[*******   ]  65% Completed.\r\tCreating Feature Vectors for reviews ..\t[*******   ]  66% Completed.\r\tCreating Feature Vectors for reviews ..\t[*******   ]  66% Completed.\r\tCreating Feature Vectors for reviews ..\t[*******   ]  66% Completed.\r\tCreating Feature Vectors for reviews ..\t[*******   ]  66% Completed.\r\tCreating Feature Vectors for reviews ..\t[*******   ]  66% Completed.\r\tCreating Feature Vectors for reviews ..\t[*******   ]  66% Completed.\r\tCreating Feature Vectors for reviews ..\t[*******   ]  66% Completed.\r\tCreating Feature Vectors for reviews ..\t[*******   ]  66% Completed.\r\tCreating Feature Vectors for reviews ..\t[*******   ]  66% Completed.\r\tCreating Feature Vectors for reviews ..\t[*******   ]  66% Completed.\r\tCreating Feature Vectors for reviews ..\t[*******   ]  66% Completed.\r\tCreating Feature Vectors for reviews ..\t[*******   ]  66% Completed."
     ]
    },
    {
     "name": "stdout",
     "output_type": "stream",
     "text": [
      "\r\tCreating Feature Vectors for reviews ..\t[*******   ]  66% Completed.\r\tCreating Feature Vectors for reviews ..\t[*******   ]  67% Completed.\r\tCreating Feature Vectors for reviews ..\t[*******   ]  67% Completed.\r\tCreating Feature Vectors for reviews ..\t[*******   ]  67% Completed.\r\tCreating Feature Vectors for reviews ..\t[*******   ]  67% Completed.\r\tCreating Feature Vectors for reviews ..\t[*******   ]  67% Completed.\r\tCreating Feature Vectors for reviews ..\t[*******   ]  67% Completed.\r\tCreating Feature Vectors for reviews ..\t[*******   ]  67% Completed.\r\tCreating Feature Vectors for reviews ..\t[*******   ]  67% Completed.\r\tCreating Feature Vectors for reviews ..\t[*******   ]  67% Completed.\r\tCreating Feature Vectors for reviews ..\t[*******   ]  67% Completed.\r\tCreating Feature Vectors for reviews ..\t[*******   ]  67% Completed.\r\tCreating Feature Vectors for reviews ..\t[*******   ]  67% Completed."
     ]
    },
    {
     "name": "stdout",
     "output_type": "stream",
     "text": [
      "\r\tCreating Feature Vectors for reviews ..\t[*******   ]  67% Completed.\r\tCreating Feature Vectors for reviews ..\t[*******   ]  68% Completed.\r\tCreating Feature Vectors for reviews ..\t[*******   ]  68% Completed.\r\tCreating Feature Vectors for reviews ..\t[*******   ]  68% Completed.\r\tCreating Feature Vectors for reviews ..\t[*******   ]  68% Completed.\r\tCreating Feature Vectors for reviews ..\t[*******   ]  68% Completed.\r\tCreating Feature Vectors for reviews ..\t[*******   ]  68% Completed.\r\tCreating Feature Vectors for reviews ..\t[*******   ]  68% Completed.\r\tCreating Feature Vectors for reviews ..\t[*******   ]  68% Completed.\r\tCreating Feature Vectors for reviews ..\t[*******   ]  68% Completed.\r\tCreating Feature Vectors for reviews ..\t[*******   ]  68% Completed.\r\tCreating Feature Vectors for reviews ..\t[*******   ]  68% Completed.\r\tCreating Feature Vectors for reviews ..\t[*******   ]  68% Completed.\r\tCreating Feature Vectors for reviews ..\t[*******   ]  68% Completed."
     ]
    },
    {
     "name": "stdout",
     "output_type": "stream",
     "text": [
      "\r\tCreating Feature Vectors for reviews ..\t[*******   ]  69% Completed.\r\tCreating Feature Vectors for reviews ..\t[*******   ]  69% Completed.\r\tCreating Feature Vectors for reviews ..\t[*******   ]  69% Completed.\r\tCreating Feature Vectors for reviews ..\t[*******   ]  69% Completed.\r\tCreating Feature Vectors for reviews ..\t[*******   ]  69% Completed.\r\tCreating Feature Vectors for reviews ..\t[*******   ]  69% Completed.\r\tCreating Feature Vectors for reviews ..\t[*******   ]  69% Completed.\r\tCreating Feature Vectors for reviews ..\t[*******   ]  69% Completed.\r\tCreating Feature Vectors for reviews ..\t[*******   ]  69% Completed.\r\tCreating Feature Vectors for reviews ..\t[*******   ]  69% Completed.\r\tCreating Feature Vectors for reviews ..\t[*******   ]  69% Completed.\r\tCreating Feature Vectors for reviews ..\t[*******   ]  69% Completed.\r\tCreating Feature Vectors for reviews ..\t[*******   ]  69% Completed.\r\tCreating Feature Vectors for reviews ..\t[*******   ]  70% Completed.\r\tCreating Feature Vectors for reviews ..\t[*******   ]  70% Completed."
     ]
    },
    {
     "name": "stdout",
     "output_type": "stream",
     "text": [
      "\r\tCreating Feature Vectors for reviews ..\t[*******   ]  70% Completed.\r\tCreating Feature Vectors for reviews ..\t[*******   ]  70% Completed.\r\tCreating Feature Vectors for reviews ..\t[*******   ]  70% Completed.\r\tCreating Feature Vectors for reviews ..\t[*******   ]  70% Completed.\r\tCreating Feature Vectors for reviews ..\t[*******   ]  70% Completed.\r\tCreating Feature Vectors for reviews ..\t[*******   ]  70% Completed.\r\tCreating Feature Vectors for reviews ..\t[*******   ]  70% Completed.\r\tCreating Feature Vectors for reviews ..\t[*******   ]  70% Completed.\r\tCreating Feature Vectors for reviews ..\t[*******   ]  70% Completed.\r\tCreating Feature Vectors for reviews ..\t[*******   ]  70% Completed.\r\tCreating Feature Vectors for reviews ..\t[*******   ]  70% Completed.\r\tCreating Feature Vectors for reviews ..\t[*******   ]  71% Completed.\r\tCreating Feature Vectors for reviews ..\t[*******   ]  71% Completed."
     ]
    },
    {
     "name": "stdout",
     "output_type": "stream",
     "text": [
      "\r\tCreating Feature Vectors for reviews ..\t[*******   ]  71% Completed.\r\tCreating Feature Vectors for reviews ..\t[*******   ]  71% Completed.\r\tCreating Feature Vectors for reviews ..\t[*******   ]  71% Completed.\r\tCreating Feature Vectors for reviews ..\t[*******   ]  71% Completed.\r\tCreating Feature Vectors for reviews ..\t[*******   ]  71% Completed.\r\tCreating Feature Vectors for reviews ..\t[*******   ]  71% Completed.\r\tCreating Feature Vectors for reviews ..\t[*******   ]  71% Completed.\r\tCreating Feature Vectors for reviews ..\t[*******   ]  71% Completed.\r\tCreating Feature Vectors for reviews ..\t[*******   ]  71% Completed.\r\tCreating Feature Vectors for reviews ..\t[*******   ]  71% Completed.\r\tCreating Feature Vectors for reviews ..\t[*******   ]  71% Completed.\r\tCreating Feature Vectors for reviews ..\t[*******   ]  72% Completed.\r\tCreating Feature Vectors for reviews ..\t[*******   ]  72% Completed."
     ]
    },
    {
     "name": "stdout",
     "output_type": "stream",
     "text": [
      "\r\tCreating Feature Vectors for reviews ..\t[*******   ]  72% Completed.\r\tCreating Feature Vectors for reviews ..\t[*******   ]  72% Completed.\r\tCreating Feature Vectors for reviews ..\t[*******   ]  72% Completed.\r\tCreating Feature Vectors for reviews ..\t[*******   ]  72% Completed.\r\tCreating Feature Vectors for reviews ..\t[*******   ]  72% Completed.\r\tCreating Feature Vectors for reviews ..\t[*******   ]  72% Completed.\r\tCreating Feature Vectors for reviews ..\t[*******   ]  72% Completed.\r\tCreating Feature Vectors for reviews ..\t[*******   ]  72% Completed.\r\tCreating Feature Vectors for reviews ..\t[*******   ]  72% Completed.\r\tCreating Feature Vectors for reviews ..\t[*******   ]  72% Completed.\r\tCreating Feature Vectors for reviews ..\t[*******   ]  73% Completed.\r\tCreating Feature Vectors for reviews ..\t[*******   ]  73% Completed.\r\tCreating Feature Vectors for reviews ..\t[*******   ]  73% Completed."
     ]
    },
    {
     "name": "stdout",
     "output_type": "stream",
     "text": [
      "\r\tCreating Feature Vectors for reviews ..\t[*******   ]  73% Completed.\r\tCreating Feature Vectors for reviews ..\t[*******   ]  73% Completed.\r\tCreating Feature Vectors for reviews ..\t[*******   ]  73% Completed.\r\tCreating Feature Vectors for reviews ..\t[*******   ]  73% Completed.\r\tCreating Feature Vectors for reviews ..\t[*******   ]  73% Completed.\r\tCreating Feature Vectors for reviews ..\t[*******   ]  73% Completed.\r\tCreating Feature Vectors for reviews ..\t[*******   ]  73% Completed.\r\tCreating Feature Vectors for reviews ..\t[*******   ]  73% Completed.\r\tCreating Feature Vectors for reviews ..\t[*******   ]  73% Completed.\r\tCreating Feature Vectors for reviews ..\t[*******   ]  73% Completed.\r\tCreating Feature Vectors for reviews ..\t[*******   ]  74% Completed.\r\tCreating Feature Vectors for reviews ..\t[*******   ]  74% Completed.\r\tCreating Feature Vectors for reviews ..\t[*******   ]  74% Completed.\r\tCreating Feature Vectors for reviews ..\t[*******   ]  74% Completed."
     ]
    },
    {
     "name": "stdout",
     "output_type": "stream",
     "text": [
      "\r\tCreating Feature Vectors for reviews ..\t[*******   ]  74% Completed.\r\tCreating Feature Vectors for reviews ..\t[*******   ]  74% Completed.\r\tCreating Feature Vectors for reviews ..\t[*******   ]  74% Completed.\r\tCreating Feature Vectors for reviews ..\t[*******   ]  74% Completed.\r\tCreating Feature Vectors for reviews ..\t[*******   ]  74% Completed.\r\tCreating Feature Vectors for reviews ..\t[*******   ]  74% Completed.\r\tCreating Feature Vectors for reviews ..\t[*******   ]  74% Completed.\r\tCreating Feature Vectors for reviews ..\t[*******   ]  74% Completed.\r\tCreating Feature Vectors for reviews ..\t[*******   ]  74% Completed.\r\tCreating Feature Vectors for reviews ..\t[********  ]  75% Completed.\r\tCreating Feature Vectors for reviews ..\t[********  ]  75% Completed.\r\tCreating Feature Vectors for reviews ..\t[********  ]  75% Completed.\r\tCreating Feature Vectors for reviews ..\t[********  ]  75% Completed.\r\tCreating Feature Vectors for reviews ..\t[********  ]  75% Completed."
     ]
    },
    {
     "name": "stdout",
     "output_type": "stream",
     "text": [
      "\r\tCreating Feature Vectors for reviews ..\t[********  ]  75% Completed.\r\tCreating Feature Vectors for reviews ..\t[********  ]  75% Completed.\r\tCreating Feature Vectors for reviews ..\t[********  ]  75% Completed.\r\tCreating Feature Vectors for reviews ..\t[********  ]  75% Completed.\r\tCreating Feature Vectors for reviews ..\t[********  ]  75% Completed.\r\tCreating Feature Vectors for reviews ..\t[********  ]  75% Completed.\r\tCreating Feature Vectors for reviews ..\t[********  ]  75% Completed.\r\tCreating Feature Vectors for reviews ..\t[********  ]  75% Completed.\r\tCreating Feature Vectors for reviews ..\t[********  ]  76% Completed.\r\tCreating Feature Vectors for reviews ..\t[********  ]  76% Completed.\r\tCreating Feature Vectors for reviews ..\t[********  ]  76% Completed.\r\tCreating Feature Vectors for reviews ..\t[********  ]  76% Completed.\r\tCreating Feature Vectors for reviews ..\t[********  ]  76% Completed.\r\tCreating Feature Vectors for reviews ..\t[********  ]  76% Completed."
     ]
    },
    {
     "name": "stdout",
     "output_type": "stream",
     "text": [
      "\r\tCreating Feature Vectors for reviews ..\t[********  ]  76% Completed.\r\tCreating Feature Vectors for reviews ..\t[********  ]  76% Completed.\r\tCreating Feature Vectors for reviews ..\t[********  ]  76% Completed.\r\tCreating Feature Vectors for reviews ..\t[********  ]  76% Completed.\r\tCreating Feature Vectors for reviews ..\t[********  ]  76% Completed.\r\tCreating Feature Vectors for reviews ..\t[********  ]  76% Completed.\r\tCreating Feature Vectors for reviews ..\t[********  ]  76% Completed.\r\tCreating Feature Vectors for reviews ..\t[********  ]  77% Completed.\r\tCreating Feature Vectors for reviews ..\t[********  ]  77% Completed.\r\tCreating Feature Vectors for reviews ..\t[********  ]  77% Completed.\r\tCreating Feature Vectors for reviews ..\t[********  ]  77% Completed.\r\tCreating Feature Vectors for reviews ..\t[********  ]  77% Completed.\r\tCreating Feature Vectors for reviews ..\t[********  ]  77% Completed."
     ]
    },
    {
     "name": "stdout",
     "output_type": "stream",
     "text": [
      "\r\tCreating Feature Vectors for reviews ..\t[********  ]  77% Completed.\r\tCreating Feature Vectors for reviews ..\t[********  ]  77% Completed.\r\tCreating Feature Vectors for reviews ..\t[********  ]  77% Completed.\r\tCreating Feature Vectors for reviews ..\t[********  ]  77% Completed.\r\tCreating Feature Vectors for reviews ..\t[********  ]  77% Completed.\r\tCreating Feature Vectors for reviews ..\t[********  ]  77% Completed.\r\tCreating Feature Vectors for reviews ..\t[********  ]  77% Completed.\r\tCreating Feature Vectors for reviews ..\t[********  ]  78% Completed.\r\tCreating Feature Vectors for reviews ..\t[********  ]  78% Completed.\r\tCreating Feature Vectors for reviews ..\t[********  ]  78% Completed.\r\tCreating Feature Vectors for reviews ..\t[********  ]  78% Completed.\r\tCreating Feature Vectors for reviews ..\t[********  ]  78% Completed.\r\tCreating Feature Vectors for reviews ..\t[********  ]  78% Completed."
     ]
    },
    {
     "name": "stdout",
     "output_type": "stream",
     "text": [
      "\r\tCreating Feature Vectors for reviews ..\t[********  ]  78% Completed.\r\tCreating Feature Vectors for reviews ..\t[********  ]  78% Completed.\r\tCreating Feature Vectors for reviews ..\t[********  ]  78% Completed.\r\tCreating Feature Vectors for reviews ..\t[********  ]  78% Completed.\r\tCreating Feature Vectors for reviews ..\t[********  ]  78% Completed.\r\tCreating Feature Vectors for reviews ..\t[********  ]  78% Completed.\r\tCreating Feature Vectors for reviews ..\t[********  ]  78% Completed.\r\tCreating Feature Vectors for reviews ..\t[********  ]  79% Completed.\r\tCreating Feature Vectors for reviews ..\t[********  ]  79% Completed.\r\tCreating Feature Vectors for reviews ..\t[********  ]  79% Completed.\r\tCreating Feature Vectors for reviews ..\t[********  ]  79% Completed.\r\tCreating Feature Vectors for reviews ..\t[********  ]  79% Completed.\r\tCreating Feature Vectors for reviews ..\t[********  ]  79% Completed.\r\tCreating Feature Vectors for reviews ..\t[********  ]  79% Completed."
     ]
    },
    {
     "name": "stdout",
     "output_type": "stream",
     "text": [
      "\r\tCreating Feature Vectors for reviews ..\t[********  ]  79% Completed.\r\tCreating Feature Vectors for reviews ..\t[********  ]  79% Completed.\r\tCreating Feature Vectors for reviews ..\t[********  ]  79% Completed.\r\tCreating Feature Vectors for reviews ..\t[********  ]  79% Completed.\r\tCreating Feature Vectors for reviews ..\t[********  ]  79% Completed.\r\tCreating Feature Vectors for reviews ..\t[********  ]  79% Completed.\r\tCreating Feature Vectors for reviews ..\t[********  ]  80% Completed.\r\tCreating Feature Vectors for reviews ..\t[********  ]  80% Completed.\r\tCreating Feature Vectors for reviews ..\t[********  ]  80% Completed.\r\tCreating Feature Vectors for reviews ..\t[********  ]  80% Completed.\r\tCreating Feature Vectors for reviews ..\t[********  ]  80% Completed.\r\tCreating Feature Vectors for reviews ..\t[********  ]  80% Completed.\r\tCreating Feature Vectors for reviews ..\t[********  ]  80% Completed."
     ]
    },
    {
     "name": "stdout",
     "output_type": "stream",
     "text": [
      "\r\tCreating Feature Vectors for reviews ..\t[********  ]  80% Completed.\r\tCreating Feature Vectors for reviews ..\t[********  ]  80% Completed.\r\tCreating Feature Vectors for reviews ..\t[********  ]  80% Completed.\r\tCreating Feature Vectors for reviews ..\t[********  ]  80% Completed.\r\tCreating Feature Vectors for reviews ..\t[********  ]  80% Completed.\r\tCreating Feature Vectors for reviews ..\t[********  ]  80% Completed.\r\tCreating Feature Vectors for reviews ..\t[********  ]  81% Completed.\r\tCreating Feature Vectors for reviews ..\t[********  ]  81% Completed.\r\tCreating Feature Vectors for reviews ..\t[********  ]  81% Completed.\r\tCreating Feature Vectors for reviews ..\t[********  ]  81% Completed.\r\tCreating Feature Vectors for reviews ..\t[********  ]  81% Completed.\r\tCreating Feature Vectors for reviews ..\t[********  ]  81% Completed.\r\tCreating Feature Vectors for reviews ..\t[********  ]  81% Completed."
     ]
    },
    {
     "name": "stdout",
     "output_type": "stream",
     "text": [
      "\r\tCreating Feature Vectors for reviews ..\t[********  ]  81% Completed.\r\tCreating Feature Vectors for reviews ..\t[********  ]  81% Completed.\r\tCreating Feature Vectors for reviews ..\t[********  ]  81% Completed.\r\tCreating Feature Vectors for reviews ..\t[********  ]  81% Completed.\r\tCreating Feature Vectors for reviews ..\t[********  ]  81% Completed.\r\tCreating Feature Vectors for reviews ..\t[********  ]  81% Completed.\r\tCreating Feature Vectors for reviews ..\t[********  ]  82% Completed.\r\tCreating Feature Vectors for reviews ..\t[********  ]  82% Completed.\r\tCreating Feature Vectors for reviews ..\t[********  ]  82% Completed.\r\tCreating Feature Vectors for reviews ..\t[********  ]  82% Completed.\r\tCreating Feature Vectors for reviews ..\t[********  ]  82% Completed.\r\tCreating Feature Vectors for reviews ..\t[********  ]  82% Completed.\r\tCreating Feature Vectors for reviews ..\t[********  ]  82% Completed."
     ]
    },
    {
     "name": "stdout",
     "output_type": "stream",
     "text": [
      "\r\tCreating Feature Vectors for reviews ..\t[********  ]  82% Completed.\r\tCreating Feature Vectors for reviews ..\t[********  ]  82% Completed.\r\tCreating Feature Vectors for reviews ..\t[********  ]  82% Completed.\r\tCreating Feature Vectors for reviews ..\t[********  ]  82% Completed.\r\tCreating Feature Vectors for reviews ..\t[********  ]  82% Completed.\r\tCreating Feature Vectors for reviews ..\t[********  ]  83% Completed.\r\tCreating Feature Vectors for reviews ..\t[********  ]  83% Completed.\r\tCreating Feature Vectors for reviews ..\t[********  ]  83% Completed.\r\tCreating Feature Vectors for reviews ..\t[********  ]  83% Completed.\r\tCreating Feature Vectors for reviews ..\t[********  ]  83% Completed.\r\tCreating Feature Vectors for reviews ..\t[********  ]  83% Completed.\r\tCreating Feature Vectors for reviews ..\t[********  ]  83% Completed.\r\tCreating Feature Vectors for reviews ..\t[********  ]  83% Completed."
     ]
    },
    {
     "name": "stdout",
     "output_type": "stream",
     "text": [
      "\r\tCreating Feature Vectors for reviews ..\t[********  ]  83% Completed.\r\tCreating Feature Vectors for reviews ..\t[********  ]  83% Completed.\r\tCreating Feature Vectors for reviews ..\t[********  ]  83% Completed.\r\tCreating Feature Vectors for reviews ..\t[********  ]  83% Completed.\r\tCreating Feature Vectors for reviews ..\t[********  ]  83% Completed.\r\tCreating Feature Vectors for reviews ..\t[********  ]  84% Completed.\r\tCreating Feature Vectors for reviews ..\t[********  ]  84% Completed.\r\tCreating Feature Vectors for reviews ..\t[********  ]  84% Completed.\r\tCreating Feature Vectors for reviews ..\t[********  ]  84% Completed.\r\tCreating Feature Vectors for reviews ..\t[********  ]  84% Completed.\r\tCreating Feature Vectors for reviews ..\t[********  ]  84% Completed.\r\tCreating Feature Vectors for reviews ..\t[********  ]  84% Completed."
     ]
    },
    {
     "name": "stdout",
     "output_type": "stream",
     "text": [
      "\r\tCreating Feature Vectors for reviews ..\t[********  ]  84% Completed.\r\tCreating Feature Vectors for reviews ..\t[********  ]  84% Completed.\r\tCreating Feature Vectors for reviews ..\t[********  ]  84% Completed.\r\tCreating Feature Vectors for reviews ..\t[********  ]  84% Completed.\r\tCreating Feature Vectors for reviews ..\t[********  ]  84% Completed.\r\tCreating Feature Vectors for reviews ..\t[********  ]  84% Completed.\r\tCreating Feature Vectors for reviews ..\t[********* ]  85% Completed.\r\tCreating Feature Vectors for reviews ..\t[********* ]  85% Completed.\r\tCreating Feature Vectors for reviews ..\t[********* ]  85% Completed.\r\tCreating Feature Vectors for reviews ..\t[********* ]  85% Completed.\r\tCreating Feature Vectors for reviews ..\t[********* ]  85% Completed.\r\tCreating Feature Vectors for reviews ..\t[********* ]  85% Completed."
     ]
    },
    {
     "name": "stdout",
     "output_type": "stream",
     "text": [
      "\r\tCreating Feature Vectors for reviews ..\t[********* ]  85% Completed.\r\tCreating Feature Vectors for reviews ..\t[********* ]  85% Completed.\r\tCreating Feature Vectors for reviews ..\t[********* ]  85% Completed.\r\tCreating Feature Vectors for reviews ..\t[********* ]  85% Completed.\r\tCreating Feature Vectors for reviews ..\t[********* ]  85% Completed.\r\tCreating Feature Vectors for reviews ..\t[********* ]  85% Completed.\r\tCreating Feature Vectors for reviews ..\t[********* ]  85% Completed.\r\tCreating Feature Vectors for reviews ..\t[********* ]  86% Completed.\r\tCreating Feature Vectors for reviews ..\t[********* ]  86% Completed.\r\tCreating Feature Vectors for reviews ..\t[********* ]  86% Completed.\r\tCreating Feature Vectors for reviews ..\t[********* ]  86% Completed.\r\tCreating Feature Vectors for reviews ..\t[********* ]  86% Completed.\r\tCreating Feature Vectors for reviews ..\t[********* ]  86% Completed."
     ]
    },
    {
     "name": "stdout",
     "output_type": "stream",
     "text": [
      "\r\tCreating Feature Vectors for reviews ..\t[********* ]  86% Completed.\r\tCreating Feature Vectors for reviews ..\t[********* ]  86% Completed.\r\tCreating Feature Vectors for reviews ..\t[********* ]  86% Completed.\r\tCreating Feature Vectors for reviews ..\t[********* ]  86% Completed.\r\tCreating Feature Vectors for reviews ..\t[********* ]  86% Completed.\r\tCreating Feature Vectors for reviews ..\t[********* ]  86% Completed.\r\tCreating Feature Vectors for reviews ..\t[********* ]  86% Completed.\r\tCreating Feature Vectors for reviews ..\t[********* ]  87% Completed.\r\tCreating Feature Vectors for reviews ..\t[********* ]  87% Completed.\r\tCreating Feature Vectors for reviews ..\t[********* ]  87% Completed.\r\tCreating Feature Vectors for reviews ..\t[********* ]  87% Completed.\r\tCreating Feature Vectors for reviews ..\t[********* ]  87% Completed.\r\tCreating Feature Vectors for reviews ..\t[********* ]  87% Completed."
     ]
    },
    {
     "name": "stdout",
     "output_type": "stream",
     "text": [
      "\r\tCreating Feature Vectors for reviews ..\t[********* ]  87% Completed.\r\tCreating Feature Vectors for reviews ..\t[********* ]  87% Completed.\r\tCreating Feature Vectors for reviews ..\t[********* ]  87% Completed.\r\tCreating Feature Vectors for reviews ..\t[********* ]  87% Completed.\r\tCreating Feature Vectors for reviews ..\t[********* ]  87% Completed.\r\tCreating Feature Vectors for reviews ..\t[********* ]  87% Completed.\r\tCreating Feature Vectors for reviews ..\t[********* ]  87% Completed.\r\tCreating Feature Vectors for reviews ..\t[********* ]  88% Completed.\r\tCreating Feature Vectors for reviews ..\t[********* ]  88% Completed.\r\tCreating Feature Vectors for reviews ..\t[********* ]  88% Completed.\r\tCreating Feature Vectors for reviews ..\t[********* ]  88% Completed.\r\tCreating Feature Vectors for reviews ..\t[********* ]  88% Completed.\r\tCreating Feature Vectors for reviews ..\t[********* ]  88% Completed.\r\tCreating Feature Vectors for reviews ..\t[********* ]  88% Completed."
     ]
    },
    {
     "name": "stdout",
     "output_type": "stream",
     "text": [
      "\r\tCreating Feature Vectors for reviews ..\t[********* ]  88% Completed.\r\tCreating Feature Vectors for reviews ..\t[********* ]  88% Completed.\r\tCreating Feature Vectors for reviews ..\t[********* ]  88% Completed.\r\tCreating Feature Vectors for reviews ..\t[********* ]  88% Completed.\r\tCreating Feature Vectors for reviews ..\t[********* ]  88% Completed.\r\tCreating Feature Vectors for reviews ..\t[********* ]  88% Completed.\r\tCreating Feature Vectors for reviews ..\t[********* ]  89% Completed.\r\tCreating Feature Vectors for reviews ..\t[********* ]  89% Completed.\r\tCreating Feature Vectors for reviews ..\t[********* ]  89% Completed.\r\tCreating Feature Vectors for reviews ..\t[********* ]  89% Completed.\r\tCreating Feature Vectors for reviews ..\t[********* ]  89% Completed.\r\tCreating Feature Vectors for reviews ..\t[********* ]  89% Completed.\r\tCreating Feature Vectors for reviews ..\t[********* ]  89% Completed."
     ]
    },
    {
     "name": "stdout",
     "output_type": "stream",
     "text": [
      "\r\tCreating Feature Vectors for reviews ..\t[********* ]  89% Completed.\r\tCreating Feature Vectors for reviews ..\t[********* ]  89% Completed.\r\tCreating Feature Vectors for reviews ..\t[********* ]  89% Completed.\r\tCreating Feature Vectors for reviews ..\t[********* ]  89% Completed.\r\tCreating Feature Vectors for reviews ..\t[********* ]  89% Completed.\r\tCreating Feature Vectors for reviews ..\t[********* ]  89% Completed.\r\tCreating Feature Vectors for reviews ..\t[********* ]  90% Completed.\r\tCreating Feature Vectors for reviews ..\t[********* ]  90% Completed.\r\tCreating Feature Vectors for reviews ..\t[********* ]  90% Completed.\r\tCreating Feature Vectors for reviews ..\t[********* ]  90% Completed.\r\tCreating Feature Vectors for reviews ..\t[********* ]  90% Completed.\r\tCreating Feature Vectors for reviews ..\t[********* ]  90% Completed.\r\tCreating Feature Vectors for reviews ..\t[********* ]  90% Completed.\r\tCreating Feature Vectors for reviews ..\t[********* ]  90% Completed."
     ]
    },
    {
     "name": "stdout",
     "output_type": "stream",
     "text": [
      "\r\tCreating Feature Vectors for reviews ..\t[********* ]  90% Completed.\r\tCreating Feature Vectors for reviews ..\t[********* ]  90% Completed.\r\tCreating Feature Vectors for reviews ..\t[********* ]  90% Completed.\r\tCreating Feature Vectors for reviews ..\t[********* ]  90% Completed.\r\tCreating Feature Vectors for reviews ..\t[********* ]  90% Completed.\r\tCreating Feature Vectors for reviews ..\t[********* ]  91% Completed.\r\tCreating Feature Vectors for reviews ..\t[********* ]  91% Completed.\r\tCreating Feature Vectors for reviews ..\t[********* ]  91% Completed.\r\tCreating Feature Vectors for reviews ..\t[********* ]  91% Completed.\r\tCreating Feature Vectors for reviews ..\t[********* ]  91% Completed."
     ]
    },
    {
     "name": "stdout",
     "output_type": "stream",
     "text": [
      "\r\tCreating Feature Vectors for reviews ..\t[********* ]  91% Completed.\r\tCreating Feature Vectors for reviews ..\t[********* ]  91% Completed.\r\tCreating Feature Vectors for reviews ..\t[********* ]  91% Completed.\r\tCreating Feature Vectors for reviews ..\t[********* ]  91% Completed.\r\tCreating Feature Vectors for reviews ..\t[********* ]  91% Completed.\r\tCreating Feature Vectors for reviews ..\t[********* ]  91% Completed.\r\tCreating Feature Vectors for reviews ..\t[********* ]  91% Completed.\r\tCreating Feature Vectors for reviews ..\t[********* ]  91% Completed.\r\tCreating Feature Vectors for reviews ..\t[********* ]  92% Completed.\r\tCreating Feature Vectors for reviews ..\t[********* ]  92% Completed.\r\tCreating Feature Vectors for reviews ..\t[********* ]  92% Completed.\r\tCreating Feature Vectors for reviews ..\t[********* ]  92% Completed.\r\tCreating Feature Vectors for reviews ..\t[********* ]  92% Completed."
     ]
    },
    {
     "name": "stdout",
     "output_type": "stream",
     "text": [
      "\r\tCreating Feature Vectors for reviews ..\t[********* ]  92% Completed.\r\tCreating Feature Vectors for reviews ..\t[********* ]  92% Completed.\r\tCreating Feature Vectors for reviews ..\t[********* ]  92% Completed.\r\tCreating Feature Vectors for reviews ..\t[********* ]  92% Completed.\r\tCreating Feature Vectors for reviews ..\t[********* ]  92% Completed.\r\tCreating Feature Vectors for reviews ..\t[********* ]  92% Completed.\r\tCreating Feature Vectors for reviews ..\t[********* ]  92% Completed.\r\tCreating Feature Vectors for reviews ..\t[********* ]  92% Completed.\r\tCreating Feature Vectors for reviews ..\t[********* ]  93% Completed.\r\tCreating Feature Vectors for reviews ..\t[********* ]  93% Completed.\r\tCreating Feature Vectors for reviews ..\t[********* ]  93% Completed.\r\tCreating Feature Vectors for reviews ..\t[********* ]  93% Completed.\r\tCreating Feature Vectors for reviews ..\t[********* ]  93% Completed.\r\tCreating Feature Vectors for reviews ..\t[********* ]  93% Completed."
     ]
    },
    {
     "name": "stdout",
     "output_type": "stream",
     "text": [
      "\r\tCreating Feature Vectors for reviews ..\t[********* ]  93% Completed.\r\tCreating Feature Vectors for reviews ..\t[********* ]  93% Completed.\r\tCreating Feature Vectors for reviews ..\t[********* ]  93% Completed.\r\tCreating Feature Vectors for reviews ..\t[********* ]  93% Completed.\r\tCreating Feature Vectors for reviews ..\t[********* ]  93% Completed.\r\tCreating Feature Vectors for reviews ..\t[********* ]  93% Completed.\r\tCreating Feature Vectors for reviews ..\t[********* ]  94% Completed.\r\tCreating Feature Vectors for reviews ..\t[********* ]  94% Completed.\r\tCreating Feature Vectors for reviews ..\t[********* ]  94% Completed.\r\tCreating Feature Vectors for reviews ..\t[********* ]  94% Completed.\r\tCreating Feature Vectors for reviews ..\t[********* ]  94% Completed.\r\tCreating Feature Vectors for reviews ..\t[********* ]  94% Completed.\r\tCreating Feature Vectors for reviews ..\t[********* ]  94% Completed.\r\tCreating Feature Vectors for reviews ..\t[********* ]  94% Completed."
     ]
    },
    {
     "name": "stdout",
     "output_type": "stream",
     "text": [
      "\r\tCreating Feature Vectors for reviews ..\t[********* ]  94% Completed.\r\tCreating Feature Vectors for reviews ..\t[********* ]  94% Completed.\r\tCreating Feature Vectors for reviews ..\t[********* ]  94% Completed.\r\tCreating Feature Vectors for reviews ..\t[********* ]  94% Completed.\r\tCreating Feature Vectors for reviews ..\t[********* ]  94% Completed.\r\tCreating Feature Vectors for reviews ..\t[**********]  95% Completed.\r\tCreating Feature Vectors for reviews ..\t[**********]  95% Completed.\r\tCreating Feature Vectors for reviews ..\t[**********]  95% Completed.\r\tCreating Feature Vectors for reviews ..\t[**********]  95% Completed.\r\tCreating Feature Vectors for reviews ..\t[**********]  95% Completed.\r\tCreating Feature Vectors for reviews ..\t[**********]  95% Completed.\r\tCreating Feature Vectors for reviews ..\t[**********]  95% Completed.\r\tCreating Feature Vectors for reviews ..\t[**********]  95% Completed.\r\tCreating Feature Vectors for reviews ..\t[**********]  95% Completed.\r\tCreating Feature Vectors for reviews ..\t[**********]  95% Completed."
     ]
    },
    {
     "name": "stdout",
     "output_type": "stream",
     "text": [
      "\r\tCreating Feature Vectors for reviews ..\t[**********]  95% Completed.\r\tCreating Feature Vectors for reviews ..\t[**********]  95% Completed.\r\tCreating Feature Vectors for reviews ..\t[**********]  95% Completed.\r\tCreating Feature Vectors for reviews ..\t[**********]  96% Completed.\r\tCreating Feature Vectors for reviews ..\t[**********]  96% Completed.\r\tCreating Feature Vectors for reviews ..\t[**********]  96% Completed.\r\tCreating Feature Vectors for reviews ..\t[**********]  96% Completed.\r\tCreating Feature Vectors for reviews ..\t[**********]  96% Completed.\r\tCreating Feature Vectors for reviews ..\t[**********]  96% Completed.\r\tCreating Feature Vectors for reviews ..\t[**********]  96% Completed.\r\tCreating Feature Vectors for reviews ..\t[**********]  96% Completed.\r\tCreating Feature Vectors for reviews ..\t[**********]  96% Completed.\r\tCreating Feature Vectors for reviews ..\t[**********]  96% Completed.\r\tCreating Feature Vectors for reviews ..\t[**********]  96% Completed.\r\tCreating Feature Vectors for reviews ..\t[**********]  96% Completed."
     ]
    },
    {
     "name": "stdout",
     "output_type": "stream",
     "text": [
      "\r\tCreating Feature Vectors for reviews ..\t[**********]  96% Completed.\r\tCreating Feature Vectors for reviews ..\t[**********]  97% Completed.\r\tCreating Feature Vectors for reviews ..\t[**********]  97% Completed.\r\tCreating Feature Vectors for reviews ..\t[**********]  97% Completed.\r\tCreating Feature Vectors for reviews ..\t[**********]  97% Completed.\r\tCreating Feature Vectors for reviews ..\t[**********]  97% Completed.\r\tCreating Feature Vectors for reviews ..\t[**********]  97% Completed.\r\tCreating Feature Vectors for reviews ..\t[**********]  97% Completed.\r\tCreating Feature Vectors for reviews ..\t[**********]  97% Completed.\r\tCreating Feature Vectors for reviews ..\t[**********]  97% Completed.\r\tCreating Feature Vectors for reviews ..\t[**********]  97% Completed.\r\tCreating Feature Vectors for reviews ..\t[**********]  97% Completed.\r\tCreating Feature Vectors for reviews ..\t[**********]  97% Completed.\r\tCreating Feature Vectors for reviews ..\t[**********]  97% Completed.\r\tCreating Feature Vectors for reviews ..\t[**********]  98% Completed."
     ]
    },
    {
     "name": "stdout",
     "output_type": "stream",
     "text": [
      "\r\tCreating Feature Vectors for reviews ..\t[**********]  98% Completed.\r\tCreating Feature Vectors for reviews ..\t[**********]  98% Completed.\r\tCreating Feature Vectors for reviews ..\t[**********]  98% Completed.\r\tCreating Feature Vectors for reviews ..\t[**********]  98% Completed.\r\tCreating Feature Vectors for reviews ..\t[**********]  98% Completed.\r\tCreating Feature Vectors for reviews ..\t[**********]  98% Completed.\r\tCreating Feature Vectors for reviews ..\t[**********]  98% Completed.\r\tCreating Feature Vectors for reviews ..\t[**********]  98% Completed.\r\tCreating Feature Vectors for reviews ..\t[**********]  98% Completed.\r\tCreating Feature Vectors for reviews ..\t[**********]  98% Completed.\r\tCreating Feature Vectors for reviews ..\t[**********]  98% Completed.\r\tCreating Feature Vectors for reviews ..\t[**********]  98% Completed.\r\tCreating Feature Vectors for reviews ..\t[**********]  99% Completed.\r\tCreating Feature Vectors for reviews ..\t[**********]  99% Completed.\r\tCreating Feature Vectors for reviews ..\t[**********]  99% Completed."
     ]
    },
    {
     "name": "stdout",
     "output_type": "stream",
     "text": [
      "\r\tCreating Feature Vectors for reviews ..\t[**********]  99% Completed.\r\tCreating Feature Vectors for reviews ..\t[**********]  99% Completed.\r\tCreating Feature Vectors for reviews ..\t[**********]  99% Completed.\r\tCreating Feature Vectors for reviews ..\t[**********]  99% Completed.\r\tCreating Feature Vectors for reviews ..\t[**********]  99% Completed.\r\tCreating Feature Vectors for reviews ..\t[**********]  99% Completed.\r\tCreating Feature Vectors for reviews ..\t[**********]  99% Completed.\r\tCreating Feature Vectors for reviews ..\t[**********]  99% Completed.\r\tCreating Feature Vectors for reviews ..\t[**********]  99% Completed.\r\tCreating Feature Vectors for reviews ..\t[**********]  99% Completed.\r\tCreating Feature Vectors for reviews ..\t[**********]  100% Completed."
     ]
    },
    {
     "name": "stdout",
     "output_type": "stream",
     "text": [
      "\r\tCreating Feature Vectors for reviews ..\t[          ]  0% Completed.\r\tCreating Feature Vectors for reviews ..\t[          ]  0% Completed.\r\tCreating Feature Vectors for reviews ..\t[          ]  0% Completed.\r\tCreating Feature Vectors for reviews ..\t[          ]  0% Completed.\r\tCreating Feature Vectors for reviews ..\t[          ]  1% Completed.\r\tCreating Feature Vectors for reviews ..\t[          ]  1% Completed.\r\tCreating Feature Vectors for reviews ..\t[          ]  1% Completed.\r\tCreating Feature Vectors for reviews ..\t[          ]  2% Completed.\r\tCreating Feature Vectors for reviews ..\t[          ]  2% Completed.\r\tCreating Feature Vectors for reviews ..\t[          ]  2% Completed.\r\tCreating Feature Vectors for reviews ..\t[          ]  3% Completed.\r\tCreating Feature Vectors for reviews ..\t[          ]  3% Completed.\r\tCreating Feature Vectors for reviews ..\t[          ]  3% Completed.\r\tCreating Feature Vectors for reviews ..\t[          ]  4% Completed.\r\tCreating Feature Vectors for reviews ..\t[          ]  4% Completed."
     ]
    },
    {
     "name": "stdout",
     "output_type": "stream",
     "text": [
      "\r\tCreating Feature Vectors for reviews ..\t[          ]  4% Completed.\r\tCreating Feature Vectors for reviews ..\t[          ]  4% Completed.\r\tCreating Feature Vectors for reviews ..\t[*         ]  5% Completed.\r\tCreating Feature Vectors for reviews ..\t[*         ]  5% Completed.\r\tCreating Feature Vectors for reviews ..\t[*         ]  5% Completed.\r\tCreating Feature Vectors for reviews ..\t[*         ]  6% Completed.\r\tCreating Feature Vectors for reviews ..\t[*         ]  6% Completed.\r\tCreating Feature Vectors for reviews ..\t[*         ]  6% Completed.\r\tCreating Feature Vectors for reviews ..\t[*         ]  7% Completed.\r\tCreating Feature Vectors for reviews ..\t[*         ]  7% Completed.\r\tCreating Feature Vectors for reviews ..\t[*         ]  7% Completed.\r\tCreating Feature Vectors for reviews ..\t[*         ]  8% Completed.\r\tCreating Feature Vectors for reviews ..\t[*         ]  8% Completed.\r\tCreating Feature Vectors for reviews ..\t[*         ]  8% Completed.\r\tCreating Feature Vectors for reviews ..\t[*         ]  8% Completed."
     ]
    },
    {
     "name": "stdout",
     "output_type": "stream",
     "text": [
      "\r\tCreating Feature Vectors for reviews ..\t[*         ]  9% Completed.\r\tCreating Feature Vectors for reviews ..\t[*         ]  9% Completed.\r\tCreating Feature Vectors for reviews ..\t[*         ]  9% Completed.\r\tCreating Feature Vectors for reviews ..\t[*         ]  10% Completed.\r\tCreating Feature Vectors for reviews ..\t[*         ]  10% Completed.\r\tCreating Feature Vectors for reviews ..\t[*         ]  10% Completed.\r\tCreating Feature Vectors for reviews ..\t[*         ]  11% Completed.\r\tCreating Feature Vectors for reviews ..\t[*         ]  11% Completed.\r\tCreating Feature Vectors for reviews ..\t[*         ]  11% Completed.\r\tCreating Feature Vectors for reviews ..\t[*         ]  12% Completed.\r\tCreating Feature Vectors for reviews ..\t[*         ]  12% Completed.\r\tCreating Feature Vectors for reviews ..\t[*         ]  12% Completed.\r\tCreating Feature Vectors for reviews ..\t[*         ]  13% Completed.\r\tCreating Feature Vectors for reviews ..\t[*         ]  13% Completed.\r\tCreating Feature Vectors for reviews ..\t[*         ]  13% Completed.\r\tCreating Feature Vectors for reviews ..\t[*         ]  13% Completed."
     ]
    },
    {
     "name": "stdout",
     "output_type": "stream",
     "text": [
      "\r\tCreating Feature Vectors for reviews ..\t[*         ]  14% Completed.\r\tCreating Feature Vectors for reviews ..\t[*         ]  14% Completed.\r\tCreating Feature Vectors for reviews ..\t[*         ]  14% Completed.\r\tCreating Feature Vectors for reviews ..\t[**        ]  15% Completed.\r\tCreating Feature Vectors for reviews ..\t[**        ]  15% Completed.\r\tCreating Feature Vectors for reviews ..\t[**        ]  15% Completed.\r\tCreating Feature Vectors for reviews ..\t[**        ]  16% Completed.\r\tCreating Feature Vectors for reviews ..\t[**        ]  16% Completed.\r\tCreating Feature Vectors for reviews ..\t[**        ]  16% Completed.\r\tCreating Feature Vectors for reviews ..\t[**        ]  17% Completed.\r\tCreating Feature Vectors for reviews ..\t[**        ]  17% Completed.\r\tCreating Feature Vectors for reviews ..\t[**        ]  17% Completed.\r\tCreating Feature Vectors for reviews ..\t[**        ]  17% Completed.\r\tCreating Feature Vectors for reviews ..\t[**        ]  18% Completed."
     ]
    },
    {
     "name": "stdout",
     "output_type": "stream",
     "text": [
      "\r\tCreating Feature Vectors for reviews ..\t[**        ]  18% Completed.\r\tCreating Feature Vectors for reviews ..\t[**        ]  18% Completed.\r\tCreating Feature Vectors for reviews ..\t[**        ]  19% Completed.\r\tCreating Feature Vectors for reviews ..\t[**        ]  19% Completed.\r\tCreating Feature Vectors for reviews ..\t[**        ]  19% Completed.\r\tCreating Feature Vectors for reviews ..\t[**        ]  20% Completed.\r\tCreating Feature Vectors for reviews ..\t[**        ]  20% Completed.\r\tCreating Feature Vectors for reviews ..\t[**        ]  20% Completed.\r\tCreating Feature Vectors for reviews ..\t[**        ]  21% Completed.\r\tCreating Feature Vectors for reviews ..\t[**        ]  21% Completed.\r\tCreating Feature Vectors for reviews ..\t[**        ]  21% Completed.\r\tCreating Feature Vectors for reviews ..\t[**        ]  22% Completed.\r\tCreating Feature Vectors for reviews ..\t[**        ]  22% Completed.\r\tCreating Feature Vectors for reviews ..\t[**        ]  22% Completed."
     ]
    },
    {
     "name": "stdout",
     "output_type": "stream",
     "text": [
      "\r\tCreating Feature Vectors for reviews ..\t[**        ]  22% Completed.\r\tCreating Feature Vectors for reviews ..\t[**        ]  23% Completed.\r\tCreating Feature Vectors for reviews ..\t[**        ]  23% Completed.\r\tCreating Feature Vectors for reviews ..\t[**        ]  23% Completed.\r\tCreating Feature Vectors for reviews ..\t[**        ]  24% Completed.\r\tCreating Feature Vectors for reviews ..\t[**        ]  24% Completed.\r\tCreating Feature Vectors for reviews ..\t[**        ]  24% Completed.\r\tCreating Feature Vectors for reviews ..\t[***       ]  25% Completed.\r\tCreating Feature Vectors for reviews ..\t[***       ]  25% Completed.\r\tCreating Feature Vectors for reviews ..\t[***       ]  25% Completed.\r\tCreating Feature Vectors for reviews ..\t[***       ]  26% Completed.\r\tCreating Feature Vectors for reviews ..\t[***       ]  26% Completed.\r\tCreating Feature Vectors for reviews ..\t[***       ]  26% Completed.\r\tCreating Feature Vectors for reviews ..\t[***       ]  26% Completed."
     ]
    },
    {
     "name": "stdout",
     "output_type": "stream",
     "text": [
      "\r\tCreating Feature Vectors for reviews ..\t[***       ]  27% Completed.\r\tCreating Feature Vectors for reviews ..\t[***       ]  27% Completed.\r\tCreating Feature Vectors for reviews ..\t[***       ]  27% Completed.\r\tCreating Feature Vectors for reviews ..\t[***       ]  28% Completed.\r\tCreating Feature Vectors for reviews ..\t[***       ]  28% Completed.\r\tCreating Feature Vectors for reviews ..\t[***       ]  28% Completed.\r\tCreating Feature Vectors for reviews ..\t[***       ]  29% Completed.\r\tCreating Feature Vectors for reviews ..\t[***       ]  29% Completed.\r\tCreating Feature Vectors for reviews ..\t[***       ]  29% Completed.\r\tCreating Feature Vectors for reviews ..\t[***       ]  30% Completed.\r\tCreating Feature Vectors for reviews ..\t[***       ]  30% Completed.\r\tCreating Feature Vectors for reviews ..\t[***       ]  30% Completed.\r\tCreating Feature Vectors for reviews ..\t[***       ]  31% Completed.\r\tCreating Feature Vectors for reviews ..\t[***       ]  31% Completed.\r\tCreating Feature Vectors for reviews ..\t[***       ]  31% Completed."
     ]
    },
    {
     "name": "stdout",
     "output_type": "stream",
     "text": [
      "\r\tCreating Feature Vectors for reviews ..\t[***       ]  31% Completed.\r\tCreating Feature Vectors for reviews ..\t[***       ]  32% Completed.\r\tCreating Feature Vectors for reviews ..\t[***       ]  32% Completed.\r\tCreating Feature Vectors for reviews ..\t[***       ]  32% Completed.\r\tCreating Feature Vectors for reviews ..\t[***       ]  33% Completed.\r\tCreating Feature Vectors for reviews ..\t[***       ]  33% Completed.\r\tCreating Feature Vectors for reviews ..\t[***       ]  33% Completed.\r\tCreating Feature Vectors for reviews ..\t[***       ]  34% Completed.\r\tCreating Feature Vectors for reviews ..\t[***       ]  34% Completed.\r\tCreating Feature Vectors for reviews ..\t[***       ]  34% Completed.\r\tCreating Feature Vectors for reviews ..\t[****      ]  35% Completed.\r\tCreating Feature Vectors for reviews ..\t[****      ]  35% Completed.\r\tCreating Feature Vectors for reviews ..\t[****      ]  35% Completed.\r\tCreating Feature Vectors for reviews ..\t[****      ]  35% Completed.\r\tCreating Feature Vectors for reviews ..\t[****      ]  36% Completed.\r\tCreating Feature Vectors for reviews ..\t[****      ]  36% Completed."
     ]
    },
    {
     "name": "stdout",
     "output_type": "stream",
     "text": [
      "\r\tCreating Feature Vectors for reviews ..\t[****      ]  36% Completed.\r\tCreating Feature Vectors for reviews ..\t[****      ]  37% Completed.\r\tCreating Feature Vectors for reviews ..\t[****      ]  37% Completed.\r\tCreating Feature Vectors for reviews ..\t[****      ]  37% Completed.\r\tCreating Feature Vectors for reviews ..\t[****      ]  38% Completed.\r\tCreating Feature Vectors for reviews ..\t[****      ]  38% Completed.\r\tCreating Feature Vectors for reviews ..\t[****      ]  38% Completed.\r\tCreating Feature Vectors for reviews ..\t[****      ]  39% Completed.\r\tCreating Feature Vectors for reviews ..\t[****      ]  39% Completed.\r\tCreating Feature Vectors for reviews ..\t[****      ]  39% Completed.\r\tCreating Feature Vectors for reviews ..\t[****      ]  39% Completed.\r\tCreating Feature Vectors for reviews ..\t[****      ]  40% Completed.\r\tCreating Feature Vectors for reviews ..\t[****      ]  40% Completed.\r\tCreating Feature Vectors for reviews ..\t[****      ]  40% Completed."
     ]
    },
    {
     "name": "stdout",
     "output_type": "stream",
     "text": [
      "\r\tCreating Feature Vectors for reviews ..\t[****      ]  41% Completed.\r\tCreating Feature Vectors for reviews ..\t[****      ]  41% Completed.\r\tCreating Feature Vectors for reviews ..\t[****      ]  41% Completed.\r\tCreating Feature Vectors for reviews ..\t[****      ]  42% Completed.\r\tCreating Feature Vectors for reviews ..\t[****      ]  42% Completed.\r\tCreating Feature Vectors for reviews ..\t[****      ]  42% Completed.\r\tCreating Feature Vectors for reviews ..\t[****      ]  43% Completed.\r\tCreating Feature Vectors for reviews ..\t[****      ]  43% Completed.\r\tCreating Feature Vectors for reviews ..\t[****      ]  43% Completed.\r\tCreating Feature Vectors for reviews ..\t[****      ]  44% Completed.\r\tCreating Feature Vectors for reviews ..\t[****      ]  44% Completed.\r\tCreating Feature Vectors for reviews ..\t[****      ]  44% Completed.\r\tCreating Feature Vectors for reviews ..\t[****      ]  44% Completed.\r\tCreating Feature Vectors for reviews ..\t[*****     ]  45% Completed.\r\tCreating Feature Vectors for reviews ..\t[*****     ]  45% Completed."
     ]
    },
    {
     "name": "stdout",
     "output_type": "stream",
     "text": [
      "\r\tCreating Feature Vectors for reviews ..\t[*****     ]  45% Completed.\r\tCreating Feature Vectors for reviews ..\t[*****     ]  46% Completed.\r\tCreating Feature Vectors for reviews ..\t[*****     ]  46% Completed.\r\tCreating Feature Vectors for reviews ..\t[*****     ]  46% Completed.\r\tCreating Feature Vectors for reviews ..\t[*****     ]  47% Completed.\r\tCreating Feature Vectors for reviews ..\t[*****     ]  47% Completed.\r\tCreating Feature Vectors for reviews ..\t[*****     ]  47% Completed.\r\tCreating Feature Vectors for reviews ..\t[*****     ]  48% Completed.\r\tCreating Feature Vectors for reviews ..\t[*****     ]  48% Completed.\r\tCreating Feature Vectors for reviews ..\t[*****     ]  48% Completed.\r\tCreating Feature Vectors for reviews ..\t[*****     ]  48% Completed.\r\tCreating Feature Vectors for reviews ..\t[*****     ]  49% Completed.\r\tCreating Feature Vectors for reviews ..\t[*****     ]  49% Completed.\r\tCreating Feature Vectors for reviews ..\t[*****     ]  49% Completed."
     ]
    },
    {
     "name": "stdout",
     "output_type": "stream",
     "text": [
      "\r\tCreating Feature Vectors for reviews ..\t[*****     ]  50% Completed.\r\tCreating Feature Vectors for reviews ..\t[*****     ]  50% Completed.\r\tCreating Feature Vectors for reviews ..\t[*****     ]  50% Completed.\r\tCreating Feature Vectors for reviews ..\t[*****     ]  51% Completed.\r\tCreating Feature Vectors for reviews ..\t[*****     ]  51% Completed.\r\tCreating Feature Vectors for reviews ..\t[*****     ]  51% Completed.\r\tCreating Feature Vectors for reviews ..\t[*****     ]  52% Completed.\r\tCreating Feature Vectors for reviews ..\t[*****     ]  52% Completed.\r\tCreating Feature Vectors for reviews ..\t[*****     ]  52% Completed.\r\tCreating Feature Vectors for reviews ..\t[*****     ]  53% Completed.\r\tCreating Feature Vectors for reviews ..\t[*****     ]  53% Completed.\r\tCreating Feature Vectors for reviews ..\t[*****     ]  53% Completed.\r\tCreating Feature Vectors for reviews ..\t[*****     ]  53% Completed.\r\tCreating Feature Vectors for reviews ..\t[*****     ]  54% Completed.\r\tCreating Feature Vectors for reviews ..\t[*****     ]  54% Completed.\r\tCreating Feature Vectors for reviews ..\t[*****     ]  54% Completed."
     ]
    },
    {
     "name": "stdout",
     "output_type": "stream",
     "text": [
      "\r\tCreating Feature Vectors for reviews ..\t[******    ]  55% Completed.\r\tCreating Feature Vectors for reviews ..\t[******    ]  55% Completed.\r\tCreating Feature Vectors for reviews ..\t[******    ]  55% Completed.\r\tCreating Feature Vectors for reviews ..\t[******    ]  56% Completed.\r\tCreating Feature Vectors for reviews ..\t[******    ]  56% Completed.\r\tCreating Feature Vectors for reviews ..\t[******    ]  56% Completed.\r\tCreating Feature Vectors for reviews ..\t[******    ]  57% Completed.\r\tCreating Feature Vectors for reviews ..\t[******    ]  57% Completed.\r\tCreating Feature Vectors for reviews ..\t[******    ]  57% Completed.\r\tCreating Feature Vectors for reviews ..\t[******    ]  57% Completed.\r\tCreating Feature Vectors for reviews ..\t[******    ]  58% Completed.\r\tCreating Feature Vectors for reviews ..\t[******    ]  58% Completed.\r\tCreating Feature Vectors for reviews ..\t[******    ]  58% Completed.\r\tCreating Feature Vectors for reviews ..\t[******    ]  59% Completed.\r\tCreating Feature Vectors for reviews ..\t[******    ]  59% Completed."
     ]
    },
    {
     "name": "stdout",
     "output_type": "stream",
     "text": [
      "\r\tCreating Feature Vectors for reviews ..\t[******    ]  59% Completed.\r\tCreating Feature Vectors for reviews ..\t[******    ]  60% Completed.\r\tCreating Feature Vectors for reviews ..\t[******    ]  60% Completed.\r\tCreating Feature Vectors for reviews ..\t[******    ]  60% Completed.\r\tCreating Feature Vectors for reviews ..\t[******    ]  61% Completed.\r\tCreating Feature Vectors for reviews ..\t[******    ]  61% Completed.\r\tCreating Feature Vectors for reviews ..\t[******    ]  61% Completed.\r\tCreating Feature Vectors for reviews ..\t[******    ]  61% Completed.\r\tCreating Feature Vectors for reviews ..\t[******    ]  62% Completed.\r\tCreating Feature Vectors for reviews ..\t[******    ]  62% Completed.\r\tCreating Feature Vectors for reviews ..\t[******    ]  62% Completed.\r\tCreating Feature Vectors for reviews ..\t[******    ]  63% Completed.\r\tCreating Feature Vectors for reviews ..\t[******    ]  63% Completed.\r\tCreating Feature Vectors for reviews ..\t[******    ]  63% Completed.\r\tCreating Feature Vectors for reviews ..\t[******    ]  64% Completed."
     ]
    },
    {
     "name": "stdout",
     "output_type": "stream",
     "text": [
      "\r\tCreating Feature Vectors for reviews ..\t[******    ]  64% Completed.\r\tCreating Feature Vectors for reviews ..\t[******    ]  64% Completed.\r\tCreating Feature Vectors for reviews ..\t[*******   ]  65% Completed.\r\tCreating Feature Vectors for reviews ..\t[*******   ]  65% Completed.\r\tCreating Feature Vectors for reviews ..\t[*******   ]  65% Completed.\r\tCreating Feature Vectors for reviews ..\t[*******   ]  66% Completed.\r\tCreating Feature Vectors for reviews ..\t[*******   ]  66% Completed.\r\tCreating Feature Vectors for reviews ..\t[*******   ]  66% Completed.\r\tCreating Feature Vectors for reviews ..\t[*******   ]  66% Completed.\r\tCreating Feature Vectors for reviews ..\t[*******   ]  67% Completed.\r\tCreating Feature Vectors for reviews ..\t[*******   ]  67% Completed.\r\tCreating Feature Vectors for reviews ..\t[*******   ]  67% Completed.\r\tCreating Feature Vectors for reviews ..\t[*******   ]  68% Completed.\r\tCreating Feature Vectors for reviews ..\t[*******   ]  68% Completed."
     ]
    },
    {
     "name": "stdout",
     "output_type": "stream",
     "text": [
      "\r\tCreating Feature Vectors for reviews ..\t[*******   ]  68% Completed.\r\tCreating Feature Vectors for reviews ..\t[*******   ]  69% Completed.\r\tCreating Feature Vectors for reviews ..\t[*******   ]  69% Completed.\r\tCreating Feature Vectors for reviews ..\t[*******   ]  69% Completed.\r\tCreating Feature Vectors for reviews ..\t[*******   ]  70% Completed.\r\tCreating Feature Vectors for reviews ..\t[*******   ]  70% Completed.\r\tCreating Feature Vectors for reviews ..\t[*******   ]  70% Completed.\r\tCreating Feature Vectors for reviews ..\t[*******   ]  70% Completed.\r\tCreating Feature Vectors for reviews ..\t[*******   ]  71% Completed.\r\tCreating Feature Vectors for reviews ..\t[*******   ]  71% Completed.\r\tCreating Feature Vectors for reviews ..\t[*******   ]  71% Completed.\r\tCreating Feature Vectors for reviews ..\t[*******   ]  72% Completed.\r\tCreating Feature Vectors for reviews ..\t[*******   ]  72% Completed.\r\tCreating Feature Vectors for reviews ..\t[*******   ]  72% Completed.\r\tCreating Feature Vectors for reviews ..\t[*******   ]  73% Completed.\r\tCreating Feature Vectors for reviews ..\t[*******   ]  73% Completed."
     ]
    },
    {
     "name": "stdout",
     "output_type": "stream",
     "text": [
      "\r\tCreating Feature Vectors for reviews ..\t[*******   ]  73% Completed.\r\tCreating Feature Vectors for reviews ..\t[*******   ]  74% Completed.\r\tCreating Feature Vectors for reviews ..\t[*******   ]  74% Completed.\r\tCreating Feature Vectors for reviews ..\t[*******   ]  74% Completed.\r\tCreating Feature Vectors for reviews ..\t[********  ]  75% Completed.\r\tCreating Feature Vectors for reviews ..\t[********  ]  75% Completed.\r\tCreating Feature Vectors for reviews ..\t[********  ]  75% Completed.\r\tCreating Feature Vectors for reviews ..\t[********  ]  75% Completed.\r\tCreating Feature Vectors for reviews ..\t[********  ]  76% Completed.\r\tCreating Feature Vectors for reviews ..\t[********  ]  76% Completed.\r\tCreating Feature Vectors for reviews ..\t[********  ]  76% Completed.\r\tCreating Feature Vectors for reviews ..\t[********  ]  77% Completed.\r\tCreating Feature Vectors for reviews ..\t[********  ]  77% Completed.\r\tCreating Feature Vectors for reviews ..\t[********  ]  77% Completed.\r\tCreating Feature Vectors for reviews ..\t[********  ]  78% Completed."
     ]
    },
    {
     "name": "stdout",
     "output_type": "stream",
     "text": [
      "\r\tCreating Feature Vectors for reviews ..\t[********  ]  78% Completed.\r\tCreating Feature Vectors for reviews ..\t[********  ]  78% Completed.\r\tCreating Feature Vectors for reviews ..\t[********  ]  79% Completed.\r\tCreating Feature Vectors for reviews ..\t[********  ]  79% Completed.\r\tCreating Feature Vectors for reviews ..\t[********  ]  79% Completed.\r\tCreating Feature Vectors for reviews ..\t[********  ]  79% Completed.\r\tCreating Feature Vectors for reviews ..\t[********  ]  80% Completed.\r\tCreating Feature Vectors for reviews ..\t[********  ]  80% Completed.\r\tCreating Feature Vectors for reviews ..\t[********  ]  80% Completed.\r\tCreating Feature Vectors for reviews ..\t[********  ]  81% Completed.\r\tCreating Feature Vectors for reviews ..\t[********  ]  81% Completed.\r\tCreating Feature Vectors for reviews ..\t[********  ]  81% Completed.\r\tCreating Feature Vectors for reviews ..\t[********  ]  82% Completed.\r\tCreating Feature Vectors for reviews ..\t[********  ]  82% Completed.\r\tCreating Feature Vectors for reviews ..\t[********  ]  82% Completed."
     ]
    },
    {
     "name": "stdout",
     "output_type": "stream",
     "text": [
      "\r\tCreating Feature Vectors for reviews ..\t[********  ]  83% Completed.\r\tCreating Feature Vectors for reviews ..\t[********  ]  83% Completed.\r\tCreating Feature Vectors for reviews ..\t[********  ]  83% Completed.\r\tCreating Feature Vectors for reviews ..\t[********  ]  84% Completed.\r\tCreating Feature Vectors for reviews ..\t[********  ]  84% Completed.\r\tCreating Feature Vectors for reviews ..\t[********  ]  84% Completed.\r\tCreating Feature Vectors for reviews ..\t[********  ]  84% Completed.\r\tCreating Feature Vectors for reviews ..\t[********* ]  85% Completed.\r\tCreating Feature Vectors for reviews ..\t[********* ]  85% Completed.\r\tCreating Feature Vectors for reviews ..\t[********* ]  85% Completed.\r\tCreating Feature Vectors for reviews ..\t[********* ]  86% Completed.\r\tCreating Feature Vectors for reviews ..\t[********* ]  86% Completed.\r\tCreating Feature Vectors for reviews ..\t[********* ]  86% Completed.\r\tCreating Feature Vectors for reviews ..\t[********* ]  87% Completed.\r\tCreating Feature Vectors for reviews ..\t[********* ]  87% Completed."
     ]
    },
    {
     "name": "stdout",
     "output_type": "stream",
     "text": [
      "\r\tCreating Feature Vectors for reviews ..\t[********* ]  87% Completed.\r\tCreating Feature Vectors for reviews ..\t[********* ]  88% Completed.\r\tCreating Feature Vectors for reviews ..\t[********* ]  88% Completed.\r\tCreating Feature Vectors for reviews ..\t[********* ]  88% Completed.\r\tCreating Feature Vectors for reviews ..\t[********* ]  88% Completed.\r\tCreating Feature Vectors for reviews ..\t[********* ]  89% Completed.\r\tCreating Feature Vectors for reviews ..\t[********* ]  89% Completed.\r\tCreating Feature Vectors for reviews ..\t[********* ]  89% Completed.\r\tCreating Feature Vectors for reviews ..\t[********* ]  90% Completed.\r\tCreating Feature Vectors for reviews ..\t[********* ]  90% Completed.\r\tCreating Feature Vectors for reviews ..\t[********* ]  90% Completed.\r\tCreating Feature Vectors for reviews ..\t[********* ]  91% Completed.\r\tCreating Feature Vectors for reviews ..\t[********* ]  91% Completed.\r\tCreating Feature Vectors for reviews ..\t[********* ]  91% Completed.\r\tCreating Feature Vectors for reviews ..\t[********* ]  92% Completed.\r\tCreating Feature Vectors for reviews ..\t[********* ]  92% Completed."
     ]
    },
    {
     "name": "stdout",
     "output_type": "stream",
     "text": [
      "\r\tCreating Feature Vectors for reviews ..\t[********* ]  92% Completed.\r\tCreating Feature Vectors for reviews ..\t[********* ]  92% Completed.\r\tCreating Feature Vectors for reviews ..\t[********* ]  93% Completed.\r\tCreating Feature Vectors for reviews ..\t[********* ]  93% Completed.\r\tCreating Feature Vectors for reviews ..\t[********* ]  93% Completed.\r\tCreating Feature Vectors for reviews ..\t[********* ]  94% Completed.\r\tCreating Feature Vectors for reviews ..\t[********* ]  94% Completed.\r\tCreating Feature Vectors for reviews ..\t[********* ]  94% Completed.\r\tCreating Feature Vectors for reviews ..\t[**********]  95% Completed.\r\tCreating Feature Vectors for reviews ..\t[**********]  95% Completed.\r\tCreating Feature Vectors for reviews ..\t[**********]  95% Completed.\r\tCreating Feature Vectors for reviews ..\t[**********]  96% Completed.\r\tCreating Feature Vectors for reviews ..\t[**********]  96% Completed.\r\tCreating Feature Vectors for reviews ..\t[**********]  96% Completed.\r\tCreating Feature Vectors for reviews ..\t[**********]  97% Completed.\r\tCreating Feature Vectors for reviews ..\t[**********]  97% Completed."
     ]
    },
    {
     "name": "stdout",
     "output_type": "stream",
     "text": [
      "\r\tCreating Feature Vectors for reviews ..\t[**********]  97% Completed.\r\tCreating Feature Vectors for reviews ..\t[**********]  97% Completed.\r\tCreating Feature Vectors for reviews ..\t[**********]  98% Completed.\r\tCreating Feature Vectors for reviews ..\t[**********]  98% Completed.\r\tCreating Feature Vectors for reviews ..\t[**********]  98% Completed.\r\tCreating Feature Vectors for reviews ..\t[**********]  99% Completed.\r\tCreating Feature Vectors for reviews ..\t[**********]  99% Completed.\r\tCreating Feature Vectors for reviews ..\t[**********]  99% Completed.\r\tCreating Feature Vectors for reviews ..\t[**********]  100% Completed."
     ]
    }
   ],
   "source": [
    "model = wordVectorTraining(300)\n",
    "clusterAssignments = clusterWords(model, 5)\n",
    "print (clusterAssignments)\n",
    "actualTrainDataVectors = createFeatureForReviewsUsingClusters(training_data, clusterAssignments)\n",
    "actualTestDataVectors = createFeatureForReviewsUsingClusters(validataion_data, clusterAssignments)\n"
   ]
  },
  {
   "cell_type": "code",
   "execution_count": 38,
   "metadata": {},
   "outputs": [
    {
     "name": "stdout",
     "output_type": "stream",
     "text": [
      "[[0. 0. 0. ... 0. 0. 0.]\n [0. 0. 0. ... 0. 0. 0.]\n [0. 0. 0. ... 0. 0. 0.]\n ...\n [0. 0. 0. ... 0. 0. 0.]\n [0. 0. 0. ... 0. 0. 0.]\n [0. 0. 0. ... 0. 0. 0.]]\n"
     ]
    }
   ],
   "source": [
    "print (actualTrainDataVectors)"
   ]
  },
  {
   "cell_type": "code",
   "execution_count": 40,
   "metadata": {},
   "outputs": [
    {
     "name": "stdout",
     "output_type": "stream",
     "text": [
      "[[0. 0. 0. ... 0. 0. 0.]\n [0. 0. 0. ... 0. 0. 0.]\n [0. 0. 0. ... 0. 0. 0.]\n ...\n [0. 0. 0. ... 0. 0. 0.]\n [0. 0. 0. ... 0. 0. 0.]\n [0. 0. 0. ... 0. 0. 0.]]\n"
     ]
    }
   ],
   "source": [
    "print (actualTestDataVectors)"
   ]
  },
  {
   "cell_type": "code",
   "execution_count": 41,
   "metadata": {},
   "outputs": [
    {
     "name": "stdout",
     "output_type": "stream",
     "text": [
      "Postive Reviews:  113,209\nNegative Reviews:  40,075\n"
     ]
    }
   ],
   "source": [
    "pos_reviews = train.loc[train['rating'] > 5]\n",
    "neg_reviews = train.loc[train['rating'] < 5]\n",
    "print('Postive Reviews:  {:,}'.format(len(pos_reviews)))\n",
    "print('Negative Reviews:  {:,}'.format(len(neg_reviews)))"
   ]
  },
  {
   "cell_type": "code",
   "execution_count": 43,
   "metadata": {},
   "outputs": [],
   "source": [
    "# additional stopwords\n",
    "from sklearn.feature_extraction import text \n",
    "extra_words = ['ve', 'like', 'got', 'just', \n",
    "               'don', 'really', 'said', 'told', 'ok',\n",
    "               'came', 'went', 'did', 'didn', 'good']\n",
    "stop_words = text.ENGLISH_STOP_WORDS.union(extra_words)"
   ]
  },
  {
   "cell_type": "code",
   "execution_count": 45,
   "metadata": {},
   "outputs": [
    {
     "name": "stdout",
     "output_type": "stream",
     "text": [
      "Wall time: 17.5 s\n"
     ]
    }
   ],
   "source": [
    "\n",
    "%%time\n",
    "from sklearn.feature_extraction.text import TfidfVectorizer\n",
    "\n",
    "# Create a vectorizer object to generate term document counts\n",
    "tfidf_pos = TfidfVectorizer(stop_words=stop_words, min_df=10, max_df=0.5, \n",
    "                        ngram_range=(1,1), token_pattern='[a-z][a-z]+')\n",
    "\n",
    "tfidf_neg = TfidfVectorizer(stop_words=stop_words, min_df=10, max_df=0.5, \n",
    "                        ngram_range=(1,1), token_pattern='[a-z][a-z]+')\n",
    "\n",
    "# Get random subset of reviews\n",
    "np.random.seed(38)\n",
    "num_reviews = 153284\n",
    "random_neg = np.random.choice(neg_reviews['review'], size=num_reviews)\n",
    "random_pos = np.random.choice(pos_reviews['review'], size=num_reviews)\n",
    "\n",
    "# Get the vectors\n",
    "neg_vectors = tfidf_neg.fit_transform(random_neg)\n",
    "pos_vectors = tfidf_pos.fit_transform(random_pos)"
   ]
  },
  {
   "cell_type": "code",
   "execution_count": 47,
   "metadata": {},
   "outputs": [],
   "source": [
    "# Store TFIDF vectors in a Pandas DataFrame to investigate further\n",
    "neg_df = pd.DataFrame(neg_vectors.todense(), columns=[tfidf_neg.get_feature_names()])\n",
    "pos_df = pd.DataFrame(pos_vectors.todense(), columns=[tfidf_pos.get_feature_names()])\n",
    "\n",
    "# get mean for each column (word): highest means are most important words\n",
    "col_means_neg = {}\n",
    "for col in neg_df:\n",
    "    col_means_neg[col] = neg_df[col].mean()\n",
    "\n",
    "col_means_pos = {}\n",
    "for col in pos_df:\n",
    "    col_means_pos[col] = pos_df[col].mean()"
   ]
  },
  {
   "cell_type": "code",
   "execution_count": 50,
   "metadata": {},
   "outputs": [
    {
     "name": "stdout",
     "output_type": "stream",
     "text": [
      "Top 100 words in POSITIVE reviews:[('day',), ('pain',), ('mg',), ('years',), ('taking',), ('effects',), ('months',), ('days',), ('started',), ('feel',), ('time',), ('works',), ('great',), ('pill',), ('life',), ('medication',), ('medicine',), ('period',), ('weight',), ('weeks',), ('anxiety',), ('week',), ('better',), ('month',), ('took',), ('doctor',), ('bad',), ('quot',), ('worked',), ('sleep',), ('work',), ('control',), ('year',), ('night',), ('tried',), ('little',), ('felt',), ('acne',), ('far',), ('used',), ('ago',), ('depression',), ('drug',), ('having',), ('hours',), ('helped',), ('dose',), ('birth',), ('prescribed',), ('love',), ('lbs',), ('lot',), ('use',), ('best',), ('going',), ('help',), ('lost',), ('skin',), ('using',), ('periods',), ('feeling',), ('recommend',), ('effect',), ('getting',), ('away',), ('severe',), ('times',), ('normal',), ('nausea',), ('gain',), ('amp',), ('long',), ('helps',), ('think',), ('mood',), ('does',), ('cramps',), ('sex',), ('symptoms',), ('try',), ('thing',), ('taken',), ('morning',), ('experience',), ('haven',), ('gone',), ('old',), ('know',), ('say',), ('able',), ('pills',), ('working',), ('make',), ('stopped',), ('happy',), ('pounds',), ('noticed',), ('finally',), ('headaches',), ('effective',)]\n\n\nTop 100 words in NEGATIVE reviews:[('pain',), ('taking',), ('day',), ('months',), ('days',), ('pill',), ('started',), ('effects',), ('took',), ('time',), ('mg',), ('medication',), ('feel',), ('weeks',), ('period',), ('month',), ('bad',), ('work',), ('week',), ('doctor',), ('weight',), ('bleeding',), ('felt',), ('control',), ('years',), ('anxiety',), ('drug',), ('birth',), ('medicine',), ('worse',), ('severe',), ('horrible',), ('having',), ('acne',), ('help',), ('night',), ('sleep',), ('going',), ('depression',), ('quot',), ('stopped',), ('getting',), ('worst',), ('hours',), ('stop',), ('mood',), ('better',), ('nausea',), ('year',), ('sex',), ('feeling',), ('cramps',), ('prescribed',), ('life',), ('stomach',), ('gained',), ('terrible',), ('ago',), ('dose',), ('amp',), ('headaches',), ('periods',), ('symptoms',), ('experience',), ('tried',), ('used',), ('swings',), ('know',), ('body',), ('gave',), ('using',), ('skin',), ('gain',), ('pills',), ('recommend',), ('blood',), ('away',), ('experienced',), ('couldn',), ('caused',), ('taken',), ('use',), ('shot',), ('thought',), ('worked',), ('times',), ('think',), ('little',), ('does',), ('depressed',), ('try',), ('later',), ('great',), ('tired',), ('thing',), ('extremely',), ('second',), ('want',), ('effect',), ('pregnant',)]\n\n\n"
     ]
    }
   ],
   "source": [
    "no_top_words = 100\n",
    "\n",
    "print('Top %d words in POSITIVE reviews:' %no_top_words, end='')\n",
    "print(sorted(col_means_pos, key=col_means_pos.get, reverse=True)[:no_top_words])\n",
    "print('\\n')\n",
    "\n",
    "print('Top %d words in NEGATIVE reviews:' %no_top_words, end='')\n",
    "print(sorted(col_means_neg, key=col_means_neg.get, reverse=True)[:no_top_words])\n",
    "print('\\n')"
   ]
  }
 ],
 "metadata": {
  "kernelspec": {
   "display_name": "Python 3",
   "language": "python",
   "name": "python3"
  },
  "language_info": {
   "codemirror_mode": {
    "name": "ipython",
    "version": 3
   },
   "file_extension": ".py",
   "mimetype": "text/x-python",
   "name": "python",
   "nbconvert_exporter": "python",
   "pygments_lexer": "ipython3",
   "version": "3.6.5"
  }
 },
 "nbformat": 4,
 "nbformat_minor": 2
}
