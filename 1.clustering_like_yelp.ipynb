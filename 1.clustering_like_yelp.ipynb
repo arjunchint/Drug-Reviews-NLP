{
 "cells": [
  {
   "cell_type": "code",
   "execution_count": 14,
   "metadata": {},
   "outputs": [
    {
     "name": "stdout",
     "output_type": "stream",
     "text": [
      "[nltk_data] Downloading package stopwords to /Users/qin/nltk_data...\n",
      "[nltk_data]   Package stopwords is already up-to-date!\n"
     ]
    }
   ],
   "source": [
    "import os\n",
    "import pandas as pd\n",
    "import numpy as np\n",
    "import matplotlib.pyplot as plt\n",
    "% matplotlib inline\n",
    "plt.style.use(\"ggplot\")\n",
    "\n",
    "\n",
    "import string\n",
    "from time import time\n",
    "\n",
    "from bs4 import BeautifulSoup  \n",
    "import re\n",
    "import nltk\n",
    "nltk.download('stopwords')\n",
    "from nltk.corpus import stopwords \n",
    "from nltk.stem.porter import PorterStemmer\n",
    "from nltk.stem import SnowballStemmer, WordNetLemmatizer\n",
    "from nltk import sent_tokenize, word_tokenize, pos_tag\n",
    "\n",
    "\n",
    "import warnings\n",
    "warnings.filterwarnings('ignore')"
   ]
  },
  {
   "cell_type": "code",
   "execution_count": 20,
   "metadata": {},
   "outputs": [],
   "source": [
    "# https://github.com/will-zw-wang/Yelp_Data_Challenge-NLP_Sentiment_Analysis_and_Review_Clustering_and_Recommender_System/blob/master/code/Yelp_Data_Challenge%20-%20Clustering.ipynb"
   ]
  },
  {
   "cell_type": "markdown",
   "metadata": {},
   "source": [
    "### Read in the dataset"
   ]
  },
  {
   "cell_type": "code",
   "execution_count": 11,
   "metadata": {},
   "outputs": [
    {
     "name": "stdout",
     "output_type": "stream",
     "text": [
      "Current directory: /Users/qin/Desktop/amazon\n",
      "Path of the raw data: /Users/qin/Desktop/amazon/drugsCom\n",
      "Files in the drugCom directory: ['drugsComTest_raw.tsv', 'drugsComTrain_raw.tsv']\n"
     ]
    }
   ],
   "source": [
    "# path of the current directory\n",
    "cur_dir = os.getcwd()\n",
    "print(\"Current directory: {}\".format(cur_dir))\n",
    "# list files in the current directory\n",
    "#print(\"Files in the current directory: {}\".format(os.listdir(cur_dir)))\n",
    "data_path = cur_dir+\"/drugsCom\"\n",
    "train_path = data_path + \"/drugsComTrain_raw.tsv\"\n",
    "test_path = data_path + \"/drugsComTest_raw.tsv\"\n",
    "#rawdata_path = cur_dir+\"/drugsCom\"\n",
    "#metadata_path = cur_dir+\"/meta_Health_and_Personal_Care.json.gz\"\n",
    "print(\"Path of the raw data: {}\".format(data_path))\n",
    "print(\"Files in the drugCom directory: {}\".format(os.listdir(data_path)))"
   ]
  },
  {
   "cell_type": "code",
   "execution_count": 12,
   "metadata": {},
   "outputs": [],
   "source": [
    "train = pd.read_table(train_path, sep='\\t')\n",
    "test = pd.read_table(test_path, sep='\\t')"
   ]
  },
  {
   "cell_type": "code",
   "execution_count": 13,
   "metadata": {},
   "outputs": [
    {
     "data": {
      "text/html": [
       "<div>\n",
       "<style scoped>\n",
       "    .dataframe tbody tr th:only-of-type {\n",
       "        vertical-align: middle;\n",
       "    }\n",
       "\n",
       "    .dataframe tbody tr th {\n",
       "        vertical-align: top;\n",
       "    }\n",
       "\n",
       "    .dataframe thead th {\n",
       "        text-align: right;\n",
       "    }\n",
       "</style>\n",
       "<table border=\"1\" class=\"dataframe\">\n",
       "  <thead>\n",
       "    <tr style=\"text-align: right;\">\n",
       "      <th></th>\n",
       "      <th>Unnamed: 0</th>\n",
       "      <th>drugName</th>\n",
       "      <th>condition</th>\n",
       "      <th>review</th>\n",
       "      <th>rating</th>\n",
       "      <th>date</th>\n",
       "      <th>usefulCount</th>\n",
       "    </tr>\n",
       "  </thead>\n",
       "  <tbody>\n",
       "    <tr>\n",
       "      <th>0</th>\n",
       "      <td>206461</td>\n",
       "      <td>Valsartan</td>\n",
       "      <td>Left Ventricular Dysfunction</td>\n",
       "      <td>\"It has no side effect, I take it in combinati...</td>\n",
       "      <td>9.0</td>\n",
       "      <td>May 20, 2012</td>\n",
       "      <td>27</td>\n",
       "    </tr>\n",
       "    <tr>\n",
       "      <th>1</th>\n",
       "      <td>95260</td>\n",
       "      <td>Guanfacine</td>\n",
       "      <td>ADHD</td>\n",
       "      <td>\"My son is halfway through his fourth week of ...</td>\n",
       "      <td>8.0</td>\n",
       "      <td>April 27, 2010</td>\n",
       "      <td>192</td>\n",
       "    </tr>\n",
       "    <tr>\n",
       "      <th>2</th>\n",
       "      <td>92703</td>\n",
       "      <td>Lybrel</td>\n",
       "      <td>Birth Control</td>\n",
       "      <td>\"I used to take another oral contraceptive, wh...</td>\n",
       "      <td>5.0</td>\n",
       "      <td>December 14, 2009</td>\n",
       "      <td>17</td>\n",
       "    </tr>\n",
       "    <tr>\n",
       "      <th>3</th>\n",
       "      <td>138000</td>\n",
       "      <td>Ortho Evra</td>\n",
       "      <td>Birth Control</td>\n",
       "      <td>\"This is my first time using any form of birth...</td>\n",
       "      <td>8.0</td>\n",
       "      <td>November 3, 2015</td>\n",
       "      <td>10</td>\n",
       "    </tr>\n",
       "    <tr>\n",
       "      <th>4</th>\n",
       "      <td>35696</td>\n",
       "      <td>Buprenorphine / naloxone</td>\n",
       "      <td>Opiate Dependence</td>\n",
       "      <td>\"Suboxone has completely turned my life around...</td>\n",
       "      <td>9.0</td>\n",
       "      <td>November 27, 2016</td>\n",
       "      <td>37</td>\n",
       "    </tr>\n",
       "  </tbody>\n",
       "</table>\n",
       "</div>"
      ],
      "text/plain": [
       "   Unnamed: 0                  drugName                     condition  \\\n",
       "0      206461                 Valsartan  Left Ventricular Dysfunction   \n",
       "1       95260                Guanfacine                          ADHD   \n",
       "2       92703                    Lybrel                 Birth Control   \n",
       "3      138000                Ortho Evra                 Birth Control   \n",
       "4       35696  Buprenorphine / naloxone             Opiate Dependence   \n",
       "\n",
       "                                              review  rating  \\\n",
       "0  \"It has no side effect, I take it in combinati...     9.0   \n",
       "1  \"My son is halfway through his fourth week of ...     8.0   \n",
       "2  \"I used to take another oral contraceptive, wh...     5.0   \n",
       "3  \"This is my first time using any form of birth...     8.0   \n",
       "4  \"Suboxone has completely turned my life around...     9.0   \n",
       "\n",
       "                date  usefulCount  \n",
       "0       May 20, 2012           27  \n",
       "1     April 27, 2010          192  \n",
       "2  December 14, 2009           17  \n",
       "3   November 3, 2015           10  \n",
       "4  November 27, 2016           37  "
      ]
     },
     "execution_count": 13,
     "metadata": {},
     "output_type": "execute_result"
    }
   ],
   "source": [
    "train.head()"
   ]
  },
  {
   "cell_type": "code",
   "execution_count": 36,
   "metadata": {},
   "outputs": [
    {
     "data": {
      "text/plain": [
       "(161297, 7)"
      ]
     },
     "execution_count": 36,
     "metadata": {},
     "output_type": "execute_result"
    }
   ],
   "source": [
    "train.shape"
   ]
  },
  {
   "cell_type": "code",
   "execution_count": 37,
   "metadata": {},
   "outputs": [
    {
     "data": {
      "text/plain": [
       "3436"
      ]
     },
     "execution_count": 37,
     "metadata": {},
     "output_type": "execute_result"
    }
   ],
   "source": [
    "train['drugName'].nunique()"
   ]
  },
  {
   "cell_type": "markdown",
   "metadata": {},
   "source": [
    "## 1. Data preprocessing"
   ]
  },
  {
   "cell_type": "markdown",
   "metadata": {},
   "source": [
    "#### 1.1 Define feature variables"
   ]
  },
  {
   "cell_type": "code",
   "execution_count": 15,
   "metadata": {},
   "outputs": [],
   "source": [
    "# Take the values of the column that contains review text data, save to a variable named \"documents\"\n",
    "documents = train['review'].values"
   ]
  },
  {
   "cell_type": "code",
   "execution_count": 16,
   "metadata": {},
   "outputs": [
    {
     "data": {
      "text/plain": [
       "array(['\"It has no side effect, I take it in combination of Bystolic 5 Mg and Fish Oil\"',\n",
       "       '\"My son is halfway through his fourth week of Intuniv. We became concerned when he began this last week, when he started taking the highest dose he will be on. For two days, he could hardly get out of bed, was very cranky, and slept for nearly 8 hours on a drive home from school vacation (very unusual for him.) I called his doctor on Monday morning and she said to stick it out a few days. See how he did at school, and with getting up in the morning. The last two days have been problem free. He is MUCH more agreeable than ever. He is less emotional (a good thing), less cranky. He is remembering all the things he should. Overall his behavior is better. \\r\\nWe have tried many different medications and so far this is the most effective.\"',\n",
       "       '\"I used to take another oral contraceptive, which had 21 pill cycle, and was very happy- very light periods, max 5 days, no other side effects. But it contained hormone gestodene, which is not available in US, so I switched to Lybrel, because the ingredients are similar. When my other pills ended, I started Lybrel immediately, on my first day of period, as the instructions said. And the period lasted for two weeks. When taking the second pack- same two weeks. And now, with third pack things got even worse- my third period lasted for two weeks and now it&#039;s the end of the third week- I still have daily brown discharge.\\r\\nThe positive side is that I didn&#039;t have any other side effects. The idea of being period free was so tempting... Alas.\"',\n",
       "       ...,\n",
       "       '\"Limited improvement after 4 months, developed bad rash and MD refused to continue medication.\"',\n",
       "       '\"I&#039;ve been on thyroid medication 49 years, I spent my first 38 on Synthroid and various t4 formulas, I could not stand the up and down of Synthroid, it never was steady. Every time I went to the Dr. It was adjusted, it could not regulate me and most Dr&#039;s. Just played with raising and lowering the mg levels. \\r\\nFinally a person I new told me I should see her Dr. I did, and that was the beginning of a beautiful relationship with Armour Thyroid. I&#039;ve never felt better,  my bad symptoms went away, and I feel almost human. It holds me steady for longer periods. sometimes the patient knows best, regardless of what the blood tests say. Armour contains unknown ingredients that can&#039;t be isolated into a synthetic pill form, Armour is natural, and best.\"',\n",
       "       '\"I&#039;ve had chronic constipation all my adult life. Tried Linzess, it worked for a month then stopped. Doctor started me on Amitiza (24 mg) and it is a miracle. I&#039;ve been on for four months now. After a life of 7-10 days between bowel motions, I now go comfortably 3-4 times per week. No pain, very little gas. It&#039;s a miracle for me.\"'],\n",
       "      dtype=object)"
      ]
     },
     "execution_count": 16,
     "metadata": {},
     "output_type": "execute_result"
    }
   ],
   "source": [
    "documents"
   ]
  },
  {
   "cell_type": "code",
   "execution_count": 17,
   "metadata": {},
   "outputs": [],
   "source": [
    "from sklearn.cross_validation import train_test_split"
   ]
  },
  {
   "cell_type": "code",
   "execution_count": 22,
   "metadata": {},
   "outputs": [],
   "source": [
    "# X: documents\n",
    "# Y: targets\n",
    "# Now split the data to training set 80% and test set 20%\n",
    "documents_train, documents_test = train_test_split(documents, test_size = 0.2, random_state = 42)"
   ]
  },
  {
   "cell_type": "code",
   "execution_count": 19,
   "metadata": {},
   "outputs": [],
   "source": [
    "from sklearn.feature_extraction.text import TfidfVectorizer"
   ]
  },
  {
   "cell_type": "code",
   "execution_count": 21,
   "metadata": {},
   "outputs": [],
   "source": [
    "# Create TfidfVectorizer, and name it vectorizer\n",
    "# choose a reasonable max_features, e.g. 1000 to fast the computation speed\n",
    "vectorizer = TfidfVectorizer(stop_words = 'english', max_features = 1000)"
   ]
  },
  {
   "cell_type": "code",
   "execution_count": 23,
   "metadata": {},
   "outputs": [],
   "source": [
    "# Train the model with your training data\n",
    "vectors_train = vectorizer.fit_transform(documents_train).toarray()"
   ]
  },
  {
   "cell_type": "code",
   "execution_count": 24,
   "metadata": {},
   "outputs": [],
   "source": [
    "# Get the vocab of your tfidf\n",
    "words = vectorizer.get_feature_names()"
   ]
  },
  {
   "cell_type": "code",
   "execution_count": 25,
   "metadata": {},
   "outputs": [],
   "source": [
    "# Use the trained model to transform all the reviews\n",
    "vectors_documents = vectorizer.transform(documents).toarray()"
   ]
  },
  {
   "cell_type": "code",
   "execution_count": 26,
   "metadata": {},
   "outputs": [
    {
     "data": {
      "text/plain": [
       "KMeans(algorithm='auto', copy_x=True, init='k-means++', max_iter=300,\n",
       "    n_clusters=8, n_init=10, n_jobs=1, precompute_distances='auto',\n",
       "    random_state=None, tol=0.0001, verbose=0)"
      ]
     },
     "execution_count": 26,
     "metadata": {},
     "output_type": "execute_result"
    }
   ],
   "source": [
    "from sklearn.cluster import KMeans\n",
    "\n",
    "kmeans = KMeans()\n",
    "\n",
    "kmeans.fit(vectors_train)"
   ]
  },
  {
   "cell_type": "code",
   "execution_count": 27,
   "metadata": {},
   "outputs": [],
   "source": [
    "assigned_cluster = kmeans.predict(vectors_documents)"
   ]
  },
  {
   "cell_type": "code",
   "execution_count": 28,
   "metadata": {},
   "outputs": [
    {
     "name": "stdout",
     "output_type": "stream",
     "text": [
      "number of clusters:(8, 1000)\n"
     ]
    }
   ],
   "source": [
    "# Default of kmeans uses 8 clusters\n",
    "print ('number of clusters:' + str(kmeans.cluster_centers_.shape))"
   ]
  },
  {
   "cell_type": "code",
   "execution_count": 29,
   "metadata": {},
   "outputs": [
    {
     "name": "stdout",
     "output_type": "stream",
     "text": [
      "top 10 features for each cluster:\n",
      "0: pain, 039, day, relief, severe, years, taking, medicine, medication, doctor\n",
      "1: day, 039, sleep, night, took, taking, days, hours, like, felt\n",
      "2: period, 039, pill, birth, control, bleeding, periods, months, month, weight\n",
      "3: quot, 039, day, years, like, feel, effects, taking, just, time\n",
      "4: anxiety, 039, panic, depression, attacks, life, feel, taking, medication, effects\n",
      "5: effects, years, 039, works, medicine, medication, taking, great, drug, life\n",
      "6: 039, ve, don, like, feel, just, taking, effects, years, weight\n",
      "7: acne, skin, face, 039, clear, using, months, dry, month, cleared\n"
     ]
    }
   ],
   "source": [
    "# print top 10 words of each cluster centers\n",
    "# step (1) Sort each centroid vector to find the top 10 features\n",
    "top_centroids = kmeans.cluster_centers_.argsort()[:, -1:-11:-1]\n",
    "print(\"top 10 features for each cluster:\")\n",
    "# step (2) Go back to our vectorizer object to find out what words each of these features corresponds to\n",
    "for num, centroid in enumerate(top_centroids):\n",
    "    print(\"%d: %s\" % (num, \", \".join(words[i] for i in centroid)))"
   ]
  },
  {
   "cell_type": "code",
   "execution_count": 30,
   "metadata": {},
   "outputs": [
    {
     "name": "stdout",
     "output_type": "stream",
     "text": [
      "top 10 features for each cluster:\n",
      "0: anxiety,039,depression,panic,attacks,life,feel,taking,medication,day\n",
      "1: 039,ve,don,like,day,feel,just,taking,effects,years\n",
      "2: pain,039,day,relief,severe,taking,years,medicine,medication,doctor\n",
      "3: 039,day,effects,taking,years,medication,medicine,works,started,days\n",
      "4: 039,period,pill,birth,control,periods,months,bleeding,month,weight\n"
     ]
    }
   ],
   "source": [
    "# Find the top 10 features for each cluster.\n",
    "kmeans = KMeans(n_clusters = 5)\n",
    "kmeans.fit(vectors_train)\n",
    "assigned_cluster = kmeans.predict(vectors_documents)\n",
    "\n",
    "top_centroids = kmeans.cluster_centers_.argsort()[:, -1:-11:-1]\n",
    "print(\"top 10 features for each cluster:\")\n",
    "for num, centroid in enumerate(top_centroids):\n",
    "    print(\"%d: %s\" % (num, \",\".join(words[i] for i in centroid)))"
   ]
  },
  {
   "cell_type": "markdown",
   "metadata": {},
   "source": [
    "<b>Print out the rating and review of a random sample of the reviews assigned to each cluster to get a sense of the cluster.</b>"
   ]
  },
  {
   "cell_type": "code",
   "execution_count": 35,
   "metadata": {},
   "outputs": [
    {
     "name": "stdout",
     "output_type": "stream",
     "text": [
      "cluster 0:\n",
      "    \"I suffered with a pretty severe anxiety, stress and depression. Took Paxil 4 days ago and honestly I feel great. It already started working. Lot of it could be in my head but trust me all my symptoms disappeared. Side effects: from day one I had a light headache, day two -a little harder headache, day three unbearable headache, day four(now) no headache, feeling perfectly fine, great mood, even though its raining and dark outside.  GREAT medicine. Also its worth to add, it worked the same wonders for me about 8 years ago when I had it for the last time. I was on Paxil for 6 months and it healed me. I had 7 years of great life and suddenly 6-7 months ago this thing attacked me again. Paxil works again, same way.\"\n",
      "cluster 1:\n",
      "    \"[History]- I had started taking melatonin (3mg) to help me sleep, shortly after my divorce. As my body &#039;adjusted&#039; to it, I began to increase the dose, eventually (over several years) working up to 30mg. Well, not too long after that, I desperately needed to be put on Testosterone therapy (my level was &#039;zilch&#039;). Lo-and-behold, it had JUST been determined that MEN should NOT take large doses of melatonin for that very reason!\r\n",
      "Looking for *natural* aids, I found that drinking (&quot;wild&quot;/&quot;black&quot;) cherry juice can improve the quality of your sleep ... BUT, it does so by boosting the amount of the melatonin in the body(!) Skip THAT one....  I then tried Valerian Root, which proved equally effective. \"\n",
      "cluster 2:\n",
      "    \"I have suffered with lumber degenerative disc disease at L5, L4, L3, spinal instability and prolapsed discs at L5 and L4 since being first diagnosed officially in approx 2006 resulting in chronic low back pain and sciatica. I had a discetomy and laminectomy at L5 / L4 but the surgery failed 7 weeks out of surgery. I had nerve impingment at multiple levels including left, right and central prolapses (again) with slight neural compression along with narrowing of the neural foramina and lateral recess on both sides. In plain English = I could not not walk. After trying everything else, they put me on Gabapentin. I am now on 3600mg / day and I went from being unable to walk or stand to walking and being almost pain free after 1 week, Miracle!\"\n",
      "cluster 3:\n",
      "    \"I had this inserted in August. It is now December and I&rsquo;m happy to say I&rsquo;m getting this removed tomorrow! I had the IUD before this and had it removed due to painful intercourse so I thought this was the next easiest thing to do. WRONG. I haven&rsquo;t  experienced  bleeding but my anxiety is out of control. I&rsquo;m also now having to take blood pressure medicine due to my heart is always racing. I have little patience for my two year old which makes me sad. I wish I wouldn&rsquo;t of stuck through with like my doctor practically forced me too! I could&rsquo;ve had this thing removed at month 2! Can&rsquo;t wait to feel normal again. Do NOT recommend.\"\n",
      "cluster 4:\n",
      "    \"I&#039;ve been on this pill for almost 4 months now and going into the 3rd month I started experiencing abnormal breakthrough bleeding. The bleeding would occur every other day and has not stopped for almost 2 months now. I&#039;ve also experienced horrible bloating, cramping, and pelvic and lower back pain. My pill is being switched next month.\"\n"
     ]
    }
   ],
   "source": [
    "for i in range(kmeans.n_clusters):\n",
    "    cluster = np.arange(0, vectors_documents.shape[0])[assigned_cluster==i]\n",
    "    sample_reviews = np.random.choice(cluster, 1, replace=False)\n",
    "    print(\"cluster %d:\" % i)\n",
    "    for review in sample_reviews:\n",
    "        print(\"    %s\" % train.loc[review]['review'])"
   ]
  },
  {
   "cell_type": "code",
   "execution_count": 38,
   "metadata": {},
   "outputs": [
    {
     "data": {
      "text/plain": [
       "'Levonorgestrel'"
      ]
     },
     "execution_count": 38,
     "metadata": {},
     "output_type": "execute_result"
    }
   ],
   "source": [
    "# Find the drugname which got most reviews, get your filtered df, name it df_top_drug\n",
    "df_top_drug = train['drugName'].value_counts().index[0]\n",
    "df_top_drug\n"
   ]
  },
  {
   "cell_type": "code",
   "execution_count": 49,
   "metadata": {},
   "outputs": [
    {
     "data": {
      "text/plain": [
       "(161297, 7)"
      ]
     },
     "execution_count": 49,
     "metadata": {},
     "output_type": "execute_result"
    }
   ],
   "source": [
    "train.shape"
   ]
  },
  {
   "cell_type": "code",
   "execution_count": 47,
   "metadata": {},
   "outputs": [
    {
     "data": {
      "text/plain": [
       "884"
      ]
     },
     "execution_count": 47,
     "metadata": {},
     "output_type": "execute_result"
    }
   ],
   "source": [
    "train['condition'].nunique()"
   ]
  },
  {
   "cell_type": "code",
   "execution_count": 50,
   "metadata": {},
   "outputs": [
    {
     "data": {
      "text/plain": [
       "0     Left Ventricular Dysfunction\n",
       "1                             ADHD\n",
       "2                    Birth Control\n",
       "3                    Birth Control\n",
       "4                Opiate Dependence\n",
       "5     Benign Prostatic Hyperplasia\n",
       "6          Emergency Contraception\n",
       "7                  Bipolar Disorde\n",
       "8                         Epilepsy\n",
       "9                    Birth Control\n",
       "10             Migraine Prevention\n",
       "11                      Depression\n",
       "12                 Crohn's Disease\n",
       "13                           Cough\n",
       "14                   Birth Control\n",
       "15                         Obesity\n",
       "16         Urinary Tract Infection\n",
       "17                     ibromyalgia\n",
       "18                 Bipolar Disorde\n",
       "19    Chronic Myelogenous Leukemia\n",
       "20                   HIV Infection\n",
       "21                        Insomnia\n",
       "22                   Birth Control\n",
       "23            Rheumatoid Arthritis\n",
       "24         Vaginal Yeast Infection\n",
       "25             Chlamydia Infection\n",
       "26                       Hirsutism\n",
       "27                            ADHD\n",
       "28                   Panic Disorde\n",
       "29                        Migraine\n",
       "30                             NaN\n",
       "31                      Depression\n",
       "32                            Pain\n",
       "33         Vaginal Yeast Infection\n",
       "34        Irritable Bowel Syndrome\n",
       "35                  Osteoarthritis\n",
       "36                    Constipation\n",
       "37                            Pain\n",
       "38               Bowel Preparation\n",
       "39                       Psychosis\n",
       "Name: condition, dtype: object"
      ]
     },
     "execution_count": 50,
     "metadata": {},
     "output_type": "execute_result"
    }
   ],
   "source": [
    "train['condition'][:40]"
   ]
  },
  {
   "cell_type": "code",
   "execution_count": null,
   "metadata": {},
   "outputs": [],
   "source": [
    "# dendrogram"
   ]
  },
  {
   "cell_type": "code",
   "execution_count": 45,
   "metadata": {},
   "outputs": [
    {
     "data": {
      "text/plain": [
       "drugName\n",
       "A + D Cracked Skin Relief                              1\n",
       "A / B Otic                                             1\n",
       "Abacavir / dolutegravir / lamivudine                  52\n",
       "Abacavir / lamivudine / zidovudine                     1\n",
       "Abatacept                                             19\n",
       "Abilify                                              446\n",
       "Abilify Discmelt                                       2\n",
       "Abilify Maintena                                       4\n",
       "Abiraterone                                            9\n",
       "AbobotulinumtoxinA                                     3\n",
       "Abraxane                                               4\n",
       "Abreva                                               158\n",
       "Absorbine Jr.                                          1\n",
       "Absorica                                               2\n",
       "Acamprosate                                          109\n",
       "Acanya                                                45\n",
       "Acarbose                                               1\n",
       "Accolate                                               2\n",
       "Accupril                                               1\n",
       "Accutane                                             330\n",
       "Acebutolol                                             2\n",
       "Acetaminophen                                         30\n",
       "Acetaminophen / aspirin                                1\n",
       "Acetaminophen / aspirin / caffeine                    87\n",
       "Acetaminophen / aspirin / caffeine / salicylamide      3\n",
       "Acetaminophen / butalbital                            10\n",
       "Acetaminophen / butalbital / caffeine                129\n",
       "Acetaminophen / butalbital / caffeine / codeine       17\n",
       "Acetaminophen / caffeine                               4\n",
       "Acetaminophen / caffeine / dihydrocodeine             14\n",
       "                                                    ... \n",
       "Zoster vaccine live                                    4\n",
       "Zostrix                                                1\n",
       "Zostrix Diabetic Foot Pain                             1\n",
       "Zosyn                                                  2\n",
       "Zovia                                                 31\n",
       "Zovia 1 / 35                                           5\n",
       "Zovirax                                                9\n",
       "Zovirax Cream                                         14\n",
       "Zovirax Ointment                                       6\n",
       "Zubsolv                                               34\n",
       "Zurampic                                               2\n",
       "Zutripro                                              11\n",
       "Zyban                                                 58\n",
       "Zyclara                                               26\n",
       "Zylet                                                  5\n",
       "Zyloprim                                               1\n",
       "Zymar                                                  3\n",
       "Zymine                                                 1\n",
       "Zyprexa                                              167\n",
       "Zyprexa Intramuscular                                  1\n",
       "Zyprexa Zydis                                         12\n",
       "Zyrtec                                                69\n",
       "Zyrtec-D                                               1\n",
       "Zyrtec-D 12 Hour                                       1\n",
       "Zytiga                                                 7\n",
       "Zyvox                                                 17\n",
       "ZzzQuil                                                2\n",
       "depo-subQ provera 104                                  1\n",
       "ella                                                  51\n",
       "femhrt                                                 3\n",
       "Length: 3436, dtype: int64"
      ]
     },
     "execution_count": 45,
     "metadata": {},
     "output_type": "execute_result"
    }
   ],
   "source": [
    "train.groupby('drugName').size()"
   ]
  },
  {
   "cell_type": "code",
   "execution_count": null,
   "metadata": {},
   "outputs": [],
   "source": []
  }
 ],
 "metadata": {
  "kernelspec": {
   "display_name": "Python 3",
   "language": "python",
   "name": "python3"
  },
  "language_info": {
   "codemirror_mode": {
    "name": "ipython",
    "version": 3
   },
   "file_extension": ".py",
   "mimetype": "text/x-python",
   "name": "python",
   "nbconvert_exporter": "python",
   "pygments_lexer": "ipython3",
   "version": "3.6.5"
  }
 },
 "nbformat": 4,
 "nbformat_minor": 2
}
