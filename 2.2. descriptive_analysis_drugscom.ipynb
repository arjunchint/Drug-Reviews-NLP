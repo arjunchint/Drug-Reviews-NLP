{
 "cells": [
  {
   "cell_type": "markdown",
   "metadata": {},
   "source": [
    "#### Import dependencies"
   ]
  },
  {
   "cell_type": "code",
   "execution_count": 1,
   "metadata": {},
   "outputs": [],
   "source": [
    "import findspark\n",
    "findspark.init()\n",
    "import pyspark"
   ]
  },
  {
   "cell_type": "code",
   "execution_count": 2,
   "metadata": {},
   "outputs": [],
   "source": [
    "import numpy as np\n",
    "import pandas as pd\n",
    "import os\n",
    "import matplotlib.pyplot as plt"
   ]
  },
  {
   "cell_type": "markdown",
   "metadata": {},
   "source": [
    "#### Load data"
   ]
  },
  {
   "cell_type": "code",
   "execution_count": 3,
   "metadata": {},
   "outputs": [
    {
     "name": "stdout",
     "output_type": "stream",
     "text": [
      "Current directory: /Users/qin/Desktop/DrugCom/CS6250_Project\n",
      "Path of the raw data: /Users/qin/Desktop/DrugCom/CS6250_Project/drugsCom\n",
      "Files in the drugCom directory: ['whole.csv', 'test.csv', 'drugs_recalls_fda.tsv', 'readme.md', 'drugsComTest_raw.tsv', 'fda.csv', 'whole_num.csv', 'drugsComTrain_raw.tsv', 'train.csv']\n"
     ]
    }
   ],
   "source": [
    "# path of the current directory\n",
    "cur_dir = os.getcwd()\n",
    "print(\"Current directory: {}\".format(cur_dir))\n",
    "\n",
    "data_path = cur_dir+\"/drugsCom\"\n",
    "train_path = data_path + \"/train.csv\"\n",
    "test_path = data_path + \"/test.csv\"\n",
    "whole_path = data_path + \"/whole.csv\"\n",
    "fda_path = data_path + \"/fda.csv\"\n",
    "\n",
    "print(\"Path of the raw data: {}\".format(data_path))\n",
    "print(\"Files in the drugCom directory: {}\".format(os.listdir(data_path)))"
   ]
  },
  {
   "cell_type": "markdown",
   "metadata": {},
   "source": [
    "#### drugs.com data"
   ]
  },
  {
   "cell_type": "code",
   "execution_count": 4,
   "metadata": {},
   "outputs": [
    {
     "data": {
      "text/html": [
       "<div>\n",
       "<style scoped>\n",
       "    .dataframe tbody tr th:only-of-type {\n",
       "        vertical-align: middle;\n",
       "    }\n",
       "\n",
       "    .dataframe tbody tr th {\n",
       "        vertical-align: top;\n",
       "    }\n",
       "\n",
       "    .dataframe thead th {\n",
       "        text-align: right;\n",
       "    }\n",
       "</style>\n",
       "<table border=\"1\" class=\"dataframe\">\n",
       "  <thead>\n",
       "    <tr style=\"text-align: right;\">\n",
       "      <th></th>\n",
       "      <th>id</th>\n",
       "      <th>drugName</th>\n",
       "      <th>condition</th>\n",
       "      <th>review</th>\n",
       "      <th>rating</th>\n",
       "      <th>date</th>\n",
       "      <th>usefulCount</th>\n",
       "      <th>partial_name</th>\n",
       "      <th>is_recalled</th>\n",
       "      <th>review_length</th>\n",
       "      <th>review_word_count</th>\n",
       "      <th>cleaned_words</th>\n",
       "      <th>review_cleaned_word_count</th>\n",
       "      <th>review_avg_word_length</th>\n",
       "      <th>review_avg_cleaned_word_length</th>\n",
       "    </tr>\n",
       "  </thead>\n",
       "  <tbody>\n",
       "    <tr>\n",
       "      <th>0</th>\n",
       "      <td>206461</td>\n",
       "      <td>Valsartan</td>\n",
       "      <td>left ventricular dysfunction</td>\n",
       "      <td>\"It has no side effect, I take it in combinati...</td>\n",
       "      <td>9.0</td>\n",
       "      <td>2012-05-20</td>\n",
       "      <td>27</td>\n",
       "      <td>valsartan</td>\n",
       "      <td>True</td>\n",
       "      <td>79</td>\n",
       "      <td>17</td>\n",
       "      <td>['side', 'effect', 'take', 'combination', 'bys...</td>\n",
       "      <td>8</td>\n",
       "      <td>3.705882</td>\n",
       "      <td>5.250000</td>\n",
       "    </tr>\n",
       "    <tr>\n",
       "      <th>1</th>\n",
       "      <td>95260</td>\n",
       "      <td>Guanfacine</td>\n",
       "      <td>adhd</td>\n",
       "      <td>\"My son is halfway through his fourth week of ...</td>\n",
       "      <td>8.0</td>\n",
       "      <td>2010-04-27</td>\n",
       "      <td>192</td>\n",
       "      <td>guanfacine</td>\n",
       "      <td>False</td>\n",
       "      <td>741</td>\n",
       "      <td>141</td>\n",
       "      <td>['son', 'halfway', 'fourth', 'week', 'intuniv'...</td>\n",
       "      <td>65</td>\n",
       "      <td>4.262411</td>\n",
       "      <td>5.630769</td>\n",
       "    </tr>\n",
       "    <tr>\n",
       "      <th>2</th>\n",
       "      <td>92703</td>\n",
       "      <td>Lybrel</td>\n",
       "      <td>birth control</td>\n",
       "      <td>\"I used to take another oral contraceptive, wh...</td>\n",
       "      <td>5.0</td>\n",
       "      <td>2009-12-14</td>\n",
       "      <td>17</td>\n",
       "      <td>lybrel</td>\n",
       "      <td>False</td>\n",
       "      <td>755</td>\n",
       "      <td>133</td>\n",
       "      <td>['used', 'take', 'another', 'oral', 'contracep...</td>\n",
       "      <td>69</td>\n",
       "      <td>4.684211</td>\n",
       "      <td>5.637681</td>\n",
       "    </tr>\n",
       "    <tr>\n",
       "      <th>3</th>\n",
       "      <td>138000</td>\n",
       "      <td>Ortho Evra</td>\n",
       "      <td>birth control</td>\n",
       "      <td>\"This is my first time using any form of birth...</td>\n",
       "      <td>8.0</td>\n",
       "      <td>2015-11-03</td>\n",
       "      <td>10</td>\n",
       "      <td>ortho evra</td>\n",
       "      <td>False</td>\n",
       "      <td>448</td>\n",
       "      <td>89</td>\n",
       "      <td>['first', 'time', 'using', 'form', 'birth', 'c...</td>\n",
       "      <td>39</td>\n",
       "      <td>4.044944</td>\n",
       "      <td>5.282051</td>\n",
       "    </tr>\n",
       "    <tr>\n",
       "      <th>4</th>\n",
       "      <td>35696</td>\n",
       "      <td>Buprenorphine / naloxone</td>\n",
       "      <td>opiate dependence</td>\n",
       "      <td>\"Suboxone has completely turned my life around...</td>\n",
       "      <td>9.0</td>\n",
       "      <td>2016-11-27</td>\n",
       "      <td>37</td>\n",
       "      <td>buprenorphine</td>\n",
       "      <td>False</td>\n",
       "      <td>719</td>\n",
       "      <td>134</td>\n",
       "      <td>['suboxone', 'completely', 'turned', 'life', '...</td>\n",
       "      <td>59</td>\n",
       "      <td>4.373134</td>\n",
       "      <td>6.355932</td>\n",
       "    </tr>\n",
       "  </tbody>\n",
       "</table>\n",
       "</div>"
      ],
      "text/plain": [
       "       id                  drugName                     condition  \\\n",
       "0  206461                 Valsartan  left ventricular dysfunction   \n",
       "1   95260                Guanfacine                          adhd   \n",
       "2   92703                    Lybrel                 birth control   \n",
       "3  138000                Ortho Evra                 birth control   \n",
       "4   35696  Buprenorphine / naloxone             opiate dependence   \n",
       "\n",
       "                                              review  rating        date  \\\n",
       "0  \"It has no side effect, I take it in combinati...     9.0  2012-05-20   \n",
       "1  \"My son is halfway through his fourth week of ...     8.0  2010-04-27   \n",
       "2  \"I used to take another oral contraceptive, wh...     5.0  2009-12-14   \n",
       "3  \"This is my first time using any form of birth...     8.0  2015-11-03   \n",
       "4  \"Suboxone has completely turned my life around...     9.0  2016-11-27   \n",
       "\n",
       "   usefulCount   partial_name  is_recalled  review_length  review_word_count  \\\n",
       "0           27      valsartan         True             79                 17   \n",
       "1          192     guanfacine        False            741                141   \n",
       "2           17         lybrel        False            755                133   \n",
       "3           10     ortho evra        False            448                 89   \n",
       "4           37  buprenorphine        False            719                134   \n",
       "\n",
       "                                       cleaned_words  \\\n",
       "0  ['side', 'effect', 'take', 'combination', 'bys...   \n",
       "1  ['son', 'halfway', 'fourth', 'week', 'intuniv'...   \n",
       "2  ['used', 'take', 'another', 'oral', 'contracep...   \n",
       "3  ['first', 'time', 'using', 'form', 'birth', 'c...   \n",
       "4  ['suboxone', 'completely', 'turned', 'life', '...   \n",
       "\n",
       "   review_cleaned_word_count  review_avg_word_length  \\\n",
       "0                          8                3.705882   \n",
       "1                         65                4.262411   \n",
       "2                         69                4.684211   \n",
       "3                         39                4.044944   \n",
       "4                         59                4.373134   \n",
       "\n",
       "   review_avg_cleaned_word_length  \n",
       "0                        5.250000  \n",
       "1                        5.630769  \n",
       "2                        5.637681  \n",
       "3                        5.282051  \n",
       "4                        6.355932  "
      ]
     },
     "execution_count": 4,
     "metadata": {},
     "output_type": "execute_result"
    }
   ],
   "source": [
    "#train = pd.read_csv(train_path)\n",
    "#test = pd.read_csv(test_path)\n",
    "whole_pd = pd.read_csv(whole_path)\n",
    "whole_pd.head()"
   ]
  },
  {
   "cell_type": "code",
   "execution_count": 5,
   "metadata": {},
   "outputs": [
    {
     "name": "stdout",
     "output_type": "stream",
     "text": [
      "id                                False\n",
      "drugName                          False\n",
      "condition                          True\n",
      "review                            False\n",
      "rating                            False\n",
      "date                              False\n",
      "usefulCount                       False\n",
      "partial_name                      False\n",
      "is_recalled                       False\n",
      "review_length                     False\n",
      "review_word_count                 False\n",
      "cleaned_words                     False\n",
      "review_cleaned_word_count         False\n",
      "review_avg_word_length            False\n",
      "review_avg_cleaned_word_length    False\n",
      "dtype: bool\n"
     ]
    }
   ],
   "source": [
    "# fill na first (some data in the condition is missing)\n",
    "print(whole_pd.isna().any())\n",
    "whole_pd['condition'] = whole_pd['condition'].fillna('')"
   ]
  },
  {
   "cell_type": "code",
   "execution_count": 6,
   "metadata": {},
   "outputs": [
    {
     "data": {
      "text/plain": [
       "str"
      ]
     },
     "execution_count": 6,
     "metadata": {},
     "output_type": "execute_result"
    }
   ],
   "source": [
    "type(whole_pd['date'][0])"
   ]
  },
  {
   "cell_type": "code",
   "execution_count": 7,
   "metadata": {},
   "outputs": [],
   "source": [
    "whole_pd['date'] = pd.to_datetime(whole_pd['date'])"
   ]
  },
  {
   "cell_type": "code",
   "execution_count": 8,
   "metadata": {},
   "outputs": [
    {
     "data": {
      "text/plain": [
       "pandas._libs.tslibs.timestamps.Timestamp"
      ]
     },
     "execution_count": 8,
     "metadata": {},
     "output_type": "execute_result"
    }
   ],
   "source": [
    "type(whole_pd['date'][0])"
   ]
  },
  {
   "cell_type": "code",
   "execution_count": 9,
   "metadata": {},
   "outputs": [],
   "source": [
    "whole_pd['is_recalled'] = whole_pd['is_recalled'].apply(lambda x: x * 1)"
   ]
  },
  {
   "cell_type": "code",
   "execution_count": 10,
   "metadata": {},
   "outputs": [
    {
     "data": {
      "image/png": "[encoded data removed]",
      "text/plain": [
       "<Figure size 432x288 with 1 Axes>"
      ]
     },
     "metadata": {},
     "output_type": "display_data"
    }
   ],
   "source": [
    "count_classes = pd.value_counts(whole_pd['is_recalled'], sort = True)\n",
    "count_classes.plot(kind = 'bar', rot=0)\n",
    "LABELS = [\"Not Recalled\", \"Recalled\"]\n",
    "plt.title(\"Recall distribution\")\n",
    "plt.xticks(range(2), LABELS)\n",
    "plt.ylabel(\"Count\");"
   ]
  },
  {
   "cell_type": "code",
   "execution_count": 11,
   "metadata": {},
   "outputs": [],
   "source": [
    "is_recalled = whole_pd[whole_pd['is_recalled'] == 1]\n",
    "not_recalled = whole_pd[whole_pd['is_recalled'] == 0]"
   ]
  },
  {
   "cell_type": "code",
   "execution_count": 12,
   "metadata": {},
   "outputs": [
    {
     "data": {
      "image/png": "[encoded data removed]",
      "text/plain": [
       "<Figure size 432x288 with 2 Axes>"
      ]
     },
     "metadata": {},
     "output_type": "display_data"
    }
   ],
   "source": [
    "f, (ax1, ax2) = plt.subplots(2, 1, sharex=True)\n",
    "f.suptitle('Recall distribution by ratings')\n",
    "\n",
    "bins = 20\n",
    "\n",
    "ax1.hist(is_recalled['rating'], bins = bins)\n",
    "ax1.set_title('Recalled')\n",
    "\n",
    "ax2.hist(not_recalled['rating'], bins = bins)\n",
    "ax2.set_title('Not Recalled')\n",
    "\n",
    "plt.xlabel('Rating: 1-10')\n",
    "plt.ylabel('Count')\n",
    "\n",
    "plt.xlim((0, 11))\n",
    "plt.show();\n"
   ]
  },
  {
   "cell_type": "code",
   "execution_count": 13,
   "metadata": {},
   "outputs": [],
   "source": [
    "#is_recalled.loc[:, 'date_m'] = is_recalled.loc[:, 'date'].dt.to_period('M')\n",
    "#not_recalled.loc[:, 'date_m'] = not_recalled.loc[:, 'date'].dt.to_period('M')"
   ]
  },
  {
   "cell_type": "code",
   "execution_count": 14,
   "metadata": {},
   "outputs": [
    {
     "name": "stderr",
     "output_type": "stream",
     "text": [
      "/Users/qin/.pyenv/versions/anaconda3-5.2.0/lib/python3.6/site-packages/ipykernel_launcher.py:1: SettingWithCopyWarning: \n",
      "A value is trying to be set on a copy of a slice from a DataFrame.\n",
      "Try using .loc[row_indexer,col_indexer] = value instead\n",
      "\n",
      "See the caveats in the documentation: http://pandas.pydata.org/pandas-docs/stable/indexing.html#indexing-view-versus-copy\n",
      "  \"\"\"Entry point for launching an IPython kernel.\n",
      "/Users/qin/.pyenv/versions/anaconda3-5.2.0/lib/python3.6/site-packages/ipykernel_launcher.py:2: SettingWithCopyWarning: \n",
      "A value is trying to be set on a copy of a slice from a DataFrame.\n",
      "Try using .loc[row_indexer,col_indexer] = value instead\n",
      "\n",
      "See the caveats in the documentation: http://pandas.pydata.org/pandas-docs/stable/indexing.html#indexing-view-versus-copy\n",
      "  \n"
     ]
    }
   ],
   "source": [
    "is_recalled['year'] = is_recalled['date'].apply(lambda x: x.year)\n",
    "not_recalled['year'] = not_recalled['date'].apply(lambda x: x.year)"
   ]
  },
  {
   "cell_type": "code",
   "execution_count": 15,
   "metadata": {},
   "outputs": [],
   "source": [
    "def positive_negative(rating):\n",
    "    if rating > 7:\n",
    "        return 1\n",
    "    if rating < 4:\n",
    "        return -1\n",
    "    else:\n",
    "        return 0"
   ]
  },
  {
   "cell_type": "code",
   "execution_count": 16,
   "metadata": {},
   "outputs": [
    {
     "name": "stderr",
     "output_type": "stream",
     "text": [
      "/Users/qin/.pyenv/versions/anaconda3-5.2.0/lib/python3.6/site-packages/ipykernel_launcher.py:1: SettingWithCopyWarning: \n",
      "A value is trying to be set on a copy of a slice from a DataFrame.\n",
      "Try using .loc[row_indexer,col_indexer] = value instead\n",
      "\n",
      "See the caveats in the documentation: http://pandas.pydata.org/pandas-docs/stable/indexing.html#indexing-view-versus-copy\n",
      "  \"\"\"Entry point for launching an IPython kernel.\n",
      "/Users/qin/.pyenv/versions/anaconda3-5.2.0/lib/python3.6/site-packages/ipykernel_launcher.py:2: SettingWithCopyWarning: \n",
      "A value is trying to be set on a copy of a slice from a DataFrame.\n",
      "Try using .loc[row_indexer,col_indexer] = value instead\n",
      "\n",
      "See the caveats in the documentation: http://pandas.pydata.org/pandas-docs/stable/indexing.html#indexing-view-versus-copy\n",
      "  \n"
     ]
    }
   ],
   "source": [
    "is_recalled['review_level'] = is_recalled['rating'].apply(positive_negative)\n",
    "not_recalled['review_level'] = not_recalled['rating'].apply(positive_negative)"
   ]
  },
  {
   "cell_type": "code",
   "execution_count": 17,
   "metadata": {},
   "outputs": [
    {
     "data": {
      "image/png": "[encoded data removed]",
      "text/plain": [
       "<Figure size 432x288 with 1 Axes>"
      ]
     },
     "metadata": {},
     "output_type": "display_data"
    }
   ],
   "source": [
    "tmp = is_recalled.groupby(by = ['year', 'review_level']).size().reset_index().rename(columns = {0:'count'})\n",
    "tmp['review_level'] = tmp['review_level'].apply(int)\n",
    "N = tmp.iloc[:, 0].nunique()\n",
    "rating_1 = tmp[tmp['review_level']==1]['count']\n",
    "rating_2 = tmp[tmp['review_level']==0]['count']\n",
    "rating_3 = tmp[tmp['review_level']==-1]['count']\n",
    "\n",
    "ind = np.arange(N)    # the x locations for the groups\n",
    "\n",
    "p1 = plt.bar(ind, rating_1)\n",
    "p2 = plt.bar(ind, rating_2)\n",
    "p3 = plt.bar(ind, rating_3)\n",
    "\n",
    "\n",
    "plt.ylabel('Counts')\n",
    "plt.title('Recalled: Counts by ratings and year')\n",
    "plt.xticks(ind, tuple(str(x) for x in range(2008, 2018)))\n",
    "plt.legend((p1[0], p2[0], p3[0]), ('Positive', 'Neural', 'Negative'))\n",
    "\n",
    "plt.show()"
   ]
  },
  {
   "cell_type": "code",
   "execution_count": 18,
   "metadata": {},
   "outputs": [
    {
     "data": {
      "image/png": "[encoded data removed]",
      "text/plain": [
       "<Figure size 432x288 with 1 Axes>"
      ]
     },
     "metadata": {},
     "output_type": "display_data"
    }
   ],
   "source": [
    "tmp = not_recalled.groupby(by = ['year', 'review_level']).size().reset_index().rename(columns = {0:'count'})\n",
    "tmp['review_level'] = tmp['review_level'].apply(int)\n",
    "N = tmp.iloc[:, 0].nunique()\n",
    "rating_1 = tmp[tmp['review_level']==1]['count']\n",
    "rating_2 = tmp[tmp['review_level']==0]['count']\n",
    "rating_3 = tmp[tmp['review_level']==-1]['count']\n",
    "\n",
    "ind = np.arange(N)    # the x locations for the groups\n",
    "\n",
    "p1 = plt.bar(ind, rating_1)\n",
    "p2 = plt.bar(ind, rating_2)\n",
    "p3 = plt.bar(ind, rating_3)\n",
    "\n",
    "\n",
    "plt.ylabel('Counts')\n",
    "plt.title('Not Recalled: Counts by ratings and year')\n",
    "plt.xticks(ind, tuple(str(x) for x in range(2008, 2018)))\n",
    "plt.legend((p1[0], p2[0], p3[0]), ('Positive', 'Neural', 'Negative'))\n",
    "\n",
    "plt.show()"
   ]
  },
  {
   "cell_type": "code",
   "execution_count": 19,
   "metadata": {},
   "outputs": [
    {
     "data": {
      "text/html": [
       "<div>\n",
       "<style scoped>\n",
       "    .dataframe tbody tr th:only-of-type {\n",
       "        vertical-align: middle;\n",
       "    }\n",
       "\n",
       "    .dataframe tbody tr th {\n",
       "        vertical-align: top;\n",
       "    }\n",
       "\n",
       "    .dataframe thead th {\n",
       "        text-align: right;\n",
       "    }\n",
       "</style>\n",
       "<table border=\"1\" class=\"dataframe\">\n",
       "  <thead>\n",
       "    <tr style=\"text-align: right;\">\n",
       "      <th></th>\n",
       "      <th>rating</th>\n",
       "      <th>usefulCount</th>\n",
       "      <th>review_length</th>\n",
       "      <th>review_word_count</th>\n",
       "      <th>review_cleaned_word_count</th>\n",
       "      <th>review_avg_word_length</th>\n",
       "      <th>review_avg_cleaned_word_length</th>\n",
       "      <th>is_recalled</th>\n",
       "    </tr>\n",
       "  </thead>\n",
       "  <tbody>\n",
       "    <tr>\n",
       "      <th>0</th>\n",
       "      <td>9.0</td>\n",
       "      <td>27</td>\n",
       "      <td>79</td>\n",
       "      <td>17</td>\n",
       "      <td>8</td>\n",
       "      <td>3.705882</td>\n",
       "      <td>5.250000</td>\n",
       "      <td>1</td>\n",
       "    </tr>\n",
       "    <tr>\n",
       "      <th>1</th>\n",
       "      <td>8.0</td>\n",
       "      <td>192</td>\n",
       "      <td>741</td>\n",
       "      <td>141</td>\n",
       "      <td>65</td>\n",
       "      <td>4.262411</td>\n",
       "      <td>5.630769</td>\n",
       "      <td>0</td>\n",
       "    </tr>\n",
       "    <tr>\n",
       "      <th>2</th>\n",
       "      <td>5.0</td>\n",
       "      <td>17</td>\n",
       "      <td>755</td>\n",
       "      <td>133</td>\n",
       "      <td>69</td>\n",
       "      <td>4.684211</td>\n",
       "      <td>5.637681</td>\n",
       "      <td>0</td>\n",
       "    </tr>\n",
       "    <tr>\n",
       "      <th>3</th>\n",
       "      <td>8.0</td>\n",
       "      <td>10</td>\n",
       "      <td>448</td>\n",
       "      <td>89</td>\n",
       "      <td>39</td>\n",
       "      <td>4.044944</td>\n",
       "      <td>5.282051</td>\n",
       "      <td>0</td>\n",
       "    </tr>\n",
       "    <tr>\n",
       "      <th>4</th>\n",
       "      <td>9.0</td>\n",
       "      <td>37</td>\n",
       "      <td>719</td>\n",
       "      <td>134</td>\n",
       "      <td>59</td>\n",
       "      <td>4.373134</td>\n",
       "      <td>6.355932</td>\n",
       "      <td>0</td>\n",
       "    </tr>\n",
       "  </tbody>\n",
       "</table>\n",
       "</div>"
      ],
      "text/plain": [
       "   rating  usefulCount  review_length  review_word_count  \\\n",
       "0     9.0           27             79                 17   \n",
       "1     8.0          192            741                141   \n",
       "2     5.0           17            755                133   \n",
       "3     8.0           10            448                 89   \n",
       "4     9.0           37            719                134   \n",
       "\n",
       "   review_cleaned_word_count  review_avg_word_length  \\\n",
       "0                          8                3.705882   \n",
       "1                         65                4.262411   \n",
       "2                         69                4.684211   \n",
       "3                         39                4.044944   \n",
       "4                         59                4.373134   \n",
       "\n",
       "   review_avg_cleaned_word_length  is_recalled  \n",
       "0                        5.250000            1  \n",
       "1                        5.630769            0  \n",
       "2                        5.637681            0  \n",
       "3                        5.282051            0  \n",
       "4                        6.355932            0  "
      ]
     },
     "execution_count": 19,
     "metadata": {},
     "output_type": "execute_result"
    }
   ],
   "source": [
    "# Only use some of the numerical variables\n",
    "whole_num_pd = whole_pd.loc[:, ['rating', 'usefulCount', 'review_length', 'review_word_count', 'review_cleaned_word_count', 'review_avg_word_length', 'review_avg_cleaned_word_length', 'is_recalled']]\n",
    "whole_num_pd.head()"
   ]
  },
  {
   "cell_type": "code",
   "execution_count": 20,
   "metadata": {},
   "outputs": [
    {
     "data": {
      "text/plain": [
       "<matplotlib.axes._subplots.AxesSubplot at 0x11e127588>"
      ]
     },
     "execution_count": 20,
     "metadata": {},
     "output_type": "execute_result"
    },
    {
     "data": {
      "image/png": "[encoded data removed]",
      "text/plain": [
       "<Figure size 432x288 with 2 Axes>"
      ]
     },
     "metadata": {},
     "output_type": "display_data"
    }
   ],
   "source": [
    "import seaborn as sns\n",
    "\n",
    "Var_Corr = whole_num_pd.corr()\n",
    "# plot the heatmap and annotation on it\n",
    "sns.heatmap(Var_Corr, xticklabels=Var_Corr.columns, yticklabels=Var_Corr.columns, annot=True)"
   ]
  },
  {
   "cell_type": "code",
   "execution_count": 21,
   "metadata": {},
   "outputs": [
    {
     "name": "stdout",
     "output_type": "stream",
     "text": [
      "[]\n"
     ]
    }
   ],
   "source": [
    "# Import SparkSession from pyspark.sql\n",
    "from pyspark.sql import SparkSession\n",
    "sc = pyspark.SparkContext(appName=\"drugsCom\")\n",
    "# Create my_spark\n",
    "spark = SparkSession.builder.getOrCreate()\n",
    "# Print the tables in the catalog\n",
    "print(spark.catalog.listTables())"
   ]
  },
  {
   "cell_type": "code",
   "execution_count": 22,
   "metadata": {},
   "outputs": [
    {
     "name": "stdout",
     "output_type": "stream",
     "text": [
      "+------+--------------------+--------------------+--------------------+------+-------------------+-----------+-----------------+-----------+-------------+-----------------+--------------------+-------------------------+----------------------+------------------------------+\n",
      "|    id|            drugName|           condition|              review|rating|               date|usefulCount|     partial_name|is_recalled|review_length|review_word_count|       cleaned_words|review_cleaned_word_count|review_avg_word_length|review_avg_cleaned_word_length|\n",
      "+------+--------------------+--------------------+--------------------+------+-------------------+-----------+-----------------+-----------+-------------+-----------------+--------------------+-------------------------+----------------------+------------------------------+\n",
      "|206461|           Valsartan|left ventricular ...|\"It has no side e...|   9.0|2012-05-20 00:00:00|         27|        valsartan|          1|           79|               17|['side', 'effect'...|                        8|    3.7058823529411766|                          5.25|\n",
      "| 95260|          Guanfacine|                adhd|\"My son is halfwa...|   8.0|2010-04-27 00:00:00|        192|       guanfacine|          0|          741|              141|['son', 'halfway'...|                       65|      4.26241134751773|             5.630769230769231|\n",
      "| 92703|              Lybrel|       birth control|\"I used to take a...|   5.0|2009-12-14 00:00:00|         17|           lybrel|          0|          755|              133|['used', 'take', ...|                       69|     4.684210526315789|              5.63768115942029|\n",
      "|138000|          Ortho Evra|       birth control|\"This is my first...|   8.0|2015-11-03 00:00:00|         10|       ortho evra|          0|          448|               89|['first', 'time',...|                       39|     4.044943820224719|             5.282051282051282|\n",
      "| 35696|Buprenorphine / n...|   opiate dependence|\"Suboxone has com...|   9.0|2016-11-27 00:00:00|         37|    buprenorphine|          0|          719|              134|['suboxone', 'com...|                       59|     4.373134328358209|            6.3559322033898304|\n",
      "|155963|              Cialis|benign prostatic ...|\"2nd day on 5mg s...|   2.0|2015-11-28 00:00:00|         43|           cialis|          0|          403|               70|['nd', 'day', 'mg...|                       44|     4.771428571428571|             5.363636363636363|\n",
      "|165907|      Levonorgestrel|emergency contrac...|\"He pulled out, b...|   1.0|2017-03-07 00:00:00|          5|   levonorgestrel|          0|          142|               30|['pulled', 'cumme...|                       15|    3.7666666666666666|                           4.8|\n",
      "|102654|        Aripiprazole|     bipolar disorde|\"Abilify changed ...|  10.0|2015-03-14 00:00:00|         32|     aripiprazole|          0|          733|              147|['abilify', 'chan...|                       65|     3.993197278911565|             5.384615384615384|\n",
      "| 74811|              Keppra|            epilepsy|\" I Ve had  nothi...|   1.0|2016-08-09 00:00:00|         11|           keppra|          0|          193|               36|['nothing', 'prob...|                       17|     4.388888888888889|            6.0588235294117645|\n",
      "| 48928|Ethinyl estradiol...|       birth control|\"I had been on th...|   8.0|2016-12-08 00:00:00|          1|ethinyl estradiol|          1|          737|              142|['pill', 'many', ...|                       69|     4.197183098591549|             5.579710144927536|\n",
      "| 29607|          Topiramate| migraine prevention|\"I have been on t...|   9.0|2015-01-01 00:00:00|         19|       topiramate|          0|          730|              149|['medication', 'a...|                       61|     3.906040268456376|             5.262295081967213|\n",
      "| 75612|      L-methylfolate|          depression|\"I have taken ant...|  10.0|2017-03-09 00:00:00|         54|   l-methylfolate|          0|          460|               78|['taken', 'anti',...|                       43|     4.910256410256411|             5.953488372093022|\n",
      "|191290|             Pentasa|     crohn's disease|\"I had Crohn&#039...|   4.0|2013-07-06 00:00:00|          8|          pentasa|          0|          403|               72|['crohn', 'resect...|                       32|     4.611111111111111|                        6.6875|\n",
      "|221320|    Dextromethorphan|               cough|\"Have a little bi...|   4.0|2017-09-07 00:00:00|          1| dextromethorphan|          0|          591|              111|['little', 'bit',...|                       49|     4.333333333333333|             5.387755102040817|\n",
      "| 98494|           Nexplanon|       birth control|\"Started Nexplano...|   3.0|2014-08-07 00:00:00|         10|        nexplanon|          0|          786|              144|['started', 'nexp...|                       68|     4.465277777777779|             5.588235294117646|\n",
      "| 81890|         Liraglutide|             obesity|\"I have been taki...|   9.0|2017-01-19 00:00:00|         20|      liraglutide|          0|          733|              153|['taking', 'saxen...|                       65|     3.797385620915033|             5.476923076923077|\n",
      "| 48188|        Trimethoprim|urinary tract inf...|\"This drug worked...|   9.0|2017-09-22 00:00:00|          0|     trimethoprim|          0|          676|              121|['drug', 'worked'...|                       65|     4.595041322314049|             5.815384615384616|\n",
      "|219869|       Amitriptyline|         ibromyalgia|\"I&#039;ve been t...|   9.0|2017-03-15 00:00:00|         39|    amitriptyline|          1|          711|              134|['taking', 'amitr...|                       64|     4.313432835820897|                        5.4375|\n",
      "|212077|         Lamotrigine|     bipolar disorde|\"I&#039;ve been o...|  10.0|2014-11-09 00:00:00|         18|      lamotrigine|          1|          770|              141|['every', 'medici...|                       65|     4.468085106382978|             6.107692307692307|\n",
      "|119705|           Nilotinib|chronic myelogeno...|\"I have been on T...|  10.0|2015-09-01 00:00:00|         11|        nilotinib|          0|          480|               99|['tasigna', 'year...|                       42|    3.8585858585858586|             5.214285714285714|\n",
      "+------+--------------------+--------------------+--------------------+------+-------------------+-----------+-----------------+-----------+-------------+-----------------+--------------------+-------------------------+----------------------+------------------------------+\n",
      "only showing top 20 rows\n",
      "\n"
     ]
    }
   ],
   "source": [
    "# convert pd.dataframe into spark.dataframe\n",
    "whole_spark = spark.createDataFrame(whole_pd)\n",
    "#whole = spark.read.csv(whole_path, header = True)\n",
    "whole_spark.show()"
   ]
  },
  {
   "cell_type": "code",
   "execution_count": 23,
   "metadata": {},
   "outputs": [
    {
     "name": "stdout",
     "output_type": "stream",
     "text": [
      "<class 'pyspark.sql.dataframe.DataFrame'>\n",
      "[Table(name='whole', database=None, description=None, tableType='TEMPORARY', isTemporary=True)]\n"
     ]
    }
   ],
   "source": [
    "print(type(whole_spark))\n",
    "whole_spark.createOrReplaceTempView(\"whole\")\n",
    "print(spark.catalog.listTables())"
   ]
  },
  {
   "cell_type": "code",
   "execution_count": 24,
   "metadata": {},
   "outputs": [
    {
     "name": "stdout",
     "output_type": "stream",
     "text": [
      "+--------------------+\n",
      "|              review|\n",
      "+--------------------+\n",
      "|\"It has no side e...|\n",
      "|\"My son is halfwa...|\n",
      "|\"I used to take a...|\n",
      "|\"This is my first...|\n",
      "|\"Suboxone has com...|\n",
      "|\"2nd day on 5mg s...|\n",
      "|\"He pulled out, b...|\n",
      "|\"Abilify changed ...|\n",
      "|\" I Ve had  nothi...|\n",
      "|\"I had been on th...|\n",
      "|\"I have been on t...|\n",
      "|\"I have taken ant...|\n",
      "|\"I had Crohn&#039...|\n",
      "|\"Have a little bi...|\n",
      "|\"Started Nexplano...|\n",
      "|\"I have been taki...|\n",
      "|\"This drug worked...|\n",
      "|\"I&#039;ve been t...|\n",
      "|\"I&#039;ve been o...|\n",
      "|\"I have been on T...|\n",
      "+--------------------+\n",
      "only showing top 20 rows\n",
      "\n"
     ]
    }
   ],
   "source": [
    "whole_spark.select('review').show()"
   ]
  },
  {
   "cell_type": "code",
   "execution_count": 25,
   "metadata": {},
   "outputs": [
    {
     "data": {
      "text/plain": [
       "[Row(avg(rating)=6.990007579174474, avg(usefulCount)=28.00100435686287, avg(review_length)=458.62074833885885, avg(review_word_count)=85.632028754365, avg(review_avg_word_length)=4.44472612218972, avg(review_avg_cleaned_word_length)=5.7409047694862805)]"
      ]
     },
     "execution_count": 25,
     "metadata": {},
     "output_type": "execute_result"
    }
   ],
   "source": [
    "whole_spark.groupBy().avg('rating', 'usefulCount', 'review_length', 'review_word_count', 'review_avg_word_length', 'review_avg_cleaned_word_length').collect()"
   ]
  },
  {
   "cell_type": "code",
   "execution_count": 26,
   "metadata": {},
   "outputs": [],
   "source": [
    "# Analysis on numerical variables\n",
    "whole_num_spark = whole_spark.select('rating', 'usefulCount', 'review_length', 'review_word_count', 'review_cleaned_word_count', 'review_avg_word_length', 'review_avg_cleaned_word_length', 'is_recalled')"
   ]
  },
  {
   "cell_type": "code",
   "execution_count": 27,
   "metadata": {},
   "outputs": [
    {
     "data": {
      "text/plain": [
       "[Row(rating=9.0, usefulCount=27, review_length=79, review_word_count=17, review_cleaned_word_count=8, review_avg_word_length=3.7058823529411766, review_avg_cleaned_word_length=5.25, is_recalled=1),\n",
       " Row(rating=8.0, usefulCount=192, review_length=741, review_word_count=141, review_cleaned_word_count=65, review_avg_word_length=4.26241134751773, review_avg_cleaned_word_length=5.630769230769231, is_recalled=0)]"
      ]
     },
     "execution_count": 27,
     "metadata": {},
     "output_type": "execute_result"
    }
   ],
   "source": [
    "# Glance at whole_num\n",
    "whole_num_spark.take(2)"
   ]
  },
  {
   "cell_type": "code",
   "execution_count": 28,
   "metadata": {},
   "outputs": [
    {
     "data": {
      "text/plain": [
       "pyspark.sql.dataframe.DataFrame"
      ]
     },
     "execution_count": 28,
     "metadata": {},
     "output_type": "execute_result"
    }
   ],
   "source": [
    "type(whole_num_spark)"
   ]
  },
  {
   "cell_type": "code",
   "execution_count": 29,
   "metadata": {},
   "outputs": [
    {
     "data": {
      "text/plain": [
       "['rating',\n",
       " 'usefulCount',\n",
       " 'review_length',\n",
       " 'review_word_count',\n",
       " 'review_cleaned_word_count',\n",
       " 'review_avg_word_length',\n",
       " 'review_avg_cleaned_word_length',\n",
       " 'is_recalled']"
      ]
     },
     "execution_count": 29,
     "metadata": {},
     "output_type": "execute_result"
    }
   ],
   "source": [
    "whole_num_spark.columns"
   ]
  },
  {
   "cell_type": "code",
   "execution_count": 30,
   "metadata": {},
   "outputs": [],
   "source": [
    "from pyspark.ml.feature import VectorAssembler\n",
    "cols = whole_num_spark.columns\n",
    "vectorAss = VectorAssembler(inputCols=cols, outputCol=\"features\")\n",
    "vdf = vectorAss.transform(whole_num_spark)\n"
   ]
  },
  {
   "cell_type": "code",
   "execution_count": 31,
   "metadata": {},
   "outputs": [
    {
     "data": {
      "text/plain": [
       "pyspark.sql.dataframe.DataFrame"
      ]
     },
     "execution_count": 31,
     "metadata": {},
     "output_type": "execute_result"
    }
   ],
   "source": [
    "type(vdf)"
   ]
  },
  {
   "cell_type": "code",
   "execution_count": 32,
   "metadata": {},
   "outputs": [
    {
     "data": {
      "text/plain": [
       "[Row(rating=9.0, usefulCount=27, review_length=79, review_word_count=17, review_cleaned_word_count=8, review_avg_word_length=3.7058823529411766, review_avg_cleaned_word_length=5.25, is_recalled=1, features=DenseVector([9.0, 27.0, 79.0, 17.0, 8.0, 3.7059, 5.25, 1.0]))]"
      ]
     },
     "execution_count": 32,
     "metadata": {},
     "output_type": "execute_result"
    }
   ],
   "source": [
    "vdf.take(1)"
   ]
  },
  {
   "cell_type": "code",
   "execution_count": 33,
   "metadata": {},
   "outputs": [
    {
     "name": "stdout",
     "output_type": "stream",
     "text": [
      "+-------+------------------+-----------------+------------------+-----------------+-------------------------+----------------------+------------------------------+-------------------+\n",
      "|summary|            rating|      usefulCount|     review_length|review_word_count|review_cleaned_word_count|review_avg_word_length|review_avg_cleaned_word_length|        is_recalled|\n",
      "+-------+------------------+-----------------+------------------+-----------------+-------------------------+----------------------+------------------------------+-------------------+\n",
      "|  count|            215063|           215063|            215063|           215063|                   215063|                215063|                        215063|             215063|\n",
      "|   mean| 6.990007579174474|28.00100435686287|458.62074833885885|  85.632028754365|        40.14616182234973|      4.44472612218972|            5.7409047694862805|0.10551791800542167|\n",
      "| stddev|3.2755544975903352|36.34606888350826|240.99522613005777|45.32340541058826|        21.28590187358158|    0.5653081572656864|            0.5663704904087913|0.30722032135503174|\n",
      "|    min|               1.0|                0|                 3|                1|                        0|    1.6129032258064515|                           0.0|                  0|\n",
      "|    max|              10.0|             1291|             10787|             1857|                      914|                  34.0|                          13.0|                  1|\n",
      "+-------+------------------+-----------------+------------------+-----------------+-------------------------+----------------------+------------------------------+-------------------+\n",
      "\n"
     ]
    }
   ],
   "source": [
    "whole_num_spark.describe().show()"
   ]
  },
  {
   "cell_type": "code",
   "execution_count": 34,
   "metadata": {},
   "outputs": [
    {
     "data": {
      "text/plain": [
       "['rating',\n",
       " 'usefulCount',\n",
       " 'review_length',\n",
       " 'review_word_count',\n",
       " 'review_cleaned_word_count',\n",
       " 'review_avg_word_length',\n",
       " 'review_avg_cleaned_word_length',\n",
       " 'is_recalled']"
      ]
     },
     "execution_count": 34,
     "metadata": {},
     "output_type": "execute_result"
    }
   ],
   "source": [
    "whole_num_spark.columns"
   ]
  },
  {
   "cell_type": "code",
   "execution_count": 35,
   "metadata": {},
   "outputs": [
    {
     "data": {
      "text/plain": [
       "0.23485955163330302"
      ]
     },
     "execution_count": 35,
     "metadata": {},
     "output_type": "execute_result"
    }
   ],
   "source": [
    "whole_num_spark.stat.corr('rating', 'usefulCount')"
   ]
  },
  {
   "cell_type": "code",
   "execution_count": null,
   "metadata": {},
   "outputs": [],
   "source": []
  },
  {
   "cell_type": "code",
   "execution_count": null,
   "metadata": {},
   "outputs": [],
   "source": []
  },
  {
   "cell_type": "code",
   "execution_count": null,
   "metadata": {},
   "outputs": [],
   "source": []
  },
  {
   "cell_type": "code",
   "execution_count": null,
   "metadata": {},
   "outputs": [],
   "source": []
  }
 ],
 "metadata": {
  "kernelspec": {
   "display_name": "Python 3",
   "language": "python",
   "name": "python3"
  },
  "language_info": {
   "codemirror_mode": {
    "name": "ipython",
    "version": 3
   },
   "file_extension": ".py",
   "mimetype": "text/x-python",
   "name": "python",
   "nbconvert_exporter": "python",
   "pygments_lexer": "ipython3",
   "version": "3.6.5"
  }
 },
 "nbformat": 4,
 "nbformat_minor": 2
}
