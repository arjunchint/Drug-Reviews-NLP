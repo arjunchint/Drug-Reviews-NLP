{
 "cells": [
  {
   "cell_type": "code",
   "execution_count": 1,
   "metadata": {},
   "outputs": [
    {
     "name": "stderr",
     "output_type": "stream",
     "text": [
      "C:\\Users\\Arjun\\Anaconda3\\lib\\site-packages\\h5py\\__init__.py:36: FutureWarning: Conversion of the second argument of issubdtype from `float` to `np.floating` is deprecated. In future, it will be treated as `np.float64 == np.dtype(float).type`.\n",
      "  from ._conv import register_converters as _register_converters\n"
     ]
    }
   ],
   "source": [
    "import numpy as np\n",
    "import pandas as pd\n",
    "import os\n",
    "import matplotlib.pyplot as plt\n",
    "import tensorflow as tf"
   ]
  },
  {
   "cell_type": "code",
   "execution_count": 2,
   "metadata": {},
   "outputs": [],
   "source": [
    "# path of the current directory\n",
    "cur_dir = os.getcwd()\n",
    "data_path = cur_dir+\"/drugsCom\"\n",
    "whole_path = \"test_dataset.csv\""
   ]
  },
  {
   "cell_type": "code",
   "execution_count": 3,
   "metadata": {},
   "outputs": [
    {
     "data": {
      "text/html": [
       "<div>\n",
       "<style scoped>\n",
       "    .dataframe tbody tr th:only-of-type {\n",
       "        vertical-align: middle;\n",
       "    }\n",
       "\n",
       "    .dataframe tbody tr th {\n",
       "        vertical-align: top;\n",
       "    }\n",
       "\n",
       "    .dataframe thead th {\n",
       "        text-align: right;\n",
       "    }\n",
       "</style>\n",
       "<table border=\"1\" class=\"dataframe\">\n",
       "  <thead>\n",
       "    <tr style=\"text-align: right;\">\n",
       "      <th></th>\n",
       "      <th>Unnamed: 0</th>\n",
       "      <th>Unnamed: 0.1</th>\n",
       "      <th>drugName</th>\n",
       "      <th>condition</th>\n",
       "      <th>review</th>\n",
       "      <th>rating</th>\n",
       "      <th>date</th>\n",
       "      <th>usefulCount</th>\n",
       "      <th>Sentimental_Polarity</th>\n",
       "      <th>Sentimental_Subjectivity</th>\n",
       "      <th>partial_name</th>\n",
       "      <th>is_recalled</th>\n",
       "    </tr>\n",
       "  </thead>\n",
       "  <tbody>\n",
       "    <tr>\n",
       "      <th>0</th>\n",
       "      <td>0</td>\n",
       "      <td>163740</td>\n",
       "      <td>Mirtazapine</td>\n",
       "      <td>Depression</td>\n",
       "      <td>\"I&amp;#039;ve tried a few antidepressants over th...</td>\n",
       "      <td>10.0</td>\n",
       "      <td>February 28, 2012</td>\n",
       "      <td>22</td>\n",
       "      <td>-0.300000</td>\n",
       "      <td>0.550000</td>\n",
       "      <td>mirtazapine</td>\n",
       "      <td>False</td>\n",
       "    </tr>\n",
       "    <tr>\n",
       "      <th>1</th>\n",
       "      <td>1</td>\n",
       "      <td>206473</td>\n",
       "      <td>Mesalamine</td>\n",
       "      <td>Crohn's Disease, Maintenance</td>\n",
       "      <td>\"My son has Crohn&amp;#039;s disease and has done ...</td>\n",
       "      <td>8.0</td>\n",
       "      <td>May 17, 2009</td>\n",
       "      <td>17</td>\n",
       "      <td>0.333333</td>\n",
       "      <td>0.566667</td>\n",
       "      <td>mesalamine</td>\n",
       "      <td>False</td>\n",
       "    </tr>\n",
       "    <tr>\n",
       "      <th>2</th>\n",
       "      <td>2</td>\n",
       "      <td>159672</td>\n",
       "      <td>Bactrim</td>\n",
       "      <td>Urinary Tract Infection</td>\n",
       "      <td>\"Quick reduction of symptoms\"</td>\n",
       "      <td>9.0</td>\n",
       "      <td>September 29, 2017</td>\n",
       "      <td>3</td>\n",
       "      <td>0.333333</td>\n",
       "      <td>0.500000</td>\n",
       "      <td>bactrim</td>\n",
       "      <td>False</td>\n",
       "    </tr>\n",
       "    <tr>\n",
       "      <th>3</th>\n",
       "      <td>3</td>\n",
       "      <td>39293</td>\n",
       "      <td>Contrave</td>\n",
       "      <td>Weight Loss</td>\n",
       "      <td>\"Contrave combines drugs that were used for al...</td>\n",
       "      <td>9.0</td>\n",
       "      <td>March 5, 2017</td>\n",
       "      <td>35</td>\n",
       "      <td>0.253125</td>\n",
       "      <td>0.575000</td>\n",
       "      <td>contrave</td>\n",
       "      <td>False</td>\n",
       "    </tr>\n",
       "    <tr>\n",
       "      <th>4</th>\n",
       "      <td>4</td>\n",
       "      <td>97768</td>\n",
       "      <td>Cyclafem 1 / 35</td>\n",
       "      <td>Birth Control</td>\n",
       "      <td>\"I have been on this birth control for one cyc...</td>\n",
       "      <td>9.0</td>\n",
       "      <td>October 22, 2015</td>\n",
       "      <td>4</td>\n",
       "      <td>0.204792</td>\n",
       "      <td>0.526458</td>\n",
       "      <td>cyclafem 1</td>\n",
       "      <td>False</td>\n",
       "    </tr>\n",
       "  </tbody>\n",
       "</table>\n",
       "</div>"
      ],
      "text/plain": [
       "   Unnamed: 0  Unnamed: 0.1         drugName                     condition  \\\n",
       "0           0        163740      Mirtazapine                    Depression   \n",
       "1           1        206473       Mesalamine  Crohn's Disease, Maintenance   \n",
       "2           2        159672          Bactrim       Urinary Tract Infection   \n",
       "3           3         39293         Contrave                   Weight Loss   \n",
       "4           4         97768  Cyclafem 1 / 35                 Birth Control   \n",
       "\n",
       "                                              review  rating  \\\n",
       "0  \"I&#039;ve tried a few antidepressants over th...    10.0   \n",
       "1  \"My son has Crohn&#039;s disease and has done ...     8.0   \n",
       "2                      \"Quick reduction of symptoms\"     9.0   \n",
       "3  \"Contrave combines drugs that were used for al...     9.0   \n",
       "4  \"I have been on this birth control for one cyc...     9.0   \n",
       "\n",
       "                 date  usefulCount  Sentimental_Polarity  \\\n",
       "0   February 28, 2012           22             -0.300000   \n",
       "1        May 17, 2009           17              0.333333   \n",
       "2  September 29, 2017            3              0.333333   \n",
       "3       March 5, 2017           35              0.253125   \n",
       "4    October 22, 2015            4              0.204792   \n",
       "\n",
       "   Sentimental_Subjectivity partial_name  is_recalled  \n",
       "0                  0.550000  mirtazapine        False  \n",
       "1                  0.566667   mesalamine        False  \n",
       "2                  0.500000      bactrim        False  \n",
       "3                  0.575000     contrave        False  \n",
       "4                  0.526458   cyclafem 1        False  "
      ]
     },
     "execution_count": 3,
     "metadata": {},
     "output_type": "execute_result"
    }
   ],
   "source": [
    "whole = pd.read_csv(whole_path)\n",
    "fda_path = data_path + \"/drugs_recalls_fda.tsv\"\n",
    "fda = pd.read_csv(fda_path, sep='\\t')\n",
    "whole['partial_name'] = whole['drugName'].apply(lambda x: x.split('/')[0].strip().lower())\n",
    "\n",
    "whole['is_recalled'] = whole['partial_name'].apply(lambda x: fda['Product Description'].str.contains(x, case=False, regex=False).any())\n",
    "\n",
    "\n",
    "whole.head()"
   ]
  },
  {
   "cell_type": "code",
   "execution_count": 4,
   "metadata": {},
   "outputs": [
    {
     "name": "stdout",
     "output_type": "stream",
     "text": [
      "(53766, 12)\n"
     ]
    },
    {
     "data": {
      "text/plain": [
       "5516"
      ]
     },
     "execution_count": 4,
     "metadata": {},
     "output_type": "execute_result"
    }
   ],
   "source": [
    "print(whole.shape)\n",
    "whole['is_recalled'] = whole['is_recalled'].astype(int)\n",
    "whole['is_recalled'].sum()\n"
   ]
  },
  {
   "cell_type": "code",
   "execution_count": 5,
   "metadata": {},
   "outputs": [
    {
     "name": "stdout",
     "output_type": "stream",
     "text": [
      "0    0\n",
      "1    0\n",
      "2    0\n",
      "3    0\n",
      "4    0\n",
      "Name: is_recalled, dtype: int32\n",
      "   Sentimental_Subjectivity  Sentimental_Polarity\n",
      "0                  0.550000             -0.300000\n",
      "1                  0.566667              0.333333\n",
      "2                  0.500000              0.333333\n",
      "3                  0.575000              0.253125\n",
      "4                  0.526458              0.204792\n"
     ]
    }
   ],
   "source": [
    "# No missing values\n",
    "whole = whole[[\"Sentimental_Subjectivity\", \"Sentimental_Polarity\",\"is_recalled\"]]\n",
    "assert(whole.isnull().values.any() == False)\n",
    "X = whole.iloc[:, 0:whole.shape[1]-1]\n",
    "y = whole.iloc[:, whole.shape[1]-1]\n",
    "print(y.head())\n",
    "print(X.head())\n",
    "y= y.values.reshape([-1, 1])"
   ]
  },
  {
   "cell_type": "code",
   "execution_count": 6,
   "metadata": {},
   "outputs": [],
   "source": [
    "# X = whole.iloc[:, 0:whole.shape[1]-1].values\n",
    "# y = whole.iloc[:, whole.shape[1]-1].values.reshape([-1, 1])\n",
    "from sklearn.preprocessing import StandardScaler\n",
    "scaler = StandardScaler()\n",
    "X = scaler.fit_transform(X)\n",
    "from sklearn.model_selection import train_test_split\n",
    "X_train, X_test, y_train, y_test = train_test_split(X, y, test_size=0.33, random_state=1234)"
   ]
  },
  {
   "cell_type": "code",
   "execution_count": 7,
   "metadata": {},
   "outputs": [],
   "source": [
    "def get_train_test(whole, downsample = False, n_is_called = 1, seed = 1234):\n",
    "    X = whole.iloc[:, 0:whole.shape[1]-1].values\n",
    "    y = whole.iloc[:, whole.shape[1]-1].values.reshape([-1, 1])\n",
    "    from sklearn.preprocessing import StandardScaler\n",
    "    scaler = StandardScaler()\n",
    "    X = scaler.fit_transform(X)\n",
    "    from sklearn.model_selection import train_test_split\n",
    "    X_train, X_test, y_train, y_test = train_test_split(X, y, test_size=0.3, random_state=seed)\n",
    "    y_test = y_test.reshape((-1,1))\n",
    "\n",
    "    if downsample == False:\n",
    "        y_train = y_train.reshape((-1,1))\n",
    "        return X_train, y_train, X_test, y_test\n",
    "    else:\n",
    "        not_recalled_idx = [x for x in range(y_train.shape[0]) if y_train[x]==0]\n",
    "        is_recalled_idx = [x for x in range(y_train.shape[0]) if y_train[x]==1]\n",
    "        assert len(not_recalled_idx) + sum(y_train)[0] == y_train.shape[0]\n",
    "        chose = np.random.choice(not_recalled_idx, int(n_is_called * sum(y_train)[0]), replace=False)\n",
    "        X_train_downsample = np.vstack((X_train[chose, :],X_train[is_recalled_idx, :]))\n",
    "        y_train_downsample = np.vstack((y_train[chose, :], y_train[y_train==1].reshape((-1, 1))))\n",
    "        y_train_downsample = y_train_downsample.reshape((-1, 1))\n",
    "        return X_train_downsample, y_train_downsample, X_test, y_test\n"
   ]
  },
  {
   "cell_type": "code",
   "execution_count": 8,
   "metadata": {},
   "outputs": [],
   "source": [
    "from sklearn.metrics import confusion_matrix\n",
    "import itertools \n",
    "def plot_confusion_matrix(cm, classes,\n",
    "                          normalize=False,\n",
    "                          title='Confusion matrix',\n",
    "                          cmap=plt.cm.Blues):\n",
    "    \"\"\"\n",
    "    This function prints and plots the confusion matrix.\n",
    "    Normalization can be applied by setting `normalize=True`.\n",
    "    \"\"\"\n",
    "    if normalize:\n",
    "        cm = cm.astype('float') / cm.sum(axis=1)[:, np.newaxis]\n",
    "        print(\"Normalized confusion matrix\")\n",
    "    else:\n",
    "        print('Confusion matrix, without normalization')\n",
    "\n",
    "    print(cm)\n",
    "\n",
    "    plt.imshow(cm, interpolation='nearest', cmap=cmap)\n",
    "    plt.title(title)\n",
    "    plt.colorbar()\n",
    "    tick_marks = np.arange(len(classes))\n",
    "    plt.xticks(tick_marks, classes, rotation=45)\n",
    "    plt.yticks(tick_marks, classes)\n",
    "\n",
    "    fmt = '.2f' if normalize else 'd'\n",
    "    thresh = cm.max() / 2.\n",
    "    for i, j in itertools.product(range(cm.shape[0]), range(cm.shape[1])):\n",
    "        plt.text(j, i, format(cm[i, j], fmt),\n",
    "                 horizontalalignment=\"center\",\n",
    "                 color=\"white\" if cm[i, j] > thresh else \"black\")\n",
    "\n",
    "    plt.ylabel('True label')\n",
    "    plt.xlabel('Predicted label')\n",
    "    plt.tight_layout()\n",
    "\n"
   ]
  },
  {
   "cell_type": "code",
   "execution_count": 9,
   "metadata": {},
   "outputs": [
    {
     "data": {
      "text/plain": [
       "0.8974072834133096"
      ]
     },
     "execution_count": 9,
     "metadata": {},
     "output_type": "execute_result"
    }
   ],
   "source": [
    "n_recalled = whole[whole['is_recalled']==1].shape[0]\n",
    "n_not_recalled = whole[whole['is_recalled']==0].shape[0]\n",
    "n_not_recalled / whole.shape[0]"
   ]
  },
  {
   "cell_type": "code",
   "execution_count": 10,
   "metadata": {},
   "outputs": [],
   "source": [
    "# Decision Tree\n",
    "from sklearn.tree import DecisionTreeClassifier\n",
    "from sklearn.metrics import accuracy_score\n",
    "from sklearn import tree"
   ]
  },
  {
   "cell_type": "code",
   "execution_count": 11,
   "metadata": {},
   "outputs": [],
   "source": [
    "# inputs\n",
    "training_epochs = 1000\n",
    "learning_rate = 0.01\n",
    "num_inputs = 2    # 2 independent variables\n",
    "\n",
    "cost_history = np.empty(shape=[1],dtype=float)\n",
    "\n",
    "X = tf.placeholder(tf.float32,[None,num_inputs])\n",
    "Y = tf.placeholder(tf.float32,[None,1])\n",
    "is_training=tf.Variable(True,dtype=tf.bool)\n",
    "\n",
    "\n",
    "num_hid1 = 16\n",
    "num_hid2 = 8\n",
    "num_output = 1 # is_recalled/not_recalled"
   ]
  },
  {
   "cell_type": "code",
   "execution_count": 12,
   "metadata": {},
   "outputs": [],
   "source": [
    "X_train, y_train, X_test, y_test = get_train_test(whole, downsample = True, n_is_called = 1)\n",
    "#y_train_ = y_train.reshape((y_train.shape[0],1))\n",
    "#y_test_ = y_test.reshape((y_test.shape[0],1))"
   ]
  },
  {
   "cell_type": "code",
   "execution_count": 13,
   "metadata": {},
   "outputs": [],
   "source": [
    "# models\n",
    "\n",
    "initializer = tf.contrib.layers.xavier_initializer()\n",
    "h1 = tf.layers.dense(X, num_hid1, activation=tf.nn.relu, kernel_initializer=initializer, name = 'h1')\n",
    "h2 = tf.layers.dense(h1, num_hid2, activation=tf.nn.relu, kernel_initializer=initializer, name = 'h2')\n",
    "output = tf.layers.dense(h2, num_output, activation=None, name = 'output')\n",
    "\n",
    "cross_entropy = tf.nn.sigmoid_cross_entropy_with_logits(labels=Y, logits=output)\n",
    "cost = tf.reduce_mean(cross_entropy)\n",
    "optimizer = tf.train.AdamOptimizer(learning_rate=learning_rate).minimize(cost)\n",
    "\n",
    "\n",
    "predicted = tf.round(tf.nn.sigmoid(output))\n",
    "correct_pred = tf.equal(predicted, Y)\n",
    "accuracy = tf.reduce_mean(tf.cast(correct_pred, tf.float32))"
   ]
  },
  {
   "cell_type": "code",
   "execution_count": 14,
   "metadata": {},
   "outputs": [
    {
     "name": "stdout",
     "output_type": "stream",
     "text": [
      "Step:     0\tLoss: 0.696\tAcc: 50.20%\n",
      "Step:   100\tLoss: 0.689\tAcc: 53.76%\n",
      "Step:   200\tLoss: 0.688\tAcc: 53.70%\n",
      "Step:   300\tLoss: 0.687\tAcc: 54.24%\n",
      "Step:   400\tLoss: 0.687\tAcc: 54.33%\n",
      "Step:   500\tLoss: 0.687\tAcc: 54.22%\n",
      "Step:   600\tLoss: 0.687\tAcc: 54.15%\n",
      "Step:   700\tLoss: 0.687\tAcc: 54.68%\n",
      "Step:   800\tLoss: 0.686\tAcc: 54.21%\n",
      "Step:   900\tLoss: 0.686\tAcc: 54.54%\n",
      "Step:  1000\tLoss: 0.686\tAcc: 54.17%\n",
      "Test Accuracy: 0.5305642\n",
      "Normalized confusion matrix\n",
      "[[0.53 0.47]\n",
      " [0.5  0.5 ]]\n"
     ]
    },
    {
     "data": {
      "image/png": "[encoded data removed]",
      "text/plain": [
       "<Figure size 432x288 with 2 Axes>"
      ]
     },
     "metadata": {},
     "output_type": "display_data"
    }
   ],
   "source": [
    "# session\n",
    "with tf.Session() as sess:\n",
    "    sess.run(tf.global_variables_initializer())\n",
    "\n",
    "    for step in range(training_epochs + 1):\n",
    "        sess.run(optimizer, feed_dict={X: X_train, Y: y_train})\n",
    "        loss, _, acc = sess.run([cost, optimizer, accuracy], feed_dict={\n",
    "                                 X: X_train, Y: y_train})\n",
    "        cost_history = np.append(cost_history, acc)\n",
    "        if step % 100 == 0:\n",
    "            print(\"Step: {:5}\\tLoss: {:.3f}\\tAcc: {:.2%}\".format(\n",
    "                step, loss, acc))\n",
    "            \n",
    "    # Test model and check accuracy\n",
    "    acc_pred = sess.run(accuracy, feed_dict={X: X_test, Y: y_test})\n",
    "    pred = sess.run(predicted, feed_dict={X: X_test, Y: y_test})\n",
    "    print('Test Accuracy:', acc_pred)\n",
    "    cnf_matrix = confusion_matrix(y_test, pred)\n",
    "    np.set_printoptions(precision=2)\n",
    "    class_names = ['Recalled', 'Not Recalled']\n",
    "    plt.figure()\n",
    "    plot_confusion_matrix(cnf_matrix,normalize=True, classes=class_names, title='Normalized confusion matrix')\n",
    "    "
   ]
  },
  {
   "cell_type": "code",
   "execution_count": 15,
   "metadata": {},
   "outputs": [
    {
     "name": "stdout",
     "output_type": "stream",
     "text": [
      "Step:     0\tLoss: 0.661\tAcc: 59.00%\n",
      "Step:   100\tLoss: 0.498\tAcc: 80.00%\n",
      "Step:   200\tLoss: 0.498\tAcc: 80.00%\n",
      "Step:   300\tLoss: 0.498\tAcc: 80.00%\n",
      "Step:   400\tLoss: 0.498\tAcc: 80.00%\n",
      "Step:   500\tLoss: 0.498\tAcc: 80.00%\n",
      "Step:   600\tLoss: 0.498\tAcc: 80.00%\n",
      "Step:   700\tLoss: 0.498\tAcc: 80.00%\n",
      "Step:   800\tLoss: 0.497\tAcc: 80.00%\n",
      "Step:   900\tLoss: 0.497\tAcc: 80.00%\n",
      "Step:  1000\tLoss: 0.497\tAcc: 80.00%\n",
      "Test Accuracy: 0.9009919\n",
      "Normalized confusion matrix\n",
      "[[1. 0.]\n",
      " [1. 0.]]\n"
     ]
    },
    {
     "data": {
      "image/png": "[encoded data removed]",
      "text/plain": [
       "<Figure size 432x288 with 2 Axes>"
      ]
     },
     "metadata": {},
     "output_type": "display_data"
    }
   ],
   "source": [
    "X_train, y_train, X_test, y_test = get_train_test(whole, downsample = True, n_is_called = 4)\n",
    "# session\n",
    "with tf.Session() as sess:\n",
    "    sess.run(tf.global_variables_initializer())\n",
    "\n",
    "    for step in range(training_epochs + 1):\n",
    "        sess.run(optimizer, feed_dict={X: X_train, Y: y_train})\n",
    "        loss, _, acc = sess.run([cost, optimizer, accuracy], feed_dict={\n",
    "                                 X: X_train, Y: y_train})\n",
    "        cost_history = np.append(cost_history, acc)\n",
    "        if step % 100 == 0:\n",
    "            print(\"Step: {:5}\\tLoss: {:.3f}\\tAcc: {:.2%}\".format(\n",
    "                step, loss, acc))\n",
    "            \n",
    "    # Test model and check accuracy\n",
    "    acc_pred = sess.run(accuracy, feed_dict={X: X_test, Y: y_test})\n",
    "    pred = sess.run(predicted, feed_dict={X: X_test, Y: y_test})\n",
    "    print('Test Accuracy:', acc_pred)\n",
    "    cnf_matrix = confusion_matrix(y_test, pred)\n",
    "    np.set_printoptions(precision=2)\n",
    "    class_names = ['Recalled', 'Not Recalled']\n",
    "    plt.figure()\n",
    "    plot_confusion_matrix(cnf_matrix,normalize=True, classes=class_names, title='Normalized confusion matrix')\n",
    "    "
   ]
  },
  {
   "cell_type": "code",
   "execution_count": 16,
   "metadata": {},
   "outputs": [
    {
     "name": "stdout",
     "output_type": "stream",
     "text": [
      "51.02293862368258\n",
      "Normalized confusion matrix\n",
      "[[0.51 0.49]\n",
      " [0.47 0.53]]\n"
     ]
    },
    {
     "data": {
      "image/png": "[encoded data removed]",
      "text/plain": [
       "<Figure size 432x288 with 2 Axes>"
      ]
     },
     "metadata": {},
     "output_type": "display_data"
    }
   ],
   "source": [
    "X_train, y_train, X_test, y_test = get_train_test(whole, downsample = True, n_is_called = 1)\n",
    "dt_gini = DecisionTreeClassifier(criterion = \"gini\", random_state = 100, max_depth=5, min_samples_leaf=5)\n",
    "dt_gini.fit(X_train, y_train)\n",
    "y_pred_gini = dt_gini.predict(X_test)\n",
    "print(accuracy_score(y_test,y_pred_gini)*100)\n",
    "cnf_matrix = confusion_matrix(y_test, y_pred_gini)\n",
    "np.set_printoptions(precision=2)\n",
    "class_names = ['Recalled', 'Not Recalled']\n",
    "plt.figure()\n",
    "plot_confusion_matrix(cnf_matrix,normalize=True, classes=class_names, title='Normalized confusion matrix')"
   ]
  },
  {
   "cell_type": "code",
   "execution_count": 17,
   "metadata": {},
   "outputs": [
    {
     "name": "stdout",
     "output_type": "stream",
     "text": [
      "89.31184128952263\n",
      "Normalized confusion matrix\n",
      "[[0.99 0.01]\n",
      " [0.99 0.01]]\n"
     ]
    },
    {
     "data": {
      "image/png": "[encoded data removed]",
      "text/plain": [
       "<Figure size 432x288 with 2 Axes>"
      ]
     },
     "metadata": {},
     "output_type": "display_data"
    }
   ],
   "source": [
    "X_train, y_train, X_test, y_test = get_train_test(whole, downsample = True, n_is_called = 1.5)\n",
    "dt_gini = DecisionTreeClassifier(criterion = \"gini\", random_state = 100, max_depth=5, min_samples_leaf=5)\n",
    "dt_gini.fit(X_train, y_train)\n",
    "y_pred_gini = dt_gini.predict(X_test)\n",
    "print(accuracy_score(y_test,y_pred_gini)*100)\n",
    "cnf_matrix = confusion_matrix(y_test, y_pred_gini)\n",
    "np.set_printoptions(precision=2)\n",
    "class_names = ['Recalled', 'Not Recalled']\n",
    "plt.figure()\n",
    "plot_confusion_matrix(cnf_matrix,normalize=True, classes=class_names, title='Normalized confusion matrix')"
   ]
  },
  {
   "cell_type": "code",
   "execution_count": 18,
   "metadata": {},
   "outputs": [
    {
     "name": "stdout",
     "output_type": "stream",
     "text": [
      "88.84686918784872\n",
      "Normalized confusion matrix\n",
      "[[0.98 0.02]\n",
      " [0.98 0.02]]\n"
     ]
    },
    {
     "data": {
      "image/png": "[encoded data removed]",
      "text/plain": [
       "<Figure size 432x288 with 2 Axes>"
      ]
     },
     "metadata": {},
     "output_type": "display_data"
    }
   ],
   "source": [
    "X_train, y_train, X_test, y_test = get_train_test(whole, downsample = True, n_is_called = 1.8)\n",
    "dt_gini = DecisionTreeClassifier(criterion = \"gini\", random_state = 100, max_depth=5, min_samples_leaf=5)\n",
    "dt_gini.fit(X_train, y_train)\n",
    "y_pred_gini = dt_gini.predict(X_test)\n",
    "print(accuracy_score(y_test,y_pred_gini)*100)\n",
    "cnf_matrix = confusion_matrix(y_test, y_pred_gini)\n",
    "np.set_printoptions(precision=2)\n",
    "class_names = ['Recalled', 'Not Recalled']\n",
    "plt.figure()\n",
    "plot_confusion_matrix(cnf_matrix,normalize=True, classes=class_names, title='Normalized confusion matrix')"
   ]
  },
  {
   "cell_type": "code",
   "execution_count": 19,
   "metadata": {},
   "outputs": [
    {
     "name": "stdout",
     "output_type": "stream",
     "text": [
      "90.09299442033478\n",
      "Normalized confusion matrix\n",
      "[[1.00e+00 1.38e-04]\n",
      " [9.99e-01 6.26e-04]]\n"
     ]
    },
    {
     "data": {
      "image/png": "[encoded data removed]",
      "text/plain": [
       "<Figure size 432x288 with 2 Axes>"
      ]
     },
     "metadata": {},
     "output_type": "display_data"
    }
   ],
   "source": [
    "X_train, y_train, X_test, y_test = get_train_test(whole, downsample = False)\n",
    "dt_gini = DecisionTreeClassifier(criterion = \"gini\", random_state = 100, max_depth=5, min_samples_leaf=5)\n",
    "dt_gini.fit(X_train, y_train)\n",
    "y_pred_gini = dt_gini.predict(X_test)\n",
    "print(accuracy_score(y_test,y_pred_gini)*100)\n",
    "cnf_matrix = confusion_matrix(y_test, y_pred_gini)\n",
    "np.set_printoptions(precision=2)\n",
    "class_names = ['Recalled', 'Not Recalled']\n",
    "plt.figure()\n",
    "plot_confusion_matrix(cnf_matrix,normalize=True, classes=class_names, title='Normalized confusion matrix')"
   ]
  },
  {
   "cell_type": "code",
   "execution_count": 20,
   "metadata": {},
   "outputs": [
    {
     "name": "stdout",
     "output_type": "stream",
     "text": [
      "89.46063236205828\n",
      "Normalized confusion matrix\n",
      "[[0.99 0.01]\n",
      " [0.99 0.01]]\n"
     ]
    },
    {
     "data": {
      "image/png": "[encoded data removed]",
      "text/plain": [
       "<Figure size 432x288 with 2 Axes>"
      ]
     },
     "metadata": {},
     "output_type": "display_data"
    }
   ],
   "source": [
    "X_train, y_train, X_test, y_test = get_train_test(whole, downsample = True, n_is_called = 1.5)\n",
    "dt_entropy = DecisionTreeClassifier(criterion = \"entropy\", random_state = 100, max_depth=3, min_samples_leaf=5)\n",
    "dt_entropy.fit(X_train, y_train)\n",
    "y_pred_entropy = dt_entropy.predict(X_test)\n",
    "print(accuracy_score(y_test,y_pred_entropy)*100)\n",
    "cnf_matrix = confusion_matrix(y_test, y_pred_entropy)\n",
    "np.set_printoptions(precision=2)\n",
    "class_names = ['Recalled', 'Not Recalled']\n",
    "plt.figure()\n",
    "plot_confusion_matrix(cnf_matrix,normalize=True, classes=class_names, title='Normalized confusion matrix')"
   ]
  },
  {
   "cell_type": "code",
   "execution_count": 21,
   "metadata": {},
   "outputs": [
    {
     "name": "stdout",
     "output_type": "stream",
     "text": [
      "90.0991940483571\n",
      "Normalized confusion matrix\n",
      "[[1. 0.]\n",
      " [1. 0.]]\n"
     ]
    },
    {
     "data": {
      "image/png": "[encoded data removed]",
      "text/plain": [
       "<Figure size 432x288 with 2 Axes>"
      ]
     },
     "metadata": {},
     "output_type": "display_data"
    }
   ],
   "source": [
    "X_train, y_train, X_test, y_test = get_train_test(whole, downsample = True, n_is_called = 1.8)\n",
    "dt_entropy = DecisionTreeClassifier(criterion = \"entropy\", random_state = 100, max_depth=3, min_samples_leaf=5)\n",
    "dt_entropy.fit(X_train, y_train)\n",
    "y_pred_entropy = dt_entropy.predict(X_test)\n",
    "print(accuracy_score(y_test,y_pred_entropy)*100)\n",
    "cnf_matrix = confusion_matrix(y_test, y_pred_entropy)\n",
    "np.set_printoptions(precision=2)\n",
    "class_names = ['Recalled', 'Not Recalled']\n",
    "plt.figure()\n",
    "plot_confusion_matrix(cnf_matrix,normalize=True, classes=class_names, title='Normalized confusion matrix')"
   ]
  },
  {
   "cell_type": "code",
   "execution_count": 22,
   "metadata": {},
   "outputs": [
    {
     "name": "stdout",
     "output_type": "stream",
     "text": [
      "90.0991940483571\n",
      "Normalized confusion matrix\n",
      "[[1. 0.]\n",
      " [1. 0.]]\n"
     ]
    },
    {
     "data": {
      "image/png": "[encoded data removed]",
      "text/plain": [
       "<Figure size 432x288 with 2 Axes>"
      ]
     },
     "metadata": {},
     "output_type": "display_data"
    }
   ],
   "source": [
    "X_train, y_train, X_test, y_test = get_train_test(whole, downsample = True, n_is_called = 2)\n",
    "dt_entropy = DecisionTreeClassifier(criterion = \"entropy\", random_state = 100, max_depth=3, min_samples_leaf=5)\n",
    "dt_entropy.fit(X_train, y_train)\n",
    "y_pred_entropy = dt_entropy.predict(X_test)\n",
    "print(accuracy_score(y_test,y_pred_entropy)*100)\n",
    "cnf_matrix = confusion_matrix(y_test, y_pred_entropy)\n",
    "np.set_printoptions(precision=2)\n",
    "class_names = ['Recalled', 'Not Recalled']\n",
    "plt.figure()\n",
    "plot_confusion_matrix(cnf_matrix,normalize=True, classes=class_names, title='Normalized confusion matrix')"
   ]
  },
  {
   "cell_type": "code",
   "execution_count": null,
   "metadata": {},
   "outputs": [],
   "source": []
  }
 ],
 "metadata": {
  "kernelspec": {
   "display_name": "Python 3",
   "language": "python",
   "name": "python3"
  },
  "language_info": {
   "codemirror_mode": {
    "name": "ipython",
    "version": 3
   },
   "file_extension": ".py",
   "mimetype": "text/x-python",
   "name": "python",
   "nbconvert_exporter": "python",
   "pygments_lexer": "ipython3",
   "version": "3.6.5"
  }
 },
 "nbformat": 4,
 "nbformat_minor": 2
}
