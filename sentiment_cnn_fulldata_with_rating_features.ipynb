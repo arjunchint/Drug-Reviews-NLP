{
 "cells": [
  {
   "cell_type": "code",
   "execution_count": 1,
   "metadata": {},
   "outputs": [
    {
     "name": "stderr",
     "output_type": "stream",
     "text": [
      "C:\\Users\\Arjun\\Anaconda3\\lib\\site-packages\\h5py\\__init__.py:36: FutureWarning: Conversion of the second argument of issubdtype from `float` to `np.floating` is deprecated. In future, it will be treated as `np.float64 == np.dtype(float).type`.\n",
      "  from ._conv import register_converters as _register_converters\n"
     ]
    }
   ],
   "source": [
    "import numpy as np\n",
    "import pandas as pd\n",
    "import os\n",
    "import matplotlib.pyplot as plt\n",
    "import tensorflow as tf"
   ]
  },
  {
   "cell_type": "code",
   "execution_count": 2,
   "metadata": {},
   "outputs": [],
   "source": [
    "# path of the current directory\n",
    "\n",
    "# Save Intermediate Results? Otherwise going to load them\n",
    "PRELOAD = True\n",
    "SAVE = False\n",
    "\n",
    "cur_dir = os.getcwd()\n",
    "data_path = cur_dir+\"/drugsCom\"\n",
    "train_path = data_path + \"/drugsComTrain_raw.tsv\"\n",
    "test_path = data_path + \"/drugsComTest_raw.tsv\"\n",
    "fda_path = data_path + \"/drugs_recalls_fda.tsv\"\n",
    "\n",
    "fda = pd.read_csv(fda_path, sep='\\t')\n",
    "if PRELOAD:\n",
    "    whole = pd.read_table(\"whole_sentiment_dataset.csv\", sep=',')\n",
    "else:\n",
    "    train = pd.read_table(train_path, sep='\\t')\n",
    "    test = pd.read_table(test_path, sep='\\t')    \n",
    "    whole = pd.concat([train, test], ignore_index=True)"
   ]
  },
  {
   "cell_type": "code",
   "execution_count": 3,
   "metadata": {},
   "outputs": [
    {
     "name": "stdout",
     "output_type": "stream",
     "text": [
      "[nltk_data] Downloading package stopwords to\n",
      "[nltk_data]     C:\\Users\\Arjun\\AppData\\Roaming\\nltk_data...\n",
      "[nltk_data]   Package stopwords is already up-to-date!\n"
     ]
    }
   ],
   "source": [
    "# Add review features from 1.2.data_preparation_drugscom to whole\n",
    "import os\n",
    "import pandas as pd\n",
    "import numpy as np\n",
    "\n",
    "import dateparser\n",
    "\n",
    "from bs4 import BeautifulSoup  \n",
    "import re\n",
    "import nltk\n",
    "nltk.download('stopwords')\n",
    "from nltk.corpus import stopwords \n",
    "from nltk.stem.porter import PorterStemmer\n",
    "from nltk.stem import SnowballStemmer, WordNetLemmatizer\n",
    "from nltk import sent_tokenize, word_tokenize, pos_tag\n",
    "\n",
    "def parse_condition(string):\n",
    "    if np.isnan(string):\n",
    "        return \"\"\n",
    "    if \"</span>\" in string:\n",
    "        return \"\"\n",
    "    if \"not listed\" in string:\n",
    "        return \"\"\n",
    "    if len(string) < 4:\n",
    "        return \"\"\n",
    "    if '(' in string and (not ')' in string):\n",
    "        return string.strip('( ').lower()\n",
    "    if (not '(' in string) and ')' in string:\n",
    "        return string.strip(') ').lower()\n",
    "    return string.lower()\n",
    "\n",
    "# Convert a raw review to a cleaned review\n",
    "def cleanText(raw_text, remove_stopwords=True, stemming=False, split_text=True):    \n",
    "    text = BeautifulSoup(raw_text, 'lxml').get_text()  #remove html\n",
    "    letters_only = re.sub(\"[^a-zA-Z]\", \" \", text)  # remove non-character\n",
    "    words = letters_only.lower().split() # convert to lower case \n",
    "    \n",
    "    if remove_stopwords: # remove stopword\n",
    "        stops = set(stopwords.words(\"english\"))\n",
    "        words = [w for w in words if not w in stops]\n",
    "        \n",
    "    if stemming==True: # stemming\n",
    "        # Stemmers remove morphological affixes from words, leaving only the word stem.\n",
    "        # http://www.nltk.org/howto/stem.html\n",
    "        stemmer = SnowballStemmer('english') \n",
    "        words = [stemmer.stem(w) for w in words]\n",
    "        \n",
    "    if split_text==True:  # split text\n",
    "        return (words)\n",
    "    \n",
    "    return(\" \".join(words))\n",
    "\n",
    "def average_word_length(list_of_words, is_list = True):\n",
    "    if is_list == True:\n",
    "        if type(list_of_words) != list:\n",
    "            list_of_words = list(list_of_words)\n",
    "        if list_of_words == []:\n",
    "            return 0\n",
    "        res = 0\n",
    "        count = len(list_of_words)\n",
    "        for item in list_of_words:\n",
    "            res += len(item)\n",
    "        return res/count\n",
    "    list_of_words = list_of_words.split(' ')\n",
    "    return average_word_length(list_of_words, is_list = True)\n",
    "\n",
    "def construct_df(drugsCom):\n",
    "    drugsCom['date'] = drugsCom['date'].apply(lambda x: pd.Timestamp(dateparser.parse(x), unit = 'D'))\n",
    "    \n",
    "    if 'partial_name' not in drugsCom.columns:\n",
    "        drugsCom['partial_name'] = drugsCom['drugName'].apply(lambda x: x.split('/')[0].strip().lower())\n",
    "    if 'is_recalled' not in drugsCom.columns:\n",
    "        drugsCom['is_recalled'] = drugsCom['partial_name'].apply(lambda x: fda['Product Description'].str.contains(x, case=False, regex=False).any())\n",
    "    \n",
    "    drugsCom['condition'] = drugsCom['condition'].fillna(' ')\n",
    "    drugsCom['condition'] = drugsCom['condition'].apply(lambda x: x.lower().strip())\n",
    "    \n",
    "    drugsCom['review_length'] = drugsCom['review'].apply(len)\n",
    "    drugsCom['review_word_count'] = drugsCom['review'].apply(lambda x: len(x.split(' ')))\n",
    "    \n",
    "    drugsCom['cleaned_words'] = drugsCom['review'].apply(lambda x: cleanText(x, remove_stopwords=True, stemming=False, split_text=True))\n",
    "    drugsCom['review_cleaned_word_count'] = drugsCom['cleaned_words'].apply(len)\n",
    "    \n",
    "    drugsCom['review_avg_word_length'] = drugsCom['review'].apply(lambda x: average_word_length(x, is_list = False))\n",
    "    drugsCom['review_avg_cleaned_word_length'] = drugsCom['cleaned_words'].apply(lambda x: average_word_length(x, is_list = True))\n",
    "    return drugsCom"
   ]
  },
  {
   "cell_type": "code",
   "execution_count": 4,
   "metadata": {},
   "outputs": [
    {
     "name": "stdout",
     "output_type": "stream",
     "text": [
      "22693\n",
      "(215063, 19)\n"
     ]
    },
    {
     "data": {
      "text/html": [
       "<div>\n",
       "<style scoped>\n",
       "    .dataframe tbody tr th:only-of-type {\n",
       "        vertical-align: middle;\n",
       "    }\n",
       "\n",
       "    .dataframe tbody tr th {\n",
       "        vertical-align: top;\n",
       "    }\n",
       "\n",
       "    .dataframe thead th {\n",
       "        text-align: right;\n",
       "    }\n",
       "</style>\n",
       "<table border=\"1\" class=\"dataframe\">\n",
       "  <thead>\n",
       "    <tr style=\"text-align: right;\">\n",
       "      <th></th>\n",
       "      <th>Unnamed: 0</th>\n",
       "      <th>Unnamed: 0.1</th>\n",
       "      <th>Unnamed: 0.1.1</th>\n",
       "      <th>drugName</th>\n",
       "      <th>condition</th>\n",
       "      <th>review</th>\n",
       "      <th>rating</th>\n",
       "      <th>date</th>\n",
       "      <th>usefulCount</th>\n",
       "      <th>partial_name</th>\n",
       "      <th>is_recalled</th>\n",
       "      <th>Sentimental_Polarity</th>\n",
       "      <th>Sentimental_Subjectivity</th>\n",
       "      <th>review_length</th>\n",
       "      <th>review_word_count</th>\n",
       "      <th>cleaned_words</th>\n",
       "      <th>review_cleaned_word_count</th>\n",
       "      <th>review_avg_word_length</th>\n",
       "      <th>review_avg_cleaned_word_length</th>\n",
       "    </tr>\n",
       "  </thead>\n",
       "  <tbody>\n",
       "    <tr>\n",
       "      <th>0</th>\n",
       "      <td>0</td>\n",
       "      <td>0</td>\n",
       "      <td>206461</td>\n",
       "      <td>Valsartan</td>\n",
       "      <td>left ventricular dysfunction</td>\n",
       "      <td>\"It has no side effect, I take it in combinati...</td>\n",
       "      <td>9.0</td>\n",
       "      <td>2012-05-20</td>\n",
       "      <td>27</td>\n",
       "      <td>valsartan</td>\n",
       "      <td>1</td>\n",
       "      <td>0.000000</td>\n",
       "      <td>0.000000</td>\n",
       "      <td>79</td>\n",
       "      <td>17</td>\n",
       "      <td>['side', 'effect', 'take', 'combination', 'bys...</td>\n",
       "      <td>8</td>\n",
       "      <td>3.705882</td>\n",
       "      <td>5.250000</td>\n",
       "    </tr>\n",
       "    <tr>\n",
       "      <th>1</th>\n",
       "      <td>1</td>\n",
       "      <td>1</td>\n",
       "      <td>95260</td>\n",
       "      <td>Guanfacine</td>\n",
       "      <td>adhd</td>\n",
       "      <td>\"My son is halfway through his fourth week of ...</td>\n",
       "      <td>8.0</td>\n",
       "      <td>2010-04-27</td>\n",
       "      <td>192</td>\n",
       "      <td>guanfacine</td>\n",
       "      <td>0</td>\n",
       "      <td>0.188021</td>\n",
       "      <td>0.482812</td>\n",
       "      <td>742</td>\n",
       "      <td>141</td>\n",
       "      <td>['son', 'halfway', 'fourth', 'week', 'intuniv'...</td>\n",
       "      <td>65</td>\n",
       "      <td>4.269504</td>\n",
       "      <td>5.630769</td>\n",
       "    </tr>\n",
       "    <tr>\n",
       "      <th>2</th>\n",
       "      <td>2</td>\n",
       "      <td>2</td>\n",
       "      <td>92703</td>\n",
       "      <td>Lybrel</td>\n",
       "      <td>birth control</td>\n",
       "      <td>\"I used to take another oral contraceptive, wh...</td>\n",
       "      <td>5.0</td>\n",
       "      <td>2009-12-14</td>\n",
       "      <td>17</td>\n",
       "      <td>lybrel</td>\n",
       "      <td>0</td>\n",
       "      <td>0.138485</td>\n",
       "      <td>0.327475</td>\n",
       "      <td>756</td>\n",
       "      <td>133</td>\n",
       "      <td>['used', 'take', 'another', 'oral', 'contracep...</td>\n",
       "      <td>69</td>\n",
       "      <td>4.691729</td>\n",
       "      <td>5.637681</td>\n",
       "    </tr>\n",
       "    <tr>\n",
       "      <th>3</th>\n",
       "      <td>3</td>\n",
       "      <td>3</td>\n",
       "      <td>138000</td>\n",
       "      <td>Ortho Evra</td>\n",
       "      <td>birth control</td>\n",
       "      <td>\"This is my first time using any form of birth...</td>\n",
       "      <td>8.0</td>\n",
       "      <td>2015-11-03</td>\n",
       "      <td>10</td>\n",
       "      <td>ortho evra</td>\n",
       "      <td>0</td>\n",
       "      <td>0.357143</td>\n",
       "      <td>0.607143</td>\n",
       "      <td>448</td>\n",
       "      <td>89</td>\n",
       "      <td>['first', 'time', 'using', 'form', 'birth', 'c...</td>\n",
       "      <td>39</td>\n",
       "      <td>4.044944</td>\n",
       "      <td>5.282051</td>\n",
       "    </tr>\n",
       "    <tr>\n",
       "      <th>4</th>\n",
       "      <td>4</td>\n",
       "      <td>4</td>\n",
       "      <td>35696</td>\n",
       "      <td>Buprenorphine / naloxone</td>\n",
       "      <td>opiate dependence</td>\n",
       "      <td>\"Suboxone has completely turned my life around...</td>\n",
       "      <td>9.0</td>\n",
       "      <td>2016-11-27</td>\n",
       "      <td>37</td>\n",
       "      <td>buprenorphine</td>\n",
       "      <td>0</td>\n",
       "      <td>0.172333</td>\n",
       "      <td>0.389667</td>\n",
       "      <td>719</td>\n",
       "      <td>134</td>\n",
       "      <td>['suboxone', 'completely', 'turned', 'life', '...</td>\n",
       "      <td>59</td>\n",
       "      <td>4.373134</td>\n",
       "      <td>6.355932</td>\n",
       "    </tr>\n",
       "  </tbody>\n",
       "</table>\n",
       "</div>"
      ],
      "text/plain": [
       "   Unnamed: 0  Unnamed: 0.1  Unnamed: 0.1.1                  drugName  \\\n",
       "0           0             0          206461                 Valsartan   \n",
       "1           1             1           95260                Guanfacine   \n",
       "2           2             2           92703                    Lybrel   \n",
       "3           3             3          138000                Ortho Evra   \n",
       "4           4             4           35696  Buprenorphine / naloxone   \n",
       "\n",
       "                      condition  \\\n",
       "0  left ventricular dysfunction   \n",
       "1                          adhd   \n",
       "2                 birth control   \n",
       "3                 birth control   \n",
       "4             opiate dependence   \n",
       "\n",
       "                                              review  rating        date  \\\n",
       "0  \"It has no side effect, I take it in combinati...     9.0  2012-05-20   \n",
       "1  \"My son is halfway through his fourth week of ...     8.0  2010-04-27   \n",
       "2  \"I used to take another oral contraceptive, wh...     5.0  2009-12-14   \n",
       "3  \"This is my first time using any form of birth...     8.0  2015-11-03   \n",
       "4  \"Suboxone has completely turned my life around...     9.0  2016-11-27   \n",
       "\n",
       "   usefulCount   partial_name  is_recalled  Sentimental_Polarity  \\\n",
       "0           27      valsartan            1              0.000000   \n",
       "1          192     guanfacine            0              0.188021   \n",
       "2           17         lybrel            0              0.138485   \n",
       "3           10     ortho evra            0              0.357143   \n",
       "4           37  buprenorphine            0              0.172333   \n",
       "\n",
       "   Sentimental_Subjectivity  review_length  review_word_count  \\\n",
       "0                  0.000000             79                 17   \n",
       "1                  0.482812            742                141   \n",
       "2                  0.327475            756                133   \n",
       "3                  0.607143            448                 89   \n",
       "4                  0.389667            719                134   \n",
       "\n",
       "                                       cleaned_words  \\\n",
       "0  ['side', 'effect', 'take', 'combination', 'bys...   \n",
       "1  ['son', 'halfway', 'fourth', 'week', 'intuniv'...   \n",
       "2  ['used', 'take', 'another', 'oral', 'contracep...   \n",
       "3  ['first', 'time', 'using', 'form', 'birth', 'c...   \n",
       "4  ['suboxone', 'completely', 'turned', 'life', '...   \n",
       "\n",
       "   review_cleaned_word_count  review_avg_word_length  \\\n",
       "0                          8                3.705882   \n",
       "1                         65                4.269504   \n",
       "2                         69                4.691729   \n",
       "3                         39                4.044944   \n",
       "4                         59                4.373134   \n",
       "\n",
       "   review_avg_cleaned_word_length  \n",
       "0                        5.250000  \n",
       "1                        5.630769  \n",
       "2                        5.637681  \n",
       "3                        5.282051  \n",
       "4                        6.355932  "
      ]
     },
     "execution_count": 4,
     "metadata": {},
     "output_type": "execute_result"
    }
   ],
   "source": [
    "# setup Y for CNN\n",
    "if not PRELOAD:\n",
    "    whole = construct_df(whole)\n",
    "#     whole['partial_name'] = whole['drugName'].apply(lambda x: x.split('/')[0].strip().lower())\n",
    "#     whole['is_recalled'] = whole['partial_name'].apply(lambda x: fda['Product Description'].str.contains(x, case=False, regex=False).any())\n",
    "    whole['is_recalled'] = whole['is_recalled'].astype(int)\n",
    "\n",
    "print(whole['is_recalled'].sum())\n",
    "print(whole.shape)    \n",
    "whole.head()"
   ]
  },
  {
   "cell_type": "code",
   "execution_count": null,
   "metadata": {},
   "outputs": [],
   "source": []
  },
  {
   "cell_type": "code",
   "execution_count": 5,
   "metadata": {},
   "outputs": [
    {
     "name": "stdout",
     "output_type": "stream",
     "text": [
      "[nltk_data] Downloading package stopwords to\n",
      "[nltk_data]     C:\\Users\\Arjun\\AppData\\Roaming\\nltk_data...\n",
      "[nltk_data]   Package stopwords is already up-to-date!\n",
      "[nltk_data] Downloading package averaged_perceptron_tagger to\n",
      "[nltk_data]     C:\\Users\\Arjun\\AppData\\Roaming\\nltk_data...\n",
      "[nltk_data]   Package averaged_perceptron_tagger is already up-to-\n",
      "[nltk_data]       date!\n",
      "[nltk_data] Downloading package wordnet to\n",
      "[nltk_data]     C:\\Users\\Arjun\\AppData\\Roaming\\nltk_data...\n",
      "[nltk_data]   Package wordnet is already up-to-date!\n"
     ]
    },
    {
     "name": "stderr",
     "output_type": "stream",
     "text": [
      "C:\\Users\\Arjun\\Anaconda3\\lib\\site-packages\\nltk\\twitter\\__init__.py:20: UserWarning: The twython library has not been installed. Some functionality from the twitter package will not be available.\n",
      "  warnings.warn(\"The twython library has not been installed. \"\n"
     ]
    }
   ],
   "source": [
    "# Setup Sentiment Feature Construction\n",
    "import os\n",
    "import pandas as pd\n",
    "import numpy as np\n",
    "import matplotlib.pyplot as plt\n",
    "% matplotlib inline\n",
    "plt.style.use(\"ggplot\")\n",
    "\n",
    "import sqlite3\n",
    "import pandas as pd\n",
    "import random\n",
    "import re\n",
    "random.seed(1)\n",
    "from sklearn.feature_extraction.text import TfidfVectorizer\n",
    "import numpy as np\n",
    "import string\n",
    "import nltk\n",
    "from nltk.tokenize import word_tokenize\n",
    "from nltk.corpus import stopwords\n",
    "from nltk.sentiment.vader import SentimentIntensityAnalyzer\n",
    "from bs4 import BeautifulSoup\n",
    "from nltk.stem import WordNetLemmatizer\n",
    "from textblob import TextBlob\n",
    "from textblob import Word\n",
    "\n",
    "import string\n",
    "from time import time\n",
    "\n",
    "from bs4 import BeautifulSoup  \n",
    "import re\n",
    "import nltk\n",
    "nltk.download('stopwords')\n",
    "nltk.download('averaged_perceptron_tagger')\n",
    "nltk.download('wordnet')\n",
    "from nltk.corpus import stopwords \n",
    "from nltk.stem.porter import PorterStemmer\n",
    "from nltk.stem import SnowballStemmer, WordNetLemmatizer\n",
    "from nltk import sent_tokenize, word_tokenize, pos_tag\n",
    "from sklearn.feature_extraction.text import TfidfVectorizer\n",
    "\n",
    "import warnings\n",
    "warnings.filterwarnings('ignore')\n",
    "\n",
    "verb_exp = ['VB', 'VBZ', 'VBP', 'VBD','VBN','VBG']\n",
    "#porter_stemmer = PorterStemmer()\n",
    "def clean_text(row):\n",
    "    soup = BeautifulSoup(row, 'html.parser')\n",
    "    #remove code\n",
    "    for tag in soup.find_all('code'):\n",
    "        tag.replaceWith(' ')\n",
    "        \n",
    "    raw = soup.get_text()\n",
    "    #remove link\n",
    "    raw_no_link = re.sub('http[s]?://(?:[a-zA-Z]|[0-9]|[$-_@.&+]|[!*\\(\\),]|(?:%[0-9a-fA-F][0-9a-fA-F]))+', '', raw)\n",
    "    #remove email\n",
    "    no_link_email = re.sub(r'[\\w\\.-]+@[\\w\\.-]+[\\.][com|org|ch|uk]{2,3}', \"\", raw_no_link)\n",
    "    #remove whitespace\n",
    "    tab_text = '\\t\\n\\r\\x0b\\x0c'\n",
    "    no_link_email_space = \"\".join([ch for ch in no_link_email if ch not in set(tab_text)])\n",
    "    #remove fomula\n",
    "    reg = '(\\$.+?\\$)|((\\\\\\\\begin\\{.+?\\})(.+?)(\\\\\\\\end\\{(.+?)\\}))'\n",
    "    raw = re.sub(reg, \"\", no_link_email_space, flags=re.IGNORECASE)   \n",
    "    return(raw)\n",
    "\n",
    "def lem_stop(row):\n",
    "    row = row.lower()\n",
    "    #remove numbers\n",
    "    raw = re.sub('[0-9]+?', ' ', row) \n",
    "    # remove punctuation\n",
    "    regex = re.compile('[%s]' % re.escape(string.punctuation))\n",
    "    raw = regex.sub(' ', raw)\n",
    "    #clean out the characters left out after the above step, like we’re, I’m, It’s, i.e.\n",
    "    raw = re.sub('( s )|( re )|( m )|( i e )',' ',raw) \n",
    "    # lementize\n",
    "    row_t = TextBlob(raw)\n",
    "    raw = []\n",
    "    for word, pos in row_t.tags:\n",
    "        if pos in verb_exp:\n",
    "            word = Word(word)\n",
    "            word = word.lemmatize(\"v\")\n",
    "        else:\n",
    "            word = Word(word)\n",
    "            word = word.lemmatize()\n",
    "        raw.append(word)\n",
    "    clean = ' '.join(raw)      \n",
    "    stop_words = set(stopwords.words('english'))\n",
    "    # remove stop words\n",
    "    cleaned_text = \" \".join([word for word in word_tokenize(clean) if word not in stop_words])      \n",
    "    return(cleaned_text)\n",
    "\n",
    "def sentiment_ana(i):\n",
    "    i_tr = TextBlob(i)\n",
    "    return(i_tr.sentiment[0], i_tr.sentiment[1])\n",
    "\n"
   ]
  },
  {
   "cell_type": "code",
   "execution_count": 6,
   "metadata": {},
   "outputs": [],
   "source": [
    "# Constructing Sentiment Features here\n",
    "# why is this done??\n",
    "# documents = whole['review'].values\n",
    "# documents_train, documents_test = train_test_split(documents, test_size = 0.2, random_state = 42)\n",
    "\n",
    "if not PRELOAD:\n",
    "    # get the clean review\n",
    "    review_rm = whole['review'].map(lambda i: clean_text(i))\n",
    "    review_clean = review_rm.map(lambda i: lem_stop(i))\n",
    "    sentiment = review_clean.map(lambda i: sentiment_ana(i))\n",
    "    senti_pol, senti_sub = [list(t) for t in zip(*sentiment)]\n",
    "\n",
    "    print(review_clean.shape)\n",
    "    print(len(whole['review']))\n",
    "\n",
    "    whole['Sentimental_Polarity'] = senti_pol\n",
    "    whole['Sentimental_Subjectivity'] = senti_sub\n",
    "\n",
    "if SAVE:\n",
    "    whole.to_csv('whole_sentiment_dataset.csv')"
   ]
  },
  {
   "cell_type": "code",
   "execution_count": 7,
   "metadata": {},
   "outputs": [
    {
     "name": "stdout",
     "output_type": "stream",
     "text": [
      "0    1\n",
      "1    0\n",
      "2    0\n",
      "3    0\n",
      "4    0\n",
      "Name: is_recalled, dtype: int64\n",
      "   rating  usefulCount  review_length  review_word_count  \\\n",
      "0     9.0           27             79                 17   \n",
      "1     8.0          192            742                141   \n",
      "2     5.0           17            756                133   \n",
      "3     8.0           10            448                 89   \n",
      "4     9.0           37            719                134   \n",
      "\n",
      "   review_cleaned_word_count  review_avg_word_length  \\\n",
      "0                          8                3.705882   \n",
      "1                         65                4.269504   \n",
      "2                         69                4.691729   \n",
      "3                         39                4.044944   \n",
      "4                         59                4.373134   \n",
      "\n",
      "   review_avg_cleaned_word_length  Sentimental_Subjectivity  \\\n",
      "0                        5.250000                  0.000000   \n",
      "1                        5.630769                  0.482812   \n",
      "2                        5.637681                  0.327475   \n",
      "3                        5.282051                  0.607143   \n",
      "4                        6.355932                  0.389667   \n",
      "\n",
      "   Sentimental_Polarity  \n",
      "0              0.000000  \n",
      "1              0.188021  \n",
      "2              0.138485  \n",
      "3              0.357143  \n",
      "4              0.172333  \n"
     ]
    }
   ],
   "source": [
    "# No missing values\n",
    "whole = whole[[\"rating\", \"usefulCount\", \"review_length\", \"review_word_count\", \"review_cleaned_word_count\", \n",
    "               \"review_avg_word_length\", \"review_avg_cleaned_word_length\",\n",
    "               \"Sentimental_Subjectivity\", \"Sentimental_Polarity\", \"is_recalled\"]]\n",
    "\n",
    "assert(whole.isnull().values.any() == False)\n",
    "X = whole.iloc[:, 0:whole.shape[1]-1]\n",
    "y = whole.iloc[:, whole.shape[1]-1]\n",
    "print(y.head())\n",
    "print(X.head())\n",
    "y= y.values.reshape([-1, 1])"
   ]
  },
  {
   "cell_type": "code",
   "execution_count": 8,
   "metadata": {},
   "outputs": [],
   "source": [
    "# X = whole.iloc[:, 0:whole.shape[1]-1].values\n",
    "# y = whole.iloc[:, whole.shape[1]-1].values.reshape([-1, 1])\n",
    "from sklearn.preprocessing import StandardScaler\n",
    "scaler = StandardScaler()\n",
    "X = scaler.fit_transform(X)\n",
    "from sklearn.model_selection import train_test_split\n",
    "X_train, X_test, y_train, y_test = train_test_split(X, y, test_size=0.33, random_state=1234)"
   ]
  },
  {
   "cell_type": "code",
   "execution_count": 9,
   "metadata": {},
   "outputs": [],
   "source": [
    "def get_train_test(whole, downsample = False, n_is_called = 1, seed = 1234):\n",
    "    X = whole.iloc[:, 0:whole.shape[1]-1].values\n",
    "    y = whole.iloc[:, whole.shape[1]-1].values.reshape([-1, 1])\n",
    "    from sklearn.preprocessing import StandardScaler\n",
    "    scaler = StandardScaler()\n",
    "    X = scaler.fit_transform(X)\n",
    "    from sklearn.model_selection import train_test_split\n",
    "    X_train, X_test, y_train, y_test = train_test_split(X, y, test_size=0.3, random_state=seed)\n",
    "    y_test = y_test.reshape((-1,1))\n",
    "\n",
    "    if downsample == False:\n",
    "        y_train = y_train.reshape((-1,1))\n",
    "        return X_train, y_train, X_test, y_test\n",
    "    else:\n",
    "        not_recalled_idx = [x for x in range(y_train.shape[0]) if y_train[x]==0]\n",
    "        is_recalled_idx = [x for x in range(y_train.shape[0]) if y_train[x]==1]\n",
    "        assert len(not_recalled_idx) + sum(y_train)[0] == y_train.shape[0]\n",
    "        chose = np.random.choice(not_recalled_idx, int(n_is_called * sum(y_train)[0]), replace=False)\n",
    "        X_train_downsample = np.vstack((X_train[chose, :],X_train[is_recalled_idx, :]))\n",
    "        y_train_downsample = np.vstack((y_train[chose, :], y_train[y_train==1].reshape((-1, 1))))\n",
    "        y_train_downsample = y_train_downsample.reshape((-1, 1))\n",
    "        return X_train_downsample, y_train_downsample, X_test, y_test\n"
   ]
  },
  {
   "cell_type": "code",
   "execution_count": 10,
   "metadata": {},
   "outputs": [],
   "source": [
    "from sklearn.metrics import confusion_matrix\n",
    "import itertools \n",
    "def plot_confusion_matrix(cm, classes,\n",
    "                          normalize=False,\n",
    "                          title='Confusion matrix',\n",
    "                          cmap=plt.cm.Blues):\n",
    "    \"\"\"\n",
    "    This function prints and plots the confusion matrix.\n",
    "    Normalization can be applied by setting `normalize=True`.\n",
    "    \"\"\"\n",
    "    if normalize:\n",
    "        cm = cm.astype('float') / cm.sum(axis=1)[:, np.newaxis]\n",
    "        print(\"Normalized confusion matrix\")\n",
    "    else:\n",
    "        print('Confusion matrix, without normalization')\n",
    "\n",
    "    print(cm)\n",
    "\n",
    "    plt.imshow(cm, interpolation='nearest', cmap=cmap)\n",
    "    plt.title(title)\n",
    "    plt.colorbar()\n",
    "    tick_marks = np.arange(len(classes))\n",
    "    plt.xticks(tick_marks, classes, rotation=45)\n",
    "    plt.yticks(tick_marks, classes)\n",
    "\n",
    "    fmt = '.2f' if normalize else 'd'\n",
    "    thresh = cm.max() / 2.\n",
    "    for i, j in itertools.product(range(cm.shape[0]), range(cm.shape[1])):\n",
    "        plt.text(j, i, format(cm[i, j], fmt),\n",
    "                 horizontalalignment=\"center\",\n",
    "                 color=\"white\" if cm[i, j] > thresh else \"black\")\n",
    "\n",
    "    plt.ylabel('True label')\n",
    "    plt.xlabel('Predicted label')\n",
    "    plt.tight_layout()\n",
    "\n"
   ]
  },
  {
   "cell_type": "code",
   "execution_count": 11,
   "metadata": {},
   "outputs": [
    {
     "data": {
      "text/plain": [
       "0.8944820819945783"
      ]
     },
     "execution_count": 11,
     "metadata": {},
     "output_type": "execute_result"
    }
   ],
   "source": [
    "n_recalled = whole[whole['is_recalled']==1].shape[0]\n",
    "n_not_recalled = whole[whole['is_recalled']==0].shape[0]\n",
    "n_not_recalled / whole.shape[0]"
   ]
  },
  {
   "cell_type": "code",
   "execution_count": 12,
   "metadata": {},
   "outputs": [],
   "source": [
    "# Decision Tree\n",
    "from sklearn.tree import DecisionTreeClassifier\n",
    "from sklearn.metrics import accuracy_score\n",
    "from sklearn import tree"
   ]
  },
  {
   "cell_type": "code",
   "execution_count": 13,
   "metadata": {},
   "outputs": [],
   "source": [
    "# inputs\n",
    "training_epochs = 1000\n",
    "learning_rate = 0.01\n",
    "num_inputs = 9    # 9 independent variables\n",
    "\n",
    "cost_history = np.empty(shape=[1],dtype=float)\n",
    "\n",
    "X = tf.placeholder(tf.float32,[None,num_inputs])\n",
    "Y = tf.placeholder(tf.float32,[None,1])\n",
    "is_training=tf.Variable(True,dtype=tf.bool)\n",
    "\n",
    "\n",
    "num_hid1 = 16\n",
    "num_hid2 = 8\n",
    "num_output = 1 # is_recalled/not_recalled"
   ]
  },
  {
   "cell_type": "code",
   "execution_count": 14,
   "metadata": {},
   "outputs": [],
   "source": [
    "X_train, y_train, X_test, y_test = get_train_test(whole, downsample = True, n_is_called = 1)\n",
    "#y_train_ = y_train.reshape((y_train.shape[0],1))\n",
    "#y_test_ = y_test.reshape((y_test.shape[0],1))"
   ]
  },
  {
   "cell_type": "code",
   "execution_count": 15,
   "metadata": {},
   "outputs": [],
   "source": [
    "# models\n",
    "\n",
    "initializer = tf.contrib.layers.xavier_initializer()\n",
    "h1 = tf.layers.dense(X, num_hid1, activation=tf.nn.relu, kernel_initializer=initializer, name = 'h1')\n",
    "h2 = tf.layers.dense(h1, num_hid2, activation=tf.nn.relu, kernel_initializer=initializer, name = 'h2')\n",
    "output = tf.layers.dense(h2, num_output, activation=None, name = 'output')\n",
    "\n",
    "cross_entropy = tf.nn.sigmoid_cross_entropy_with_logits(labels=Y, logits=output)\n",
    "cost = tf.reduce_mean(cross_entropy)\n",
    "optimizer = tf.train.AdamOptimizer(learning_rate=learning_rate).minimize(cost)\n",
    "\n",
    "\n",
    "predicted = tf.round(tf.nn.sigmoid(output))\n",
    "correct_pred = tf.equal(predicted, Y)\n",
    "accuracy = tf.reduce_mean(tf.cast(correct_pred, tf.float32))"
   ]
  },
  {
   "cell_type": "code",
   "execution_count": 16,
   "metadata": {},
   "outputs": [
    {
     "name": "stdout",
     "output_type": "stream",
     "text": [
      "Step:     0\tLoss: 0.719\tAcc: 45.86%\n",
      "Step:   100\tLoss: 0.664\tAcc: 60.06%\n",
      "Step:   200\tLoss: 0.662\tAcc: 60.22%\n",
      "Step:   300\tLoss: 0.661\tAcc: 60.40%\n",
      "Step:   400\tLoss: 0.660\tAcc: 60.53%\n",
      "Step:   500\tLoss: 0.660\tAcc: 60.54%\n",
      "Step:   600\tLoss: 0.659\tAcc: 60.54%\n",
      "Step:   700\tLoss: 0.659\tAcc: 60.46%\n",
      "Step:   800\tLoss: 0.659\tAcc: 60.51%\n",
      "Step:   900\tLoss: 0.658\tAcc: 60.54%\n",
      "Step:  1000\tLoss: 0.658\tAcc: 60.47%\n",
      "Test Accuracy: 0.6145012\n",
      "Normalized confusion matrix\n",
      "[[0.62 0.38]\n",
      " [0.45 0.55]]\n"
     ]
    },
    {
     "data": {
      "image/png": "[encoded data removed]",
      "text/plain": [
       "<Figure size 432x288 with 2 Axes>"
      ]
     },
     "metadata": {},
     "output_type": "display_data"
    }
   ],
   "source": [
    "# session\n",
    "with tf.Session() as sess:\n",
    "    sess.run(tf.global_variables_initializer())\n",
    "\n",
    "    for step in range(training_epochs + 1):\n",
    "        sess.run(optimizer, feed_dict={X: X_train, Y: y_train})\n",
    "        loss, _, acc = sess.run([cost, optimizer, accuracy], feed_dict={\n",
    "                                 X: X_train, Y: y_train})\n",
    "        cost_history = np.append(cost_history, acc)\n",
    "        if step % 100 == 0:\n",
    "            print(\"Step: {:5}\\tLoss: {:.3f}\\tAcc: {:.2%}\".format(\n",
    "                step, loss, acc))\n",
    "            \n",
    "    # Test model and check accuracy\n",
    "    acc_pred = sess.run(accuracy, feed_dict={X: X_test, Y: y_test})\n",
    "    pred = sess.run(predicted, feed_dict={X: X_test, Y: y_test})\n",
    "    print('Test Accuracy:', acc_pred)\n",
    "    cnf_matrix = confusion_matrix(y_test, pred)\n",
    "    np.set_printoptions(precision=2)\n",
    "    class_names = ['Recalled', 'Not Recalled']\n",
    "    plt.figure()\n",
    "    plot_confusion_matrix(cnf_matrix,normalize=True, classes=class_names, title='Normalized confusion matrix')\n",
    "    "
   ]
  },
  {
   "cell_type": "code",
   "execution_count": 17,
   "metadata": {},
   "outputs": [
    {
     "name": "stdout",
     "output_type": "stream",
     "text": [
      "Step:     0\tLoss: 0.616\tAcc: 66.50%\n",
      "Step:   100\tLoss: 0.483\tAcc: 80.00%\n",
      "Step:   200\tLoss: 0.482\tAcc: 80.00%\n",
      "Step:   300\tLoss: 0.481\tAcc: 80.00%\n",
      "Step:   400\tLoss: 0.481\tAcc: 80.00%\n",
      "Step:   500\tLoss: 0.480\tAcc: 80.00%\n",
      "Step:   600\tLoss: 0.480\tAcc: 80.00%\n",
      "Step:   700\tLoss: 0.480\tAcc: 80.00%\n",
      "Step:   800\tLoss: 0.480\tAcc: 80.00%\n",
      "Step:   900\tLoss: 0.479\tAcc: 80.00%\n",
      "Step:  1000\tLoss: 0.479\tAcc: 80.00%\n",
      "Test Accuracy: 0.8943102\n",
      "Normalized confusion matrix\n",
      "[[1.00e+00 1.73e-05]\n",
      " [1.00e+00 0.00e+00]]\n"
     ]
    },
    {
     "data": {
      "image/png": "[encoded data removed]",
      "text/plain": [
       "<Figure size 432x288 with 2 Axes>"
      ]
     },
     "metadata": {},
     "output_type": "display_data"
    }
   ],
   "source": [
    "X_train, y_train, X_test, y_test = get_train_test(whole, downsample = True, n_is_called = 4)\n",
    "# session\n",
    "with tf.Session() as sess:\n",
    "    sess.run(tf.global_variables_initializer())\n",
    "\n",
    "    for step in range(training_epochs + 1):\n",
    "        sess.run(optimizer, feed_dict={X: X_train, Y: y_train})\n",
    "        loss, _, acc = sess.run([cost, optimizer, accuracy], feed_dict={\n",
    "                                 X: X_train, Y: y_train})\n",
    "        cost_history = np.append(cost_history, acc)\n",
    "        if step % 100 == 0:\n",
    "            print(\"Step: {:5}\\tLoss: {:.3f}\\tAcc: {:.2%}\".format(\n",
    "                step, loss, acc))\n",
    "            \n",
    "    # Test model and check accuracy\n",
    "    acc_pred = sess.run(accuracy, feed_dict={X: X_test, Y: y_test})\n",
    "    pred = sess.run(predicted, feed_dict={X: X_test, Y: y_test})\n",
    "    print('Test Accuracy:', acc_pred)\n",
    "    cnf_matrix = confusion_matrix(y_test, pred)\n",
    "    np.set_printoptions(precision=2)\n",
    "    class_names = ['Recalled', 'Not Recalled']\n",
    "    plt.figure()\n",
    "    plot_confusion_matrix(cnf_matrix,normalize=True, classes=class_names, title='Normalized confusion matrix')\n",
    "    "
   ]
  },
  {
   "cell_type": "code",
   "execution_count": 18,
   "metadata": {},
   "outputs": [
    {
     "name": "stdout",
     "output_type": "stream",
     "text": [
      "63.612269254018194\n",
      "Normalized confusion matrix\n",
      "[[0.65 0.35]\n",
      " [0.48 0.52]]\n"
     ]
    },
    {
     "data": {
      "image/png": "[encoded data removed]",
      "text/plain": [
       "<Figure size 432x288 with 2 Axes>"
      ]
     },
     "metadata": {},
     "output_type": "display_data"
    }
   ],
   "source": [
    "X_train, y_train, X_test, y_test = get_train_test(whole, downsample = True, n_is_called = 1)\n",
    "dt_gini = DecisionTreeClassifier(criterion = \"gini\", random_state = 100, max_depth=5, min_samples_leaf=5)\n",
    "dt_gini.fit(X_train, y_train)\n",
    "y_pred_gini = dt_gini.predict(X_test)\n",
    "print(accuracy_score(y_test,y_pred_gini)*100)\n",
    "cnf_matrix = confusion_matrix(y_test, y_pred_gini)\n",
    "np.set_printoptions(precision=2)\n",
    "class_names = ['Recalled', 'Not Recalled']\n",
    "plt.figure()\n",
    "plot_confusion_matrix(cnf_matrix,normalize=True, classes=class_names, title='Normalized confusion matrix')"
   ]
  },
  {
   "cell_type": "code",
   "execution_count": 19,
   "metadata": {},
   "outputs": [
    {
     "name": "stdout",
     "output_type": "stream",
     "text": [
      "73.34273624823695\n",
      "Normalized confusion matrix\n",
      "[[0.77 0.23]\n",
      " [0.61 0.39]]\n"
     ]
    },
    {
     "data": {
      "image/png": "[encoded data removed]",
      "text/plain": [
       "<Figure size 432x288 with 2 Axes>"
      ]
     },
     "metadata": {},
     "output_type": "display_data"
    }
   ],
   "source": [
    "X_train, y_train, X_test, y_test = get_train_test(whole, downsample = True, n_is_called = 1.5)\n",
    "dt_gini = DecisionTreeClassifier(criterion = \"gini\", random_state = 100, max_depth=5, min_samples_leaf=5)\n",
    "dt_gini.fit(X_train, y_train)\n",
    "y_pred_gini = dt_gini.predict(X_test)\n",
    "print(accuracy_score(y_test,y_pred_gini)*100)\n",
    "cnf_matrix = confusion_matrix(y_test, y_pred_gini)\n",
    "np.set_printoptions(precision=2)\n",
    "class_names = ['Recalled', 'Not Recalled']\n",
    "plt.figure()\n",
    "plot_confusion_matrix(cnf_matrix,normalize=True, classes=class_names, title='Normalized confusion matrix')"
   ]
  },
  {
   "cell_type": "code",
   "execution_count": 20,
   "metadata": {},
   "outputs": [
    {
     "name": "stdout",
     "output_type": "stream",
     "text": [
      "84.05120972116741\n",
      "Normalized confusion matrix\n",
      "[[0.92 0.08]\n",
      " [0.84 0.16]]\n"
     ]
    },
    {
     "data": {
      "image/png": "[encoded data removed]",
      "text/plain": [
       "<Figure size 432x288 with 2 Axes>"
      ]
     },
     "metadata": {},
     "output_type": "display_data"
    }
   ],
   "source": [
    "X_train, y_train, X_test, y_test = get_train_test(whole, downsample = True, n_is_called = 1.8)\n",
    "dt_gini = DecisionTreeClassifier(criterion = \"gini\", random_state = 100, max_depth=5, min_samples_leaf=5)\n",
    "dt_gini.fit(X_train, y_train)\n",
    "y_pred_gini = dt_gini.predict(X_test)\n",
    "print(accuracy_score(y_test,y_pred_gini)*100)\n",
    "cnf_matrix = confusion_matrix(y_test, y_pred_gini)\n",
    "np.set_printoptions(precision=2)\n",
    "class_names = ['Recalled', 'Not Recalled']\n",
    "plt.figure()\n",
    "plot_confusion_matrix(cnf_matrix,normalize=True, classes=class_names, title='Normalized confusion matrix')"
   ]
  },
  {
   "cell_type": "code",
   "execution_count": 21,
   "metadata": {},
   "outputs": [
    {
     "name": "stdout",
     "output_type": "stream",
     "text": [
      "89.42327066445543\n",
      "Normalized confusion matrix\n",
      "[[1.00e+00 1.04e-04]\n",
      " [1.00e+00 0.00e+00]]\n"
     ]
    },
    {
     "data": {
      "image/png": "[encoded data removed]",
      "text/plain": [
       "<Figure size 432x288 with 2 Axes>"
      ]
     },
     "metadata": {},
     "output_type": "display_data"
    }
   ],
   "source": [
    "X_train, y_train, X_test, y_test = get_train_test(whole, downsample = False)\n",
    "dt_gini = DecisionTreeClassifier(criterion = \"gini\", random_state = 100, max_depth=5, min_samples_leaf=5)\n",
    "dt_gini.fit(X_train, y_train)\n",
    "y_pred_gini = dt_gini.predict(X_test)\n",
    "print(accuracy_score(y_test,y_pred_gini)*100)\n",
    "cnf_matrix = confusion_matrix(y_test, y_pred_gini)\n",
    "np.set_printoptions(precision=2)\n",
    "class_names = ['Recalled', 'Not Recalled']\n",
    "plt.figure()\n",
    "plot_confusion_matrix(cnf_matrix,normalize=True, classes=class_names, title='Normalized confusion matrix')"
   ]
  },
  {
   "cell_type": "code",
   "execution_count": 22,
   "metadata": {},
   "outputs": [
    {
     "name": "stdout",
     "output_type": "stream",
     "text": [
      "79.32237015452812\n",
      "Normalized confusion matrix\n",
      "[[0.86 0.14]\n",
      " [0.74 0.26]]\n"
     ]
    },
    {
     "data": {
      "image/png": "[encoded data removed]",
      "text/plain": [
       "<Figure size 432x288 with 2 Axes>"
      ]
     },
     "metadata": {},
     "output_type": "display_data"
    }
   ],
   "source": [
    "X_train, y_train, X_test, y_test = get_train_test(whole, downsample = True, n_is_called = 1.5)\n",
    "dt_entropy = DecisionTreeClassifier(criterion = \"entropy\", random_state = 100, max_depth=3, min_samples_leaf=5)\n",
    "dt_entropy.fit(X_train, y_train)\n",
    "y_pred_entropy = dt_entropy.predict(X_test)\n",
    "print(accuracy_score(y_test,y_pred_entropy)*100)\n",
    "cnf_matrix = confusion_matrix(y_test, y_pred_entropy)\n",
    "np.set_printoptions(precision=2)\n",
    "class_names = ['Recalled', 'Not Recalled']\n",
    "plt.figure()\n",
    "plot_confusion_matrix(cnf_matrix,normalize=True, classes=class_names, title='Normalized confusion matrix')"
   ]
  },
  {
   "cell_type": "code",
   "execution_count": 23,
   "metadata": {},
   "outputs": [
    {
     "name": "stdout",
     "output_type": "stream",
     "text": [
      "79.32237015452812\n",
      "Normalized confusion matrix\n",
      "[[0.86 0.14]\n",
      " [0.74 0.26]]\n"
     ]
    },
    {
     "data": {
      "image/png": "[encoded data removed]",
      "text/plain": [
       "<Figure size 432x288 with 2 Axes>"
      ]
     },
     "metadata": {},
     "output_type": "display_data"
    }
   ],
   "source": [
    "X_train, y_train, X_test, y_test = get_train_test(whole, downsample = True, n_is_called = 1.8)\n",
    "dt_entropy = DecisionTreeClassifier(criterion = \"entropy\", random_state = 100, max_depth=3, min_samples_leaf=5)\n",
    "dt_entropy.fit(X_train, y_train)\n",
    "y_pred_entropy = dt_entropy.predict(X_test)\n",
    "print(accuracy_score(y_test,y_pred_entropy)*100)\n",
    "cnf_matrix = confusion_matrix(y_test, y_pred_entropy)\n",
    "np.set_printoptions(precision=2)\n",
    "class_names = ['Recalled', 'Not Recalled']\n",
    "plt.figure()\n",
    "plot_confusion_matrix(cnf_matrix,normalize=True, classes=class_names, title='Normalized confusion matrix')"
   ]
  },
  {
   "cell_type": "code",
   "execution_count": 24,
   "metadata": {},
   "outputs": [
    {
     "name": "stdout",
     "output_type": "stream",
     "text": [
      "89.43257025062384\n",
      "Normalized confusion matrix\n",
      "[[1. 0.]\n",
      " [1. 0.]]\n"
     ]
    },
    {
     "data": {
      "image/png": "[encoded data removed]",
      "text/plain": [
       "<Figure size 432x288 with 2 Axes>"
      ]
     },
     "metadata": {},
     "output_type": "display_data"
    }
   ],
   "source": [
    "X_train, y_train, X_test, y_test = get_train_test(whole, downsample = True, n_is_called = 2)\n",
    "dt_entropy = DecisionTreeClassifier(criterion = \"entropy\", random_state = 100, max_depth=3, min_samples_leaf=5)\n",
    "dt_entropy.fit(X_train, y_train)\n",
    "y_pred_entropy = dt_entropy.predict(X_test)\n",
    "print(accuracy_score(y_test,y_pred_entropy)*100)\n",
    "cnf_matrix = confusion_matrix(y_test, y_pred_entropy)\n",
    "np.set_printoptions(precision=2)\n",
    "class_names = ['Recalled', 'Not Recalled']\n",
    "plt.figure()\n",
    "plot_confusion_matrix(cnf_matrix,normalize=True, classes=class_names, title='Normalized confusion matrix')"
   ]
  },
  {
   "cell_type": "code",
   "execution_count": null,
   "metadata": {},
   "outputs": [],
   "source": []
  }
 ],
 "metadata": {
  "kernelspec": {
   "display_name": "Python 3",
   "language": "python",
   "name": "python3"
  },
  "language_info": {
   "codemirror_mode": {
    "name": "ipython",
    "version": 3
   },
   "file_extension": ".py",
   "mimetype": "text/x-python",
   "name": "python",
   "nbconvert_exporter": "python",
   "pygments_lexer": "ipython3",
   "version": "3.6.5"
  }
 },
 "nbformat": 4,
 "nbformat_minor": 2
}
